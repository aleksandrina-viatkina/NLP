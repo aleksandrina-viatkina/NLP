{
 "cells": [
  {
   "cell_type": "markdown",
   "metadata": {
    "id": "DUotKHRULVPD"
   },
   "source": [
    "# Домашнее задание к вебинару 2 \"Создание признакового пространства\""
   ]
  },
  {
   "cell_type": "markdown",
   "metadata": {
    "id": "8ba5Z02VLVPK"
   },
   "source": [
    "Постановка задачи: классификация твитов по тональности\n",
    "\n",
    "Есть датасет из твитов, про каждый указано, как он эмоционально окрашен: положительно или отрицательно. Задача: предсказывать эмоциональную окраску."
   ]
  },
  {
   "cell_type": "code",
   "execution_count": 3,
   "metadata": {
    "colab": {
     "base_uri": "https://localhost:8080/"
    },
    "id": "LxKO-myDEX25",
    "outputId": "18be55ba-01fe-436e-91b7-6c3306cdcfa1"
   },
   "outputs": [
    {
     "name": "stdout",
     "output_type": "stream",
     "text": [
      "Looking in indexes: https://pypi.org/simple, https://us-python.pkg.dev/colab-wheels/public/simple/\n",
      "Collecting pymorphy2\n",
      "  Downloading pymorphy2-0.9.1-py3-none-any.whl (55 kB)\n",
      "\u001b[K     |████████████████████████████████| 55 kB 2.8 MB/s \n",
      "\u001b[?25hRequirement already satisfied: docopt>=0.6 in /usr/local/lib/python3.7/dist-packages (from pymorphy2) (0.6.2)\n",
      "Collecting dawg-python>=0.7.1\n",
      "  Downloading DAWG_Python-0.7.2-py2.py3-none-any.whl (11 kB)\n",
      "Collecting pymorphy2-dicts-ru<3.0,>=2.4\n",
      "  Downloading pymorphy2_dicts_ru-2.4.417127.4579844-py2.py3-none-any.whl (8.2 MB)\n",
      "\u001b[K     |████████████████████████████████| 8.2 MB 10.0 MB/s \n",
      "\u001b[?25hInstalling collected packages: pymorphy2-dicts-ru, dawg-python, pymorphy2\n",
      "Successfully installed dawg-python-0.7.2 pymorphy2-0.9.1 pymorphy2-dicts-ru-2.4.417127.4579844\n"
     ]
    }
   ],
   "source": [
    "!pip install pymorphy2"
   ]
  },
  {
   "cell_type": "code",
   "execution_count": 4,
   "metadata": {
    "id": "Teaq4FbeDxIX"
   },
   "outputs": [],
   "source": [
    "import pandas as pd\n",
    "import numpy as np\n",
    "\n",
    "import matplotlib.pyplot as plt\n",
    "\n",
    "from sklearn.metrics import f1_score, classification_report\n",
    "from sklearn.model_selection import train_test_split\n",
    "from sklearn.preprocessing import LabelEncoder\n",
    "from string import punctuation\n",
    "\n",
    "from sklearn.linear_model import LogisticRegression\n",
    "from sklearn.feature_extraction.text import CountVectorizer, TfidfVectorizer, HashingVectorizer\n",
    "\n",
    "import nltk\n",
    "from nltk.tokenize import word_tokenize\n",
    "from nltk.corpus import stopwords, wordnet\n",
    "from string import punctuation\n",
    "from nltk.stem import WordNetLemmatizer\n",
    "\n",
    "from collections import Counter\n",
    "\n",
    "from pymorphy2 import MorphAnalyzer\n",
    "\n",
    "import tensorflow as tf\n",
    "from tensorflow.keras import Sequential\n",
    "from tensorflow.keras.layers import Dense, Embedding, GlobalAveragePooling1D, Conv1D, GRU, LSTM, Dropout\n",
    "from tensorflow.keras.layers.experimental.preprocessing import TextVectorization\n",
    "\n",
    "import warnings\n",
    "warnings.filterwarnings(\"ignore\")"
   ]
  },
  {
   "cell_type": "code",
   "execution_count": 5,
   "metadata": {
    "colab": {
     "base_uri": "https://localhost:8080/"
    },
    "id": "CD0tFpyiD8t_",
    "outputId": "1a050479-bf19-4c95-9cd8-1c63a584378e"
   },
   "outputs": [
    {
     "name": "stdout",
     "output_type": "stream",
     "text": [
      "--2022-05-31 16:04:18--  https://www.dropbox.com/s/fnpq3z4bcnoktiv/positive.csv\n",
      "Resolving www.dropbox.com (www.dropbox.com)... 162.125.1.18, 2620:100:6016:18::a27d:112\n",
      "Connecting to www.dropbox.com (www.dropbox.com)|162.125.1.18|:443... connected.\n",
      "HTTP request sent, awaiting response... 301 Moved Permanently\n",
      "Location: /s/raw/fnpq3z4bcnoktiv/positive.csv [following]\n",
      "--2022-05-31 16:04:18--  https://www.dropbox.com/s/raw/fnpq3z4bcnoktiv/positive.csv\n",
      "Reusing existing connection to www.dropbox.com:443.\n",
      "HTTP request sent, awaiting response... 302 Found\n",
      "Location: https://ucf8da5b14b1e3dbb9147226dbfb.dl.dropboxusercontent.com/cd/0/inline/BmXY4hAXAKzmarkkR4oFhMbQQbAMB90e0qmU9fE5CV7rOHNOdgr1O4woiDvk7HitrqzHHqzQmQVpoovXKBizfTgV6HCkYGoDfkCbvY-8eF-g4IBGMJ6zNVBm4Ruo3x7YMGe0NHfOyHIT7FG16Vb2z31OSPf524ncc6JDKglkm0YOJg/file# [following]\n",
      "--2022-05-31 16:04:18--  https://ucf8da5b14b1e3dbb9147226dbfb.dl.dropboxusercontent.com/cd/0/inline/BmXY4hAXAKzmarkkR4oFhMbQQbAMB90e0qmU9fE5CV7rOHNOdgr1O4woiDvk7HitrqzHHqzQmQVpoovXKBizfTgV6HCkYGoDfkCbvY-8eF-g4IBGMJ6zNVBm4Ruo3x7YMGe0NHfOyHIT7FG16Vb2z31OSPf524ncc6JDKglkm0YOJg/file\n",
      "Resolving ucf8da5b14b1e3dbb9147226dbfb.dl.dropboxusercontent.com (ucf8da5b14b1e3dbb9147226dbfb.dl.dropboxusercontent.com)... 162.125.1.15, 2620:100:6016:15::a27d:10f\n",
      "Connecting to ucf8da5b14b1e3dbb9147226dbfb.dl.dropboxusercontent.com (ucf8da5b14b1e3dbb9147226dbfb.dl.dropboxusercontent.com)|162.125.1.15|:443... connected.\n",
      "HTTP request sent, awaiting response... 200 OK\n",
      "Length: 26233379 (25M) [text/plain]\n",
      "Saving to: ‘positive.csv’\n",
      "\n",
      "positive.csv        100%[===================>]  25.02M  41.4MB/s    in 0.6s    \n",
      "\n",
      "2022-05-31 16:04:19 (41.4 MB/s) - ‘positive.csv’ saved [26233379/26233379]\n",
      "\n",
      "--2022-05-31 16:04:20--  https://www.dropbox.com/s/r6u59ljhhjdg6j0/negative.csv\n",
      "Resolving www.dropbox.com (www.dropbox.com)... 162.125.1.18, 2620:100:6016:18::a27d:112\n",
      "Connecting to www.dropbox.com (www.dropbox.com)|162.125.1.18|:443... connected.\n",
      "HTTP request sent, awaiting response... 301 Moved Permanently\n",
      "Location: /s/raw/r6u59ljhhjdg6j0/negative.csv [following]\n",
      "--2022-05-31 16:04:20--  https://www.dropbox.com/s/raw/r6u59ljhhjdg6j0/negative.csv\n",
      "Reusing existing connection to www.dropbox.com:443.\n",
      "HTTP request sent, awaiting response... 302 Found\n",
      "Location: https://uc6d4a55f9ee8031fe49ff15a27f.dl.dropboxusercontent.com/cd/0/inline/BmW5fhGdhYR2Q4LF-we6Kwtf1EEv0MkAlgFjmuuc8xBJEX-7hKAd7i_j---VyJh_IXxi60q6PUe5T1kav665MIH2rat1Xy_PGJj0KFq3D-7Em1sK_VxpKbQAYnAF97KTcdV4HkbW3Pok1_4w53X-YlK07nHBk-IdOwsGllaFTUBl9w/file# [following]\n",
      "--2022-05-31 16:04:20--  https://uc6d4a55f9ee8031fe49ff15a27f.dl.dropboxusercontent.com/cd/0/inline/BmW5fhGdhYR2Q4LF-we6Kwtf1EEv0MkAlgFjmuuc8xBJEX-7hKAd7i_j---VyJh_IXxi60q6PUe5T1kav665MIH2rat1Xy_PGJj0KFq3D-7Em1sK_VxpKbQAYnAF97KTcdV4HkbW3Pok1_4w53X-YlK07nHBk-IdOwsGllaFTUBl9w/file\n",
      "Resolving uc6d4a55f9ee8031fe49ff15a27f.dl.dropboxusercontent.com (uc6d4a55f9ee8031fe49ff15a27f.dl.dropboxusercontent.com)... 162.125.1.15, 2620:100:6016:15::a27d:10f\n",
      "Connecting to uc6d4a55f9ee8031fe49ff15a27f.dl.dropboxusercontent.com (uc6d4a55f9ee8031fe49ff15a27f.dl.dropboxusercontent.com)|162.125.1.15|:443... connected.\n",
      "HTTP request sent, awaiting response... 200 OK\n",
      "Length: 24450101 (23M) [text/plain]\n",
      "Saving to: ‘negative.csv’\n",
      "\n",
      "negative.csv        100%[===================>]  23.32M  25.3MB/s    in 0.9s    \n",
      "\n",
      "2022-05-31 16:04:21 (25.3 MB/s) - ‘negative.csv’ saved [24450101/24450101]\n",
      "\n"
     ]
    }
   ],
   "source": [
    "!wget https://www.dropbox.com/s/fnpq3z4bcnoktiv/positive.csv\n",
    "!wget https://www.dropbox.com/s/r6u59ljhhjdg6j0/negative.csv"
   ]
  },
  {
   "cell_type": "code",
   "execution_count": 6,
   "metadata": {
    "id": "DFLtXAZ-LVPq"
   },
   "outputs": [],
   "source": [
    "# считываем данные и заполняем общий датасет\n",
    "positive = pd.read_csv('positive.csv', sep=';', usecols=[3], names=['text'])\n",
    "positive['label'] = ['positive'] * len(positive)\n",
    "negative = pd.read_csv('negative.csv', sep=';', usecols=[3], names=['text'])\n",
    "negative['label'] = ['negative'] * len(negative)\n",
    "df = positive.append(negative)"
   ]
  },
  {
   "cell_type": "code",
   "execution_count": 7,
   "metadata": {
    "colab": {
     "base_uri": "https://localhost:8080/",
     "height": 204
    },
    "id": "j1AEISlBLVP0",
    "outputId": "d38f26d2-75ab-4f62-c281-312cf1661f2b"
   },
   "outputs": [
    {
     "data": {
      "text/html": [
       "\n",
       "  <div id=\"df-9c34f2b9-547e-4771-a650-b22a5df90b02\">\n",
       "    <div class=\"colab-df-container\">\n",
       "      <div>\n",
       "<style scoped>\n",
       "    .dataframe tbody tr th:only-of-type {\n",
       "        vertical-align: middle;\n",
       "    }\n",
       "\n",
       "    .dataframe tbody tr th {\n",
       "        vertical-align: top;\n",
       "    }\n",
       "\n",
       "    .dataframe thead th {\n",
       "        text-align: right;\n",
       "    }\n",
       "</style>\n",
       "<table border=\"1\" class=\"dataframe\">\n",
       "  <thead>\n",
       "    <tr style=\"text-align: right;\">\n",
       "      <th></th>\n",
       "      <th>text</th>\n",
       "      <th>label</th>\n",
       "    </tr>\n",
       "  </thead>\n",
       "  <tbody>\n",
       "    <tr>\n",
       "      <th>111918</th>\n",
       "      <td>Но не каждый хочет что то исправлять:( http://...</td>\n",
       "      <td>negative</td>\n",
       "    </tr>\n",
       "    <tr>\n",
       "      <th>111919</th>\n",
       "      <td>скучаю так :-( только @taaannyaaa вправляет мо...</td>\n",
       "      <td>negative</td>\n",
       "    </tr>\n",
       "    <tr>\n",
       "      <th>111920</th>\n",
       "      <td>Вот и в школу, в говно это идти уже надо(</td>\n",
       "      <td>negative</td>\n",
       "    </tr>\n",
       "    <tr>\n",
       "      <th>111921</th>\n",
       "      <td>RT @_Them__: @LisaBeroud Тауриэль, не грусти :...</td>\n",
       "      <td>negative</td>\n",
       "    </tr>\n",
       "    <tr>\n",
       "      <th>111922</th>\n",
       "      <td>Такси везет меня на работу. Раздумываю приплат...</td>\n",
       "      <td>negative</td>\n",
       "    </tr>\n",
       "  </tbody>\n",
       "</table>\n",
       "</div>\n",
       "      <button class=\"colab-df-convert\" onclick=\"convertToInteractive('df-9c34f2b9-547e-4771-a650-b22a5df90b02')\"\n",
       "              title=\"Convert this dataframe to an interactive table.\"\n",
       "              style=\"display:none;\">\n",
       "        \n",
       "  <svg xmlns=\"http://www.w3.org/2000/svg\" height=\"24px\"viewBox=\"0 0 24 24\"\n",
       "       width=\"24px\">\n",
       "    <path d=\"M0 0h24v24H0V0z\" fill=\"none\"/>\n",
       "    <path d=\"M18.56 5.44l.94 2.06.94-2.06 2.06-.94-2.06-.94-.94-2.06-.94 2.06-2.06.94zm-11 1L8.5 8.5l.94-2.06 2.06-.94-2.06-.94L8.5 2.5l-.94 2.06-2.06.94zm10 10l.94 2.06.94-2.06 2.06-.94-2.06-.94-.94-2.06-.94 2.06-2.06.94z\"/><path d=\"M17.41 7.96l-1.37-1.37c-.4-.4-.92-.59-1.43-.59-.52 0-1.04.2-1.43.59L10.3 9.45l-7.72 7.72c-.78.78-.78 2.05 0 2.83L4 21.41c.39.39.9.59 1.41.59.51 0 1.02-.2 1.41-.59l7.78-7.78 2.81-2.81c.8-.78.8-2.07 0-2.86zM5.41 20L4 18.59l7.72-7.72 1.47 1.35L5.41 20z\"/>\n",
       "  </svg>\n",
       "      </button>\n",
       "      \n",
       "  <style>\n",
       "    .colab-df-container {\n",
       "      display:flex;\n",
       "      flex-wrap:wrap;\n",
       "      gap: 12px;\n",
       "    }\n",
       "\n",
       "    .colab-df-convert {\n",
       "      background-color: #E8F0FE;\n",
       "      border: none;\n",
       "      border-radius: 50%;\n",
       "      cursor: pointer;\n",
       "      display: none;\n",
       "      fill: #1967D2;\n",
       "      height: 32px;\n",
       "      padding: 0 0 0 0;\n",
       "      width: 32px;\n",
       "    }\n",
       "\n",
       "    .colab-df-convert:hover {\n",
       "      background-color: #E2EBFA;\n",
       "      box-shadow: 0px 1px 2px rgba(60, 64, 67, 0.3), 0px 1px 3px 1px rgba(60, 64, 67, 0.15);\n",
       "      fill: #174EA6;\n",
       "    }\n",
       "\n",
       "    [theme=dark] .colab-df-convert {\n",
       "      background-color: #3B4455;\n",
       "      fill: #D2E3FC;\n",
       "    }\n",
       "\n",
       "    [theme=dark] .colab-df-convert:hover {\n",
       "      background-color: #434B5C;\n",
       "      box-shadow: 0px 1px 3px 1px rgba(0, 0, 0, 0.15);\n",
       "      filter: drop-shadow(0px 1px 2px rgba(0, 0, 0, 0.3));\n",
       "      fill: #FFFFFF;\n",
       "    }\n",
       "  </style>\n",
       "\n",
       "      <script>\n",
       "        const buttonEl =\n",
       "          document.querySelector('#df-9c34f2b9-547e-4771-a650-b22a5df90b02 button.colab-df-convert');\n",
       "        buttonEl.style.display =\n",
       "          google.colab.kernel.accessAllowed ? 'block' : 'none';\n",
       "\n",
       "        async function convertToInteractive(key) {\n",
       "          const element = document.querySelector('#df-9c34f2b9-547e-4771-a650-b22a5df90b02');\n",
       "          const dataTable =\n",
       "            await google.colab.kernel.invokeFunction('convertToInteractive',\n",
       "                                                     [key], {});\n",
       "          if (!dataTable) return;\n",
       "\n",
       "          const docLinkHtml = 'Like what you see? Visit the ' +\n",
       "            '<a target=\"_blank\" href=https://colab.research.google.com/notebooks/data_table.ipynb>data table notebook</a>'\n",
       "            + ' to learn more about interactive tables.';\n",
       "          element.innerHTML = '';\n",
       "          dataTable['output_type'] = 'display_data';\n",
       "          await google.colab.output.renderOutput(dataTable, element);\n",
       "          const docLink = document.createElement('div');\n",
       "          docLink.innerHTML = docLinkHtml;\n",
       "          element.appendChild(docLink);\n",
       "        }\n",
       "      </script>\n",
       "    </div>\n",
       "  </div>\n",
       "  "
      ],
      "text/plain": [
       "                                                     text     label\n",
       "111918  Но не каждый хочет что то исправлять:( http://...  negative\n",
       "111919  скучаю так :-( только @taaannyaaa вправляет мо...  negative\n",
       "111920          Вот и в школу, в говно это идти уже надо(  negative\n",
       "111921  RT @_Them__: @LisaBeroud Тауриэль, не грусти :...  negative\n",
       "111922  Такси везет меня на работу. Раздумываю приплат...  negative"
      ]
     },
     "execution_count": 7,
     "metadata": {},
     "output_type": "execute_result"
    }
   ],
   "source": [
    "df.tail()"
   ]
  },
  {
   "cell_type": "code",
   "execution_count": 8,
   "metadata": {
    "id": "ZWta7oDgLVP8"
   },
   "outputs": [],
   "source": [
    "x_train, x_test, y_train, y_test = train_test_split(df.text, df.label)"
   ]
  },
  {
   "cell_type": "markdown",
   "metadata": {
    "id": "dw0GieJSMU-O"
   },
   "source": [
    "## Задание 1.\n",
    "\n",
    "**Задание**: обучите три классификатора: \n",
    "\n",
    "1) на токенах с высокой частотой \n",
    "\n",
    "2) на токенах со средней частотой \n",
    "\n",
    "3) на токенах с низкой частотой\n",
    "\n",
    "Сравните полученные результаты, оцените какие токены наиболее важные для классификации."
   ]
  },
  {
   "cell_type": "code",
   "execution_count": 11,
   "metadata": {
    "colab": {
     "base_uri": "https://localhost:8080/"
    },
    "id": "Sh8SRH-mErSH",
    "outputId": "22041db0-5aa3-4803-ed83-b9eb96071953"
   },
   "outputs": [
    {
     "name": "stdout",
     "output_type": "stream",
     "text": [
      "[nltk_data] Downloading package punkt to /root/nltk_data...\n",
      "[nltk_data]   Unzipping tokenizers/punkt.zip.\n"
     ]
    },
    {
     "data": {
      "text/plain": [
       "True"
      ]
     },
     "execution_count": 11,
     "metadata": {},
     "output_type": "execute_result"
    }
   ],
   "source": [
    "import nltk\n",
    "nltk.download('punkt')"
   ]
  },
  {
   "cell_type": "code",
   "execution_count": 12,
   "metadata": {
    "colab": {
     "base_uri": "https://localhost:8080/"
    },
    "id": "vIjqSVjpLVSL",
    "outputId": "85c0f10d-040d-4fd6-fa0c-64993d7dfddc"
   },
   "outputs": [
    {
     "name": "stdout",
     "output_type": "stream",
     "text": [
      "2859142\n"
     ]
    },
    {
     "data": {
      "text/plain": [
       "['first_timee', 'хоть', 'я', 'и', 'школота', 'но', 'поверь', 'у', 'нас', 'то']"
      ]
     },
     "execution_count": 12,
     "metadata": {},
     "output_type": "execute_result"
    }
   ],
   "source": [
    "corpus = [token for tweet in df.text for token in word_tokenize(tweet) if token not in punctuation]\n",
    "print(len(corpus))\n",
    "corpus[:10]"
   ]
  },
  {
   "cell_type": "code",
   "execution_count": 13,
   "metadata": {
    "colab": {
     "base_uri": "https://localhost:8080/"
    },
    "id": "_oWC7NpkLVSO",
    "outputId": "8a53a46d-94c1-42dd-c8da-55f6c76235a4"
   },
   "outputs": [
    {
     "data": {
      "text/plain": [
       "[('не', 69267),\n",
       " ('и', 54916),\n",
       " ('в', 52853),\n",
       " ('я', 52506),\n",
       " ('RT', 38070),\n",
       " ('на', 35715),\n",
       " ('http', 32992),\n",
       " ('что', 31472),\n",
       " ('...', 28773),\n",
       " ('с', 27176)]"
      ]
     },
     "execution_count": 13,
     "metadata": {},
     "output_type": "execute_result"
    }
   ],
   "source": [
    "freq_dict = Counter(corpus)\n",
    "freq_dict_sorted= sorted(freq_dict.items(), key=lambda x: -x[1])\n",
    "list(freq_dict_sorted)[:10]"
   ]
  },
  {
   "cell_type": "code",
   "execution_count": 14,
   "metadata": {
    "colab": {
     "base_uri": "https://localhost:8080/",
     "height": 265
    },
    "id": "FrPkce0SLVSQ",
    "outputId": "8baca6bc-1713-45b2-ed2e-403c17c7b430",
    "scrolled": true
   },
   "outputs": [
    {
     "data": {
      "image/png": "[encoded data removed]",
      "text/plain": [
       "<Figure size 432x288 with 1 Axes>"
      ]
     },
     "metadata": {
      "needs_background": "light"
     },
     "output_type": "display_data"
    }
   ],
   "source": [
    "%matplotlib inline\n",
    "first_100_freqs = [freq for word, freq in freq_dict_sorted[:100]]\n",
    "plt.plot(first_100_freqs)\n",
    "plt.show()"
   ]
  },
  {
   "cell_type": "code",
   "execution_count": 15,
   "metadata": {
    "colab": {
     "base_uri": "https://localhost:8080/",
     "height": 265
    },
    "id": "QUQ6kAgPMqNn",
    "outputId": "7dc9548f-6c98-4e73-ba68-e58af34798d4"
   },
   "outputs": [
    {
     "data": {
      "image/png": "[encoded data removed]",
      "text/plain": [
       "<Figure size 432x288 with 1 Axes>"
      ]
     },
     "metadata": {
      "needs_background": "light"
     },
     "output_type": "display_data"
    }
   ],
   "source": [
    "%matplotlib inline\n",
    "first_800_freqs = [freq for word, freq in freq_dict_sorted[:800]]\n",
    "plt.plot(first_800_freqs)\n",
    "plt.show()"
   ]
  },
  {
   "cell_type": "code",
   "execution_count": 16,
   "metadata": {
    "id": "fQGIPGnBDxIb"
   },
   "outputs": [],
   "source": [
    "freq_dict_800 = sorted(freq_dict.items(), key=lambda x: -x[1])[:800]"
   ]
  },
  {
   "cell_type": "code",
   "execution_count": 18,
   "metadata": {
    "id": "3i4Y6oomDxIb"
   },
   "outputs": [],
   "source": [
    "pymorphy2_analyzer = MorphAnalyzer()"
   ]
  },
  {
   "cell_type": "code",
   "execution_count": 19,
   "metadata": {
    "id": "Uq_StlhtDxIc"
   },
   "outputs": [],
   "source": [
    "def text_preparation(text, start_board, end_board):\n",
    "    tokens = word_tokenize(text)\n",
    "    return [token for token in tokens if token in [item[0] for item in freq_dict_800][start_board:end_board] \n",
    "            and token not in punctuation]"
   ]
  },
  {
   "cell_type": "code",
   "execution_count": 20,
   "metadata": {
    "id": "9FUkRAXQDxIc"
   },
   "outputs": [],
   "source": [
    "# Пример использования\n",
    "stroka = 'Мама не и мыла раму'"
   ]
  },
  {
   "cell_type": "code",
   "execution_count": 21,
   "metadata": {
    "colab": {
     "base_uri": "https://localhost:8080/"
    },
    "id": "691r1-FsDxIc",
    "outputId": "0d2875b0-2b66-4148-b620-7641595c9d4e"
   },
   "outputs": [
    {
     "data": {
      "text/plain": [
       "['не', 'и']"
      ]
     },
     "execution_count": 21,
     "metadata": {},
     "output_type": "execute_result"
    }
   ],
   "source": [
    "text_preparation(stroka, 0, 10)"
   ]
  },
  {
   "cell_type": "code",
   "execution_count": 22,
   "metadata": {
    "colab": {
     "base_uri": "https://localhost:8080/"
    },
    "id": "OY_nG4YmDxIc",
    "outputId": "2fdf2e17-19c3-499f-c010-08ce664a1f4d"
   },
   "outputs": [
    {
     "name": "stdout",
     "output_type": "stream",
     "text": [
      "              precision    recall  f1-score   support\n",
      "\n",
      "    negative       0.61      0.62      0.62     27129\n",
      "    positive       0.65      0.64      0.64     29580\n",
      "\n",
      "    accuracy                           0.63     56709\n",
      "   macro avg       0.63      0.63      0.63     56709\n",
      "weighted avg       0.63      0.63      0.63     56709\n",
      "\n"
     ]
    }
   ],
   "source": [
    "# 1) Классификатор на токенах с высокой частотой\n",
    "vec = TfidfVectorizer(ngram_range=(1, 1), tokenizer=lambda x: text_preparation(x, 0, 150))\n",
    "x_train_bow = vec.fit_transform(x_train)\n",
    "clf = LogisticRegression(random_state=42)\n",
    "clf.fit(x_train_bow, y_train)\n",
    "pred = clf.predict(vec.transform(x_test))\n",
    "print(classification_report(pred, y_test))"
   ]
  },
  {
   "cell_type": "code",
   "execution_count": 23,
   "metadata": {
    "colab": {
     "base_uri": "https://localhost:8080/"
    },
    "id": "A_-2cGFSDxId",
    "outputId": "e84289eb-f275-4f19-bdfb-2dcbd35d486a"
   },
   "outputs": [
    {
     "name": "stdout",
     "output_type": "stream",
     "text": [
      "              precision    recall  f1-score   support\n",
      "\n",
      "    negative       0.37      0.60      0.46     17029\n",
      "    positive       0.77      0.56      0.65     39680\n",
      "\n",
      "    accuracy                           0.57     56709\n",
      "   macro avg       0.57      0.58      0.55     56709\n",
      "weighted avg       0.65      0.57      0.59     56709\n",
      "\n"
     ]
    }
   ],
   "source": [
    "# 2) Классификатор на токенах со средней частотой\n",
    "vec = TfidfVectorizer(ngram_range=(1, 1), tokenizer=lambda x: text_preparation(x, 151, 350))\n",
    "x_train_bow = vec.fit_transform(x_train)\n",
    "clf = LogisticRegression(random_state=42)\n",
    "clf.fit(x_train_bow, y_train)\n",
    "pred = clf.predict(vec.transform(x_test))\n",
    "print(classification_report(pred, y_test))\n"
   ]
  },
  {
   "cell_type": "code",
   "execution_count": 24,
   "metadata": {
    "colab": {
     "base_uri": "https://localhost:8080/"
    },
    "id": "dhP4fc1tDxId",
    "outputId": "e56adb9b-8cca-42c8-e0c0-b7c1daaeae08"
   },
   "outputs": [
    {
     "name": "stdout",
     "output_type": "stream",
     "text": [
      "              precision    recall  f1-score   support\n",
      "\n",
      "    negative       0.37      0.65      0.47     15621\n",
      "    positive       0.81      0.57      0.67     41088\n",
      "\n",
      "    accuracy                           0.59     56709\n",
      "   macro avg       0.59      0.61      0.57     56709\n",
      "weighted avg       0.69      0.59      0.62     56709\n",
      "\n"
     ]
    }
   ],
   "source": [
    "# 3) Классификатор на токенах с низкой частотой\n",
    "vec = TfidfVectorizer(ngram_range=(1, 1), tokenizer=lambda x: text_preparation(x, 351, 800))\n",
    "x_train_bow = vec.fit_transform(x_train)\n",
    "clf = LogisticRegression(random_state=42)\n",
    "clf.fit(x_train_bow, y_train)\n",
    "pred = clf.predict(vec.transform(x_test))\n",
    "print(classification_report(pred, y_test))"
   ]
  },
  {
   "cell_type": "markdown",
   "metadata": {
    "id": "w2fRbUAvLVSX"
   },
   "source": [
    "Наилучший результат показала модель, обучающаяся на высокочастотных токенах, значит они наиболее важны."
   ]
  },
  {
   "cell_type": "markdown",
   "metadata": {
    "id": "0W6WEA7vDxIe"
   },
   "source": [
    "## Задание 2."
   ]
  },
  {
   "cell_type": "markdown",
   "metadata": {
    "id": "mV3fmzp-LVSU"
   },
   "source": [
    "**Классификация без удаления пунктуации**"
   ]
  },
  {
   "cell_type": "code",
   "execution_count": 25,
   "metadata": {
    "colab": {
     "base_uri": "https://localhost:8080/"
    },
    "id": "qjkMxK9VLVSV",
    "outputId": "f435a028-f15a-4e19-db93-9904ecf7b5ab"
   },
   "outputs": [
    {
     "name": "stdout",
     "output_type": "stream",
     "text": [
      "              precision    recall  f1-score   support\n",
      "\n",
      "    negative       1.00      1.00      1.00     27730\n",
      "    positive       1.00      1.00      1.00     28979\n",
      "\n",
      "    accuracy                           1.00     56709\n",
      "   macro avg       1.00      1.00      1.00     56709\n",
      "weighted avg       1.00      1.00      1.00     56709\n",
      "\n"
     ]
    }
   ],
   "source": [
    "vec = TfidfVectorizer(ngram_range=(1, 1), tokenizer=word_tokenize)\n",
    "x_train_bow = vec.fit_transform(x_train)\n",
    "clf = LogisticRegression(random_state=42)\n",
    "clf.fit(x_train_bow, y_train)\n",
    "pred = clf.predict(vec.transform(x_test))\n",
    "print(classification_report(pred, y_test))"
   ]
  },
  {
   "cell_type": "markdown",
   "metadata": {
    "id": "b_JRuyuRLVSY"
   },
   "source": [
    "**Найти фичи с наибольшей значимостью, и вывести их**"
   ]
  },
  {
   "cell_type": "code",
   "execution_count": 26,
   "metadata": {
    "colab": {
     "base_uri": "https://localhost:8080/"
    },
    "id": "w5pClvVHDxIg",
    "outputId": "8bb45575-1b79-4482-fab9-86262abf0811"
   },
   "outputs": [
    {
     "data": {
      "text/plain": [
       "['!',\n",
       " '#',\n",
       " '$',\n",
       " '%',\n",
       " '&',\n",
       " \"'\",\n",
       " \"''\",\n",
       " '(',\n",
       " ')',\n",
       " '*',\n",
       " '**',\n",
       " '***',\n",
       " '****',\n",
       " '*****',\n",
       " '******',\n",
       " '*******',\n",
       " '********',\n",
       " '*********',\n",
       " '**********',\n",
       " '***********',\n",
       " '************',\n",
       " '*************',\n",
       " '**************',\n",
       " '***************',\n",
       " '********************************',\n",
       " '**********************************************',\n",
       " '*************************************************************************************************************',\n",
       " '***************************************_',\n",
       " '***************♥♥♥♥♥♥',\n",
       " '**************…',\n",
       " '******е',\n",
       " '******…',\n",
       " '****горжусь',\n",
       " '****но',\n",
       " '****очень',\n",
       " '***888*8888*88**88*',\n",
       " '***999',\n",
       " '***ахах',\n",
       " '***всего',\n",
       " '***домаусебявкомнате***',\n",
       " '***иначе',\n",
       " '***кот***просто***кот***',\n",
       " '***люплю',\n",
       " '***обожаю',\n",
       " '***омана',\n",
       " '***поздравляшкииии:3',\n",
       " '***сегодня',\n",
       " '***ты',\n",
       " '***я',\n",
       " '***ярких',\n",
       " '**..**',\n",
       " '**7',\n",
       " '**8*88**',\n",
       " '**азааз',\n",
       " '**афигенская',\n",
       " '**взаимно',\n",
       " '**ещё',\n",
       " '**иди',\n",
       " '**й',\n",
       " '**некрытик',\n",
       " '**но',\n",
       " '**о**',\n",
       " '**поттероманы',\n",
       " '**смотри',\n",
       " '**т',\n",
       " '**только',\n",
       " '**у',\n",
       " '**шикарный',\n",
       " '**ять',\n",
       " '**❤️',\n",
       " '*-',\n",
       " '*-*',\n",
       " '*.',\n",
       " '*..какой',\n",
       " '*0*',\n",
       " '*1.',\n",
       " '*10',\n",
       " '*3',\n",
       " '*3*',\n",
       " '*8:34',\n",
       " '*911*',\n",
       " '*:3',\n",
       " '*:333',\n",
       " '*^*',\n",
       " '*^^',\n",
       " '*^^*',\n",
       " '*^_^*',\n",
       " '*_*',\n",
       " '*_*..',\n",
       " '*_*блиннемогу',\n",
       " '*_^',\n",
       " '*__*',\n",
       " '*___*',\n",
       " '*____*',\n",
       " '*_____*',\n",
       " '*______*',\n",
       " '*_______*',\n",
       " '*________*',\n",
       " '*_________*',\n",
       " '*___________*',\n",
       " '*_____________*',\n",
       " '*______________*',\n",
       " '*__________________*',\n",
       " '*_______________________*',\n",
       " '*_________________________*',\n",
       " '*__________________________*',\n",
       " '*_______________________________*',\n",
       " '*apple',\n",
       " '*arch',\n",
       " '*blog',\n",
       " '*cry*',\n",
       " '*dd',\n",
       " '*electronics',\n",
       " '*facepalm.jpg*',\n",
       " '*happy',\n",
       " '*http',\n",
       " '*irony*',\n",
       " '*linux',\n",
       " '*lobachevsky',\n",
       " '*lovejb',\n",
       " '*might*',\n",
       " '*noidiots',\n",
       " '*nopython',\n",
       " '*o*',\n",
       " '*oooo*',\n",
       " '*sarcasm*',\n",
       " '*sherlock',\n",
       " '*torrent',\n",
       " '*u*',\n",
       " '*xd',\n",
       " '*~*',\n",
       " '*°•',\n",
       " '*´¨`*',\n",
       " '*а',\n",
       " '*аагаад',\n",
       " '*аалгах',\n",
       " '*ага',\n",
       " '*ари',\n",
       " '*ахахах',\n",
       " '*ахахах:3',\n",
       " '*бал',\n",
       " '*баные',\n",
       " '*барабанная',\n",
       " '*без',\n",
       " '*береги',\n",
       " '*би-2',\n",
       " '*блё',\n",
       " '*брове*',\n",
       " '*бу',\n",
       " '*будешь',\n",
       " '*буду',\n",
       " '*будь',\n",
       " '*было',\n",
       " '*в',\n",
       " '*верхнюю',\n",
       " '*вечная',\n",
       " '*видео',\n",
       " '*влезла*',\n",
       " '*возможную',\n",
       " '*воскресный',\n",
       " '*воу',\n",
       " '*врувсёрешено',\n",
       " '*все',\n",
       " '*вспоминаю',\n",
       " '*вход',\n",
       " '*вы',\n",
       " '*выпендривается*',\n",
       " '*вытирает',\n",
       " '*гениальный',\n",
       " '*гладит',\n",
       " '*говно',\n",
       " '*говнюки',\n",
       " '*голосом',\n",
       " '*гордо*',\n",
       " '*горько*',\n",
       " '*господи',\n",
       " '*громко',\n",
       " '*да-да',\n",
       " '*даа',\n",
       " '*давай',\n",
       " '*дадад',\n",
       " '*дальше',\n",
       " '*делает',\n",
       " '*держала',\n",
       " '*динок',\n",
       " '*дистрикты',\n",
       " '*для',\n",
       " '*до',\n",
       " '*довольная',\n",
       " '*другим',\n",
       " '*думала',\n",
       " '*думаю',\n",
       " '*еда',\n",
       " '*единорогов',\n",
       " '*ещё',\n",
       " '*жалеет*',\n",
       " '*желаю',\n",
       " '*жызнь',\n",
       " '*з',\n",
       " '*з*',\n",
       " '*за',\n",
       " '*заботливые',\n",
       " '*задумалась*',\n",
       " '*залезла',\n",
       " '*заметочка',\n",
       " '*здесь*-это',\n",
       " '*злобный',\n",
       " '*злорадство*',\n",
       " '*знала',\n",
       " '*зоопарк',\n",
       " '*и',\n",
       " '*из-за',\n",
       " '*икнул',\n",
       " '*интересно',\n",
       " '*ирный',\n",
       " '*истерический',\n",
       " '*к',\n",
       " '*как',\n",
       " '*как-нибудь',\n",
       " '*кино',\n",
       " '*кинула',\n",
       " '*коварная',\n",
       " '*копейки',\n",
       " '*короче',\n",
       " '*кошак',\n",
       " '*крис',\n",
       " '*кто-топ',\n",
       " '*куда*',\n",
       " '*кукэева',\n",
       " '*купил',\n",
       " '*куплен',\n",
       " '*лучи',\n",
       " '*люблю',\n",
       " '*лядство',\n",
       " '*лёля',\n",
       " '*малыш',\n",
       " '*мама',\n",
       " '*меня',\n",
       " '*микки',\n",
       " '*милости',\n",
       " '*мимими',\n",
       " '*мимопроходил*',\n",
       " '*мм.когда-нибудь',\n",
       " '*мне',\n",
       " '*мой',\n",
       " '*моя',\n",
       " '*мы',\n",
       " '*мы-будьмо*',\n",
       " '*мысленно*главное',\n",
       " '*мяу*',\n",
       " '*на',\n",
       " '*надела',\n",
       " '*надеюсь',\n",
       " '*надо',\n",
       " '*наконец*',\n",
       " '*наследие*',\n",
       " '*нафис',\n",
       " '*нашел',\n",
       " '*нг',\n",
       " '*не',\n",
       " '*неделя',\n",
       " '*нежная',\n",
       " '*ненавижу',\n",
       " '*нет',\n",
       " '*нижняя',\n",
       " '*номер*.засос',\n",
       " '*нормальным',\n",
       " '*нотр',\n",
       " '*нуяжеприличнаядевушка*',\n",
       " '*о*',\n",
       " '*оба',\n",
       " '*обмен',\n",
       " '*обнимает*',\n",
       " '*обнимашеньки*',\n",
       " '*обнимашечки*',\n",
       " '*обнимашки*',\n",
       " '*обнимаю',\n",
       " '*обнял*',\n",
       " '*обожаю',\n",
       " '*оглоблинъ*',\n",
       " '*оля',\n",
       " '*он',\n",
       " '*они',\n",
       " '*онли',\n",
       " '*оо*',\n",
       " '*ооо*',\n",
       " '*оооо*',\n",
       " '*оооооооо*',\n",
       " '*ооооооооооооо*',\n",
       " '*опе',\n",
       " '*опять',\n",
       " '*осень',\n",
       " '*осознание*',\n",
       " '*ответил',\n",
       " '*открывает',\n",
       " '*открыла',\n",
       " '*очень',\n",
       " '*ошибиться',\n",
       " '*п*',\n",
       " '*паника*',\n",
       " '*парней',\n",
       " '*пдф',\n",
       " '*печалька*',\n",
       " '*плохо',\n",
       " '*повернулась…',\n",
       " '*повис',\n",
       " '*погладил',\n",
       " '*подкаст',\n",
       " '*подошел',\n",
       " '*пока',\n",
       " '*покачивает',\n",
       " '*полин',\n",
       " '*помирать',\n",
       " '*поправочка',\n",
       " '*после',\n",
       " '*послушали',\n",
       " '*посмотрел',\n",
       " '*посылает',\n",
       " '*походу',\n",
       " '*поцеловал',\n",
       " '*поцеловала',\n",
       " '*привет',\n",
       " '*прижала',\n",
       " '*прикрыла',\n",
       " '*проснулся',\n",
       " '*простите*',\n",
       " '*просто',\n",
       " '*протягивает',\n",
       " '*прошло',\n",
       " '*пряники',\n",
       " '*рабочие',\n",
       " '*разжег',\n",
       " '*рассвет',\n",
       " '*резко',\n",
       " '*рождество',\n",
       " '*рукалицо',\n",
       " '*рыдает*',\n",
       " '*рыдаю*',\n",
       " '*рыдающий',\n",
       " '*с',\n",
       " '*сама',\n",
       " '*свои',\n",
       " '*сделал',\n",
       " '*сегодня',\n",
       " '*сказал',\n",
       " '*сказала',\n",
       " '*скромность*',\n",
       " '*слезы',\n",
       " '*слюни*',\n",
       " '*слёзкислёзки',\n",
       " '*смеется*',\n",
       " '*смеялись',\n",
       " '*смотрит',\n",
       " '*смотрю',\n",
       " '*сорьки',\n",
       " '*соскучилась',\n",
       " '*спасибо',\n",
       " '*спасибоооо',\n",
       " '*спать',\n",
       " '*сползает',\n",
       " '*стучит',\n",
       " '*стюню',\n",
       " '*счастлива*',\n",
       " '*счастье*',\n",
       " '*т*',\n",
       " '*та',\n",
       " '*так',\n",
       " '*такое',\n",
       " '*тамблер',\n",
       " '*твоя',\n",
       " '*теперь',\n",
       " '*тип',\n",
       " '*типа',\n",
       " '*тихим',\n",
       " '*тихо',\n",
       " '*тишина*',\n",
       " '*только',\n",
       " '*тупо',\n",
       " '*ты',\n",
       " '*у',\n",
       " '*удаком',\n",
       " '*удачи',\n",
       " '*уезжаем',\n",
       " '*уеть',\n",
       " '*уйлан',\n",
       " '*улыбается*',\n",
       " '*улыбнулась*',\n",
       " '*упала',\n",
       " '*ургант*',\n",
       " '*устала',\n",
       " '*ушел*',\n",
       " '*ушла',\n",
       " '*ушли',\n",
       " '*фигня',\n",
       " '*фууф',\n",
       " '*хаха',\n",
       " '*хитрый',\n",
       " '*хлопает*',\n",
       " '*хнык*',\n",
       " '*хорошие',\n",
       " '*хорошо',\n",
       " '*хот',\n",
       " '*хх',\n",
       " '*ххх',\n",
       " '*целую',\n",
       " '*цензура*',\n",
       " '*че',\n",
       " '*чжангу',\n",
       " '*чмаф*',\n",
       " '*что',\n",
       " '*чудо',\n",
       " '*шепотом',\n",
       " '*шехиризады',\n",
       " '*широких',\n",
       " '*щас',\n",
       " '*щенячьи',\n",
       " '*электронное',\n",
       " '*эт',\n",
       " '*это',\n",
       " '*я',\n",
       " '*ябейвдул',\n",
       " '*ёлочка',\n",
       " '*–*',\n",
       " '*———*',\n",
       " '*•*',\n",
       " '*…',\n",
       " '*♡',\n",
       " '*♥',\n",
       " '*♥♥♥нажремся',\n",
       " '*❤️',\n",
       " '+',\n",
       " '++',\n",
       " '+++',\n",
       " '+++++',\n",
       " '++++++++',\n",
       " '+-',\n",
       " '+.по',\n",
       " '+0',\n",
       " '+0.33',\n",
       " '+1',\n",
       " '+1.воткнули',\n",
       " '+10',\n",
       " '+100',\n",
       " '+1000',\n",
       " '+1000000',\n",
       " '+100500',\n",
       " '+10к',\n",
       " '+11',\n",
       " '+1239',\n",
       " '+13',\n",
       " '+14к',\n",
       " '+15',\n",
       " '+15минут',\n",
       " '+17с',\n",
       " '+18',\n",
       " '+19',\n",
       " '+2',\n",
       " '+2..весна',\n",
       " '+20',\n",
       " '+21',\n",
       " '+23°',\n",
       " '+29',\n",
       " '+3',\n",
       " '+3..',\n",
       " '+30',\n",
       " '+32',\n",
       " '+33',\n",
       " '+35',\n",
       " '+35…',\n",
       " '+36',\n",
       " '+37126465515',\n",
       " '+375',\n",
       " '+375292377543',\n",
       " '+375447167151',\n",
       " '+380637142327',\n",
       " '+380967389762',\n",
       " '+39',\n",
       " '+3k',\n",
       " '+3°с',\n",
       " '+4',\n",
       " '+43',\n",
       " '+48',\n",
       " '+5',\n",
       " '+5+8',\n",
       " '+50',\n",
       " '+5тыс',\n",
       " '+6',\n",
       " '+7',\n",
       " '+7-918-601-41-58',\n",
       " '+7906-955-6619',\n",
       " '+7913-843-0445',\n",
       " '+79282142338',\n",
       " '+79600104552',\n",
       " '+79644160445',\n",
       " '+8',\n",
       " '+870',\n",
       " '+9',\n",
       " '+=',\n",
       " '+_+',\n",
       " '+k',\n",
       " '+t',\n",
       " '+wi-fi',\n",
       " '+английский',\n",
       " '+гиа',\n",
       " '+думала',\n",
       " '+живіт',\n",
       " '+зуб',\n",
       " '+и',\n",
       " '+к',\n",
       " '+картинка',\n",
       " '+надо',\n",
       " '+никита',\n",
       " '+нормально',\n",
       " '+перелет',\n",
       " '+погода',\n",
       " '+приняли',\n",
       " '+сегодня',\n",
       " '+уборка',\n",
       " '+шампанское',\n",
       " '+я',\n",
       " ',',\n",
       " ',-',\n",
       " ',10а',\n",
       " ',11',\n",
       " ',5',\n",
       " ',50-ти',\n",
       " ',7',\n",
       " ',алкоголь',\n",
       " ',бля',\n",
       " ',вот',\n",
       " ',впусти',\n",
       " ',выздоравливай',\n",
       " ',дела',\n",
       " ',евромайдана',\n",
       " ',если',\n",
       " ',иногда',\n",
       " ',как',\n",
       " ',качалочку',\n",
       " ',маш',\n",
       " ',ну',\n",
       " ',о',\n",
       " ',офигела',\n",
       " ',с',\n",
       " ',спасибо',\n",
       " ',только',\n",
       " ',уже',\n",
       " ',уничиожил',\n",
       " ',я',\n",
       " '-',\n",
       " '-*',\n",
       " '-***',\n",
       " '-*..как',\n",
       " '-*долго',\n",
       " '-*любви',\n",
       " '-*о*…',\n",
       " '-*омоамаоат*',\n",
       " '-*я',\n",
       " '--',\n",
       " '-.-',\n",
       " '-..всё',\n",
       " '-..мы',\n",
       " '-.блин',\n",
       " '-/',\n",
       " '-/..яаацарцан',\n",
       " '-//',\n",
       " '-///',\n",
       " '-////',\n",
       " '-/////',\n",
       " '-/вопрос',\n",
       " '-0',\n",
       " '-00',\n",
       " '-00.00',\n",
       " '-1',\n",
       " '-1,65',\n",
       " '-10',\n",
       " '-10,11',\n",
       " '-10.',\n",
       " '-100',\n",
       " '-1000кнастроению',\n",
       " '-100500',\n",
       " '-10с',\n",
       " '-11',\n",
       " '-117',\n",
       " '-12',\n",
       " '-13',\n",
       " '-13.у',\n",
       " '-13ºс',\n",
       " '-14',\n",
       " '-15',\n",
       " '-15-16',\n",
       " '-15=0',\n",
       " '-16',\n",
       " '-160',\n",
       " '-161',\n",
       " '-17',\n",
       " '-17.',\n",
       " '-18',\n",
       " '-18.',\n",
       " '-1°',\n",
       " '-2',\n",
       " '-2,5',\n",
       " '-2.5',\n",
       " '-20',\n",
       " '-20-25',\n",
       " '-200',\n",
       " '-20°',\n",
       " '-20с',\n",
       " '-21',\n",
       " '-21.',\n",
       " '-22',\n",
       " '-23',\n",
       " '-23*c',\n",
       " '-24',\n",
       " '-25',\n",
       " '-25.',\n",
       " '-25°с',\n",
       " '-27',\n",
       " '-28',\n",
       " '-28.',\n",
       " '-29..',\n",
       " '-3',\n",
       " '-3.сегодня',\n",
       " '-3/-3,5',\n",
       " '-30',\n",
       " '-30.',\n",
       " '-300',\n",
       " '-300000',\n",
       " '-30°',\n",
       " '-30°c',\n",
       " '-30с',\n",
       " '-31.',\n",
       " '-32',\n",
       " '-32*',\n",
       " '-32.',\n",
       " '-33.',\n",
       " '-34',\n",
       " '-34.',\n",
       " '-35',\n",
       " '-364/+1',\n",
       " '-38',\n",
       " '-38.8',\n",
       " '-3°с',\n",
       " '-4',\n",
       " '-40',\n",
       " '-42',\n",
       " '-45',\n",
       " '-46',\n",
       " '-47',\n",
       " '-5',\n",
       " '-5.',\n",
       " '-50',\n",
       " '-50.',\n",
       " '-50°',\n",
       " '-51/+1',\n",
       " '-52',\n",
       " '-6',\n",
       " '-6.',\n",
       " '-6..4',\n",
       " '-6.50',\n",
       " '-7',\n",
       " '-700',\n",
       " '-7❄',\n",
       " '-8',\n",
       " '-9',\n",
       " '-9-10.',\n",
       " '-^',\n",
       " '-_',\n",
       " '-_-',\n",
       " '-__-',\n",
       " '-___-',\n",
       " '-____-',\n",
       " '-_____-',\n",
       " '-____________-',\n",
       " '-_о',\n",
       " '-audiofile',\n",
       " '-bullets',\n",
       " '-c',\n",
       " '-cut-',\n",
       " '-cдам',\n",
       " '-d',\n",
       " '-d.',\n",
       " '-dd',\n",
       " '-ddddd',\n",
       " '-dвот',\n",
       " '-dдаа..',\n",
       " '-dдак',\n",
       " '-dжалко',\n",
       " '-dне',\n",
       " '-dони',\n",
       " '-dппц',\n",
       " '-dразбила',\n",
       " '-dу',\n",
       " '-dумеет',\n",
       " '-dщас',\n",
       " '-dя',\n",
       " '-http',\n",
       " '-https',\n",
       " '-i',\n",
       " '-journal',\n",
       " '-no',\n",
       " '-noize',\n",
       " '-not',\n",
       " '-o',\n",
       " '-o.o',\n",
       " '-o_o',\n",
       " '-one',\n",
       " '-p',\n",
       " '-p.',\n",
       " '-r',\n",
       " '-repair',\n",
       " '-s',\n",
       " '-|',\n",
       " '-а',\n",
       " '-ааа',\n",
       " '-аааа',\n",
       " '-аас',\n",
       " '-ааххха',\n",
       " '-абитуриенты',\n",
       " '-ага',\n",
       " '-ага..',\n",
       " '-ага…',\n",
       " '-агенты',\n",
       " '-ай',\n",
       " '-айгуль',\n",
       " '-айгуля',\n",
       " '-акк',\n",
       " '-александр',\n",
       " '-алин',\n",
       " '-алина',\n",
       " '-алл',\n",
       " '-алло',\n",
       " '-алё',\n",
       " '-антон',\n",
       " '-антох',\n",
       " '-ань',\n",
       " '-аня',\n",
       " '-аптеку',\n",
       " '-арина',\n",
       " '-артем',\n",
       " '-артемка',\n",
       " '-артур',\n",
       " '-ась',\n",
       " '-ах',\n",
       " '-ахаа',\n",
       " '-ахах',\n",
       " '-ахаха',\n",
       " '-ахахах',\n",
       " '-ахахахах',\n",
       " '-ахахахаха',\n",
       " '-ахахахахахахаха',\n",
       " '-ахахахаххахахахахахха',\n",
       " '-ахахахха',\n",
       " '-ахахаххахахахахах',\n",
       " '-ахахха',\n",
       " '-ахаххаххаххаха',\n",
       " '-ахх..приянооо',\n",
       " '-бабуль',\n",
       " '-барби',\n",
       " '-без',\n",
       " '-безответственность',\n",
       " '-белоснежная',\n",
       " '-белый',\n",
       " '-береги',\n",
       " '-берешь',\n",
       " '-беру',\n",
       " '-бес',\n",
       " '-беспечный',\n",
       " '-би',\n",
       " '-билан',\n",
       " '-бинтами',\n",
       " '-био',\n",
       " '-блин',\n",
       " '-бля',\n",
       " '-бля..-',\n",
       " '-блядь',\n",
       " '-бляя',\n",
       " '-бо',\n",
       " '-бодренького',\n",
       " '-боже',\n",
       " '-божее',\n",
       " '-болты',\n",
       " '-боль',\n",
       " '-борись',\n",
       " '-борщ',\n",
       " '-братишка',\n",
       " '-британского',\n",
       " '-брошу',\n",
       " '-будешь',\n",
       " '-будто',\n",
       " '-буква',\n",
       " '-буратино',\n",
       " '-бутылка',\n",
       " '-бывших',\n",
       " '-был',\n",
       " '-в',\n",
       " '-ваааня',\n",
       " '-вадик',\n",
       " '-валь',\n",
       " '-валюш',\n",
       " '-вам',\n",
       " '-ванга',\n",
       " '-вах*-*',\n",
       " '-вахахахаха',\n",
       " '-ваша',\n",
       " '-ваше',\n",
       " '-велика',\n",
       " '-весело',\n",
       " '-весы',\n",
       " '-взойдуть',\n",
       " '-вибратор',\n",
       " '-видаляй',\n",
       " '-видишь',\n",
       " '-вика',\n",
       " '-виола',\n",
       " '-виталя',\n",
       " '-вкусный',\n",
       " '-влюбляюсь',\n",
       " '-вместе',\n",
       " '-во',\n",
       " '-возвышенная',\n",
       " '-возле',\n",
       " '-возраст',\n",
       " '-возьми',\n",
       " '-вообще',\n",
       " '-вообще-то',\n",
       " '-воооу..я',\n",
       " '-восьмигрудый',\n",
       " '-вот',\n",
       " '-воу',\n",
       " '-врач',\n",
       " '-время',\n",
       " '-врет',\n",
       " '-вроде',\n",
       " '-все',\n",
       " '-всегда',\n",
       " '-всем',\n",
       " '-всё',\n",
       " '-вы',\n",
       " '-выбор',\n",
       " '-выздоравливай',\n",
       " '-выздоравливаю',\n",
       " '-выйду',\n",
       " '-выпал',\n",
       " '-выпей',\n",
       " '-выпускник',\n",
       " '-г',\n",
       " '-гарри',\n",
       " '-где',\n",
       " '-гей',\n",
       " '-герман',\n",
       " '-гипнотитьки',\n",
       " '-главное',\n",
       " '-гнидота',\n",
       " '-говари',\n",
       " '-говно',\n",
       " '-говорили',\n",
       " '-говорит',\n",
       " '-говорят',\n",
       " '-голодный',\n",
       " '-голос',\n",
       " '-голубые',\n",
       " '-господи',\n",
       " '-готов',\n",
       " '-готовишься',\n",
       " '-греет',\n",
       " '-гуси-это',\n",
       " '-д-д-д-д-д-д-дроп',\n",
       " '-да',\n",
       " '-да*',\n",
       " '-да..',\n",
       " '-дааа',\n",
       " '-даааа',\n",
       " '-дааааа',\n",
       " '-давай',\n",
       " '-давайдавай',\n",
       " '-давайте',\n",
       " '-даже',\n",
       " '-дайка',\n",
       " '-дайте',\n",
       " '-дак',\n",
       " '-дала',\n",
       " '-дамир',\n",
       " '-даша',\n",
       " '-да…',\n",
       " '-два',\n",
       " '-двадцать',\n",
       " '-девочк',\n",
       " '-девочки',\n",
       " '-девушка',\n",
       " '-девушки',\n",
       " '-дедушка',\n",
       " '-дело',\n",
       " '-деловая',\n",
       " '-деньгиполучаютлюдиоред-гополаипроф-ии',\n",
       " '-деревянные',\n",
       " '-дерьмо',\n",
       " '-джаред',\n",
       " '-джасу',\n",
       " '-дим',\n",
       " '-дио',\n",
       " '-дирекшионер',\n",
       " '-для',\n",
       " '-добрее',\n",
       " '-добро',\n",
       " '-доброй',\n",
       " '-доктор',\n",
       " '-дома',\n",
       " '-домашка',\n",
       " '-доминантности',\n",
       " '-донт',\n",
       " '-дополнительная',\n",
       " '-дорогая',\n",
       " '-дохера',\n",
       " '-доча',\n",
       " '-доченька',\n",
       " '-дочь',\n",
       " '-др',\n",
       " '-дрочат',\n",
       " '-думаю',\n",
       " '-дура',\n",
       " '-дурненька..я',\n",
       " '-дым',\n",
       " '-дядь',\n",
       " '-дядька',\n",
       " '-е',\n",
       " '-е.',\n",
       " '-ебать',\n",
       " '-его',\n",
       " '-единорог',\n",
       " '-еле',\n",
       " '-елочка',\n",
       " '-емаа',\n",
       " '-ес',\n",
       " '-если',\n",
       " '-естественно',\n",
       " '-есть',\n",
       " '-еще',\n",
       " '-её',\n",
       " '-жалко',\n",
       " '-жареный',\n",
       " '-ждешь',\n",
       " '-жду',\n",
       " '-же',\n",
       " '-желаем',\n",
       " '-женщина',\n",
       " '-жесть',\n",
       " '-живо',\n",
       " '-жизнь',\n",
       " '-жирная',\n",
       " '-журналистика',\n",
       " '-з-',\n",
       " '-за',\n",
       " '-забери',\n",
       " '-забываю',\n",
       " '-забытое',\n",
       " '-завтра',\n",
       " '-заголовок',\n",
       " '-зазза',\n",
       " '-зай',\n",
       " '-закрыли',\n",
       " '-замерзла.-ну',\n",
       " '-заметь',\n",
       " '-занят',\n",
       " '-зарядки',\n",
       " '-зато',\n",
       " '-зачем',\n",
       " '-зачёркивание-',\n",
       " '-зашел',\n",
       " '-зашла',\n",
       " '-защитим',\n",
       " '-зая',\n",
       " '-збс',\n",
       " '-звезда',\n",
       " '-звучит',\n",
       " '-здарова',\n",
       " '-здравствуйте',\n",
       " '-зелено-карие',\n",
       " '-зеленые',\n",
       " '-зеленый',\n",
       " '-зинка',\n",
       " '-знаешь',\n",
       " '-знал',\n",
       " '-значит',\n",
       " '-значит..ты',\n",
       " '-знаю',\n",
       " '-и',\n",
       " '-иван',\n",
       " '-иванов',\n",
       " '-иди',\n",
       " '-иду',\n",
       " '-из',\n",
       " '-извени',\n",
       " '-извини',\n",
       " '-извините',\n",
       " '-изменяешь',\n",
       " '-ийг',\n",
       " '-ийн',\n",
       " '-импотенции',\n",
       " '-иногда',\n",
       " '-интересный',\n",
       " ...]"
      ]
     },
     "execution_count": 26,
     "metadata": {},
     "output_type": "execute_result"
    }
   ],
   "source": [
    "feature_names = vec.get_feature_names()\n",
    "feature_names"
   ]
  },
  {
   "cell_type": "code",
   "execution_count": 27,
   "metadata": {
    "colab": {
     "base_uri": "https://localhost:8080/"
    },
    "id": "dZDKkvasDxIg",
    "outputId": "46c9c978-42e4-4f9c-b90c-bde27df228d6"
   },
   "outputs": [
    {
     "data": {
      "text/plain": [
       "[('!', 1),\n",
       " ('#', 1),\n",
       " ('$', 1),\n",
       " ('%', 1),\n",
       " ('&', 1),\n",
       " (\"'\", 1),\n",
       " (\"''\", 1),\n",
       " ('(', 1),\n",
       " (')', 1),\n",
       " ('*', 1)]"
      ]
     },
     "execution_count": 27,
     "metadata": {},
     "output_type": "execute_result"
    }
   ],
   "source": [
    "count_feature = Counter(feature_names)\n",
    "count_feature_sort = sorted(count_feature.items(), key=lambda x: x[1])\n",
    "list(count_feature_sort)[:10]"
   ]
  },
  {
   "cell_type": "markdown",
   "metadata": {
    "id": "8vtAyItvLVSb"
   },
   "source": [
    "Абсолютно неудивительно, что среди наиболее частых токенов оказались знаки пунктуации, ведь их используют бувально в каждом предложении, особенно в русском языке. Посмотрим, сможет ли один и из таких токенов справиться с классификацией без помощи машинного обучения:"
   ]
  },
  {
   "cell_type": "code",
   "execution_count": 28,
   "metadata": {
    "colab": {
     "base_uri": "https://localhost:8080/"
    },
    "id": "uqH07o-7LVSc",
    "outputId": "8f07f862-1d1a-4096-81c9-f70df574e5e5"
   },
   "outputs": [
    {
     "name": "stdout",
     "output_type": "stream",
     "text": [
      "              precision    recall  f1-score   support\n",
      "\n",
      "    negative       0.87      0.50      0.64     48293\n",
      "    positive       0.17      0.58      0.26      8416\n",
      "\n",
      "    accuracy                           0.51     56709\n",
      "   macro avg       0.52      0.54      0.45     56709\n",
      "weighted avg       0.77      0.51      0.58     56709\n",
      "\n"
     ]
    }
   ],
   "source": [
    "cool_token = '!'\n",
    "pred = ['positive' if cool_token in tweet else 'negative' for tweet in x_test]\n",
    "print(classification_report(pred, y_test))"
   ]
  },
  {
   "cell_type": "markdown",
   "metadata": {
    "id": "qFNtq-pbDxIh"
   },
   "source": [
    "Токены - знаки пунктуации также становятся наиболее частотными токенами, но они не всегда могут поспособствовать улучшению результата модели из-за их частого использования в письменной речи"
   ]
  },
  {
   "cell_type": "markdown",
   "metadata": {
    "id": "H5THCOjMLVSg"
   },
   "source": [
    "**Теперь в качестве фичей используем, например, униграммы символов:**"
   ]
  },
  {
   "cell_type": "code",
   "execution_count": 29,
   "metadata": {
    "colab": {
     "base_uri": "https://localhost:8080/"
    },
    "id": "AIUwDOabLVSh",
    "outputId": "09c49bf4-566f-48f3-c244-0aa67a98f6e0"
   },
   "outputs": [
    {
     "name": "stdout",
     "output_type": "stream",
     "text": [
      "              precision    recall  f1-score   support\n",
      "\n",
      "    negative       0.99      1.00      1.00     27659\n",
      "    positive       1.00      0.99      1.00     29050\n",
      "\n",
      "    accuracy                           1.00     56709\n",
      "   macro avg       1.00      1.00      1.00     56709\n",
      "weighted avg       1.00      1.00      1.00     56709\n",
      "\n"
     ]
    }
   ],
   "source": [
    "vec = CountVectorizer(analyzer='char', ngram_range=(1, 1))\n",
    "x_train_bow = vec.fit_transform(x_train)\n",
    "clf = LogisticRegression(random_state=42)\n",
    "clf.fit(x_train_bow, y_train)\n",
    "pred = clf.predict(vec.transform(x_test))\n",
    "print(classification_report(pred, y_test))"
   ]
  },
  {
   "cell_type": "markdown",
   "metadata": {
    "id": "Z_E0uPpgLVSj"
   },
   "source": [
    "Мы можем обучаться на униграммах, но в данной задаче это не лучшая идея. Такой подход отлично подойдет к такому типу задач, как, например, определение языка."
   ]
  },
  {
   "cell_type": "markdown",
   "metadata": {
    "id": "Qt2BZuGsDxIi"
   },
   "source": [
    "### Задание 3.  \n",
    "  \n",
    "**1) сравнить count/tf-idf/hashing векторайзеры/полносвязанную сетку (построить classification_report)**"
   ]
  },
  {
   "cell_type": "code",
   "execution_count": 31,
   "metadata": {
    "colab": {
     "base_uri": "https://localhost:8080/"
    },
    "id": "7wfV9YkWDxIi",
    "outputId": "5b8889ff-90e9-4f15-a6ad-9d64ce88b614"
   },
   "outputs": [
    {
     "name": "stdout",
     "output_type": "stream",
     "text": [
      "[nltk_data] Downloading package stopwords to /root/nltk_data...\n",
      "[nltk_data]   Unzipping corpora/stopwords.zip.\n"
     ]
    }
   ],
   "source": [
    "# обновим функцию подготовки (токенизации) теста . Будем убирать и стоп-слова, и пунктуацию,\n",
    "# и делать лемматизацию\n",
    "\n",
    "import nltk\n",
    "nltk.download('stopwords')\n",
    "\n",
    "noise = stopwords.words('russian') + list(punctuation)\n",
    "\n",
    "def text_preparation(text):\n",
    "#     tokens = word_tokenize(text)\n",
    "#     lemmatized_tokens = [pymorphy2_analyzer.parse(token)[0].normal_form for token in tokens]\n",
    "    return [t for t in [pymorphy2_analyzer.parse(token)[0].normal_form \n",
    "                                for token in word_tokenize(text)] if t not in noise]"
   ]
  },
  {
   "cell_type": "code",
   "execution_count": 32,
   "metadata": {
    "colab": {
     "base_uri": "https://localhost:8080/"
    },
    "id": "dXmVuD5uDxIi",
    "outputId": "2bd4b7a9-f34e-4242-dd62-22b8131cfb6c"
   },
   "outputs": [
    {
     "data": {
      "text/plain": [
       "['ребёнок', 'бегать', 'хотеть']"
      ]
     },
     "execution_count": 32,
     "metadata": {},
     "output_type": "execute_result"
    }
   ],
   "source": [
    "# Пример использования\n",
    "stroka = 'Дети бегают, потому что хотят'\n",
    "text_preparation(stroka)"
   ]
  },
  {
   "cell_type": "code",
   "execution_count": 43,
   "metadata": {
    "colab": {
     "base_uri": "https://localhost:8080/"
    },
    "id": "YxH60aEgDxIj",
    "outputId": "d52cf570-9ba6-40bc-91c8-0bb33cf7e426"
   },
   "outputs": [
    {
     "name": "stdout",
     "output_type": "stream",
     "text": [
      "              precision    recall  f1-score   support\n",
      "\n",
      "    negative       0.80      0.75      0.77     29301\n",
      "    positive       0.75      0.79      0.77     27408\n",
      "\n",
      "    accuracy                           0.77     56709\n",
      "   macro avg       0.77      0.77      0.77     56709\n",
      "weighted avg       0.77      0.77      0.77     56709\n",
      "\n"
     ]
    }
   ],
   "source": [
    "# CountVectorizer\n",
    "\n",
    "c_vec = CountVectorizer(ngram_range=(1, 1), tokenizer = text_preparation)\n",
    "\n",
    "x_train_bow = c_vec.fit_transform(x_train)\n",
    "clf = LogisticRegression(random_state=42)\n",
    "clf.fit(x_train_bow, y_train)\n",
    "pred = clf.predict(c_vec.transform(x_test))\n",
    "print(classification_report(pred, y_test))"
   ]
  },
  {
   "cell_type": "code",
   "execution_count": 44,
   "metadata": {
    "colab": {
     "base_uri": "https://localhost:8080/"
    },
    "id": "A3UnowFNDxIj",
    "outputId": "c6bdbd8a-0f39-4e70-a3d9-9a80a32cf9e9"
   },
   "outputs": [
    {
     "name": "stdout",
     "output_type": "stream",
     "text": [
      "              precision    recall  f1-score   support\n",
      "\n",
      "    negative       0.76      0.76      0.76     27780\n",
      "    positive       0.77      0.77      0.77     28929\n",
      "\n",
      "    accuracy                           0.77     56709\n",
      "   macro avg       0.77      0.77      0.77     56709\n",
      "weighted avg       0.77      0.77      0.77     56709\n",
      "\n"
     ]
    }
   ],
   "source": [
    "# TfidfVectorizer\n",
    "\n",
    "tfidf_vec = TfidfVectorizer(ngram_range=(1, 1), tokenizer = text_preparation)\n",
    "x_train_bow = tfidf_vec.fit_transform(x_train)\n",
    "clf = LogisticRegression(random_state=42)\n",
    "clf.fit(x_train_bow, y_train)\n",
    "pred = clf.predict(tfidf_vec.transform(x_test))\n",
    "print(classification_report(pred, y_test))"
   ]
  },
  {
   "cell_type": "code",
   "execution_count": 45,
   "metadata": {
    "colab": {
     "base_uri": "https://localhost:8080/"
    },
    "id": "8CmEohbsDxIk",
    "outputId": "eb22a5b0-1e97-406b-810c-0602eff262f4"
   },
   "outputs": [
    {
     "name": "stdout",
     "output_type": "stream",
     "text": [
      "              precision    recall  f1-score   support\n",
      "\n",
      "    negative       0.63      0.59      0.61     29686\n",
      "    positive       0.58      0.62      0.60     27023\n",
      "\n",
      "    accuracy                           0.60     56709\n",
      "   macro avg       0.61      0.61      0.60     56709\n",
      "weighted avg       0.61      0.60      0.61     56709\n",
      "\n"
     ]
    }
   ],
   "source": [
    "# HashingVectorizer\n",
    "\n",
    "h_vec = HashingVectorizer(n_features = 80, tokenizer = text_preparation)\n",
    "x_train_bow = h_vec.fit_transform(x_train)\n",
    "clf = LogisticRegression(random_state=42)\n",
    "clf.fit(x_train_bow, y_train)\n",
    "pred = clf.predict(h_vec.transform(x_test))\n",
    "print(classification_report(pred, y_test))"
   ]
  },
  {
   "cell_type": "code",
   "execution_count": 53,
   "metadata": {
    "id": "pRMBq9w6DxIk"
   },
   "outputs": [],
   "source": [
    "# Полносвязная нейронная сеть\n",
    "\n",
    "# labelEncode целевую переменную\n",
    "encoder = LabelEncoder()\n",
    "y_train = encoder.fit_transform(y_train)\n",
    "y_test = encoder.fit_transform(y_test)\n",
    "\n",
    "# Создадим Датасет tensorflow\n",
    "train_data = tf.data.Dataset.from_tensor_slices((x_train, y_train))\n",
    "valid_data = tf.data.Dataset.from_tensor_slices((x_test, y_test))\n",
    "\n",
    "#Выделим batch-и\n",
    "train_data = train_data.batch(16)\n",
    "valid_data = valid_data.batch(16)\n",
    "\n",
    "AUTOTUNE = tf.data.AUTOTUNE\n",
    "\n",
    "train_data = train_data.cache().prefetch(buffer_size=AUTOTUNE)\n",
    "valid_data = valid_data.cache().prefetch(buffer_size=AUTOTUNE)"
   ]
  },
  {
   "cell_type": "code",
   "execution_count": 58,
   "metadata": {
    "id": "0edn-xikDxIk"
   },
   "outputs": [],
   "source": [
    "vocab_size = 10000\n",
    "seq_len = 100\n",
    "\n",
    "def custom_standardization(input_data):\n",
    "    return input_data\n",
    "\n",
    "\n",
    "vectorize_layer = TextVectorization(  \n",
    "    standardize = custom_standardization,\n",
    "    max_tokens=vocab_size,\n",
    "    output_mode='int',\n",
    "    output_sequence_length=seq_len)\n",
    "\n",
    "\n",
    "# Make a text-only dataset (no labels) and call adapt to build the vocabulary.\n",
    "text_data = train_data.map(lambda x, y: x)\n",
    "vectorize_layer.adapt(text_data)"
   ]
  },
  {
   "cell_type": "code",
   "execution_count": 64,
   "metadata": {
    "id": "yMXyOT8nDxIk"
   },
   "outputs": [],
   "source": [
    "embedding_dim=200\n",
    "\n",
    "class myNet(tf.keras.Model):\n",
    "    def __init__(self):\n",
    "        super(myNet, self).__init__()\n",
    "        self.emb = Embedding(vocab_size, embedding_dim, name=\"embedding\")\n",
    "        self.conv1 = Conv1D(200, (3))\n",
    "        self.conv2 = Conv1D(200, (3))\n",
    "        self.gPool = GlobalAveragePooling1D()\n",
    "        self.fc1 = Dense(100, activation='relu')\n",
    "        self.fc2 = Dense(1)\n",
    "\n",
    "\n",
    "    def call(self, x):\n",
    "        x = vectorize_layer(x)\n",
    "        x = self.emb(x)\n",
    "        x1 = self.conv1(x)\n",
    "        x = self.conv2(x)\n",
    "        x = self.gPool((x + x1)/2)\n",
    "        x = self.fc1(x)\n",
    "        return self.fc2(x)"
   ]
  },
  {
   "cell_type": "code",
   "execution_count": 69,
   "metadata": {
    "id": "MHJ8MIr8DxIk"
   },
   "outputs": [],
   "source": [
    "model = myNet()"
   ]
  },
  {
   "cell_type": "code",
   "execution_count": 70,
   "metadata": {
    "id": "w6w_mJefDxIl"
   },
   "outputs": [],
   "source": [
    "model.compile(optimizer='adam',\n",
    "              loss=tf.keras.losses.BinaryCrossentropy(from_logits=True),\n",
    "              metrics=['accuracy'])"
   ]
  },
  {
   "cell_type": "code",
   "execution_count": 71,
   "metadata": {
    "colab": {
     "base_uri": "https://localhost:8080/"
    },
    "id": "dr11QoVoDxIl",
    "outputId": "99ab10d8-058f-4687-db08-598579587bb8"
   },
   "outputs": [
    {
     "name": "stdout",
     "output_type": "stream",
     "text": [
      "Epoch 1/7\n",
      "10633/10633 [==============================] - 69s 6ms/step - loss: 0.3889 - accuracy: 0.7763 - val_loss: 0.3504 - val_accuracy: 0.7853\n",
      "Epoch 2/7\n",
      "10633/10633 [==============================] - 66s 6ms/step - loss: 0.3268 - accuracy: 0.8187 - val_loss: 0.3489 - val_accuracy: 0.7941\n",
      "Epoch 3/7\n",
      "10633/10633 [==============================] - 66s 6ms/step - loss: 0.3053 - accuracy: 0.8321 - val_loss: 0.3594 - val_accuracy: 0.8028\n",
      "Epoch 4/7\n",
      "10633/10633 [==============================] - 66s 6ms/step - loss: 0.2851 - accuracy: 0.8452 - val_loss: 0.3948 - val_accuracy: 0.7914\n",
      "Epoch 5/7\n",
      "10633/10633 [==============================] - 66s 6ms/step - loss: 0.2618 - accuracy: 0.8618 - val_loss: 0.4714 - val_accuracy: 0.7899\n",
      "Epoch 6/7\n",
      "10633/10633 [==============================] - 66s 6ms/step - loss: 0.2385 - accuracy: 0.8764 - val_loss: 0.4681 - val_accuracy: 0.8085\n",
      "Epoch 7/7\n",
      "10633/10633 [==============================] - 66s 6ms/step - loss: 0.2195 - accuracy: 0.8884 - val_loss: 0.5374 - val_accuracy: 0.8083\n"
     ]
    },
    {
     "data": {
      "text/plain": [
       "<keras.callbacks.History at 0x7faf63259650>"
      ]
     },
     "execution_count": 71,
     "metadata": {},
     "output_type": "execute_result"
    }
   ],
   "source": [
    "model.fit(train_data, validation_data=valid_data, epochs=7)"
   ]
  },
  {
   "cell_type": "markdown",
   "metadata": {
    "id": "LOjOnhkHiMG4"
   },
   "source": [
    "Видно стабильное увеличение метрики от эпохи к эпохе, переобучение не наблюдается"
   ]
  },
  {
   "cell_type": "markdown",
   "metadata": {
    "id": "jjronWajDxIl"
   },
   "source": [
    "**2) подобрать оптимальный размер для hashing векторайзера**"
   ]
  },
  {
   "cell_type": "code",
   "execution_count": 76,
   "metadata": {
    "colab": {
     "base_uri": "https://localhost:8080/",
     "height": 235
    },
    "id": "wSosu6HDDxIm",
    "outputId": "0c70d17d-98f6-4a02-a799-ba8e04abd803"
   },
   "outputs": [
    {
     "data": {
      "text/html": [
       "\n",
       "  <div id=\"df-03d088ba-3ecb-43c2-967e-5a4d2380edd7\">\n",
       "    <div class=\"colab-df-container\">\n",
       "      <div>\n",
       "<style scoped>\n",
       "    .dataframe tbody tr th:only-of-type {\n",
       "        vertical-align: middle;\n",
       "    }\n",
       "\n",
       "    .dataframe tbody tr th {\n",
       "        vertical-align: top;\n",
       "    }\n",
       "\n",
       "    .dataframe thead th {\n",
       "        text-align: right;\n",
       "    }\n",
       "</style>\n",
       "<table border=\"1\" class=\"dataframe\">\n",
       "  <thead>\n",
       "    <tr style=\"text-align: right;\">\n",
       "      <th></th>\n",
       "      <th>n_features</th>\n",
       "      <th>f1_score_train</th>\n",
       "      <th>f1_score_test</th>\n",
       "    </tr>\n",
       "  </thead>\n",
       "  <tbody>\n",
       "    <tr>\n",
       "      <th>5</th>\n",
       "      <td>5000.0</td>\n",
       "      <td>0.730336</td>\n",
       "      <td>0.708382</td>\n",
       "    </tr>\n",
       "    <tr>\n",
       "      <th>4</th>\n",
       "      <td>2000.0</td>\n",
       "      <td>0.690595</td>\n",
       "      <td>0.677867</td>\n",
       "    </tr>\n",
       "    <tr>\n",
       "      <th>3</th>\n",
       "      <td>1000.0</td>\n",
       "      <td>0.661447</td>\n",
       "      <td>0.656905</td>\n",
       "    </tr>\n",
       "    <tr>\n",
       "      <th>2</th>\n",
       "      <td>500.0</td>\n",
       "      <td>0.639636</td>\n",
       "      <td>0.635131</td>\n",
       "    </tr>\n",
       "    <tr>\n",
       "      <th>1</th>\n",
       "      <td>200.0</td>\n",
       "      <td>0.610663</td>\n",
       "      <td>0.612138</td>\n",
       "    </tr>\n",
       "    <tr>\n",
       "      <th>0</th>\n",
       "      <td>100.0</td>\n",
       "      <td>0.594628</td>\n",
       "      <td>0.596319</td>\n",
       "    </tr>\n",
       "  </tbody>\n",
       "</table>\n",
       "</div>\n",
       "      <button class=\"colab-df-convert\" onclick=\"convertToInteractive('df-03d088ba-3ecb-43c2-967e-5a4d2380edd7')\"\n",
       "              title=\"Convert this dataframe to an interactive table.\"\n",
       "              style=\"display:none;\">\n",
       "        \n",
       "  <svg xmlns=\"http://www.w3.org/2000/svg\" height=\"24px\"viewBox=\"0 0 24 24\"\n",
       "       width=\"24px\">\n",
       "    <path d=\"M0 0h24v24H0V0z\" fill=\"none\"/>\n",
       "    <path d=\"M18.56 5.44l.94 2.06.94-2.06 2.06-.94-2.06-.94-.94-2.06-.94 2.06-2.06.94zm-11 1L8.5 8.5l.94-2.06 2.06-.94-2.06-.94L8.5 2.5l-.94 2.06-2.06.94zm10 10l.94 2.06.94-2.06 2.06-.94-2.06-.94-.94-2.06-.94 2.06-2.06.94z\"/><path d=\"M17.41 7.96l-1.37-1.37c-.4-.4-.92-.59-1.43-.59-.52 0-1.04.2-1.43.59L10.3 9.45l-7.72 7.72c-.78.78-.78 2.05 0 2.83L4 21.41c.39.39.9.59 1.41.59.51 0 1.02-.2 1.41-.59l7.78-7.78 2.81-2.81c.8-.78.8-2.07 0-2.86zM5.41 20L4 18.59l7.72-7.72 1.47 1.35L5.41 20z\"/>\n",
       "  </svg>\n",
       "      </button>\n",
       "      \n",
       "  <style>\n",
       "    .colab-df-container {\n",
       "      display:flex;\n",
       "      flex-wrap:wrap;\n",
       "      gap: 12px;\n",
       "    }\n",
       "\n",
       "    .colab-df-convert {\n",
       "      background-color: #E8F0FE;\n",
       "      border: none;\n",
       "      border-radius: 50%;\n",
       "      cursor: pointer;\n",
       "      display: none;\n",
       "      fill: #1967D2;\n",
       "      height: 32px;\n",
       "      padding: 0 0 0 0;\n",
       "      width: 32px;\n",
       "    }\n",
       "\n",
       "    .colab-df-convert:hover {\n",
       "      background-color: #E2EBFA;\n",
       "      box-shadow: 0px 1px 2px rgba(60, 64, 67, 0.3), 0px 1px 3px 1px rgba(60, 64, 67, 0.15);\n",
       "      fill: #174EA6;\n",
       "    }\n",
       "\n",
       "    [theme=dark] .colab-df-convert {\n",
       "      background-color: #3B4455;\n",
       "      fill: #D2E3FC;\n",
       "    }\n",
       "\n",
       "    [theme=dark] .colab-df-convert:hover {\n",
       "      background-color: #434B5C;\n",
       "      box-shadow: 0px 1px 3px 1px rgba(0, 0, 0, 0.15);\n",
       "      filter: drop-shadow(0px 1px 2px rgba(0, 0, 0, 0.3));\n",
       "      fill: #FFFFFF;\n",
       "    }\n",
       "  </style>\n",
       "\n",
       "      <script>\n",
       "        const buttonEl =\n",
       "          document.querySelector('#df-03d088ba-3ecb-43c2-967e-5a4d2380edd7 button.colab-df-convert');\n",
       "        buttonEl.style.display =\n",
       "          google.colab.kernel.accessAllowed ? 'block' : 'none';\n",
       "\n",
       "        async function convertToInteractive(key) {\n",
       "          const element = document.querySelector('#df-03d088ba-3ecb-43c2-967e-5a4d2380edd7');\n",
       "          const dataTable =\n",
       "            await google.colab.kernel.invokeFunction('convertToInteractive',\n",
       "                                                     [key], {});\n",
       "          if (!dataTable) return;\n",
       "\n",
       "          const docLinkHtml = 'Like what you see? Visit the ' +\n",
       "            '<a target=\"_blank\" href=https://colab.research.google.com/notebooks/data_table.ipynb>data table notebook</a>'\n",
       "            + ' to learn more about interactive tables.';\n",
       "          element.innerHTML = '';\n",
       "          dataTable['output_type'] = 'display_data';\n",
       "          await google.colab.output.renderOutput(dataTable, element);\n",
       "          const docLink = document.createElement('div');\n",
       "          docLink.innerHTML = docLinkHtml;\n",
       "          element.appendChild(docLink);\n",
       "        }\n",
       "      </script>\n",
       "    </div>\n",
       "  </div>\n",
       "  "
      ],
      "text/plain": [
       "   n_features  f1_score_train  f1_score_test\n",
       "5      5000.0        0.730336       0.708382\n",
       "4      2000.0        0.690595       0.677867\n",
       "3      1000.0        0.661447       0.656905\n",
       "2       500.0        0.639636       0.635131\n",
       "1       200.0        0.610663       0.612138\n",
       "0       100.0        0.594628       0.596319"
      ]
     },
     "execution_count": 76,
     "metadata": {},
     "output_type": "execute_result"
    }
   ],
   "source": [
    "result = pd.DataFrame(columns=['n_features', 'f1_score_train', 'f1_score_test'])\n",
    "    \n",
    "for i in [100, 200, 500, 1000, 2000, 5000]:\n",
    "    vec = HashingVectorizer(n_features=i, tokenizer=word_tokenize,\n",
    "                      stop_words=noise)\n",
    "    x_train_bow = vec.fit_transform(x_train)\n",
    "    clf.fit(x_train_bow, y_train)\n",
    "    pred_train = clf.predict(x_train_bow)\n",
    "    pred_test = clf.predict(vec.transform(x_test))\n",
    "\n",
    "    f1_train = f1_score(y_train, pred_train)\n",
    "    f1_test = f1_score(y_test, pred_test)\n",
    "    result = result.append({'n_features': i, 'f1_score_train': f1_train, 'f1_score_test': f1_test}, ignore_index=True)\n",
    "\n",
    "result.sort_values(by=['f1_score_train'], ascending=False)"
   ]
  },
  {
   "cell_type": "markdown",
   "metadata": {
    "id": "sbB4XQJTo6cv"
   },
   "source": [
    "F1 score увеличивается пропорционально росту количества признаков в HashingVectorizer, то есть в данном случае лучшим будет 5000 признаков"
   ]
  }
 ],
 "metadata": {
  "accelerator": "GPU",
  "colab": {
   "collapsed_sections": [
    "gJABxhalLVQu",
    "IaQMCGHFLVQ6",
    "5AJk1B39LVRP",
    "RJlvqWuALVRs",
    "rck5OVqhLVSA",
    "mV3fmzp-LVSU",
    "H5THCOjMLVSg",
    "02s2Vh7MLVSj",
    "b1khxRFDLVSm",
    "sfUmWcAQLVSt",
    "BxvtN-3zLVS5",
    "gyrHhYkgLVTB"
   ],
   "name": "hw2.ipynb",
   "provenance": []
  },
  "kernelspec": {
   "display_name": "Python 3",
   "language": "python",
   "name": "python3"
  },
  "language_info": {
   "codemirror_mode": {
    "name": "ipython",
    "version": 3
   },
   "file_extension": ".py",
   "mimetype": "text/x-python",
   "name": "python",
   "nbconvert_exporter": "python",
   "pygments_lexer": "ipython3",
   "version": "3.9.2"
  }
 },
 "nbformat": 4,
 "nbformat_minor": 1
}
