{
  "nbformat": 4,
  "nbformat_minor": 0,
  "metadata": {
    "colab": {
      "name": "web8_hw.ipynb",
      "provenance": [],
      "collapsed_sections": []
    },
    "kernelspec": {
      "name": "python3",
      "display_name": "Python 3"
    },
    "language_info": {
      "name": "python"
    },
    "gpuClass": "standard"
  },
  "cells": [
    {
      "cell_type": "markdown",
      "source": [
        "# Домашнее задание к вебинару 8\n",
        "Задание  \n",
        "Взять берем отызывы за лето  \n",
        "Выяснить какая архитектура больше подходит для нашей задачи \n",
        "1. построить свёрточные архитектуры \n",
        "2. построить различные архитектуры с RNN\n",
        "3. построить совместные архитектуры CNN -> RNN или (RNN -> CNN)"
      ],
      "metadata": {
        "id": "Rh6eJjaP5yp6"
      }
    },
    {
      "cell_type": "code",
      "execution_count": 153,
      "metadata": {
        "id": "tQv4DLQg4dvD"
      },
      "outputs": [],
      "source": [
        "import pandas as pd\n",
        "from sklearn.model_selection import train_test_split\n",
        "\n",
        "from string import punctuation\n",
        "from stop_words import get_stop_words\n",
        "from pymorphy2 import MorphAnalyzer\n",
        "import re\n",
        "from keras.preprocessing.text import Tokenizer\n",
        "from keras.preprocessing.sequence import pad_sequences\n",
        "from sklearn.preprocessing import LabelEncoder\n",
        "import tensorflow as tf\n",
        "\n",
        "from keras.losses import SparseCategoricalCrossentropy\n",
        "from keras.models import Sequential, Model\n",
        "from keras.layers import Dense, Dropout, Activation, Input, Embedding, Conv1D, GlobalMaxPool1D, MaxPool1D, SimpleRNN, LSTM, GRU, Masking, Flatten\n",
        "from keras.callbacks import TensorBoard \n",
        "from keras.callbacks import EarlyStopping \n",
        "from tensorflow.keras.utils import to_categorical"
      ]
    },
    {
      "cell_type": "markdown",
      "source": [
        "**Загрузка и предобработка данных**.  \n",
        "Заранее перевела данные в формат csv"
      ],
      "metadata": {
        "id": "No2tPP-18Oru"
      }
    },
    {
      "cell_type": "code",
      "source": [
        "df = pd.read_csv('/content/отзывы за лето.csv')\n",
        "df.drop('Unnamed: 0', axis = 1, inplace = True)\n",
        "df.head(2)"
      ],
      "metadata": {
        "colab": {
          "base_uri": "https://localhost:8080/",
          "height": 111
        },
        "id": "uqBy9_P450HD",
        "outputId": "be8e611e-f952-4c50-e6fd-3da317518ee5"
      },
      "execution_count": 6,
      "outputs": [
        {
          "output_type": "execute_result",
          "data": {
            "text/plain": [
              "   Rating                                            Content        Date\n",
              "0       5                                     It just works!  2017-08-14\n",
              "1       4  В целом удобноное приложение...из минусов хотя...  2017-08-14"
            ],
            "text/html": [
              "\n",
              "  <div id=\"df-42029776-6db1-4766-ad50-2d012c1544f7\">\n",
              "    <div class=\"colab-df-container\">\n",
              "      <div>\n",
              "<style scoped>\n",
              "    .dataframe tbody tr th:only-of-type {\n",
              "        vertical-align: middle;\n",
              "    }\n",
              "\n",
              "    .dataframe tbody tr th {\n",
              "        vertical-align: top;\n",
              "    }\n",
              "\n",
              "    .dataframe thead th {\n",
              "        text-align: right;\n",
              "    }\n",
              "</style>\n",
              "<table border=\"1\" class=\"dataframe\">\n",
              "  <thead>\n",
              "    <tr style=\"text-align: right;\">\n",
              "      <th></th>\n",
              "      <th>Rating</th>\n",
              "      <th>Content</th>\n",
              "      <th>Date</th>\n",
              "    </tr>\n",
              "  </thead>\n",
              "  <tbody>\n",
              "    <tr>\n",
              "      <th>0</th>\n",
              "      <td>5</td>\n",
              "      <td>It just works!</td>\n",
              "      <td>2017-08-14</td>\n",
              "    </tr>\n",
              "    <tr>\n",
              "      <th>1</th>\n",
              "      <td>4</td>\n",
              "      <td>В целом удобноное приложение...из минусов хотя...</td>\n",
              "      <td>2017-08-14</td>\n",
              "    </tr>\n",
              "  </tbody>\n",
              "</table>\n",
              "</div>\n",
              "      <button class=\"colab-df-convert\" onclick=\"convertToInteractive('df-42029776-6db1-4766-ad50-2d012c1544f7')\"\n",
              "              title=\"Convert this dataframe to an interactive table.\"\n",
              "              style=\"display:none;\">\n",
              "        \n",
              "  <svg xmlns=\"http://www.w3.org/2000/svg\" height=\"24px\"viewBox=\"0 0 24 24\"\n",
              "       width=\"24px\">\n",
              "    <path d=\"M0 0h24v24H0V0z\" fill=\"none\"/>\n",
              "    <path d=\"M18.56 5.44l.94 2.06.94-2.06 2.06-.94-2.06-.94-.94-2.06-.94 2.06-2.06.94zm-11 1L8.5 8.5l.94-2.06 2.06-.94-2.06-.94L8.5 2.5l-.94 2.06-2.06.94zm10 10l.94 2.06.94-2.06 2.06-.94-2.06-.94-.94-2.06-.94 2.06-2.06.94z\"/><path d=\"M17.41 7.96l-1.37-1.37c-.4-.4-.92-.59-1.43-.59-.52 0-1.04.2-1.43.59L10.3 9.45l-7.72 7.72c-.78.78-.78 2.05 0 2.83L4 21.41c.39.39.9.59 1.41.59.51 0 1.02-.2 1.41-.59l7.78-7.78 2.81-2.81c.8-.78.8-2.07 0-2.86zM5.41 20L4 18.59l7.72-7.72 1.47 1.35L5.41 20z\"/>\n",
              "  </svg>\n",
              "      </button>\n",
              "      \n",
              "  <style>\n",
              "    .colab-df-container {\n",
              "      display:flex;\n",
              "      flex-wrap:wrap;\n",
              "      gap: 12px;\n",
              "    }\n",
              "\n",
              "    .colab-df-convert {\n",
              "      background-color: #E8F0FE;\n",
              "      border: none;\n",
              "      border-radius: 50%;\n",
              "      cursor: pointer;\n",
              "      display: none;\n",
              "      fill: #1967D2;\n",
              "      height: 32px;\n",
              "      padding: 0 0 0 0;\n",
              "      width: 32px;\n",
              "    }\n",
              "\n",
              "    .colab-df-convert:hover {\n",
              "      background-color: #E2EBFA;\n",
              "      box-shadow: 0px 1px 2px rgba(60, 64, 67, 0.3), 0px 1px 3px 1px rgba(60, 64, 67, 0.15);\n",
              "      fill: #174EA6;\n",
              "    }\n",
              "\n",
              "    [theme=dark] .colab-df-convert {\n",
              "      background-color: #3B4455;\n",
              "      fill: #D2E3FC;\n",
              "    }\n",
              "\n",
              "    [theme=dark] .colab-df-convert:hover {\n",
              "      background-color: #434B5C;\n",
              "      box-shadow: 0px 1px 3px 1px rgba(0, 0, 0, 0.15);\n",
              "      filter: drop-shadow(0px 1px 2px rgba(0, 0, 0, 0.3));\n",
              "      fill: #FFFFFF;\n",
              "    }\n",
              "  </style>\n",
              "\n",
              "      <script>\n",
              "        const buttonEl =\n",
              "          document.querySelector('#df-42029776-6db1-4766-ad50-2d012c1544f7 button.colab-df-convert');\n",
              "        buttonEl.style.display =\n",
              "          google.colab.kernel.accessAllowed ? 'block' : 'none';\n",
              "\n",
              "        async function convertToInteractive(key) {\n",
              "          const element = document.querySelector('#df-42029776-6db1-4766-ad50-2d012c1544f7');\n",
              "          const dataTable =\n",
              "            await google.colab.kernel.invokeFunction('convertToInteractive',\n",
              "                                                     [key], {});\n",
              "          if (!dataTable) return;\n",
              "\n",
              "          const docLinkHtml = 'Like what you see? Visit the ' +\n",
              "            '<a target=\"_blank\" href=https://colab.research.google.com/notebooks/data_table.ipynb>data table notebook</a>'\n",
              "            + ' to learn more about interactive tables.';\n",
              "          element.innerHTML = '';\n",
              "          dataTable['output_type'] = 'display_data';\n",
              "          await google.colab.output.renderOutput(dataTable, element);\n",
              "          const docLink = document.createElement('div');\n",
              "          docLink.innerHTML = docLinkHtml;\n",
              "          element.appendChild(docLink);\n",
              "        }\n",
              "      </script>\n",
              "    </div>\n",
              "  </div>\n",
              "  "
            ]
          },
          "metadata": {},
          "execution_count": 6
        }
      ]
    },
    {
      "cell_type": "code",
      "source": [
        "df_train, df_test = train_test_split(df, test_size=0.33, random_state=42)\n",
        "df_train = df_train.reset_index(drop=True)\n",
        "df_test = df_test.reset_index(drop=True)\n",
        "df_train.shape, df_test.shape"
      ],
      "metadata": {
        "colab": {
          "base_uri": "https://localhost:8080/"
        },
        "id": "Qp1CYXhC8UnO",
        "outputId": "3784156d-4d49-4f5a-e197-6575f8e03c97"
      },
      "execution_count": 7,
      "outputs": [
        {
          "output_type": "execute_result",
          "data": {
            "text/plain": [
              "((13841, 3), (6818, 3))"
            ]
          },
          "metadata": {},
          "execution_count": 7
        }
      ]
    },
    {
      "cell_type": "markdown",
      "source": [
        "**Предобработка данных**"
      ],
      "metadata": {
        "id": "s8V3NaVQ-5G2"
      }
    },
    {
      "cell_type": "code",
      "source": [
        "sw = set(get_stop_words(\"ru\"))\n",
        "exclude = set(punctuation)\n",
        "morpher = MorphAnalyzer()\n",
        "\n",
        "def preprocess_text(txt):\n",
        "    txt = str(txt)\n",
        "    txt = \"\".join(c for c in txt if c not in exclude)\n",
        "    txt = txt.lower()\n",
        "    txt = re.sub(\"\\sне\", \"не\", txt)\n",
        "    txt = [morpher.parse(word)[0].normal_form for word in txt.split() if word not in sw]\n",
        "    return \" \".join(txt)\n",
        "\n",
        "df_train['Content'] = df_train['Content'].apply(preprocess_text)\n",
        "df_test['Content'] = df_test['Content'].apply(preprocess_text)"
      ],
      "metadata": {
        "id": "AGAyGgE_97GE"
      },
      "execution_count": 8,
      "outputs": []
    },
    {
      "cell_type": "code",
      "source": [
        "text_corpus_train = df_train['Content'].values\n",
        "text_corpus_test = df_test['Content'].values"
      ],
      "metadata": {
        "id": "OqNCX3AxBWa9"
      },
      "execution_count": 9,
      "outputs": []
    },
    {
      "cell_type": "code",
      "source": [
        "len(text_corpus_train) == df_train['Content'].shape[0]"
      ],
      "metadata": {
        "colab": {
          "base_uri": "https://localhost:8080/"
        },
        "id": "MxxLFbPeJBLK",
        "outputId": "f94be05e-9a1e-4ef7-f95e-a88f140667fa"
      },
      "execution_count": 30,
      "outputs": [
        {
          "output_type": "execute_result",
          "data": {
            "text/plain": [
              "True"
            ]
          },
          "metadata": {},
          "execution_count": 30
        }
      ]
    },
    {
      "cell_type": "code",
      "source": [
        "len(text_corpus_train), text_corpus_train "
      ],
      "metadata": {
        "colab": {
          "base_uri": "https://localhost:8080/"
        },
        "id": "uQo8_LiBBWdb",
        "outputId": "d3e9ea94-186f-4438-8b3a-271b660470aa"
      },
      "execution_count": 10,
      "outputs": [
        {
          "output_type": "execute_result",
          "data": {
            "text/plain": [
              "(13841,\n",
              " array(['наконецтый исправить чушь снеоргинальный прошивка приложение удобно пользоваться',\n",
              "        'удобно использование', 'отлично', ...,\n",
              "        'мочь скачать ошибка номер 24', 'сбербанк', 'целое отлично'],\n",
              "       dtype=object))"
            ]
          },
          "metadata": {},
          "execution_count": 10
        }
      ]
    },
    {
      "cell_type": "code",
      "source": [
        "# Определяем токенайзер\n",
        "tokenizer = Tokenizer(num_words=None, \n",
        "                     filters='#$%&()*+-<=>@[\\\\]^_`{|}~\\t\\n',\n",
        "                     lower = False, split = ' ')\n",
        "# Обучаем токенайзер на тренировочном наборе данных - > получаем готовый словарь\n",
        "tokenizer.fit_on_texts(text_corpus_train)\n",
        "\n",
        "# Выводим словарь\n",
        "# tokenizer.index_word"
      ],
      "metadata": {
        "id": "1hTm7ZTzBWg5"
      },
      "execution_count": 23,
      "outputs": []
    },
    {
      "cell_type": "code",
      "source": [
        "# На основе полученного словаря токены переводятся в их id и сформировываем последовательности sequences\n",
        "\n",
        "sequences_train = tokenizer.texts_to_sequences(text_corpus_train)\n",
        "sequences_test = tokenizer.texts_to_sequences(text_corpus_test)"
      ],
      "metadata": {
        "id": "qi_VLZ9jIDrh"
      },
      "execution_count": 24,
      "outputs": []
    },
    {
      "cell_type": "code",
      "source": [
        "# всего слов в словаре\n",
        "word_count = len(tokenizer.index_word) + 1\n",
        "\n",
        "# находим максимальную длину будущей последовательности в тренировочном наборе отзывов\n",
        "training_length = max([len(i.split()) for i in text_corpus_train])\n",
        "\n",
        "word_count, training_length "
      ],
      "metadata": {
        "colab": {
          "base_uri": "https://localhost:8080/"
        },
        "id": "xSrBHEEIIDt_",
        "outputId": "1a8db1ab-879a-4830-f657-b5f60ffa6601"
      },
      "execution_count": 27,
      "outputs": [
        {
          "output_type": "execute_result",
          "data": {
            "text/plain": [
              "(10293, 113)"
            ]
          },
          "metadata": {},
          "execution_count": 27
        }
      ]
    },
    {
      "cell_type": "code",
      "source": [
        "X_train = pad_sequences(sequences_train, maxlen=training_length)\n",
        "X_test = pad_sequences(sequences_test, maxlen=training_length)"
      ],
      "metadata": {
        "id": "eakYuQuvID3U"
      },
      "execution_count": 83,
      "outputs": []
    },
    {
      "cell_type": "code",
      "source": [
        "X_train[5]"
      ],
      "metadata": {
        "colab": {
          "base_uri": "https://localhost:8080/"
        },
        "id": "Q_zKSxxiID6Z",
        "outputId": "93367e4e-dc1a-4214-8b7e-6c0c6d934b4a"
      },
      "execution_count": 32,
      "outputs": [
        {
          "output_type": "execute_result",
          "data": {
            "text/plain": [
              "array([  0,   0,   0,   0,   0,   0,   0,   0,   0,   0,   0,   0,   0,\n",
              "         0,   0,   0,   0,   0,   0,   0,   0,   0,   0,   0,   0,   0,\n",
              "         0,   0,   0,   0,   0,   0,   0,   0,   0,   0,   0,   0,   0,\n",
              "         0,   0,   0,   0,   0,   0,   0,   0,   0,   0,   0,   0,   0,\n",
              "         0,   0,   0,   0,   0,   0,   0,   0,   0,   0,   0,   0,   0,\n",
              "         0,   0,   0,   0,   0,   0,   0,   0,   0,   0,   0,   0,   0,\n",
              "         0,   0,   0,   0,   0,   0,   0,   0,   0,   0,   0,   0,   0,\n",
              "         0,   0,   0,   0,   0,   0,   0,   0,   0,   0,   0,   0,   0,\n",
              "         0,   0,   0,   0,   0,   0,   0, 127,   1], dtype=int32)"
            ]
          },
          "metadata": {},
          "execution_count": 32
        }
      ]
    },
    {
      "cell_type": "code",
      "source": [
        "# Преобразование значений y\n",
        "le = LabelEncoder()\n",
        "train_enc_labels = le.fit_transform(df_train['Rating']) \n",
        "test_enc_labels = le.transform(df_test['Rating'])\n",
        "le.classes_"
      ],
      "metadata": {
        "colab": {
          "base_uri": "https://localhost:8080/"
        },
        "id": "rmAv2wTLKGuP",
        "outputId": "99688a32-8b7d-4556-a40a-c69e63c5fef0"
      },
      "execution_count": 33,
      "outputs": [
        {
          "output_type": "execute_result",
          "data": {
            "text/plain": [
              "array([1, 2, 3, 4, 5])"
            ]
          },
          "metadata": {},
          "execution_count": 33
        }
      ]
    },
    {
      "cell_type": "code",
      "source": [
        "train_enc_labels"
      ],
      "metadata": {
        "colab": {
          "base_uri": "https://localhost:8080/"
        },
        "id": "SsXxRAVsKVP5",
        "outputId": "123735b6-7280-4222-9221-4b7fee7f36b4"
      },
      "execution_count": 37,
      "outputs": [
        {
          "output_type": "execute_result",
          "data": {
            "text/plain": [
              "array([4, 4, 4, ..., 0, 4, 4])"
            ]
          },
          "metadata": {},
          "execution_count": 37
        }
      ]
    },
    {
      "cell_type": "code",
      "source": [
        "num_classes = df_train['Rating'].nunique()\n",
        "y_train = to_categorical(train_enc_labels, num_classes)\n",
        "y_test = to_categorical(test_enc_labels, num_classes)"
      ],
      "metadata": {
        "id": "huWLgs-3KSpI"
      },
      "execution_count": 42,
      "outputs": []
    },
    {
      "cell_type": "code",
      "source": [
        "y_train.shape, y_train[3]"
      ],
      "metadata": {
        "colab": {
          "base_uri": "https://localhost:8080/"
        },
        "id": "O0OgB7arNiek",
        "outputId": "5dd7d035-a0e8-48f7-87e4-2384206b680b"
      },
      "execution_count": 48,
      "outputs": [
        {
          "output_type": "execute_result",
          "data": {
            "text/plain": [
              "((13841, 5), array([0., 0., 0., 0., 1.], dtype=float32))"
            ]
          },
          "metadata": {},
          "execution_count": 48
        }
      ]
    },
    {
      "cell_type": "markdown",
      "source": [
        "### 1. CNN (Сверточные нейронные сети)"
      ],
      "metadata": {
        "id": "y37j47Uc-7eo"
      }
    },
    {
      "cell_type": "code",
      "source": [
        "model = Sequential()\n",
        "model.add(Embedding(input_dim=word_count, output_dim=256, input_length=training_length)) \n",
        "                    #inputdim -- размер словаря, outputdim -- длина вектора, input_length -- длина входной последовательности\n",
        "                    #на вход: (батч, input_lenght), на выходе: (батч, input_lenght, output_dim)\n",
        "\n",
        "model.add(Conv1D(128, 3, padding = 'same'))\n",
        "                   #64 -- количество 1D-фильтров, длина фильтра -- 3\n",
        "                   #на выходе (количество объектов, 128 - длина нового эмбединга)\n",
        "\n",
        "model.add(MaxPool1D(2))  \n",
        "model.add(Activation(\"relu\"))\n",
        "\n",
        "\n",
        "model.add(Conv1D(256, 3, padding = 'same'))\n",
        "model.add(MaxPool1D(2))\n",
        "model.add(Activation(\"relu\"))\n",
        "                    #применяем функцию активации к выходу предыдущего слоя\n",
        "\n",
        "model.add(GlobalMaxPool1D())\n",
        "                    # в каждой свертке для каждого элемента эмбединга оставляем максимум - получаем один 128-м эмбеддинг\n",
        "\n",
        "model.add(Dense(128))\n",
        "               #128-количество выходов\n",
        "model.add(Activation(\"relu\"))\n",
        "model.add(Dense(64))\n",
        "model.add(Activation(\"relu\"))\n",
        "\n",
        "model.add(Dense(num_classes))\n",
        "                #num_classes = 5 -- количество выходов\n",
        "model.add(Activation('softmax'))\n",
        "                #преобразуем вектор в раcgределение вероятностей\n",
        "  \n",
        "model.summary()"
      ],
      "metadata": {
        "colab": {
          "base_uri": "https://localhost:8080/"
        },
        "id": "cOE0qGZB-_2d",
        "outputId": "79fc6625-0614-465a-d72d-da989188e5f2"
      },
      "execution_count": 200,
      "outputs": [
        {
          "output_type": "stream",
          "name": "stdout",
          "text": [
            "Model: \"sequential_63\"\n",
            "_________________________________________________________________\n",
            " Layer (type)                Output Shape              Param #   \n",
            "=================================================================\n",
            " embedding_46 (Embedding)    (None, 113, 256)          2635008   \n",
            "                                                                 \n",
            " conv1d_55 (Conv1D)          (None, 113, 128)          98432     \n",
            "                                                                 \n",
            " max_pooling1d_31 (MaxPoolin  (None, 56, 128)          0         \n",
            " g1D)                                                            \n",
            "                                                                 \n",
            " activation_81 (Activation)  (None, 56, 128)           0         \n",
            "                                                                 \n",
            " conv1d_56 (Conv1D)          (None, 56, 256)           98560     \n",
            "                                                                 \n",
            " max_pooling1d_32 (MaxPoolin  (None, 28, 256)          0         \n",
            " g1D)                                                            \n",
            "                                                                 \n",
            " activation_82 (Activation)  (None, 28, 256)           0         \n",
            "                                                                 \n",
            " global_max_pooling1d_26 (Gl  (None, 256)              0         \n",
            " obalMaxPooling1D)                                               \n",
            "                                                                 \n",
            " dense_105 (Dense)           (None, 128)               32896     \n",
            "                                                                 \n",
            " activation_83 (Activation)  (None, 128)               0         \n",
            "                                                                 \n",
            " dense_106 (Dense)           (None, 64)                8256      \n",
            "                                                                 \n",
            " activation_84 (Activation)  (None, 64)                0         \n",
            "                                                                 \n",
            " dense_107 (Dense)           (None, 5)                 325       \n",
            "                                                                 \n",
            " activation_85 (Activation)  (None, 5)                 0         \n",
            "                                                                 \n",
            "=================================================================\n",
            "Total params: 2,873,477\n",
            "Trainable params: 2,873,477\n",
            "Non-trainable params: 0\n",
            "_________________________________________________________________\n"
          ]
        }
      ]
    },
    {
      "cell_type": "code",
      "source": [
        "model.compile(loss='categorical_crossentropy', \n",
        "              optimizer='adam',\n",
        "              metrics=['accuracy'])"
      ],
      "metadata": {
        "id": "lgg9N54nNXsy"
      },
      "execution_count": 201,
      "outputs": []
    },
    {
      "cell_type": "code",
      "source": [
        "early_stopping=EarlyStopping(monitor='val_loss', patience = 1, mode = 'min')  \n",
        "\n",
        "\n",
        "history = model.fit(X_train, y_train,\n",
        "                    batch_size=256,\n",
        "                    epochs=10,\n",
        "                    verbose=1,\n",
        "                    validation_data = (X_test, y_test),\n",
        "                    callbacks=[early_stopping]\n",
        "                    )"
      ],
      "metadata": {
        "colab": {
          "base_uri": "https://localhost:8080/"
        },
        "id": "yP9oedU3OCCC",
        "outputId": "3bcfe402-ca69-42da-9715-4d0915f76d17"
      },
      "execution_count": 202,
      "outputs": [
        {
          "output_type": "stream",
          "name": "stdout",
          "text": [
            "Epoch 1/10\n",
            "55/55 [==============================] - 42s 742ms/step - loss: 0.9172 - accuracy: 0.7155 - val_loss: 0.6772 - val_accuracy: 0.7640\n",
            "Epoch 2/10\n",
            "55/55 [==============================] - 40s 735ms/step - loss: 0.6346 - accuracy: 0.7752 - val_loss: 0.6491 - val_accuracy: 0.7738\n",
            "Epoch 3/10\n",
            "55/55 [==============================] - 39s 716ms/step - loss: 0.5378 - accuracy: 0.8075 - val_loss: 0.6842 - val_accuracy: 0.7589\n"
          ]
        }
      ]
    },
    {
      "cell_type": "code",
      "source": [
        "cnn_score = model.evaluate(X_test, y_test, batch_size=256, verbose=1)\n",
        "print('\\n')\n",
        "print('Test score:', score[0])\n",
        "print('Test accuracy:', score[1])"
      ],
      "metadata": {
        "colab": {
          "base_uri": "https://localhost:8080/"
        },
        "id": "OadYrWB3OB_p",
        "outputId": "a059febf-53d9-4643-fc96-060d0880dcef"
      },
      "execution_count": 203,
      "outputs": [
        {
          "output_type": "stream",
          "name": "stdout",
          "text": [
            "27/27 [==============================] - 4s 144ms/step - loss: 0.6842 - accuracy: 0.7589\n",
            "\n",
            "\n",
            "Test score: 0.2265089601278305\n",
            "Test accuracy: 0.7692871689796448\n"
          ]
        }
      ]
    },
    {
      "cell_type": "markdown",
      "source": [
        "### 2. RNN (Рекуррентные нейронные сети)\n",
        "#### 2.1 Simple RNN"
      ],
      "metadata": {
        "id": "g9b8Y9-y_Eee"
      }
    },
    {
      "cell_type": "code",
      "source": [
        "model = Sequential()\n",
        "\n",
        "model.add(Embedding(input_dim=word_count,\n",
        "              input_length=training_length,\n",
        "              output_dim=30,\n",
        "              trainable=True,\n",
        "              mask_zero=True))\n",
        "model.add(Masking(mask_value=0.0))\n",
        "\n",
        "model.add(SimpleRNN(64))  #64 -- количество ячеек, размер выходного пространства - количество скрытых состояний на момент последнего эл-тв послед-сти\n",
        "model.add(Dense(64, activation='relu'))\n",
        "model.add(Dropout(0.5))\n",
        "model.add(Dense(num_classes, activation='softmax'))\n",
        "\n",
        "\n",
        "model.summary()"
      ],
      "metadata": {
        "colab": {
          "base_uri": "https://localhost:8080/"
        },
        "id": "lgjvn_q2_FNG",
        "outputId": "19a91906-1b80-47f7-ed6b-722ff2cf1a4f"
      },
      "execution_count": 204,
      "outputs": [
        {
          "output_type": "stream",
          "name": "stdout",
          "text": [
            "Model: \"sequential_64\"\n",
            "_________________________________________________________________\n",
            " Layer (type)                Output Shape              Param #   \n",
            "=================================================================\n",
            " embedding_47 (Embedding)    (None, 113, 30)           308790    \n",
            "                                                                 \n",
            " masking_31 (Masking)        (None, 113, 30)           0         \n",
            "                                                                 \n",
            " simple_rnn_13 (SimpleRNN)   (None, 64)                6080      \n",
            "                                                                 \n",
            " dense_108 (Dense)           (None, 64)                4160      \n",
            "                                                                 \n",
            " dropout_28 (Dropout)        (None, 64)                0         \n",
            "                                                                 \n",
            " dense_109 (Dense)           (None, 5)                 325       \n",
            "                                                                 \n",
            "=================================================================\n",
            "Total params: 319,355\n",
            "Trainable params: 319,355\n",
            "Non-trainable params: 0\n",
            "_________________________________________________________________\n"
          ]
        }
      ]
    },
    {
      "cell_type": "code",
      "source": [
        "%%time \n",
        "\n",
        "model.compile(\n",
        "    optimizer='adam', \n",
        "    loss='binary_crossentropy', \n",
        "    metrics=['accuracy'])\n",
        "\n",
        "history = model.fit(X_train, y_train,\n",
        "                    batch_size=512,\n",
        "                    epochs=10,\n",
        "                    verbose=1,\n",
        "                    validation_data = (X_test, y_test),\n",
        "                    callbacks = [early_stopping]\n",
        "                    )"
      ],
      "metadata": {
        "colab": {
          "base_uri": "https://localhost:8080/"
        },
        "id": "RYALPlzwWCka",
        "outputId": "180a5812-68f9-4b73-958a-488a3e743630"
      },
      "execution_count": 205,
      "outputs": [
        {
          "output_type": "stream",
          "name": "stdout",
          "text": [
            "Epoch 1/10\n",
            "28/28 [==============================] - 8s 250ms/step - loss: 0.4566 - accuracy: 0.5935 - val_loss: 0.3211 - val_accuracy: 0.7125\n",
            "Epoch 2/10\n",
            "28/28 [==============================] - 6s 211ms/step - loss: 0.3531 - accuracy: 0.6984 - val_loss: 0.3129 - val_accuracy: 0.7125\n",
            "Epoch 3/10\n",
            "28/28 [==============================] - 6s 206ms/step - loss: 0.3174 - accuracy: 0.7038 - val_loss: 0.2679 - val_accuracy: 0.7169\n",
            "Epoch 4/10\n",
            "28/28 [==============================] - 6s 207ms/step - loss: 0.2714 - accuracy: 0.7291 - val_loss: 0.2440 - val_accuracy: 0.7452\n",
            "Epoch 5/10\n",
            "28/28 [==============================] - 6s 209ms/step - loss: 0.2484 - accuracy: 0.7549 - val_loss: 0.2348 - val_accuracy: 0.7561\n",
            "Epoch 6/10\n",
            "28/28 [==============================] - 6s 208ms/step - loss: 0.2319 - accuracy: 0.7710 - val_loss: 0.2307 - val_accuracy: 0.7617\n",
            "Epoch 7/10\n",
            "28/28 [==============================] - 6s 209ms/step - loss: 0.2141 - accuracy: 0.7857 - val_loss: 0.2291 - val_accuracy: 0.7646\n",
            "Epoch 8/10\n",
            "28/28 [==============================] - 6s 208ms/step - loss: 0.1984 - accuracy: 0.8040 - val_loss: 0.2372 - val_accuracy: 0.7636\n",
            "CPU times: user 1min 20s, sys: 3.61 s, total: 1min 24s\n",
            "Wall time: 49.1 s\n"
          ]
        }
      ]
    },
    {
      "cell_type": "code",
      "source": [
        "srnn_score = model.evaluate(X_test, y_test, batch_size=512, verbose=1)\n",
        "print('\\n')\n",
        "print('Test score:', score[0])\n",
        "print('Test accuracy:', score[1])"
      ],
      "metadata": {
        "colab": {
          "base_uri": "https://localhost:8080/"
        },
        "id": "O2DtaDrEWCm3",
        "outputId": "5fa39a3d-cb99-4369-a6af-fd60243edf80"
      },
      "execution_count": 206,
      "outputs": [
        {
          "output_type": "stream",
          "name": "stdout",
          "text": [
            "14/14 [==============================] - 1s 60ms/step - loss: 0.2372 - accuracy: 0.7636\n",
            "\n",
            "\n",
            "Test score: 0.2265089601278305\n",
            "Test accuracy: 0.7692871689796448\n"
          ]
        }
      ]
    },
    {
      "cell_type": "markdown",
      "source": [
        "#### 2.2 LSTM (Long short term memory)"
      ],
      "metadata": {
        "id": "6zlifk6lbca7"
      }
    },
    {
      "cell_type": "code",
      "source": [
        "%%time \n",
        "\n",
        "model = Sequential()\n",
        "\n",
        "model.add(Embedding(input_dim=word_count,\n",
        "              input_length=training_length,\n",
        "              output_dim=30,\n",
        "              trainable=True,\n",
        "              mask_zero=True))\n",
        "model.add(Masking(mask_value=0.0))\n",
        "\n",
        "model.add(LSTM(64))  #64 -- количество ячеек, размер выходного пространства - количество скрытых состояний на момент последнего эл-тв послед-сти\n",
        "model.add(Dense(64, activation='relu'))\n",
        "model.add(Dropout(0.5))\n",
        "model.add(Dense(num_classes, activation='softmax'))\n",
        "\n",
        "\n",
        "model.compile(\n",
        "    optimizer='adam', \n",
        "    loss='binary_crossentropy', \n",
        "    metrics=['accuracy'])\n",
        "\n",
        "history = model.fit(X_train, y_train,\n",
        "                    batch_size=512,\n",
        "                    epochs=10,\n",
        "                    verbose=1,\n",
        "                    validation_data = (X_test, y_test),\n",
        "                    callbacks = [early_stopping]\n",
        "                    )"
      ],
      "metadata": {
        "colab": {
          "base_uri": "https://localhost:8080/"
        },
        "id": "zegBNTS5b-VD",
        "outputId": "7f113e16-bad5-419f-b9c7-2e4ac784d925"
      },
      "execution_count": 207,
      "outputs": [
        {
          "output_type": "stream",
          "name": "stdout",
          "text": [
            "Epoch 1/10\n",
            "28/28 [==============================] - 22s 637ms/step - loss: 0.5351 - accuracy: 0.6505 - val_loss: 0.3201 - val_accuracy: 0.7125\n",
            "Epoch 2/10\n",
            "28/28 [==============================] - 16s 583ms/step - loss: 0.3627 - accuracy: 0.6875 - val_loss: 0.3049 - val_accuracy: 0.7125\n",
            "Epoch 3/10\n",
            "28/28 [==============================] - 16s 589ms/step - loss: 0.3130 - accuracy: 0.7052 - val_loss: 0.2593 - val_accuracy: 0.7351\n",
            "Epoch 4/10\n",
            "28/28 [==============================] - 16s 588ms/step - loss: 0.2715 - accuracy: 0.7374 - val_loss: 0.2387 - val_accuracy: 0.7501\n",
            "Epoch 5/10\n",
            "28/28 [==============================] - 17s 592ms/step - loss: 0.2475 - accuracy: 0.7560 - val_loss: 0.2294 - val_accuracy: 0.7581\n",
            "Epoch 6/10\n",
            "28/28 [==============================] - 16s 591ms/step - loss: 0.2321 - accuracy: 0.7680 - val_loss: 0.2286 - val_accuracy: 0.7630\n",
            "Epoch 7/10\n",
            "28/28 [==============================] - 18s 627ms/step - loss: 0.2200 - accuracy: 0.7791 - val_loss: 0.2279 - val_accuracy: 0.7655\n",
            "Epoch 8/10\n",
            "28/28 [==============================] - 16s 588ms/step - loss: 0.2088 - accuracy: 0.7871 - val_loss: 0.2324 - val_accuracy: 0.7659\n",
            "CPU times: user 3min 43s, sys: 16.7 s, total: 4min\n",
            "Wall time: 2min 19s\n"
          ]
        }
      ]
    },
    {
      "cell_type": "code",
      "source": [
        "lstm_score = model.evaluate(X_test, y_test, batch_size=512, verbose=1)\n",
        "print('\\n')\n",
        "print('Test score:', score[0])\n",
        "print('Test accuracy:', score[1])"
      ],
      "metadata": {
        "colab": {
          "base_uri": "https://localhost:8080/"
        },
        "id": "YZo69eqlkP1A",
        "outputId": "c93f3d38-c8e4-4f2e-b4f4-7a263cc79de0"
      },
      "execution_count": 208,
      "outputs": [
        {
          "output_type": "stream",
          "name": "stdout",
          "text": [
            "14/14 [==============================] - 2s 170ms/step - loss: 0.2324 - accuracy: 0.7659\n",
            "\n",
            "\n",
            "Test score: 0.2265089601278305\n",
            "Test accuracy: 0.7692871689796448\n"
          ]
        }
      ]
    },
    {
      "cell_type": "markdown",
      "source": [
        "#### 2.3 GRU (Gated recurrent unit)"
      ],
      "metadata": {
        "id": "p3A0lvrRbcS6"
      }
    },
    {
      "cell_type": "code",
      "source": [
        "%%time \n",
        "\n",
        "model = Sequential()\n",
        "\n",
        "model.add(Embedding(input_dim=word_count,\n",
        "              input_length=training_length,\n",
        "              output_dim=30,\n",
        "              trainable=True,\n",
        "              mask_zero=True))\n",
        "model.add(Masking(mask_value=0.0))\n",
        "\n",
        "model.add(LSTM(64))  #64 -- количество ячеек, размер выходного пространства - количество скрытых состояний на момент последнего эл-тв послед-сти\n",
        "model.add(Dense(64, activation='relu'))\n",
        "model.add(Dropout(0.5))\n",
        "model.add(Dense(num_classes, activation='softmax'))\n",
        "\n",
        "\n",
        "model.compile(\n",
        "    optimizer='adam', \n",
        "    loss='binary_crossentropy', \n",
        "    metrics=['accuracy'])\n",
        "\n",
        "history = model.fit(X_train, y_train,\n",
        "                    batch_size=512,\n",
        "                    epochs=10,\n",
        "                    verbose=1,\n",
        "                    validation_data = (X_test, y_test),\n",
        "                    callbacks = [early_stopping]\n",
        "                    )"
      ],
      "metadata": {
        "colab": {
          "base_uri": "https://localhost:8080/"
        },
        "id": "slSNU2gnWCpD",
        "outputId": "f92a66e3-dff8-4665-88cc-9491cbfcc91e"
      },
      "execution_count": 209,
      "outputs": [
        {
          "output_type": "stream",
          "name": "stdout",
          "text": [
            "Epoch 1/10\n",
            "28/28 [==============================] - 22s 633ms/step - loss: 0.5403 - accuracy: 0.6110 - val_loss: 0.3196 - val_accuracy: 0.7125\n",
            "Epoch 2/10\n",
            "28/28 [==============================] - 16s 584ms/step - loss: 0.3607 - accuracy: 0.6947 - val_loss: 0.3133 - val_accuracy: 0.7125\n",
            "Epoch 3/10\n",
            "28/28 [==============================] - 16s 588ms/step - loss: 0.3268 - accuracy: 0.7013 - val_loss: 0.2774 - val_accuracy: 0.7130\n",
            "Epoch 4/10\n",
            "28/28 [==============================] - 16s 583ms/step - loss: 0.2938 - accuracy: 0.7189 - val_loss: 0.2542 - val_accuracy: 0.7310\n",
            "Epoch 5/10\n",
            "28/28 [==============================] - 16s 588ms/step - loss: 0.2633 - accuracy: 0.7454 - val_loss: 0.2354 - val_accuracy: 0.7545\n",
            "Epoch 6/10\n",
            "28/28 [==============================] - 16s 586ms/step - loss: 0.2433 - accuracy: 0.7588 - val_loss: 0.2341 - val_accuracy: 0.7551\n",
            "Epoch 7/10\n",
            "28/28 [==============================] - 16s 590ms/step - loss: 0.2332 - accuracy: 0.7674 - val_loss: 0.2284 - val_accuracy: 0.7590\n",
            "Epoch 8/10\n",
            "28/28 [==============================] - 16s 582ms/step - loss: 0.2236 - accuracy: 0.7754 - val_loss: 0.2257 - val_accuracy: 0.7637\n",
            "Epoch 9/10\n",
            "28/28 [==============================] - 16s 583ms/step - loss: 0.2152 - accuracy: 0.7828 - val_loss: 0.2271 - val_accuracy: 0.7669\n",
            "CPU times: user 4min 10s, sys: 18.1 s, total: 4min 28s\n",
            "Wall time: 2min 33s\n"
          ]
        }
      ]
    },
    {
      "cell_type": "code",
      "source": [
        "gru_score = model.evaluate(X_test, y_test, batch_size=512, verbose=1)\n",
        "print('\\n')\n",
        "print('Test score:', score[0])\n",
        "print('Test accuracy:', score[1])"
      ],
      "metadata": {
        "colab": {
          "base_uri": "https://localhost:8080/"
        },
        "id": "ewArCG7DWCrZ",
        "outputId": "669d0c72-efff-47e4-eeb5-704c4c7d5f5e"
      },
      "execution_count": 210,
      "outputs": [
        {
          "output_type": "stream",
          "name": "stdout",
          "text": [
            "14/14 [==============================] - 2s 169ms/step - loss: 0.2271 - accuracy: 0.7669\n",
            "\n",
            "\n",
            "Test score: 0.2265089601278305\n",
            "Test accuracy: 0.7692871689796448\n"
          ]
        }
      ]
    },
    {
      "cell_type": "markdown",
      "source": [
        "**Вывод:** из всех рекурретных нейронных сетей LSTM дал наилучший результат, но он обучался дольше всех."
      ],
      "metadata": {
        "id": "A2L32GVnnuuw"
      }
    },
    {
      "cell_type": "markdown",
      "source": [
        "### 3. RNN + CNN\n",
        "3.1 CNN -> RNN"
      ],
      "metadata": {
        "id": "fBKfBs_-_Ia_"
      }
    },
    {
      "cell_type": "code",
      "source": [
        "model = Sequential()\n",
        "\n",
        "model.add(Embedding(input_dim=word_count,\n",
        "              input_length=training_length,\n",
        "              output_dim=30,\n",
        "              trainable=True,\n",
        "              mask_zero=True))\n",
        "model.add(Masking(mask_value=0.0))\n",
        "\n",
        "model.add(Conv1D(128, 3))\n",
        "model.add(Activation(\"relu\"))\n",
        "model.add(LSTM(64,recurrent_dropout=0.2)) \n",
        "model.add(Dense(32, activation='relu'))\n",
        "model.add(Dropout(0.5))\n",
        "model.add(Dense(5, activation='softmax'))\n",
        "\n",
        "model.summary()"
      ],
      "metadata": {
        "colab": {
          "base_uri": "https://localhost:8080/"
        },
        "id": "13UiHOa3_LDN",
        "outputId": "52beae2b-2153-43b2-d730-751291f170af"
      },
      "execution_count": 211,
      "outputs": [
        {
          "output_type": "stream",
          "name": "stdout",
          "text": [
            "Model: \"sequential_67\"\n",
            "_________________________________________________________________\n",
            " Layer (type)                Output Shape              Param #   \n",
            "=================================================================\n",
            " embedding_50 (Embedding)    (None, 113, 30)           308790    \n",
            "                                                                 \n",
            " masking_34 (Masking)        (None, 113, 30)           0         \n",
            "                                                                 \n",
            " conv1d_57 (Conv1D)          (None, 111, 128)          11648     \n",
            "                                                                 \n",
            " activation_86 (Activation)  (None, 111, 128)          0         \n",
            "                                                                 \n",
            " lstm_21 (LSTM)              (None, 64)                49408     \n",
            "                                                                 \n",
            " dense_114 (Dense)           (None, 32)                2080      \n",
            "                                                                 \n",
            " dropout_31 (Dropout)        (None, 32)                0         \n",
            "                                                                 \n",
            " dense_115 (Dense)           (None, 5)                 165       \n",
            "                                                                 \n",
            "=================================================================\n",
            "Total params: 372,091\n",
            "Trainable params: 372,091\n",
            "Non-trainable params: 0\n",
            "_________________________________________________________________\n"
          ]
        }
      ]
    },
    {
      "cell_type": "code",
      "source": [
        "model.compile(\n",
        "    optimizer='adam', \n",
        "    loss='binary_crossentropy', \n",
        "    metrics=['accuracy'])\n",
        "\n",
        "history = model.fit(X_train, y_train,\n",
        "                    batch_size=512,\n",
        "                    epochs=10,\n",
        "                    verbose=1,\n",
        "                    validation_data = (X_test, y_test),\n",
        "                    callbacks = [early_stopping]\n",
        "                    )"
      ],
      "metadata": {
        "colab": {
          "base_uri": "https://localhost:8080/"
        },
        "id": "YOLzpiabz7Zg",
        "outputId": "1a45eb39-0d30-4f5b-c0ba-dc5611a2be3c"
      },
      "execution_count": 212,
      "outputs": [
        {
          "output_type": "stream",
          "name": "stdout",
          "text": [
            "Epoch 1/10\n",
            "28/28 [==============================] - 31s 1s/step - loss: 0.5349 - accuracy: 0.6051 - val_loss: 0.3176 - val_accuracy: 0.7125\n",
            "Epoch 2/10\n",
            "28/28 [==============================] - 27s 962ms/step - loss: 0.3754 - accuracy: 0.6669 - val_loss: 0.2765 - val_accuracy: 0.7125\n",
            "Epoch 3/10\n",
            "28/28 [==============================] - 27s 962ms/step - loss: 0.3201 - accuracy: 0.6989 - val_loss: 0.2475 - val_accuracy: 0.7317\n",
            "Epoch 4/10\n",
            "28/28 [==============================] - 27s 970ms/step - loss: 0.2860 - accuracy: 0.7239 - val_loss: 0.2342 - val_accuracy: 0.7536\n",
            "Epoch 5/10\n",
            "28/28 [==============================] - 27s 968ms/step - loss: 0.2632 - accuracy: 0.7405 - val_loss: 0.2321 - val_accuracy: 0.7599\n",
            "Epoch 6/10\n",
            "28/28 [==============================] - 27s 973ms/step - loss: 0.2450 - accuracy: 0.7594 - val_loss: 0.2306 - val_accuracy: 0.7633\n",
            "Epoch 7/10\n",
            "28/28 [==============================] - 27s 972ms/step - loss: 0.2316 - accuracy: 0.7687 - val_loss: 0.2351 - val_accuracy: 0.7655\n"
          ]
        }
      ]
    },
    {
      "cell_type": "code",
      "source": [
        "cnn_rnn_score = model.evaluate(X_test, y_test, batch_size=512, verbose=1)\n",
        "print('\\n')\n",
        "print('Test score:', score[0])\n",
        "print('Test accuracy:', score[1])"
      ],
      "metadata": {
        "colab": {
          "base_uri": "https://localhost:8080/"
        },
        "id": "8DfC0qnS2qBy",
        "outputId": "50b39cdd-5d2d-479b-c4ff-c88c5a2f828e"
      },
      "execution_count": 213,
      "outputs": [
        {
          "output_type": "stream",
          "name": "stdout",
          "text": [
            "14/14 [==============================] - 3s 212ms/step - loss: 0.2351 - accuracy: 0.7655\n",
            "\n",
            "\n",
            "Test score: 0.2265089601278305\n",
            "Test accuracy: 0.7692871689796448\n"
          ]
        }
      ]
    },
    {
      "cell_type": "markdown",
      "source": [
        "3.2 RNN -> CNN"
      ],
      "metadata": {
        "id": "E5eC15Gl5g8N"
      }
    },
    {
      "cell_type": "code",
      "source": [
        "model = Sequential()\n",
        "\n",
        "model.add(Embedding(input_dim=word_count,\n",
        "              input_length=training_length,\n",
        "              output_dim=30,\n",
        "              trainable=True,\n",
        "              mask_zero=True))\n",
        "model.add(Masking(mask_value=0.0))\n",
        "\n",
        "model.add(LSTM(64,recurrent_dropout=0.2, return_sequences=True))\n",
        "  #return_sequences = True с- возвращаем последовательность скрытых состояний для каждого токена\n",
        "model.add(Conv1D(64, 3, padding = 'same', activation = 'relu'))\n",
        "model.add(GlobalMaxPool1D())\n",
        "model.add(Dense(32, activation='relu'))\n",
        "model.add(Dropout(0.5))\n",
        "model.add(Dense(5, activation='softmax'))\n",
        "\n",
        "model.summary()"
      ],
      "metadata": {
        "colab": {
          "base_uri": "https://localhost:8080/"
        },
        "id": "HlB8wuoX3agM",
        "outputId": "c0fae39b-91de-4b40-b695-4907889601d4"
      },
      "execution_count": 214,
      "outputs": [
        {
          "output_type": "stream",
          "name": "stdout",
          "text": [
            "Model: \"sequential_68\"\n",
            "_________________________________________________________________\n",
            " Layer (type)                Output Shape              Param #   \n",
            "=================================================================\n",
            " embedding_51 (Embedding)    (None, 113, 30)           308790    \n",
            "                                                                 \n",
            " masking_35 (Masking)        (None, 113, 30)           0         \n",
            "                                                                 \n",
            " lstm_22 (LSTM)              (None, 113, 64)           24320     \n",
            "                                                                 \n",
            " conv1d_58 (Conv1D)          (None, 113, 64)           12352     \n",
            "                                                                 \n",
            " global_max_pooling1d_27 (Gl  (None, 64)               0         \n",
            " obalMaxPooling1D)                                               \n",
            "                                                                 \n",
            " dense_116 (Dense)           (None, 32)                2080      \n",
            "                                                                 \n",
            " dropout_32 (Dropout)        (None, 32)                0         \n",
            "                                                                 \n",
            " dense_117 (Dense)           (None, 5)                 165       \n",
            "                                                                 \n",
            "=================================================================\n",
            "Total params: 347,707\n",
            "Trainable params: 347,707\n",
            "Non-trainable params: 0\n",
            "_________________________________________________________________\n"
          ]
        }
      ]
    },
    {
      "cell_type": "code",
      "source": [
        "model.compile(\n",
        "    optimizer='adam', \n",
        "    loss='binary_crossentropy', \n",
        "    metrics=['accuracy'])\n",
        "\n",
        "history = model.fit(X_train, y_train,\n",
        "                    batch_size=512,\n",
        "                    epochs=10,\n",
        "                    verbose=1,\n",
        "                    validation_data = (X_test, y_test),\n",
        "                    callbacks = [early_stopping]\n",
        "                    )"
      ],
      "metadata": {
        "colab": {
          "base_uri": "https://localhost:8080/"
        },
        "id": "vFf6RUCkFuJN",
        "outputId": "67f58258-2be0-440a-98c6-246e8765d784"
      },
      "execution_count": 215,
      "outputs": [
        {
          "output_type": "stream",
          "name": "stdout",
          "text": [
            "Epoch 1/10\n",
            "28/28 [==============================] - 26s 804ms/step - loss: 0.5404 - accuracy: 0.5515 - val_loss: 0.3806 - val_accuracy: 0.7125\n",
            "Epoch 2/10\n",
            "28/28 [==============================] - 23s 830ms/step - loss: 0.4207 - accuracy: 0.6481 - val_loss: 0.3412 - val_accuracy: 0.7125\n",
            "Epoch 3/10\n",
            "28/28 [==============================] - 22s 792ms/step - loss: 0.3978 - accuracy: 0.6729 - val_loss: 0.3327 - val_accuracy: 0.7125\n",
            "Epoch 4/10\n",
            "28/28 [==============================] - 22s 794ms/step - loss: 0.3813 - accuracy: 0.6912 - val_loss: 0.3192 - val_accuracy: 0.7125\n",
            "Epoch 5/10\n",
            "28/28 [==============================] - 22s 790ms/step - loss: 0.3498 - accuracy: 0.7002 - val_loss: 0.2613 - val_accuracy: 0.7452\n",
            "Epoch 6/10\n",
            "28/28 [==============================] - 22s 797ms/step - loss: 0.2913 - accuracy: 0.7273 - val_loss: 0.2376 - val_accuracy: 0.7583\n",
            "Epoch 7/10\n",
            "28/28 [==============================] - 22s 795ms/step - loss: 0.2605 - accuracy: 0.7449 - val_loss: 0.2305 - val_accuracy: 0.7622\n",
            "Epoch 8/10\n",
            "28/28 [==============================] - 22s 803ms/step - loss: 0.2427 - accuracy: 0.7606 - val_loss: 0.2292 - val_accuracy: 0.7666\n",
            "Epoch 9/10\n",
            "28/28 [==============================] - 22s 799ms/step - loss: 0.2339 - accuracy: 0.7710 - val_loss: 0.2249 - val_accuracy: 0.7655\n",
            "Epoch 10/10\n",
            "28/28 [==============================] - 25s 916ms/step - loss: 0.2228 - accuracy: 0.7784 - val_loss: 0.2278 - val_accuracy: 0.7684\n"
          ]
        }
      ]
    },
    {
      "cell_type": "code",
      "source": [
        "rnn_cnn_score = model.evaluate(X_test, y_test, batch_size=512, verbose=1)\n",
        "print('\\n')\n",
        "print('Test score:', score[0])\n",
        "print('Test accuracy:', score[1])"
      ],
      "metadata": {
        "colab": {
          "base_uri": "https://localhost:8080/"
        },
        "id": "EhpIuZ_3ZQe6",
        "outputId": "5078fd0e-bdbd-4276-81e2-ed6f6c45823e"
      },
      "execution_count": 216,
      "outputs": [
        {
          "output_type": "stream",
          "name": "stdout",
          "text": [
            "14/14 [==============================] - 2s 154ms/step - loss: 0.2278 - accuracy: 0.7684\n",
            "\n",
            "\n",
            "Test score: 0.2265089601278305\n",
            "Test accuracy: 0.7692871689796448\n"
          ]
        }
      ]
    },
    {
      "cell_type": "markdown",
      "source": [
        "**Соберем все результаты вместе**"
      ],
      "metadata": {
        "id": "6jPWl2ldbKpP"
      }
    },
    {
      "cell_type": "code",
      "source": [
        "result = pd.DataFrame({'model': ['CNN', 'SimpleRNN', 'LSTM', 'GRU', 'CNN->LSTM', 'LSTM->CNN'], \n",
        "                       'accuracy': [cnn_score[1], srnn_score[1], lstm_score[1], gru_score[1], cnn_rnn_score[1], rnn_cnn_score[1]]})\n",
        "result.sort_values(by='accuracy', ascending=False)"
      ],
      "metadata": {
        "colab": {
          "base_uri": "https://localhost:8080/",
          "height": 235
        },
        "id": "6r5CNPWgZzDG",
        "outputId": "fdc0377d-01a7-478f-c5fe-d846fbeb2e52"
      },
      "execution_count": 218,
      "outputs": [
        {
          "output_type": "execute_result",
          "data": {
            "text/plain": [
              "       model  accuracy\n",
              "5  LSTM->CNN  0.768407\n",
              "3        GRU  0.766940\n",
              "2       LSTM  0.765914\n",
              "4  CNN->LSTM  0.765474\n",
              "1  SimpleRNN  0.763567\n",
              "0        CNN  0.758874"
            ],
            "text/html": [
              "\n",
              "  <div id=\"df-a843c853-7ec3-489c-9431-38d1455795b9\">\n",
              "    <div class=\"colab-df-container\">\n",
              "      <div>\n",
              "<style scoped>\n",
              "    .dataframe tbody tr th:only-of-type {\n",
              "        vertical-align: middle;\n",
              "    }\n",
              "\n",
              "    .dataframe tbody tr th {\n",
              "        vertical-align: top;\n",
              "    }\n",
              "\n",
              "    .dataframe thead th {\n",
              "        text-align: right;\n",
              "    }\n",
              "</style>\n",
              "<table border=\"1\" class=\"dataframe\">\n",
              "  <thead>\n",
              "    <tr style=\"text-align: right;\">\n",
              "      <th></th>\n",
              "      <th>model</th>\n",
              "      <th>accuracy</th>\n",
              "    </tr>\n",
              "  </thead>\n",
              "  <tbody>\n",
              "    <tr>\n",
              "      <th>5</th>\n",
              "      <td>LSTM-&gt;CNN</td>\n",
              "      <td>0.768407</td>\n",
              "    </tr>\n",
              "    <tr>\n",
              "      <th>3</th>\n",
              "      <td>GRU</td>\n",
              "      <td>0.766940</td>\n",
              "    </tr>\n",
              "    <tr>\n",
              "      <th>2</th>\n",
              "      <td>LSTM</td>\n",
              "      <td>0.765914</td>\n",
              "    </tr>\n",
              "    <tr>\n",
              "      <th>4</th>\n",
              "      <td>CNN-&gt;LSTM</td>\n",
              "      <td>0.765474</td>\n",
              "    </tr>\n",
              "    <tr>\n",
              "      <th>1</th>\n",
              "      <td>SimpleRNN</td>\n",
              "      <td>0.763567</td>\n",
              "    </tr>\n",
              "    <tr>\n",
              "      <th>0</th>\n",
              "      <td>CNN</td>\n",
              "      <td>0.758874</td>\n",
              "    </tr>\n",
              "  </tbody>\n",
              "</table>\n",
              "</div>\n",
              "      <button class=\"colab-df-convert\" onclick=\"convertToInteractive('df-a843c853-7ec3-489c-9431-38d1455795b9')\"\n",
              "              title=\"Convert this dataframe to an interactive table.\"\n",
              "              style=\"display:none;\">\n",
              "        \n",
              "  <svg xmlns=\"http://www.w3.org/2000/svg\" height=\"24px\"viewBox=\"0 0 24 24\"\n",
              "       width=\"24px\">\n",
              "    <path d=\"M0 0h24v24H0V0z\" fill=\"none\"/>\n",
              "    <path d=\"M18.56 5.44l.94 2.06.94-2.06 2.06-.94-2.06-.94-.94-2.06-.94 2.06-2.06.94zm-11 1L8.5 8.5l.94-2.06 2.06-.94-2.06-.94L8.5 2.5l-.94 2.06-2.06.94zm10 10l.94 2.06.94-2.06 2.06-.94-2.06-.94-.94-2.06-.94 2.06-2.06.94z\"/><path d=\"M17.41 7.96l-1.37-1.37c-.4-.4-.92-.59-1.43-.59-.52 0-1.04.2-1.43.59L10.3 9.45l-7.72 7.72c-.78.78-.78 2.05 0 2.83L4 21.41c.39.39.9.59 1.41.59.51 0 1.02-.2 1.41-.59l7.78-7.78 2.81-2.81c.8-.78.8-2.07 0-2.86zM5.41 20L4 18.59l7.72-7.72 1.47 1.35L5.41 20z\"/>\n",
              "  </svg>\n",
              "      </button>\n",
              "      \n",
              "  <style>\n",
              "    .colab-df-container {\n",
              "      display:flex;\n",
              "      flex-wrap:wrap;\n",
              "      gap: 12px;\n",
              "    }\n",
              "\n",
              "    .colab-df-convert {\n",
              "      background-color: #E8F0FE;\n",
              "      border: none;\n",
              "      border-radius: 50%;\n",
              "      cursor: pointer;\n",
              "      display: none;\n",
              "      fill: #1967D2;\n",
              "      height: 32px;\n",
              "      padding: 0 0 0 0;\n",
              "      width: 32px;\n",
              "    }\n",
              "\n",
              "    .colab-df-convert:hover {\n",
              "      background-color: #E2EBFA;\n",
              "      box-shadow: 0px 1px 2px rgba(60, 64, 67, 0.3), 0px 1px 3px 1px rgba(60, 64, 67, 0.15);\n",
              "      fill: #174EA6;\n",
              "    }\n",
              "\n",
              "    [theme=dark] .colab-df-convert {\n",
              "      background-color: #3B4455;\n",
              "      fill: #D2E3FC;\n",
              "    }\n",
              "\n",
              "    [theme=dark] .colab-df-convert:hover {\n",
              "      background-color: #434B5C;\n",
              "      box-shadow: 0px 1px 3px 1px rgba(0, 0, 0, 0.15);\n",
              "      filter: drop-shadow(0px 1px 2px rgba(0, 0, 0, 0.3));\n",
              "      fill: #FFFFFF;\n",
              "    }\n",
              "  </style>\n",
              "\n",
              "      <script>\n",
              "        const buttonEl =\n",
              "          document.querySelector('#df-a843c853-7ec3-489c-9431-38d1455795b9 button.colab-df-convert');\n",
              "        buttonEl.style.display =\n",
              "          google.colab.kernel.accessAllowed ? 'block' : 'none';\n",
              "\n",
              "        async function convertToInteractive(key) {\n",
              "          const element = document.querySelector('#df-a843c853-7ec3-489c-9431-38d1455795b9');\n",
              "          const dataTable =\n",
              "            await google.colab.kernel.invokeFunction('convertToInteractive',\n",
              "                                                     [key], {});\n",
              "          if (!dataTable) return;\n",
              "\n",
              "          const docLinkHtml = 'Like what you see? Visit the ' +\n",
              "            '<a target=\"_blank\" href=https://colab.research.google.com/notebooks/data_table.ipynb>data table notebook</a>'\n",
              "            + ' to learn more about interactive tables.';\n",
              "          element.innerHTML = '';\n",
              "          dataTable['output_type'] = 'display_data';\n",
              "          await google.colab.output.renderOutput(dataTable, element);\n",
              "          const docLink = document.createElement('div');\n",
              "          docLink.innerHTML = docLinkHtml;\n",
              "          element.appendChild(docLink);\n",
              "        }\n",
              "      </script>\n",
              "    </div>\n",
              "  </div>\n",
              "  "
            ]
          },
          "metadata": {},
          "execution_count": 218
        }
      ]
    },
    {
      "cell_type": "markdown",
      "source": [
        "Наилучший результат показала модель со слоями LSTM, и затем CNN, немного ей уступили сети со слоем GRU и LSTM.\n",
        "CNN показала самый слабый результат в работе с текстом."
      ],
      "metadata": {
        "id": "2884PNTmT9uM"
      }
    }
  ]
}