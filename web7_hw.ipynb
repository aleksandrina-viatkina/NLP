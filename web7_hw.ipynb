{
 "cells": [
  {
   "cell_type": "markdown",
   "metadata": {
    "id": "fC6eFw8QYSWr"
   },
   "source": [
    "# Домашнее задание к вебинару 7. Сверточные нейронные сети для анализа текста"
   ]
  },
  {
   "cell_type": "markdown",
   "metadata": {
    "id": "pvBRW4oWYSPZ"
   },
   "source": [
    "Задание:\n",
    "\n",
    "Взять отзывы за лето\n",
    "1. Учим conv сеть для классификации\n",
    "2. Рассмотреть 2-а варианта нейронной сети: \n",
    "2.1 Инициализировать tf.keras.layers.Embedding предобученными векторами взять к примеру с https://rusvectores.org/ru/\n",
    "2.2 Инициализировать слой tf.keras.layers.Embedding по умолчанию (ну то есть вам ничего не делать с весами)\n",
    "Сравнить две архитектуры с предобученными весами и когда tf.keras.layers.Embedding обучается сразу со всей сетью, что получилось лучше"
   ]
  },
  {
   "cell_type": "code",
   "execution_count": 27,
   "metadata": {
    "colab": {
     "base_uri": "https://localhost:8080/"
    },
    "id": "kxEnEeACYRrb",
    "outputId": "ea0bade3-d202-4005-eaca-4d58ff6e86bb"
   },
   "outputs": [
    {
     "name": "stderr",
     "output_type": "stream",
     "text": [
      "[nltk_data] Downloading package punkt to /root/nltk_data...\n",
      "[nltk_data]   Package punkt is already up-to-date!\n"
     ]
    }
   ],
   "source": [
    "import pandas as pd\n",
    "from sklearn.model_selection import train_test_split\n",
    "\n",
    "from string import punctuation\n",
    "from stop_words import get_stop_words\n",
    "from pymorphy2 import MorphAnalyzer\n",
    "import re\n",
    "\n",
    "import nltk\n",
    "from nltk.tokenize import word_tokenize\n",
    "nltk.download(\"punkt\")\n",
    "from nltk.probability import FreqDist\n",
    "\n",
    "import numpy as np\n",
    "import tensorflow as tf\n",
    "import keras\n",
    "from keras.models import Sequential, Model\n",
    "from keras.layers import Dense, Dropout, Activation, Input, Embedding, Conv1D, GlobalMaxPool1D, MaxPool1D\n",
    "from keras.preprocessing.text import Tokenizer\n",
    "from keras.preprocessing.sequence import pad_sequences\n",
    "from keras.callbacks import TensorBoard \n",
    "from keras.losses import SparseCategoricalCrossentropy\n",
    "from keras.callbacks import EarlyStopping  \n",
    "from tensorflow.keras.utils import to_categorical\n",
    "\n",
    "from sklearn.preprocessing import LabelEncoder\n",
    "import gensim"
   ]
  },
  {
   "cell_type": "markdown",
   "metadata": {
    "id": "-CyIR0I5nhBC"
   },
   "source": [
    "**Загрузка и предобработка данных**  \n",
    "Заранее перевела данные в формат csv"
   ]
  },
  {
   "cell_type": "code",
   "execution_count": 4,
   "metadata": {
    "colab": {
     "base_uri": "https://localhost:8080/",
     "height": 204
    },
    "id": "ziCjOkH4YRoq",
    "outputId": "1bee390a-d1f7-4566-b165-9f7a51f759d6"
   },
   "outputs": [
    {
     "data": {
      "text/html": [
       "\n",
       "  <div id=\"df-dfc529c2-ca7a-4704-83c4-cd573e313095\">\n",
       "    <div class=\"colab-df-container\">\n",
       "      <div>\n",
       "<style scoped>\n",
       "    .dataframe tbody tr th:only-of-type {\n",
       "        vertical-align: middle;\n",
       "    }\n",
       "\n",
       "    .dataframe tbody tr th {\n",
       "        vertical-align: top;\n",
       "    }\n",
       "\n",
       "    .dataframe thead th {\n",
       "        text-align: right;\n",
       "    }\n",
       "</style>\n",
       "<table border=\"1\" class=\"dataframe\">\n",
       "  <thead>\n",
       "    <tr style=\"text-align: right;\">\n",
       "      <th></th>\n",
       "      <th>Unnamed: 0</th>\n",
       "      <th>Rating</th>\n",
       "      <th>Content</th>\n",
       "      <th>Date</th>\n",
       "    </tr>\n",
       "  </thead>\n",
       "  <tbody>\n",
       "    <tr>\n",
       "      <th>0</th>\n",
       "      <td>0</td>\n",
       "      <td>5</td>\n",
       "      <td>It just works!</td>\n",
       "      <td>2017-08-14</td>\n",
       "    </tr>\n",
       "    <tr>\n",
       "      <th>1</th>\n",
       "      <td>1</td>\n",
       "      <td>4</td>\n",
       "      <td>В целом удобноное приложение...из минусов хотя...</td>\n",
       "      <td>2017-08-14</td>\n",
       "    </tr>\n",
       "    <tr>\n",
       "      <th>2</th>\n",
       "      <td>2</td>\n",
       "      <td>5</td>\n",
       "      <td>Отлично все</td>\n",
       "      <td>2017-08-14</td>\n",
       "    </tr>\n",
       "    <tr>\n",
       "      <th>3</th>\n",
       "      <td>3</td>\n",
       "      <td>5</td>\n",
       "      <td>Стал зависать на 1% работы антивируса. Дальше ...</td>\n",
       "      <td>2017-08-14</td>\n",
       "    </tr>\n",
       "    <tr>\n",
       "      <th>4</th>\n",
       "      <td>4</td>\n",
       "      <td>5</td>\n",
       "      <td>Очень удобно, работает быстро.</td>\n",
       "      <td>2017-08-14</td>\n",
       "    </tr>\n",
       "  </tbody>\n",
       "</table>\n",
       "</div>\n",
       "      <button class=\"colab-df-convert\" onclick=\"convertToInteractive('df-dfc529c2-ca7a-4704-83c4-cd573e313095')\"\n",
       "              title=\"Convert this dataframe to an interactive table.\"\n",
       "              style=\"display:none;\">\n",
       "        \n",
       "  <svg xmlns=\"http://www.w3.org/2000/svg\" height=\"24px\"viewBox=\"0 0 24 24\"\n",
       "       width=\"24px\">\n",
       "    <path d=\"M0 0h24v24H0V0z\" fill=\"none\"/>\n",
       "    <path d=\"M18.56 5.44l.94 2.06.94-2.06 2.06-.94-2.06-.94-.94-2.06-.94 2.06-2.06.94zm-11 1L8.5 8.5l.94-2.06 2.06-.94-2.06-.94L8.5 2.5l-.94 2.06-2.06.94zm10 10l.94 2.06.94-2.06 2.06-.94-2.06-.94-.94-2.06-.94 2.06-2.06.94z\"/><path d=\"M17.41 7.96l-1.37-1.37c-.4-.4-.92-.59-1.43-.59-.52 0-1.04.2-1.43.59L10.3 9.45l-7.72 7.72c-.78.78-.78 2.05 0 2.83L4 21.41c.39.39.9.59 1.41.59.51 0 1.02-.2 1.41-.59l7.78-7.78 2.81-2.81c.8-.78.8-2.07 0-2.86zM5.41 20L4 18.59l7.72-7.72 1.47 1.35L5.41 20z\"/>\n",
       "  </svg>\n",
       "      </button>\n",
       "      \n",
       "  <style>\n",
       "    .colab-df-container {\n",
       "      display:flex;\n",
       "      flex-wrap:wrap;\n",
       "      gap: 12px;\n",
       "    }\n",
       "\n",
       "    .colab-df-convert {\n",
       "      background-color: #E8F0FE;\n",
       "      border: none;\n",
       "      border-radius: 50%;\n",
       "      cursor: pointer;\n",
       "      display: none;\n",
       "      fill: #1967D2;\n",
       "      height: 32px;\n",
       "      padding: 0 0 0 0;\n",
       "      width: 32px;\n",
       "    }\n",
       "\n",
       "    .colab-df-convert:hover {\n",
       "      background-color: #E2EBFA;\n",
       "      box-shadow: 0px 1px 2px rgba(60, 64, 67, 0.3), 0px 1px 3px 1px rgba(60, 64, 67, 0.15);\n",
       "      fill: #174EA6;\n",
       "    }\n",
       "\n",
       "    [theme=dark] .colab-df-convert {\n",
       "      background-color: #3B4455;\n",
       "      fill: #D2E3FC;\n",
       "    }\n",
       "\n",
       "    [theme=dark] .colab-df-convert:hover {\n",
       "      background-color: #434B5C;\n",
       "      box-shadow: 0px 1px 3px 1px rgba(0, 0, 0, 0.15);\n",
       "      filter: drop-shadow(0px 1px 2px rgba(0, 0, 0, 0.3));\n",
       "      fill: #FFFFFF;\n",
       "    }\n",
       "  </style>\n",
       "\n",
       "      <script>\n",
       "        const buttonEl =\n",
       "          document.querySelector('#df-dfc529c2-ca7a-4704-83c4-cd573e313095 button.colab-df-convert');\n",
       "        buttonEl.style.display =\n",
       "          google.colab.kernel.accessAllowed ? 'block' : 'none';\n",
       "\n",
       "        async function convertToInteractive(key) {\n",
       "          const element = document.querySelector('#df-dfc529c2-ca7a-4704-83c4-cd573e313095');\n",
       "          const dataTable =\n",
       "            await google.colab.kernel.invokeFunction('convertToInteractive',\n",
       "                                                     [key], {});\n",
       "          if (!dataTable) return;\n",
       "\n",
       "          const docLinkHtml = 'Like what you see? Visit the ' +\n",
       "            '<a target=\"_blank\" href=https://colab.research.google.com/notebooks/data_table.ipynb>data table notebook</a>'\n",
       "            + ' to learn more about interactive tables.';\n",
       "          element.innerHTML = '';\n",
       "          dataTable['output_type'] = 'display_data';\n",
       "          await google.colab.output.renderOutput(dataTable, element);\n",
       "          const docLink = document.createElement('div');\n",
       "          docLink.innerHTML = docLinkHtml;\n",
       "          element.appendChild(docLink);\n",
       "        }\n",
       "      </script>\n",
       "    </div>\n",
       "  </div>\n",
       "  "
      ],
      "text/plain": [
       "   Unnamed: 0  Rating                                            Content  \\\n",
       "0           0       5                                     It just works!   \n",
       "1           1       4  В целом удобноное приложение...из минусов хотя...   \n",
       "2           2       5                                        Отлично все   \n",
       "3           3       5  Стал зависать на 1% работы антивируса. Дальше ...   \n",
       "4           4       5                     Очень удобно, работает быстро.   \n",
       "\n",
       "         Date  \n",
       "0  2017-08-14  \n",
       "1  2017-08-14  \n",
       "2  2017-08-14  \n",
       "3  2017-08-14  \n",
       "4  2017-08-14  "
      ]
     },
     "execution_count": 4,
     "metadata": {},
     "output_type": "execute_result"
    }
   ],
   "source": [
    "df = pd.read_csv('/content/отзывы за лето.csv')\n",
    "df.head(5)"
   ]
  },
  {
   "cell_type": "code",
   "execution_count": 5,
   "metadata": {
    "id": "5TG1eZhTXnZK"
   },
   "outputs": [],
   "source": [
    "df.drop('Unnamed: 0', axis = 1, inplace = True)"
   ]
  },
  {
   "cell_type": "code",
   "execution_count": 6,
   "metadata": {
    "colab": {
     "base_uri": "https://localhost:8080/",
     "height": 111
    },
    "id": "JAzWiS-0nGLr",
    "outputId": "6ca19642-8826-4a1a-8f84-eda1cd30e518"
   },
   "outputs": [
    {
     "data": {
      "text/html": [
       "\n",
       "  <div id=\"df-5d547d4c-8e40-4e1f-91a3-3718b224d8e5\">\n",
       "    <div class=\"colab-df-container\">\n",
       "      <div>\n",
       "<style scoped>\n",
       "    .dataframe tbody tr th:only-of-type {\n",
       "        vertical-align: middle;\n",
       "    }\n",
       "\n",
       "    .dataframe tbody tr th {\n",
       "        vertical-align: top;\n",
       "    }\n",
       "\n",
       "    .dataframe thead th {\n",
       "        text-align: right;\n",
       "    }\n",
       "</style>\n",
       "<table border=\"1\" class=\"dataframe\">\n",
       "  <thead>\n",
       "    <tr style=\"text-align: right;\">\n",
       "      <th></th>\n",
       "      <th>Rating</th>\n",
       "      <th>Content</th>\n",
       "      <th>Date</th>\n",
       "    </tr>\n",
       "  </thead>\n",
       "  <tbody>\n",
       "    <tr>\n",
       "      <th>0</th>\n",
       "      <td>5</td>\n",
       "      <td>It just works!</td>\n",
       "      <td>2017-08-14</td>\n",
       "    </tr>\n",
       "    <tr>\n",
       "      <th>1</th>\n",
       "      <td>4</td>\n",
       "      <td>В целом удобноное приложение...из минусов хотя...</td>\n",
       "      <td>2017-08-14</td>\n",
       "    </tr>\n",
       "  </tbody>\n",
       "</table>\n",
       "</div>\n",
       "      <button class=\"colab-df-convert\" onclick=\"convertToInteractive('df-5d547d4c-8e40-4e1f-91a3-3718b224d8e5')\"\n",
       "              title=\"Convert this dataframe to an interactive table.\"\n",
       "              style=\"display:none;\">\n",
       "        \n",
       "  <svg xmlns=\"http://www.w3.org/2000/svg\" height=\"24px\"viewBox=\"0 0 24 24\"\n",
       "       width=\"24px\">\n",
       "    <path d=\"M0 0h24v24H0V0z\" fill=\"none\"/>\n",
       "    <path d=\"M18.56 5.44l.94 2.06.94-2.06 2.06-.94-2.06-.94-.94-2.06-.94 2.06-2.06.94zm-11 1L8.5 8.5l.94-2.06 2.06-.94-2.06-.94L8.5 2.5l-.94 2.06-2.06.94zm10 10l.94 2.06.94-2.06 2.06-.94-2.06-.94-.94-2.06-.94 2.06-2.06.94z\"/><path d=\"M17.41 7.96l-1.37-1.37c-.4-.4-.92-.59-1.43-.59-.52 0-1.04.2-1.43.59L10.3 9.45l-7.72 7.72c-.78.78-.78 2.05 0 2.83L4 21.41c.39.39.9.59 1.41.59.51 0 1.02-.2 1.41-.59l7.78-7.78 2.81-2.81c.8-.78.8-2.07 0-2.86zM5.41 20L4 18.59l7.72-7.72 1.47 1.35L5.41 20z\"/>\n",
       "  </svg>\n",
       "      </button>\n",
       "      \n",
       "  <style>\n",
       "    .colab-df-container {\n",
       "      display:flex;\n",
       "      flex-wrap:wrap;\n",
       "      gap: 12px;\n",
       "    }\n",
       "\n",
       "    .colab-df-convert {\n",
       "      background-color: #E8F0FE;\n",
       "      border: none;\n",
       "      border-radius: 50%;\n",
       "      cursor: pointer;\n",
       "      display: none;\n",
       "      fill: #1967D2;\n",
       "      height: 32px;\n",
       "      padding: 0 0 0 0;\n",
       "      width: 32px;\n",
       "    }\n",
       "\n",
       "    .colab-df-convert:hover {\n",
       "      background-color: #E2EBFA;\n",
       "      box-shadow: 0px 1px 2px rgba(60, 64, 67, 0.3), 0px 1px 3px 1px rgba(60, 64, 67, 0.15);\n",
       "      fill: #174EA6;\n",
       "    }\n",
       "\n",
       "    [theme=dark] .colab-df-convert {\n",
       "      background-color: #3B4455;\n",
       "      fill: #D2E3FC;\n",
       "    }\n",
       "\n",
       "    [theme=dark] .colab-df-convert:hover {\n",
       "      background-color: #434B5C;\n",
       "      box-shadow: 0px 1px 3px 1px rgba(0, 0, 0, 0.15);\n",
       "      filter: drop-shadow(0px 1px 2px rgba(0, 0, 0, 0.3));\n",
       "      fill: #FFFFFF;\n",
       "    }\n",
       "  </style>\n",
       "\n",
       "      <script>\n",
       "        const buttonEl =\n",
       "          document.querySelector('#df-5d547d4c-8e40-4e1f-91a3-3718b224d8e5 button.colab-df-convert');\n",
       "        buttonEl.style.display =\n",
       "          google.colab.kernel.accessAllowed ? 'block' : 'none';\n",
       "\n",
       "        async function convertToInteractive(key) {\n",
       "          const element = document.querySelector('#df-5d547d4c-8e40-4e1f-91a3-3718b224d8e5');\n",
       "          const dataTable =\n",
       "            await google.colab.kernel.invokeFunction('convertToInteractive',\n",
       "                                                     [key], {});\n",
       "          if (!dataTable) return;\n",
       "\n",
       "          const docLinkHtml = 'Like what you see? Visit the ' +\n",
       "            '<a target=\"_blank\" href=https://colab.research.google.com/notebooks/data_table.ipynb>data table notebook</a>'\n",
       "            + ' to learn more about interactive tables.';\n",
       "          element.innerHTML = '';\n",
       "          dataTable['output_type'] = 'display_data';\n",
       "          await google.colab.output.renderOutput(dataTable, element);\n",
       "          const docLink = document.createElement('div');\n",
       "          docLink.innerHTML = docLinkHtml;\n",
       "          element.appendChild(docLink);\n",
       "        }\n",
       "      </script>\n",
       "    </div>\n",
       "  </div>\n",
       "  "
      ],
      "text/plain": [
       "   Rating                                            Content        Date\n",
       "0       5                                     It just works!  2017-08-14\n",
       "1       4  В целом удобноное приложение...из минусов хотя...  2017-08-14"
      ]
     },
     "execution_count": 6,
     "metadata": {},
     "output_type": "execute_result"
    }
   ],
   "source": [
    "df.head(2)"
   ]
  },
  {
   "cell_type": "code",
   "execution_count": 7,
   "metadata": {
    "colab": {
     "base_uri": "https://localhost:8080/"
    },
    "id": "phrHpa-3nMx1",
    "outputId": "157f3804-e23b-4a98-fd4d-5026ef47cee5"
   },
   "outputs": [
    {
     "data": {
      "text/plain": [
       "5    14586\n",
       "1     2276\n",
       "4     2138\n",
       "3      911\n",
       "2      748\n",
       "Name: Rating, dtype: int64"
      ]
     },
     "execution_count": 7,
     "metadata": {},
     "output_type": "execute_result"
    }
   ],
   "source": [
    "df['Rating'].value_counts()"
   ]
  },
  {
   "cell_type": "markdown",
   "metadata": {
    "id": "pCqETtxmn7MT"
   },
   "source": [
    "Заметен значительный дисбаланс классов"
   ]
  },
  {
   "cell_type": "code",
   "execution_count": 8,
   "metadata": {
    "colab": {
     "base_uri": "https://localhost:8080/"
    },
    "id": "XJ0L2y83n3xX",
    "outputId": "ff26d832-e6e2-4e4a-cac0-be564d9d67ad"
   },
   "outputs": [
    {
     "data": {
      "text/plain": [
       "((13841, 3), (6818, 3))"
      ]
     },
     "execution_count": 8,
     "metadata": {},
     "output_type": "execute_result"
    }
   ],
   "source": [
    "df_train, df_test = train_test_split(df, test_size=0.33, random_state=42)\n",
    "df_train = df_train.reset_index(drop=True)\n",
    "df_test = df_test.reset_index(drop=True)\n",
    "df_train.shape, df_test.shape"
   ]
  },
  {
   "cell_type": "code",
   "execution_count": 9,
   "metadata": {
    "colab": {
     "base_uri": "https://localhost:8080/",
     "height": 111
    },
    "id": "KyNvNCmPoHpK",
    "outputId": "73389b38-5052-4cc9-a389-353ef8588f56"
   },
   "outputs": [
    {
     "data": {
      "text/html": [
       "\n",
       "  <div id=\"df-255996d3-ce4e-46d0-8ebe-b2c6c8794e6f\">\n",
       "    <div class=\"colab-df-container\">\n",
       "      <div>\n",
       "<style scoped>\n",
       "    .dataframe tbody tr th:only-of-type {\n",
       "        vertical-align: middle;\n",
       "    }\n",
       "\n",
       "    .dataframe tbody tr th {\n",
       "        vertical-align: top;\n",
       "    }\n",
       "\n",
       "    .dataframe thead th {\n",
       "        text-align: right;\n",
       "    }\n",
       "</style>\n",
       "<table border=\"1\" class=\"dataframe\">\n",
       "  <thead>\n",
       "    <tr style=\"text-align: right;\">\n",
       "      <th></th>\n",
       "      <th>Rating</th>\n",
       "      <th>Content</th>\n",
       "      <th>Date</th>\n",
       "    </tr>\n",
       "  </thead>\n",
       "  <tbody>\n",
       "    <tr>\n",
       "      <th>0</th>\n",
       "      <td>5</td>\n",
       "      <td>Наконец-то исправили эту чушь с неоргинальной ...</td>\n",
       "      <td>2017-08-09</td>\n",
       "    </tr>\n",
       "    <tr>\n",
       "      <th>1</th>\n",
       "      <td>5</td>\n",
       "      <td>Удобно в использовании</td>\n",
       "      <td>2017-07-27</td>\n",
       "    </tr>\n",
       "  </tbody>\n",
       "</table>\n",
       "</div>\n",
       "      <button class=\"colab-df-convert\" onclick=\"convertToInteractive('df-255996d3-ce4e-46d0-8ebe-b2c6c8794e6f')\"\n",
       "              title=\"Convert this dataframe to an interactive table.\"\n",
       "              style=\"display:none;\">\n",
       "        \n",
       "  <svg xmlns=\"http://www.w3.org/2000/svg\" height=\"24px\"viewBox=\"0 0 24 24\"\n",
       "       width=\"24px\">\n",
       "    <path d=\"M0 0h24v24H0V0z\" fill=\"none\"/>\n",
       "    <path d=\"M18.56 5.44l.94 2.06.94-2.06 2.06-.94-2.06-.94-.94-2.06-.94 2.06-2.06.94zm-11 1L8.5 8.5l.94-2.06 2.06-.94-2.06-.94L8.5 2.5l-.94 2.06-2.06.94zm10 10l.94 2.06.94-2.06 2.06-.94-2.06-.94-.94-2.06-.94 2.06-2.06.94z\"/><path d=\"M17.41 7.96l-1.37-1.37c-.4-.4-.92-.59-1.43-.59-.52 0-1.04.2-1.43.59L10.3 9.45l-7.72 7.72c-.78.78-.78 2.05 0 2.83L4 21.41c.39.39.9.59 1.41.59.51 0 1.02-.2 1.41-.59l7.78-7.78 2.81-2.81c.8-.78.8-2.07 0-2.86zM5.41 20L4 18.59l7.72-7.72 1.47 1.35L5.41 20z\"/>\n",
       "  </svg>\n",
       "      </button>\n",
       "      \n",
       "  <style>\n",
       "    .colab-df-container {\n",
       "      display:flex;\n",
       "      flex-wrap:wrap;\n",
       "      gap: 12px;\n",
       "    }\n",
       "\n",
       "    .colab-df-convert {\n",
       "      background-color: #E8F0FE;\n",
       "      border: none;\n",
       "      border-radius: 50%;\n",
       "      cursor: pointer;\n",
       "      display: none;\n",
       "      fill: #1967D2;\n",
       "      height: 32px;\n",
       "      padding: 0 0 0 0;\n",
       "      width: 32px;\n",
       "    }\n",
       "\n",
       "    .colab-df-convert:hover {\n",
       "      background-color: #E2EBFA;\n",
       "      box-shadow: 0px 1px 2px rgba(60, 64, 67, 0.3), 0px 1px 3px 1px rgba(60, 64, 67, 0.15);\n",
       "      fill: #174EA6;\n",
       "    }\n",
       "\n",
       "    [theme=dark] .colab-df-convert {\n",
       "      background-color: #3B4455;\n",
       "      fill: #D2E3FC;\n",
       "    }\n",
       "\n",
       "    [theme=dark] .colab-df-convert:hover {\n",
       "      background-color: #434B5C;\n",
       "      box-shadow: 0px 1px 3px 1px rgba(0, 0, 0, 0.15);\n",
       "      filter: drop-shadow(0px 1px 2px rgba(0, 0, 0, 0.3));\n",
       "      fill: #FFFFFF;\n",
       "    }\n",
       "  </style>\n",
       "\n",
       "      <script>\n",
       "        const buttonEl =\n",
       "          document.querySelector('#df-255996d3-ce4e-46d0-8ebe-b2c6c8794e6f button.colab-df-convert');\n",
       "        buttonEl.style.display =\n",
       "          google.colab.kernel.accessAllowed ? 'block' : 'none';\n",
       "\n",
       "        async function convertToInteractive(key) {\n",
       "          const element = document.querySelector('#df-255996d3-ce4e-46d0-8ebe-b2c6c8794e6f');\n",
       "          const dataTable =\n",
       "            await google.colab.kernel.invokeFunction('convertToInteractive',\n",
       "                                                     [key], {});\n",
       "          if (!dataTable) return;\n",
       "\n",
       "          const docLinkHtml = 'Like what you see? Visit the ' +\n",
       "            '<a target=\"_blank\" href=https://colab.research.google.com/notebooks/data_table.ipynb>data table notebook</a>'\n",
       "            + ' to learn more about interactive tables.';\n",
       "          element.innerHTML = '';\n",
       "          dataTable['output_type'] = 'display_data';\n",
       "          await google.colab.output.renderOutput(dataTable, element);\n",
       "          const docLink = document.createElement('div');\n",
       "          docLink.innerHTML = docLinkHtml;\n",
       "          element.appendChild(docLink);\n",
       "        }\n",
       "      </script>\n",
       "    </div>\n",
       "  </div>\n",
       "  "
      ],
      "text/plain": [
       "   Rating                                            Content        Date\n",
       "0       5  Наконец-то исправили эту чушь с неоргинальной ...  2017-08-09\n",
       "1       5                             Удобно в использовании  2017-07-27"
      ]
     },
     "execution_count": 9,
     "metadata": {},
     "output_type": "execute_result"
    }
   ],
   "source": [
    "df_train.head(2)"
   ]
  },
  {
   "cell_type": "code",
   "execution_count": 10,
   "metadata": {
    "id": "temgaVyooJ58"
   },
   "outputs": [],
   "source": [
    "sw = set(get_stop_words(\"ru\"))\n",
    "exclude = set(punctuation)\n",
    "morpher = MorphAnalyzer()\n",
    "\n",
    "def preprocess_text(txt):\n",
    "    txt = str(txt)\n",
    "    txt = \"\".join(c for c in txt if c not in exclude)\n",
    "    txt = txt.lower()\n",
    "    txt = re.sub(\"\\sне\", \"не\", txt)\n",
    "    txt = [morpher.parse(word)[0].normal_form for word in txt.split() if word not in sw]\n",
    "    return \" \".join(txt)\n",
    "\n",
    "df_train['Content'] = df_train['Content'].apply(preprocess_text)\n",
    "df_test['Content'] = df_test['Content'].apply(preprocess_text)"
   ]
  },
  {
   "cell_type": "code",
   "execution_count": 11,
   "metadata": {
    "id": "x3Ki1RClp-Wt"
   },
   "outputs": [],
   "source": [
    "train_corpus = \" \".join(df_train[\"Content\"])\n",
    "train_corpus = train_corpus.lower()"
   ]
  },
  {
   "cell_type": "code",
   "execution_count": 12,
   "metadata": {
    "id": "GlV9xm1MqDLT"
   },
   "outputs": [],
   "source": [
    "tokens = word_tokenize(train_corpus)"
   ]
  },
  {
   "cell_type": "code",
   "execution_count": 13,
   "metadata": {
    "colab": {
     "base_uri": "https://localhost:8080/"
    },
    "id": "Ld6ujncOqXBD",
    "outputId": "535ceb64-2469-44a0-84e1-c36c7ef83ea7"
   },
   "outputs": [
    {
     "data": {
      "text/plain": [
       "['наконецтый',\n",
       " 'исправить',\n",
       " 'чушь',\n",
       " 'снеоргинальный',\n",
       " 'прошивка',\n",
       " 'приложение',\n",
       " 'удобно',\n",
       " 'пользоваться',\n",
       " 'удобно',\n",
       " 'использование',\n",
       " 'отлично',\n",
       " 'класс',\n",
       " 'удобно',\n",
       " 'замечательный',\n",
       " 'приложение',\n",
       " 'довольный',\n",
       " 'влиять',\n",
       " 'работа',\n",
       " 'устройство',\n",
       " 'приходиться']"
      ]
     },
     "execution_count": 13,
     "metadata": {},
     "output_type": "execute_result"
    }
   ],
   "source": [
    "tokens[:20]"
   ]
  },
  {
   "cell_type": "markdown",
   "metadata": {
    "id": "I7e3TUPrqx0Z"
   },
   "source": [
    "Отфильтруем данные и соберём в корпус N наиболее частых токенов"
   ]
  },
  {
   "cell_type": "code",
   "execution_count": 14,
   "metadata": {
    "id": "ZRBfM4cbqZjB"
   },
   "outputs": [],
   "source": [
    "tokens_filtered = [word for word in tokens if word.isalnum()]"
   ]
  },
  {
   "cell_type": "code",
   "execution_count": 15,
   "metadata": {
    "id": "aByq0KRBrUgX"
   },
   "outputs": [],
   "source": [
    "max_words = 800 #поставила число больше, чем в файле занятия\n",
    "\n",
    "dist = FreqDist(tokens_filtered)\n",
    "tokens_filtered_top = [pair[0] for pair in dist.most_common(max_words-1)]"
   ]
  },
  {
   "cell_type": "code",
   "execution_count": 106,
   "metadata": {
    "colab": {
     "base_uri": "https://localhost:8080/"
    },
    "id": "bexQ6KKSkQOv",
    "outputId": "ff5928af-78b3-400f-e0ff-9d69990abbee"
   },
   "outputs": [
    {
     "data": {
      "text/plain": [
       "799"
      ]
     },
     "execution_count": 106,
     "metadata": {},
     "output_type": "execute_result"
    }
   ],
   "source": [
    "len(tokens_filtered_top)"
   ]
  },
  {
   "cell_type": "code",
   "execution_count": 16,
   "metadata": {
    "colab": {
     "base_uri": "https://localhost:8080/"
    },
    "id": "RsCWSF73rVxr",
    "outputId": "b2aef6e0-c44b-4c05-ac6a-b7863b9db31d"
   },
   "outputs": [
    {
     "data": {
      "text/plain": [
       "['приложение',\n",
       " 'удобно',\n",
       " 'работать',\n",
       " 'удобный',\n",
       " 'отлично',\n",
       " 'нравиться',\n",
       " 'хороший',\n",
       " 'отличный',\n",
       " 'телефон',\n",
       " 'супер']"
      ]
     },
     "execution_count": 16,
     "metadata": {},
     "output_type": "execute_result"
    }
   ],
   "source": [
    "tokens_filtered_top[:10]"
   ]
  },
  {
   "cell_type": "code",
   "execution_count": 17,
   "metadata": {
    "id": "0wYsi5YVr7gK"
   },
   "outputs": [],
   "source": [
    "vocabulary = {v: k for k, v in dict(enumerate(tokens_filtered_top, 1)).items()}"
   ]
  },
  {
   "cell_type": "code",
   "execution_count": 18,
   "metadata": {
    "colab": {
     "base_uri": "https://localhost:8080/"
    },
    "id": "HJhhoXEur9e-",
    "outputId": "8b2a80f1-4342-44cd-8b7e-580c0c96a039"
   },
   "outputs": [
    {
     "data": {
      "text/plain": [
       "10"
      ]
     },
     "execution_count": 18,
     "metadata": {},
     "output_type": "execute_result"
    }
   ],
   "source": [
    "vocabulary['супер']"
   ]
  },
  {
   "cell_type": "code",
   "execution_count": 19,
   "metadata": {
    "id": "3T25hpgRr_0V"
   },
   "outputs": [],
   "source": [
    "max_len = 100 # значение выше, чем на занятии\n",
    "\n",
    "def text_to_sequence(text, maxlen):\n",
    "    result = []\n",
    "    tokens = word_tokenize(text.lower())\n",
    "    tokens_filtered = [word for word in tokens if word.isalnum()]\n",
    "    for word in tokens_filtered:\n",
    "        if word in vocabulary:\n",
    "            result.append(vocabulary[word])\n",
    "    padding = [0]*(maxlen-len(result))\n",
    "    return padding + result[-maxlen:]"
   ]
  },
  {
   "cell_type": "code",
   "execution_count": 20,
   "metadata": {
    "id": "WIscqHmesQu3"
   },
   "outputs": [],
   "source": [
    "x_train = np.asarray([text_to_sequence(text, max_len) for text in df_train[\"Content\"]], dtype=np.int32)\n",
    "x_test = np.asarray([text_to_sequence(text, max_len) for text in df_test[\"Content\"]], dtype=np.int32)"
   ]
  },
  {
   "cell_type": "code",
   "execution_count": 21,
   "metadata": {
    "colab": {
     "base_uri": "https://localhost:8080/"
    },
    "id": "2svJlMTTsSo_",
    "outputId": "c647c51b-6904-486d-b074-d5878f89553b"
   },
   "outputs": [
    {
     "data": {
      "text/plain": [
       "5"
      ]
     },
     "execution_count": 21,
     "metadata": {},
     "output_type": "execute_result"
    }
   ],
   "source": [
    "# Теперь скорректируем y_train и y_test, чтобы их можно было подавать в сеть\n",
    "num_classes = df['Rating'].nunique()\n",
    "num_classes"
   ]
  },
  {
   "cell_type": "code",
   "execution_count": 22,
   "metadata": {
    "colab": {
     "base_uri": "https://localhost:8080/"
    },
    "id": "CT0VPqZcuyWk",
    "outputId": "ab259a09-d9b6-4c5b-fe8e-61bc97e2d2a2"
   },
   "outputs": [
    {
     "data": {
      "text/plain": [
       "array([1, 2, 3, 4, 5])"
      ]
     },
     "execution_count": 22,
     "metadata": {},
     "output_type": "execute_result"
    }
   ],
   "source": [
    "le = LabelEncoder()\n",
    "train_enc_labels = le.fit_transform(df_train['Rating']) \n",
    "test_enc_labels = le.transform(df_test['Rating'])\n",
    "le.classes_"
   ]
  },
  {
   "cell_type": "code",
   "execution_count": 46,
   "metadata": {
    "id": "QXiBxQeJtu8v"
   },
   "outputs": [],
   "source": [
    "y_train = to_categorical(train_enc_labels, num_classes)\n",
    "y_test = to_categorical(test_enc_labels, num_classes)"
   ]
  },
  {
   "cell_type": "markdown",
   "metadata": {
    "id": "iYyT4HYFvfgJ"
   },
   "source": [
    "**Нейронная сеть с предобученными векторами в слое Embedding**"
   ]
  },
  {
   "cell_type": "code",
   "execution_count": 24,
   "metadata": {
    "colab": {
     "base_uri": "https://localhost:8080/"
    },
    "id": "hAAVqsDPt60M",
    "outputId": "50b92b1f-74b5-4404-cd20-4ec3713509d9"
   },
   "outputs": [
    {
     "name": "stdout",
     "output_type": "stream",
     "text": [
      "--2022-06-16 15:47:07--  http://vectors.nlpl.eu/repository/20/180.zip\n",
      "Resolving vectors.nlpl.eu (vectors.nlpl.eu)... 129.240.189.181\n",
      "Connecting to vectors.nlpl.eu (vectors.nlpl.eu)|129.240.189.181|:80... connected.\n",
      "HTTP request sent, awaiting response... 200 OK\n",
      "Length: 484452317 (462M) [application/zip]\n",
      "Saving to: ‘180.zip.2’\n",
      "\n",
      "180.zip.2           100%[===================>] 462.01M  27.0MB/s    in 18s     \n",
      "\n",
      "2022-06-16 15:47:26 (25.6 MB/s) - ‘180.zip.2’ saved [484452317/484452317]\n",
      "\n"
     ]
    }
   ],
   "source": [
    "# !wget http://vectors.nlpl.eu/repository/20/180.zip"
   ]
  },
  {
   "cell_type": "code",
   "execution_count": 25,
   "metadata": {
    "colab": {
     "base_uri": "https://localhost:8080/"
    },
    "id": "VhVMMkuSwPi5",
    "outputId": "0c460b21-8c68-4799-92e0-3e62dd240a62"
   },
   "outputs": [
    {
     "name": "stdout",
     "output_type": "stream",
     "text": [
      "Archive:  180.zip\n",
      "replace meta.json? [y]es, [n]o, [A]ll, [N]one, [r]ename: y\n",
      "  inflating: meta.json               \n",
      "replace model.bin? [y]es, [n]o, [A]ll, [N]one, [r]ename: y\n",
      "  inflating: model.bin               \n",
      "replace model.txt? [y]es, [n]o, [A]ll, [N]one, [r]ename: y\n",
      "  inflating: model.txt               \n",
      "replace README? [y]es, [n]o, [A]ll, [N]one, [r]ename: y\n",
      "  inflating: README                  \n"
     ]
    }
   ],
   "source": [
    "# !unzip 180.zip"
   ]
  },
  {
   "cell_type": "code",
   "execution_count": 60,
   "metadata": {
    "id": "hcceFUmNwPg2"
   },
   "outputs": [],
   "source": [
    "#загрузим предобученные векторы\n",
    "word_vectors = gensim.models.KeyedVectors.load_word2vec_format('/content/model.bin', binary=True) .vectors "
   ]
  },
  {
   "cell_type": "code",
   "execution_count": 61,
   "metadata": {
    "colab": {
     "base_uri": "https://localhost:8080/"
    },
    "id": "TLPcS5XEUQQi",
    "outputId": "114d91ae-2988-4c3b-cd0a-1c419581fc7c"
   },
   "outputs": [
    {
     "data": {
      "text/plain": [
       "(249333,\n",
       " 300,\n",
       " array([ 4.5154796e+00,  3.8297811e+00, -6.9469607e-01, -1.3958697e+00,\n",
       "        -6.8803182e+00,  2.5444067e+00, -1.3319516e+00, -1.0333906e+00,\n",
       "        -5.6126447e+00,  7.4659262e+00,  1.4538134e-02, -3.5751505e+00,\n",
       "         3.5980268e+00, -3.0855367e+00, -4.0427369e-01,  3.5216520e+00,\n",
       "        -5.8490925e+00, -3.0425388e-01,  1.6812118e+00,  2.9846013e+00,\n",
       "         1.7240332e+00,  3.9353080e+00,  4.0222373e+00, -1.1100594e+00,\n",
       "        -1.5550443e+00, -2.1131717e-01, -1.0955086e+00, -5.9671655e+00,\n",
       "         1.1800621e-01, -6.5576923e-01,  4.9077687e+00,  2.3885634e+00,\n",
       "         1.3892661e+00,  3.8770003e+00,  1.4573048e+00, -8.8545698e-01,\n",
       "        -7.6731639e+00, -1.4003915e+00, -9.4185764e-01,  1.2374935e+00,\n",
       "        -6.8622670e+00, -1.0298090e+00, -3.9164896e+00,  2.3562472e+00,\n",
       "        -2.6401494e+00, -7.1391735e+00, -5.8870583e+00, -4.6986256e+00,\n",
       "         2.3890433e+00,  6.7100887e+00, -2.9966933e-01,  4.6237164e+00,\n",
       "         1.9630557e+00,  1.0540729e+00, -3.9871624e+00,  2.4700487e+00,\n",
       "         3.6031430e+00,  7.3063998e+00,  1.1092892e+01, -2.6290195e+00,\n",
       "        -3.5700290e+00,  6.3356948e+00, -4.9151859e+00,  2.8903172e+00,\n",
       "         6.1779613e+00,  7.1497679e+00, -2.8034039e+00,  3.6702895e+00,\n",
       "        -1.0368324e+01, -4.8352914e+00, -1.8033936e+00, -5.8105650e+00,\n",
       "         2.8842642e+00, -3.1186032e+00,  6.5718408e+00,  3.3945224e+00,\n",
       "        -4.2949939e+00, -8.6350894e-01,  3.1503737e+00, -1.8434108e+00,\n",
       "         2.8480144e+00, -7.6564093e+00, -2.0146999e+00,  5.3580222e+00,\n",
       "        -1.1735508e+01, -7.9240876e-01,  1.9725128e+00, -4.7426419e+00,\n",
       "         3.4877717e+00,  8.0073547e+00, -2.9901407e+00, -1.2199397e+00,\n",
       "        -4.0073471e+00,  2.3549825e-01, -2.0860083e+00,  2.0130615e+00,\n",
       "         8.6662273e+00, -2.1071556e+00,  5.8061948e+00, -1.6721776e+00,\n",
       "         7.3472753e+00,  1.3832918e+00, -5.2247362e+00, -2.6203845e+00,\n",
       "        -1.3696783e+00,  7.2454658e+00, -4.7393126e+00,  4.1542497e+00,\n",
       "         4.7886772e+00, -8.9399707e-01, -1.0742840e+00, -2.3883581e+00,\n",
       "         3.0117838e+00, -4.0076170e+00,  1.8244199e+00, -3.8170600e+00,\n",
       "         2.2870531e+00,  1.7955042e+00,  5.5394831e+00,  4.1737046e+00,\n",
       "        -2.7934592e+00, -3.8027601e+00, -3.8838522e+00,  5.0942717e+00,\n",
       "        -8.7868923e-01, -4.0435743e+00,  2.0231321e+00, -4.1234179e+00,\n",
       "        -4.4701347e+00, -6.0272932e+00, -2.4083765e+00, -3.3972418e+00,\n",
       "         3.4885788e-01, -1.0453266e+01,  5.7681308e+00, -4.1279788e+00,\n",
       "         3.6722932e+00,  1.7859551e+00, -4.4069190e+00,  1.2564512e+00,\n",
       "         4.7174945e+00, -2.1826243e+00, -4.3403864e+00, -5.8147297e+00,\n",
       "         3.1938183e+00, -3.0596101e+00, -6.6035895e+00,  3.8361790e+00,\n",
       "        -6.8992800e-01, -1.5165969e+00,  5.8739223e+00,  5.7418461e+00,\n",
       "         8.0198717e+00,  4.8196707e+00, -3.0202260e+00,  3.4673262e+00,\n",
       "         4.8512933e-01,  4.6344134e-01,  7.4327478e+00,  2.2898004e+00,\n",
       "         4.9698472e-01,  6.7915163e+00,  2.4842925e-01,  2.4116983e+00,\n",
       "         9.3879852e+00, -5.1702085e+00,  3.1891165e+00, -5.2314454e-01,\n",
       "         2.5371120e+00,  3.9191101e+00, -9.2721834e+00,  6.9466007e-01,\n",
       "         4.2046157e-01,  5.9342432e-01, -1.0751013e+00,  3.6502051e+00,\n",
       "         1.4719205e+00, -3.5747954e-01, -1.5981477e+00, -1.2276567e+01,\n",
       "         3.6818852e+00, -7.1780658e+00,  1.6306107e+00, -4.3115811e+00,\n",
       "         1.1805470e+00,  4.4478650e+00, -1.2911537e+00, -4.8462915e+00,\n",
       "        -5.7848883e+00, -4.0357108e+00,  2.7138469e+00,  3.3179975e-01,\n",
       "        -4.0541534e+00,  2.0478969e+00, -5.2546167e+00, -1.5329370e+00,\n",
       "        -2.5398338e-01, -6.7301345e+00, -7.0062866e+00, -1.1796046e-02,\n",
       "        -5.3042579e+00,  3.3201528e+00,  5.9260397e+00,  6.1596746e+00,\n",
       "        -9.2396812e+00, -1.0592779e+00,  3.3998654e+00,  2.8303931e+00,\n",
       "         4.4629612e+00,  9.2210236e+00,  3.3074920e+00, -1.1904089e+00,\n",
       "         6.8538175e+00, -5.9215837e+00, -4.6448129e-01,  9.9441643e+00,\n",
       "        -1.7706063e+00,  3.4319410e+00, -9.1195822e+00,  3.1169522e+00,\n",
       "         5.0881791e+00,  7.3832707e+00, -3.7978709e+00, -2.6764101e-01,\n",
       "        -9.6126807e-01, -5.5214006e-01, -4.0018892e+00, -3.2706776e+00,\n",
       "         7.9391851e+00, -6.6433158e+00,  2.4319519e-01, -5.7122970e-01,\n",
       "         5.4640775e+00,  3.4327555e-01, -6.5908623e+00,  7.2436686e+00,\n",
       "        -5.8438983e+00,  7.7665454e-01, -5.3176212e+00, -9.7049980e+00,\n",
       "         2.7523289e+00, -3.6854515e+00,  3.1942894e+00, -5.0344329e+00,\n",
       "         8.3159971e+00,  5.6223359e+00, -2.6841063e+00, -5.9231395e-01,\n",
       "        -8.2551748e-01, -3.5330498e+00,  1.3009767e-01, -9.9938858e-01,\n",
       "         9.3734264e+00,  4.7237997e+00,  5.8638626e-01,  5.9825826e+00,\n",
       "         2.7137712e-01,  3.7528968e-01, -2.3297315e+00,  2.6916234e+00,\n",
       "        -3.4417062e+00,  4.2309270e+00,  2.5976963e+00, -2.4726641e+00,\n",
       "         4.4028740e+00,  8.2983160e-01, -1.9512507e+00, -4.6991305e+00,\n",
       "         6.3170161e+00, -6.5528769e+00, -1.8047940e+00, -1.2028179e+00,\n",
       "        -1.6805971e+01,  1.6547520e+00,  5.9193010e+00, -3.2227068e+00,\n",
       "        -6.8176703e+00,  3.4259312e+00, -3.5652477e-01,  5.3337002e+00,\n",
       "         5.8741469e+00, -3.4438303e+00, -1.6473678e+00, -3.8301327e+00,\n",
       "        -1.4243777e+00,  1.5447638e+00, -6.5640342e-01,  7.8158194e-01,\n",
       "         5.2983302e-01,  9.1335940e-01,  1.2214590e+00,  4.7872114e-01,\n",
       "         4.2787848e+00, -3.2980330e+00,  9.0646524e+00,  7.7823085e-01,\n",
       "        -4.9907570e+00, -4.3607873e-01,  4.5493102e+00,  4.5196757e+00],\n",
       "       dtype=float32))"
      ]
     },
     "execution_count": 61,
     "metadata": {},
     "output_type": "execute_result"
    }
   ],
   "source": [
    "len(word_vectors), len(word_vectors[1]), word_vectors[1]"
   ]
  },
  {
   "cell_type": "code",
   "execution_count": 63,
   "metadata": {
    "colab": {
     "base_uri": "https://localhost:8080/"
    },
    "id": "po6W8NYEY43i",
    "outputId": "9af0f0f4-79c0-4142-9004-10ec91db4968"
   },
   "outputs": [
    {
     "data": {
      "text/plain": [
       "800"
      ]
     },
     "execution_count": 63,
     "metadata": {},
     "output_type": "execute_result"
    }
   ],
   "source": [
    "max_words"
   ]
  },
  {
   "cell_type": "code",
   "execution_count": 75,
   "metadata": {
    "colab": {
     "base_uri": "https://localhost:8080/"
    },
    "id": "TGAk-UOlYdLe",
    "outputId": "82503ed3-f407-49de-b0b4-293d2c4b38ff"
   },
   "outputs": [
    {
     "data": {
      "text/plain": [
       "array([ 4.5154796e+00,  3.8297811e+00, -6.9469607e-01, -1.3958697e+00,\n",
       "       -6.8803182e+00,  2.5444067e+00, -1.3319516e+00, -1.0333906e+00,\n",
       "       -5.6126447e+00,  7.4659262e+00,  1.4538134e-02, -3.5751505e+00,\n",
       "        3.5980268e+00, -3.0855367e+00, -4.0427369e-01,  3.5216520e+00,\n",
       "       -5.8490925e+00, -3.0425388e-01,  1.6812118e+00,  2.9846013e+00,\n",
       "        1.7240332e+00,  3.9353080e+00,  4.0222373e+00, -1.1100594e+00,\n",
       "       -1.5550443e+00, -2.1131717e-01, -1.0955086e+00, -5.9671655e+00,\n",
       "        1.1800621e-01, -6.5576923e-01,  4.9077687e+00,  2.3885634e+00,\n",
       "        1.3892661e+00,  3.8770003e+00,  1.4573048e+00, -8.8545698e-01,\n",
       "       -7.6731639e+00, -1.4003915e+00, -9.4185764e-01,  1.2374935e+00,\n",
       "       -6.8622670e+00, -1.0298090e+00, -3.9164896e+00,  2.3562472e+00,\n",
       "       -2.6401494e+00, -7.1391735e+00, -5.8870583e+00, -4.6986256e+00,\n",
       "        2.3890433e+00,  6.7100887e+00, -2.9966933e-01,  4.6237164e+00,\n",
       "        1.9630557e+00,  1.0540729e+00, -3.9871624e+00,  2.4700487e+00,\n",
       "        3.6031430e+00,  7.3063998e+00,  1.1092892e+01, -2.6290195e+00,\n",
       "       -3.5700290e+00,  6.3356948e+00, -4.9151859e+00,  2.8903172e+00,\n",
       "        6.1779613e+00,  7.1497679e+00, -2.8034039e+00,  3.6702895e+00,\n",
       "       -1.0368324e+01, -4.8352914e+00, -1.8033936e+00, -5.8105650e+00,\n",
       "        2.8842642e+00, -3.1186032e+00,  6.5718408e+00,  3.3945224e+00,\n",
       "       -4.2949939e+00, -8.6350894e-01,  3.1503737e+00, -1.8434108e+00,\n",
       "        2.8480144e+00, -7.6564093e+00, -2.0146999e+00,  5.3580222e+00,\n",
       "       -1.1735508e+01, -7.9240876e-01,  1.9725128e+00, -4.7426419e+00,\n",
       "        3.4877717e+00,  8.0073547e+00, -2.9901407e+00, -1.2199397e+00,\n",
       "       -4.0073471e+00,  2.3549825e-01, -2.0860083e+00,  2.0130615e+00,\n",
       "        8.6662273e+00, -2.1071556e+00,  5.8061948e+00, -1.6721776e+00,\n",
       "        7.3472753e+00,  1.3832918e+00, -5.2247362e+00, -2.6203845e+00,\n",
       "       -1.3696783e+00,  7.2454658e+00, -4.7393126e+00,  4.1542497e+00,\n",
       "        4.7886772e+00, -8.9399707e-01, -1.0742840e+00, -2.3883581e+00,\n",
       "        3.0117838e+00, -4.0076170e+00,  1.8244199e+00, -3.8170600e+00,\n",
       "        2.2870531e+00,  1.7955042e+00,  5.5394831e+00,  4.1737046e+00,\n",
       "       -2.7934592e+00, -3.8027601e+00, -3.8838522e+00,  5.0942717e+00,\n",
       "       -8.7868923e-01, -4.0435743e+00,  2.0231321e+00, -4.1234179e+00,\n",
       "       -4.4701347e+00, -6.0272932e+00, -2.4083765e+00, -3.3972418e+00,\n",
       "        3.4885788e-01, -1.0453266e+01,  5.7681308e+00, -4.1279788e+00,\n",
       "        3.6722932e+00,  1.7859551e+00, -4.4069190e+00,  1.2564512e+00,\n",
       "        4.7174945e+00, -2.1826243e+00, -4.3403864e+00, -5.8147297e+00,\n",
       "        3.1938183e+00, -3.0596101e+00, -6.6035895e+00,  3.8361790e+00,\n",
       "       -6.8992800e-01, -1.5165969e+00,  5.8739223e+00,  5.7418461e+00,\n",
       "        8.0198717e+00,  4.8196707e+00, -3.0202260e+00,  3.4673262e+00,\n",
       "        4.8512933e-01,  4.6344134e-01,  7.4327478e+00,  2.2898004e+00,\n",
       "        4.9698472e-01,  6.7915163e+00,  2.4842925e-01,  2.4116983e+00,\n",
       "        9.3879852e+00, -5.1702085e+00,  3.1891165e+00, -5.2314454e-01,\n",
       "        2.5371120e+00,  3.9191101e+00, -9.2721834e+00,  6.9466007e-01,\n",
       "        4.2046157e-01,  5.9342432e-01, -1.0751013e+00,  3.6502051e+00,\n",
       "        1.4719205e+00, -3.5747954e-01, -1.5981477e+00, -1.2276567e+01,\n",
       "        3.6818852e+00, -7.1780658e+00,  1.6306107e+00, -4.3115811e+00,\n",
       "        1.1805470e+00,  4.4478650e+00, -1.2911537e+00, -4.8462915e+00,\n",
       "       -5.7848883e+00, -4.0357108e+00,  2.7138469e+00,  3.3179975e-01,\n",
       "       -4.0541534e+00,  2.0478969e+00, -5.2546167e+00, -1.5329370e+00,\n",
       "       -2.5398338e-01, -6.7301345e+00, -7.0062866e+00, -1.1796046e-02,\n",
       "       -5.3042579e+00,  3.3201528e+00,  5.9260397e+00,  6.1596746e+00,\n",
       "       -9.2396812e+00, -1.0592779e+00,  3.3998654e+00,  2.8303931e+00,\n",
       "        4.4629612e+00,  9.2210236e+00,  3.3074920e+00, -1.1904089e+00,\n",
       "        6.8538175e+00, -5.9215837e+00, -4.6448129e-01,  9.9441643e+00,\n",
       "       -1.7706063e+00,  3.4319410e+00, -9.1195822e+00,  3.1169522e+00,\n",
       "        5.0881791e+00,  7.3832707e+00, -3.7978709e+00, -2.6764101e-01,\n",
       "       -9.6126807e-01, -5.5214006e-01, -4.0018892e+00, -3.2706776e+00,\n",
       "        7.9391851e+00, -6.6433158e+00,  2.4319519e-01, -5.7122970e-01,\n",
       "        5.4640775e+00,  3.4327555e-01, -6.5908623e+00,  7.2436686e+00,\n",
       "       -5.8438983e+00,  7.7665454e-01, -5.3176212e+00, -9.7049980e+00,\n",
       "        2.7523289e+00, -3.6854515e+00,  3.1942894e+00, -5.0344329e+00,\n",
       "        8.3159971e+00,  5.6223359e+00, -2.6841063e+00, -5.9231395e-01,\n",
       "       -8.2551748e-01, -3.5330498e+00,  1.3009767e-01, -9.9938858e-01,\n",
       "        9.3734264e+00,  4.7237997e+00,  5.8638626e-01,  5.9825826e+00],\n",
       "      dtype=float32)"
      ]
     },
     "execution_count": 75,
     "metadata": {},
     "output_type": "execute_result"
    }
   ],
   "source": [
    "#обрежем word_vectors по размеру эмбеддингов (взяла длину эмбединга = 256)  по количеству слов, которые у нас есть в словаре\n",
    "word_vectors_emd = [word_vectors[i][:256] for i in range(max_words)]\n",
    "word_vectors_emd[1]"
   ]
  },
  {
   "cell_type": "code",
   "execution_count": 101,
   "metadata": {
    "id": "sq62JGblwPeg"
   },
   "outputs": [],
   "source": [
    "#инициализируем веса в эмбеддинге\n",
    "initializer = tf.keras.initializers.Constant(word_vectors_emd)\n",
    "\n",
    "model = Sequential()\n",
    "model.add(Embedding(input_dim=max_words, output_dim=256, embeddings_initializer = initializer, input_length=max_len)) \n",
    "                    #inputdim -- размер словаря, outputdim -- длина вектора, input_length -- длина входной последовательности\n",
    "                    #на вход: (батч, input_lenght), на выходе: (батч, input_lenght, output_dim)\n",
    "\n",
    "model.add(Conv1D(64, 3, padding = 'same'))\n",
    "                   #128 -- количество 1D-фильтров, длина фильтра -- 3\n",
    "                   #на выходе (количество объектов, 128 - длина нового эмбединга)\n",
    "\n",
    "model.add(MaxPool1D(2))  \n",
    "\n",
    "model.add(Activation(\"relu\"))\n",
    "\n",
    "\n",
    "model.add(Conv1D(128, 3, padding = 'same'))\n",
    "\n",
    "model.add(MaxPool1D(2))\n",
    "\n",
    "model.add(Activation(\"relu\"))\n",
    "                    #применяем функцию активации к выходу предыдущего слоя\n",
    "\n",
    "model.add(GlobalMaxPool1D())\n",
    "                    # в каждой свертке для каждого элемента эмбединга оставляем максимум - получаем один 128-м эмбеддинг\n",
    "\n",
    "model.add(Dense(128))\n",
    "               #128-количество выходов\n",
    "model.add(Activation(\"relu\"))\n",
    "model.add(Dense(64))\n",
    "model.add(Activation(\"relu\"))\n",
    "\n",
    "model.add(Dense(num_classes))\n",
    "                #num_classes = 5 -- количество выходов\n",
    "model.add(Activation('softmax'))\n",
    "                #преобразуем вектор в рапределение вероятностей"
   ]
  },
  {
   "cell_type": "code",
   "execution_count": 102,
   "metadata": {
    "colab": {
     "base_uri": "https://localhost:8080/"
    },
    "id": "4iGSxj7QZsMS",
    "outputId": "372ccce8-6076-4d87-b85f-919a8ae4f617"
   },
   "outputs": [
    {
     "name": "stdout",
     "output_type": "stream",
     "text": [
      "Model: \"sequential_14\"\n",
      "_________________________________________________________________\n",
      " Layer (type)                Output Shape              Param #   \n",
      "=================================================================\n",
      " embedding_14 (Embedding)    (None, 100, 256)          204800    \n",
      "                                                                 \n",
      " conv1d_24 (Conv1D)          (None, 100, 64)           49216     \n",
      "                                                                 \n",
      " max_pooling1d_23 (MaxPoolin  (None, 50, 64)           0         \n",
      " g1D)                                                            \n",
      "                                                                 \n",
      " activation_60 (Activation)  (None, 50, 64)            0         \n",
      "                                                                 \n",
      " conv1d_25 (Conv1D)          (None, 50, 128)           24704     \n",
      "                                                                 \n",
      " max_pooling1d_24 (MaxPoolin  (None, 25, 128)          0         \n",
      " g1D)                                                            \n",
      "                                                                 \n",
      " activation_61 (Activation)  (None, 25, 128)           0         \n",
      "                                                                 \n",
      " global_max_pooling1d_12 (Gl  (None, 128)              0         \n",
      " obalMaxPooling1D)                                               \n",
      "                                                                 \n",
      " dense_36 (Dense)            (None, 128)               16512     \n",
      "                                                                 \n",
      " activation_62 (Activation)  (None, 128)               0         \n",
      "                                                                 \n",
      " dense_37 (Dense)            (None, 64)                8256      \n",
      "                                                                 \n",
      " activation_63 (Activation)  (None, 64)                0         \n",
      "                                                                 \n",
      " dense_38 (Dense)            (None, 5)                 325       \n",
      "                                                                 \n",
      " activation_64 (Activation)  (None, 5)                 0         \n",
      "                                                                 \n",
      "=================================================================\n",
      "Total params: 303,813\n",
      "Trainable params: 303,813\n",
      "Non-trainable params: 0\n",
      "_________________________________________________________________\n"
     ]
    }
   ],
   "source": [
    "model.summary()"
   ]
  },
  {
   "cell_type": "code",
   "execution_count": 103,
   "metadata": {
    "id": "U5TuI2R8Z1oH"
   },
   "outputs": [],
   "source": [
    "model.compile(loss='categorical_crossentropy',\n",
    "              optimizer='adam',\n",
    "              metrics=['accuracy'])"
   ]
  },
  {
   "cell_type": "code",
   "execution_count": 104,
   "metadata": {
    "colab": {
     "base_uri": "https://localhost:8080/"
    },
    "id": "m9QM733sZsQY",
    "outputId": "d581e6f9-9651-4796-d5ff-2061efbe0cb9"
   },
   "outputs": [
    {
     "name": "stdout",
     "output_type": "stream",
     "text": [
      "Epoch 1/10\n",
      "25/25 [==============================] - 17s 660ms/step - loss: 0.9756 - accuracy: 0.6934 - val_loss: 0.8278 - val_accuracy: 0.7184\n",
      "Epoch 2/10\n",
      "25/25 [==============================] - 16s 649ms/step - loss: 0.7857 - accuracy: 0.7374 - val_loss: 0.7902 - val_accuracy: 0.7314\n",
      "Epoch 3/10\n",
      "25/25 [==============================] - 16s 650ms/step - loss: 0.7306 - accuracy: 0.7512 - val_loss: 0.7555 - val_accuracy: 0.7357\n",
      "Epoch 4/10\n",
      "25/25 [==============================] - 16s 650ms/step - loss: 0.6787 - accuracy: 0.7693 - val_loss: 0.7342 - val_accuracy: 0.7444\n",
      "Epoch 5/10\n",
      "25/25 [==============================] - 16s 651ms/step - loss: 0.6351 - accuracy: 0.7820 - val_loss: 0.7823 - val_accuracy: 0.7379\n",
      "Epoch 6/10\n",
      "25/25 [==============================] - 16s 655ms/step - loss: 0.5944 - accuracy: 0.8016 - val_loss: 0.7394 - val_accuracy: 0.7451\n",
      "Epoch 7/10\n",
      "25/25 [==============================] - 16s 657ms/step - loss: 0.5463 - accuracy: 0.8164 - val_loss: 0.7610 - val_accuracy: 0.7329\n",
      "Epoch 8/10\n",
      "25/25 [==============================] - 16s 651ms/step - loss: 0.5023 - accuracy: 0.8354 - val_loss: 0.7728 - val_accuracy: 0.7365\n",
      "Epoch 9/10\n",
      "25/25 [==============================] - 16s 655ms/step - loss: 0.4681 - accuracy: 0.8487 - val_loss: 0.7985 - val_accuracy: 0.7466\n",
      "Epoch 10/10\n",
      "25/25 [==============================] - 16s 654ms/step - loss: 0.4165 - accuracy: 0.8687 - val_loss: 0.8560 - val_accuracy: 0.7466\n"
     ]
    }
   ],
   "source": [
    "# tensorboard=TensorBoard(log_dir='./logs', write_graph=True, write_images=True)\n",
    "# early_stopping=EarlyStopping(monitor='val_loss', min_delta = 0.001)  \n",
    "\n",
    "# Убрала callbacks, чтобы посмотреть изменение метрик\n",
    "\n",
    "epochs = 10\n",
    "batch_size = 512\n",
    "\n",
    "history = model.fit(x_train, y_train,\n",
    "                    batch_size=batch_size,\n",
    "                    epochs=epochs,\n",
    "                    verbose=1,\n",
    "                    validation_split=0.1,\n",
    "                    # callbacks=[early_stopping]\n",
    "                    )"
   ]
  },
  {
   "cell_type": "code",
   "execution_count": 105,
   "metadata": {
    "colab": {
     "base_uri": "https://localhost:8080/"
    },
    "id": "_xBqqsSEZ-ew",
    "outputId": "80d3ddc3-8040-471c-dec4-8709b6d1afcc"
   },
   "outputs": [
    {
     "name": "stdout",
     "output_type": "stream",
     "text": [
      "14/14 [==============================] - 2s 146ms/step - loss: 0.8286 - accuracy: 0.7479\n",
      "\n",
      "\n",
      "Test loss: 0.8286218047142029\n",
      "Test f1_score: 0.7478733062744141\n"
     ]
    }
   ],
   "source": [
    "score = model.evaluate(x_test, y_test, batch_size=batch_size, verbose=1)\n",
    "print('\\n')\n",
    "print('Test loss:', score[0])\n",
    "print('Test f1_score:', score[1])"
   ]
  },
  {
   "cell_type": "markdown",
   "metadata": {
    "id": "Qkg2xWu8wP0F"
   },
   "source": [
    "**Нейронная сеть с обучаемым слоем Embedding**"
   ]
  },
  {
   "cell_type": "code",
   "execution_count": 77,
   "metadata": {
    "colab": {
     "base_uri": "https://localhost:8080/"
    },
    "id": "-wl1rgsGCv-w",
    "outputId": "724b27ad-aa4e-44df-daaa-710ddf8c72c3"
   },
   "outputs": [
    {
     "data": {
      "text/plain": [
       "100"
      ]
     },
     "execution_count": 77,
     "metadata": {},
     "output_type": "execute_result"
    }
   ],
   "source": [
    "max_len"
   ]
  },
  {
   "cell_type": "code",
   "execution_count": 78,
   "metadata": {
    "id": "NgeJY5lPwSin"
   },
   "outputs": [],
   "source": [
    "model = Sequential()\n",
    "model.add(Embedding(input_dim=max_words, output_dim=256, input_length=max_len)) \n",
    "                    #inputdim -- размер словаря, outputdim -- длина вектора, input_length -- длина входной последовательности\n",
    "                    #на вход: (батч, input_lenght), на выходе: (батч, input_lenght, output_dim)\n",
    "\n",
    "model.add(Conv1D(64, 3, padding = 'same'))\n",
    "                   #128 -- количество 1D-фильтров, длина фильтра -- 3\n",
    "                   #на выходе (количество объектов, 128 - длина нового эмбединга)\n",
    "\n",
    "model.add(MaxPool1D(2))  \n",
    "\n",
    "model.add(Activation(\"relu\"))\n",
    "\n",
    "\n",
    "model.add(Conv1D(128, 3, padding = 'same'))\n",
    "\n",
    "model.add(MaxPool1D(2))\n",
    "\n",
    "model.add(Activation(\"relu\"))\n",
    "                    #применяем функцию активации к выходу предыдущего слоя\n",
    "\n",
    "model.add(GlobalMaxPool1D())\n",
    "                    # в каждой свертке для каждого элемента эмбединга оставляем максимум - получаем один 128-м эмбеддинг\n",
    "\n",
    "model.add(Dense(128))\n",
    "               #128-количество выходов\n",
    "model.add(Activation(\"relu\"))\n",
    "model.add(Dense(64))\n",
    "model.add(Activation(\"relu\"))\n",
    "\n",
    "model.add(Dense(num_classes))\n",
    "                #num_classes = 5 -- количество выходов\n",
    "model.add(Activation('softmax'))\n",
    "                #преобразуем вектор в рапределение вероятностей"
   ]
  },
  {
   "cell_type": "code",
   "execution_count": 79,
   "metadata": {
    "colab": {
     "base_uri": "https://localhost:8080/"
    },
    "id": "CMFaa2HHwSgd",
    "outputId": "b1e1473b-2a24-4b81-a0b0-9f455b01f0d4"
   },
   "outputs": [
    {
     "name": "stdout",
     "output_type": "stream",
     "text": [
      "Model: \"sequential_10\"\n",
      "_________________________________________________________________\n",
      " Layer (type)                Output Shape              Param #   \n",
      "=================================================================\n",
      " embedding_10 (Embedding)    (None, 100, 256)          204800    \n",
      "                                                                 \n",
      " conv1d_16 (Conv1D)          (None, 100, 64)           49216     \n",
      "                                                                 \n",
      " max_pooling1d_15 (MaxPoolin  (None, 50, 64)           0         \n",
      " g1D)                                                            \n",
      "                                                                 \n",
      " activation_40 (Activation)  (None, 50, 64)            0         \n",
      "                                                                 \n",
      " conv1d_17 (Conv1D)          (None, 50, 128)           24704     \n",
      "                                                                 \n",
      " max_pooling1d_16 (MaxPoolin  (None, 25, 128)          0         \n",
      " g1D)                                                            \n",
      "                                                                 \n",
      " activation_41 (Activation)  (None, 25, 128)           0         \n",
      "                                                                 \n",
      " global_max_pooling1d_8 (Glo  (None, 128)              0         \n",
      " balMaxPooling1D)                                                \n",
      "                                                                 \n",
      " dense_24 (Dense)            (None, 128)               16512     \n",
      "                                                                 \n",
      " activation_42 (Activation)  (None, 128)               0         \n",
      "                                                                 \n",
      " dense_25 (Dense)            (None, 64)                8256      \n",
      "                                                                 \n",
      " activation_43 (Activation)  (None, 64)                0         \n",
      "                                                                 \n",
      " dense_26 (Dense)            (None, 5)                 325       \n",
      "                                                                 \n",
      " activation_44 (Activation)  (None, 5)                 0         \n",
      "                                                                 \n",
      "=================================================================\n",
      "Total params: 303,813\n",
      "Trainable params: 303,813\n",
      "Non-trainable params: 0\n",
      "_________________________________________________________________\n"
     ]
    }
   ],
   "source": [
    "model.summary()"
   ]
  },
  {
   "cell_type": "code",
   "execution_count": 80,
   "metadata": {
    "id": "QPKzg1tvwSd9"
   },
   "outputs": [],
   "source": [
    "model.compile(loss='categorical_crossentropy',\n",
    "              optimizer='adam',\n",
    "              metrics=['accuracy'])"
   ]
  },
  {
   "cell_type": "code",
   "execution_count": 44,
   "metadata": {
    "colab": {
     "base_uri": "https://localhost:8080/"
    },
    "id": "YUWxhYGJwR4w",
    "outputId": "19f5838a-bd6a-45dc-dd47-c26a3f95c461"
   },
   "outputs": [
    {
     "name": "stdout",
     "output_type": "stream",
     "text": [
      "Epoch 1/10\n",
      "25/25 [==============================] - 19s 707ms/step - loss: 1.1364 - accuracy: 0.6798 - val_loss: 0.9619 - val_accuracy: 0.7011\n",
      "Epoch 2/10\n",
      "25/25 [==============================] - 17s 680ms/step - loss: 0.8389 - accuracy: 0.7093 - val_loss: 0.7347 - val_accuracy: 0.7473\n",
      "Epoch 3/10\n",
      "25/25 [==============================] - 16s 636ms/step - loss: 0.6720 - accuracy: 0.7680 - val_loss: 0.7112 - val_accuracy: 0.7487\n",
      "Epoch 4/10\n",
      "25/25 [==============================] - 16s 636ms/step - loss: 0.6321 - accuracy: 0.7799 - val_loss: 0.6992 - val_accuracy: 0.7523\n",
      "Epoch 5/10\n",
      "25/25 [==============================] - 17s 694ms/step - loss: 0.6121 - accuracy: 0.7849 - val_loss: 0.7049 - val_accuracy: 0.7516\n",
      "Epoch 6/10\n",
      "25/25 [==============================] - 16s 655ms/step - loss: 0.5970 - accuracy: 0.7915 - val_loss: 0.7163 - val_accuracy: 0.7502\n",
      "Epoch 7/10\n",
      "25/25 [==============================] - 16s 637ms/step - loss: 0.5819 - accuracy: 0.7962 - val_loss: 0.7164 - val_accuracy: 0.7502\n",
      "Epoch 8/10\n",
      "25/25 [==============================] - 16s 634ms/step - loss: 0.5627 - accuracy: 0.8054 - val_loss: 0.7338 - val_accuracy: 0.7538\n",
      "Epoch 9/10\n",
      "25/25 [==============================] - 17s 682ms/step - loss: 0.5439 - accuracy: 0.8131 - val_loss: 0.7407 - val_accuracy: 0.7581\n",
      "Epoch 10/10\n",
      "25/25 [==============================] - 16s 638ms/step - loss: 0.5139 - accuracy: 0.8255 - val_loss: 0.7516 - val_accuracy: 0.7603\n"
     ]
    }
   ],
   "source": [
    "# tensorboard=TensorBoard(log_dir='./logs', write_graph=True, write_images=True)\n",
    "# early_stopping=EarlyStopping(monitor='val_loss', min_delta = 0.001)  \n",
    "\n",
    "# Убрала callbacks, чтобы посмотреть изменение метрик\n",
    "\n",
    "epochs = 10\n",
    "batch_size = 512\n",
    "\n",
    "history = model.fit(x_train, y_train,\n",
    "                    batch_size=batch_size,\n",
    "                    epochs=epochs,\n",
    "                    verbose=1,\n",
    "                    validation_split=0.1,\n",
    "                    # callbacks=[early_stopping]\n",
    "                    )"
   ]
  },
  {
   "cell_type": "code",
   "execution_count": 47,
   "metadata": {
    "colab": {
     "base_uri": "https://localhost:8080/"
    },
    "id": "0x-M9N7LEgF8",
    "outputId": "62d8fcef-9e69-4400-d897-256c62f0792e"
   },
   "outputs": [
    {
     "name": "stdout",
     "output_type": "stream",
     "text": [
      "14/14 [==============================] - 3s 213ms/step - loss: 0.7032 - accuracy: 0.7752\n",
      "\n",
      "\n",
      "Test loss: 0.7032281160354614\n",
      "Test f1_score: 0.7751539945602417\n"
     ]
    }
   ],
   "source": [
    "score = model.evaluate(x_test, y_test, batch_size=batch_size, verbose=1)\n",
    "print('\\n')\n",
    "print('Test loss:', score[0])\n",
    "print('Test f1_score:', score[1])"
   ]
  },
  {
   "cell_type": "markdown",
   "metadata": {
    "id": "O7hmm3-_S4Fk"
   },
   "source": [
    "**Вывод:** сеть с обучаемыми эмбеддингами (не инициализиованными) показала результат лучше, нежели сеть с инициализированными эмбеддингами"
   ]
  }
 ],
 "metadata": {
  "colab": {
   "name": "web7_hw.ipynb",
   "provenance": []
  },
  "kernelspec": {
   "display_name": "Python 3",
   "language": "python",
   "name": "python3"
  },
  "language_info": {
   "codemirror_mode": {
    "name": "ipython",
    "version": 3
   },
   "file_extension": ".py",
   "mimetype": "text/x-python",
   "name": "python",
   "nbconvert_exporter": "python",
   "pygments_lexer": "ipython3",
   "version": "3.9.2"
  }
 },
 "nbformat": 4,
 "nbformat_minor": 1
}
