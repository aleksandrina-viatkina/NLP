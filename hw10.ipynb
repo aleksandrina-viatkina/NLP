{
 "cells": [
  {
   "cell_type": "markdown",
   "metadata": {
    "id": "fiNvvfFeEyA_"
   },
   "source": [
    "# Домашнее задание к вебинару 10. Машинный перевод. Модель seq2seq и механизм внимания"
   ]
  },
  {
   "cell_type": "code",
   "execution_count": 3,
   "metadata": {
    "id": "XMdZ_k8VESg3"
   },
   "outputs": [],
   "source": [
    "import tensorflow as tf\n",
    "\n",
    "import matplotlib.pyplot as plt\n",
    "import matplotlib.ticker as ticker\n",
    "from sklearn.model_selection import train_test_split\n",
    "\n",
    "import unicodedata\n",
    "import re\n",
    "import numpy as np\n",
    "import os\n",
    "import io\n",
    "import time"
   ]
  },
  {
   "cell_type": "markdown",
   "metadata": {
    "id": "XCmSzwqLKqlc"
   },
   "source": [
    "### Загрузка данных"
   ]
  },
  {
   "cell_type": "code",
   "execution_count": 4,
   "metadata": {
    "colab": {
     "base_uri": "https://localhost:8080/"
    },
    "id": "GpVNZ5nUKp1c",
    "outputId": "a9efba51-a677-4270-f608-4ded4e22f2fb"
   },
   "outputs": [
    {
     "name": "stdout",
     "output_type": "stream",
     "text": [
      "--2022-06-29 12:50:09--  http://www.manythings.org/anki/rus-eng.zip\n",
      "Resolving www.manythings.org (www.manythings.org)... 173.254.30.110\n",
      "Connecting to www.manythings.org (www.manythings.org)|173.254.30.110|:80... connected.\n",
      "HTTP request sent, awaiting response... 200 OK\n",
      "Length: 14819554 (14M) [application/zip]\n",
      "Saving to: ‘rus-eng.zip’\n",
      "\n",
      "rus-eng.zip         100%[===================>]  14.13M  19.8MB/s    in 0.7s    \n",
      "\n",
      "2022-06-29 12:50:10 (19.8 MB/s) - ‘rus-eng.zip’ saved [14819554/14819554]\n",
      "\n"
     ]
    }
   ],
   "source": [
    "#Скачиваем датасет\n",
    "!wget http://www.manythings.org/anki/rus-eng.zip"
   ]
  },
  {
   "cell_type": "code",
   "execution_count": 5,
   "metadata": {
    "colab": {
     "base_uri": "https://localhost:8080/"
    },
    "id": "dlqd77clGAAD",
    "outputId": "b9fcb7e3-7e16-40a4-cc85-721b870c1a4e"
   },
   "outputs": [
    {
     "name": "stdout",
     "output_type": "stream",
     "text": [
      "Archive:  rus-eng.zip\n",
      "  inflating: rus-eng/rus.txt         \n",
      "  inflating: rus-eng/_about.txt      \n"
     ]
    }
   ],
   "source": [
    "#Создаем папку и извлекаем туда файлы из архива\n",
    "!mkdir rus-eng\n",
    "!unzip rus-eng.zip -d rus-eng/"
   ]
  },
  {
   "cell_type": "code",
   "execution_count": 6,
   "metadata": {
    "colab": {
     "base_uri": "https://localhost:8080/"
    },
    "id": "AVLsyRuiLKP6",
    "outputId": "68643138-3286-4cba-a166-42b053d3ecb4"
   },
   "outputs": [
    {
     "name": "stdout",
     "output_type": "stream",
     "text": [
      "total 71M\n",
      "drwxr-xr-x 2 root root 4.0K Jun 29 12:50 .\n",
      "drwxr-xr-x 1 root root 4.0K Jun 29 12:50 ..\n",
      "-rw-r--r-- 1 root root 1.5K May  2 01:29 _about.txt\n",
      "-rw-r--r-- 1 root root  71M May  2 01:29 rus.txt\n"
     ]
    }
   ],
   "source": [
    "!ls /content/rus-eng/ -lah"
   ]
  },
  {
   "cell_type": "code",
   "execution_count": 7,
   "metadata": {
    "id": "YnedKOa1LKNm"
   },
   "outputs": [],
   "source": [
    "# Загрузка файл\n",
    "path_to_file = \"/content/rus-eng/rus.txt\""
   ]
  },
  {
   "cell_type": "code",
   "execution_count": 8,
   "metadata": {
    "colab": {
     "base_uri": "https://localhost:8080/"
    },
    "id": "nGRNttV_LKLM",
    "outputId": "ad4d2565-05b5-4010-b7a2-97030728c93e"
   },
   "outputs": [
    {
     "name": "stdout",
     "output_type": "stream",
     "text": [
      "Go.\tМарш!\tCC-BY 2.0 (France) Attribution: tatoeba.org #2877272 (CM) & #1159202 (shanghainese)\n",
      "\n"
     ]
    }
   ],
   "source": [
    "# Откроем пример строки\n",
    "f = open(path_to_file)\n",
    "for line in f:\n",
    "    print(line)\n",
    "    break"
   ]
  },
  {
   "cell_type": "markdown",
   "metadata": {
    "id": "JC0-GbRdGSoD"
   },
   "source": [
    "### Подготовка данных"
   ]
  },
  {
   "cell_type": "code",
   "execution_count": 9,
   "metadata": {
    "id": "rAqO-whBL5YW"
   },
   "outputs": [],
   "source": [
    "''' ПРЕДОБРАБОТКА ТЕКСТА'''\n",
    "\n",
    "#функция препроцессинга\n",
    "def preprocess_sentence(w):\n",
    "    #переводим предложение к нижнему регистру и удалем начальные и конечные пробелы\n",
    "    w = w.lower().strip()\n",
    "\n",
    "    # отделяем пробелом слово и следующую за ним пунктуацию\n",
    "    w = re.sub(r\"([?.!,])\", r\" \\1 \", w)\n",
    "    # убираем множественные проблемы (заменяем одним)\n",
    "    w = re.sub(r'[\" \"]+', \" \", w)\n",
    "\n",
    "   # все, кроме букв и знаков пунктуации, заменяем пробелом\n",
    "    w = re.sub(r\"[^a-zA-Zа-яА-Я?.!,']+\", \" \", w)\n",
    "  \n",
    "   #удаляем лишние пробелы в начале и конце\n",
    "    w = w.strip()\n",
    "\n",
    "    # Добавляем стартовый и конечный токены <start> и <end>\n",
    "    # теперь модель знает, где начинать и заканчивать предсказания\n",
    "    w = '<start> ' + w + ' <end>'\n",
    "    return w"
   ]
  },
  {
   "cell_type": "code",
   "execution_count": 10,
   "metadata": {
    "colab": {
     "base_uri": "https://localhost:8080/",
     "height": 37
    },
    "id": "_lgyk6DiL5WS",
    "outputId": "a62d5a41-6064-4804-c90e-7b7a9474d3e0"
   },
   "outputs": [
    {
     "data": {
      "application/vnd.google.colaboratory.intrinsic+json": {
       "type": "string"
      },
      "text/plain": [
       "'<start> i want to go to moscow , not ekaterinburg . <end>'"
      ]
     },
     "execution_count": 10,
     "metadata": {},
     "output_type": "execute_result"
    }
   ],
   "source": [
    "#пример работы препроцессинга\n",
    "preprocess_sentence(\"I want -to      go to Moscow, not Ekaterinburg .\")"
   ]
  },
  {
   "cell_type": "code",
   "execution_count": 11,
   "metadata": {
    "id": "YMg_3p1JL5T6"
   },
   "outputs": [],
   "source": [
    "'''СОЗДАНИЕ ДАТАСЕТА'''\n",
    "\n",
    "# 1. Удаление акцентов\n",
    "# 2. Чистка последовательности\n",
    "# 3. Возвращаем пары слов: [ENG, RUS]\n",
    "\n",
    "def create_dataset(path, num_examples):\n",
    "  # считываем строки файла\n",
    "  lines = io.open(path, encoding='UTF-8').read().strip().split('\\n')\n",
    "\n",
    "  # каждую строку сплитуем по \\t и берем первые два объекта - это и будут слова английское и русское слова (фразы)\n",
    "  word_pairs = [[preprocess_sentence(w) for w in l.split('\\t')[:2]]  for l in lines[:num_examples]]\n",
    " \n",
    "  return zip(*word_pairs)\n"
   ]
  },
  {
   "cell_type": "code",
   "execution_count": 12,
   "metadata": {
    "colab": {
     "base_uri": "https://localhost:8080/"
    },
    "id": "UmQn3lutGT9g",
    "outputId": "9d59b0b0-b1d2-45ec-d18f-3ea05cfebaa5"
   },
   "outputs": [
    {
     "name": "stdout",
     "output_type": "stream",
     "text": [
      "<start> who ? <end>\n",
      "<start> кто ? <end>\n"
     ]
    }
   ],
   "source": [
    "# пример\n",
    "en, ru = create_dataset(path_to_file, None)\n",
    "print(en[13])\n",
    "print(ru[13])"
   ]
  },
  {
   "cell_type": "code",
   "execution_count": 13,
   "metadata": {
    "colab": {
     "base_uri": "https://localhost:8080/"
    },
    "id": "7SM4nAbSSv7o",
    "outputId": "cb3f9315-6a12-4f5c-9783-590382c7bc31"
   },
   "outputs": [
    {
     "data": {
      "text/plain": [
       "(444587, 444587)"
      ]
     },
     "execution_count": 13,
     "metadata": {},
     "output_type": "execute_result"
    }
   ],
   "source": [
    "# количество данных в датасете\n",
    "len(en), len(ru)"
   ]
  },
  {
   "cell_type": "code",
   "execution_count": 14,
   "metadata": {
    "id": "lQEfxOo0UFci"
   },
   "outputs": [],
   "source": [
    "# Токенизация\n",
    "\n",
    "def tokenize(lang):\n",
    "    lang_tokenizer = tf.keras.preprocessing.text.Tokenizer(\n",
    "      filters='')\n",
    "    lang_tokenizer.fit_on_texts(lang)\n",
    "\n",
    "    # преобразовываем фразу в последовательность индексов\n",
    "    tensor = lang_tokenizer.texts_to_sequences(lang)\n",
    "\n",
    "    # выравниваем последовательность так, чтобы\n",
    "    tensor = tf.keras.preprocessing.sequence.pad_sequences(tensor,\n",
    "                                                         padding='post')\n",
    "\n",
    "    return tensor, lang_tokenizer"
   ]
  },
  {
   "cell_type": "code",
   "execution_count": 15,
   "metadata": {
    "id": "JtnJjB2jTYV3"
   },
   "outputs": [],
   "source": [
    "# Загрузчик датасета\n",
    "\n",
    "def load_dataset(path, num_examples=None):\n",
    "  # создаем пары английское слово (фраза) - русское слово (фраза)\n",
    "  targ_lang, inp_lang = create_dataset(path, num_examples)\n",
    "\n",
    "  input_tensor, inp_lang_tokenizer = tokenize(inp_lang)\n",
    "  target_tensor, targ_lang_tokenizer = tokenize(targ_lang)\n",
    "\n",
    "  return input_tensor, target_tensor, inp_lang_tokenizer, targ_lang_tokenizer"
   ]
  },
  {
   "cell_type": "code",
   "execution_count": 16,
   "metadata": {
    "colab": {
     "base_uri": "https://localhost:8080/"
    },
    "id": "YJEaI76LTYS_",
    "outputId": "f270d8ec-38d4-4618-82b5-3d024c9d7dd1"
   },
   "outputs": [
    {
     "data": {
      "text/plain": [
       "(array([[    1,  5674,    24, ...,     0,     0,     0],\n",
       "        [    1,   198,     3, ...,     0,     0,     0],\n",
       "        [    1,   298,     3, ...,     0,     0,     0],\n",
       "        ...,\n",
       "        [    1,    19, 20543, ...,     0,     0,     0],\n",
       "        [    1,    19,     9, ...,     0,     0,     0],\n",
       "        [    1,    19,    60, ...,     0,     0,     0]], dtype=int32),\n",
       " array([[  1,  27,   3, ...,   0,   0,   0],\n",
       "        [  1,  27,   3, ...,   0,   0,   0],\n",
       "        [  1,  27,   3, ...,   0,   0,   0],\n",
       "        ...,\n",
       "        [  1,  28, 377, ...,   0,   0,   0],\n",
       "        [  1,  28, 113, ...,   2,   0,   0],\n",
       "        [  1,  28, 113, ...,   0,   0,   0]], dtype=int32))"
      ]
     },
     "execution_count": 16,
     "metadata": {},
     "output_type": "execute_result"
    }
   ],
   "source": [
    "num_examples = 100000\n",
    "input_tensor, target_tensor, inp_lang, targ_lang = load_dataset(path_to_file, num_examples)\n",
    "\n",
    "input_tensor, target_tensor"
   ]
  },
  {
   "cell_type": "code",
   "execution_count": 17,
   "metadata": {
    "id": "cDLno4osTYQc"
   },
   "outputs": [],
   "source": [
    "# Найдем максимальную длину полученных последовательностей в тензорах\n",
    "\n",
    "max_length_targ, max_length_inp = target_tensor.shape[1], input_tensor.shape[1]"
   ]
  },
  {
   "cell_type": "code",
   "execution_count": 18,
   "metadata": {
    "colab": {
     "base_uri": "https://localhost:8080/"
    },
    "id": "xJBQm5m-TYMh",
    "outputId": "f1beaca4-f6c4-4114-c5e7-3187644ecda9"
   },
   "outputs": [
    {
     "name": "stdout",
     "output_type": "stream",
     "text": [
      "80000 80000 20000 20000\n"
     ]
    }
   ],
   "source": [
    "# Сформируем тренировочный и валидационный датасеты в соотношении 80/20\n",
    "input_tensor_train, input_tensor_val, target_tensor_train, target_tensor_val = train_test_split(input_tensor, target_tensor, test_size=0.2)\n",
    "\n",
    "# Длина полученных наборов данных\n",
    "print(len(input_tensor_train), len(target_tensor_train), len(input_tensor_val), len(target_tensor_val))"
   ]
  },
  {
   "cell_type": "code",
   "execution_count": 19,
   "metadata": {
    "id": "3KyV6V4xe08S"
   },
   "outputs": [],
   "source": [
    "# функция вывода преобразования текста из токена\n",
    "\n",
    "def convert(lang, tensor):\n",
    "    for t in tensor:\n",
    "        if t!=0:\n",
    "            print (\"%d ----> %s\" % (t, lang.index_word[t]))"
   ]
  },
  {
   "cell_type": "code",
   "execution_count": 20,
   "metadata": {
    "colab": {
     "base_uri": "https://localhost:8080/"
    },
    "id": "xt2-EjXbe059",
    "outputId": "a816e5db-3f38-43df-de45-649ba0b951c6"
   },
   "outputs": [
    {
     "name": "stdout",
     "output_type": "stream",
     "text": [
      "Input Language; index to word mapping\n",
      "1 ----> <start>\n",
      "13 ----> мы\n",
      "10258 ----> перетрудились\n",
      "3 ----> .\n",
      "2 ----> <end>\n",
      "\n",
      "Target Language; index to word mapping\n",
      "1 ----> <start>\n",
      "60 ----> we're\n",
      "2945 ----> overworked\n",
      "3 ----> .\n",
      "2 ----> <end>\n"
     ]
    }
   ],
   "source": [
    "print (\"Input Language; index to word mapping\")\n",
    "convert(inp_lang, input_tensor_train[13])\n",
    "print ()\n",
    "print (\"Target Language; index to word mapping\")\n",
    "convert(targ_lang, target_tensor_train[13])"
   ]
  },
  {
   "cell_type": "markdown",
   "metadata": {
    "id": "bhkVHjltgEQi"
   },
   "source": [
    "**Создадим tensorflow dataset**"
   ]
  },
  {
   "cell_type": "code",
   "execution_count": 21,
   "metadata": {
    "id": "8BpYPlK5e03o"
   },
   "outputs": [],
   "source": [
    "# Зададим значения параметров\n",
    "BUFFER_SIZE = len(input_tensor_train)\n",
    "BATCH_SIZE = 64\n",
    "steps_per_epoch = len(input_tensor_train)//BATCH_SIZE\n",
    "embedding_dim = 300\n",
    "units = 1024\n",
    "vocab_inp_size = len(inp_lang.word_index)+1\n",
    "vocab_tar_size = len(targ_lang.word_index)+1\n",
    "\n",
    "# Теперь создаем датасет\n",
    "dataset = tf.data.Dataset.from_tensor_slices((input_tensor_train, target_tensor_train)).shuffle(BUFFER_SIZE)\n",
    "\n",
    "# Делим на батчи и параметром drop_reminder убираем лишний батч мЕньшего размера, если при разбиении такой образуется\n",
    "dataset = dataset.batch(BATCH_SIZE, drop_remainder=True)"
   ]
  },
  {
   "cell_type": "code",
   "execution_count": 22,
   "metadata": {
    "colab": {
     "base_uri": "https://localhost:8080/"
    },
    "id": "7fWx6ajwe01Q",
    "outputId": "97e906f8-3367-46ed-d176-5e1538b4666b"
   },
   "outputs": [
    {
     "data": {
      "text/plain": [
       "(TensorShape([64, 15]), TensorShape([64, 11]))"
      ]
     },
     "execution_count": 22,
     "metadata": {},
     "output_type": "execute_result"
    }
   ],
   "source": [
    "example_input_batch, example_target_batch = next(iter(dataset))\n",
    "example_input_batch.shape, example_target_batch.shape"
   ]
  },
  {
   "cell_type": "code",
   "execution_count": 23,
   "metadata": {
    "colab": {
     "base_uri": "https://localhost:8080/"
    },
    "id": "x5zro54Ie0y-",
    "outputId": "61053d21-40f7-4e28-9ad7-e1cfc04fbb54"
   },
   "outputs": [
    {
     "data": {
      "text/plain": [
       "<tf.Tensor: shape=(15,), dtype=int32, numpy=\n",
       "array([   1,   10,   29, 3577,    3,    2,    0,    0,    0,    0,    0,\n",
       "          0,    0,    0,    0], dtype=int32)>"
      ]
     },
     "execution_count": 23,
     "metadata": {},
     "output_type": "execute_result"
    }
   ],
   "source": [
    "example_input_batch[60]"
   ]
  },
  {
   "cell_type": "markdown",
   "metadata": {
    "id": "pOC0U-mBGUZD"
   },
   "source": [
    "### Модель машинного перевода (без внимания)"
   ]
  },
  {
   "cell_type": "code",
   "execution_count": 24,
   "metadata": {
    "id": "bkW41vnhGaR9"
   },
   "outputs": [],
   "source": [
    "'''1 ЭТАП - ENCODER'''\n",
    "\n",
    "class Encoder(tf.keras.Model):\n",
    "    def __init__(self, vocab_size, embedding_dim, enc_units, batch_sz):\n",
    "    super(Encoder, self).__init__()\n",
    "    self.batch_sz = batch_sz\n",
    "    self.enc_units = enc_units\n",
    "    self.embedding = tf.keras.layers.Embedding(vocab_size, embedding_dim)\n",
    "    self.gru = tf.keras.layers.GRU(self.enc_units,\n",
    "                                   return_sequences=False,\n",
    "                                   return_state=True,\n",
    "                                   recurrent_initializer='glorot_uniform')\n",
    "\n",
    "\n",
    "    def call(self, x, hidden):\n",
    "    x = self.embedding(x)\n",
    "    output, state = self.gru(x, initial_state = hidden)\n",
    "    # print(f'Output_shape: {output.shape}, State_shape: {state.shape}') # они будут одинаковые\n",
    "    return state\n",
    "\n",
    "    def initialize_hidden_state(self):\n",
    "    #создаем тензор из нулей размера (батч, кол-во ячеек)- скрытое состояние, которое будет входить в первый узел будет нулевым\n",
    "    return tf.zeros((self.batch_sz, self.enc_units))"
   ]
  },
  {
   "cell_type": "code",
   "execution_count": 25,
   "metadata": {
    "colab": {
     "base_uri": "https://localhost:8080/"
    },
    "id": "0ul3-1n_kg_s",
    "outputId": "94f45838-63b7-450c-d933-9ba60390083f"
   },
   "outputs": [
    {
     "name": "stdout",
     "output_type": "stream",
     "text": [
      "Encoder Hidden state shape: (batch size, units) (64, 1024)\n"
     ]
    }
   ],
   "source": [
    "encoder = Encoder(vocab_inp_size, embedding_dim, units, BATCH_SIZE)\n",
    "\n",
    "# инициализитеруем начальное скрытое состояние (из нулей)\n",
    "sample_hidden = encoder.initialize_hidden_state()\n",
    "\n",
    "# применяем энкодер (к входному батчу и скрытому состоянию) - получаем конечное выходное скрытое состояние\n",
    "sample_hidden = encoder(example_input_batch, sample_hidden)\n",
    "\n",
    "# print ('Форма выхода энкодера: (batch size, sequence length, units) {}'.format(sample_output.shape))\n",
    "print ('Encoder Hidden state shape: (batch size, units) {}'.format(sample_hidden.shape))"
   ]
  },
  {
   "cell_type": "code",
   "execution_count": 26,
   "metadata": {
    "colab": {
     "base_uri": "https://localhost:8080/"
    },
    "id": "ikwp1ZDpkg9J",
    "outputId": "89a33a50-4e40-4859-ea8f-8490ea23d4cc"
   },
   "outputs": [
    {
     "data": {
      "text/plain": [
       "<tf.Tensor: shape=(64, 1024), dtype=float32, numpy=\n",
       "array([[ 0.00158351, -0.00723788,  0.00526664, ..., -0.00285324,\n",
       "        -0.02158626,  0.00377983],\n",
       "       [ 0.00153839, -0.00748643,  0.00543985, ..., -0.00265444,\n",
       "        -0.02134338,  0.00364348],\n",
       "       [ 0.00156196, -0.00746593,  0.00562821, ..., -0.00308296,\n",
       "        -0.0208787 ,  0.00383038],\n",
       "       ...,\n",
       "       [ 0.00141933, -0.00691644,  0.00535161, ..., -0.00239545,\n",
       "        -0.02181449,  0.00343928],\n",
       "       [ 0.00145102, -0.00755126,  0.00528841, ..., -0.00268668,\n",
       "        -0.02115564,  0.00364754],\n",
       "       [ 0.00140932, -0.00723183,  0.00544131, ..., -0.00256783,\n",
       "        -0.02165776,  0.00341266]], dtype=float32)>"
      ]
     },
     "execution_count": 26,
     "metadata": {},
     "output_type": "execute_result"
    }
   ],
   "source": [
    "sample_hidden"
   ]
  },
  {
   "cell_type": "code",
   "execution_count": 27,
   "metadata": {
    "id": "4kfQRBl3kg6Q"
   },
   "outputs": [],
   "source": [
    "'''2 ЭТАП - DECODER'''\n",
    "\n",
    "class Decoder(tf.keras.Model):\n",
    "    def __init__(self, vocab_size, embedding_dim, dec_units, batch_sz):\n",
    "        super(Decoder, self).__init__()\n",
    "        self.batch_sz = batch_sz\n",
    "        self.dec_units = dec_units\n",
    "        self.embedding = tf.keras.layers.Embedding(vocab_size, embedding_dim)\n",
    "        self.gru = tf.keras.layers.GRU(self.dec_units,\n",
    "                                       return_sequences=True,\n",
    "                                       return_state=True,\n",
    "                                       recurrent_initializer='glorot_uniform')\n",
    "        self.fc = tf.keras.layers.Dense(vocab_size)\n",
    "\n",
    "    def call(self, x, hidden):\n",
    "        # x shape после прохождения через эмбеддинг == (batch_size, 1, embedding_dim)\n",
    "        x = self.embedding(x)\n",
    "\n",
    "        # отправляем в GRU входные данные и скрытое состояние (от энкодера)\n",
    "        #выход GRU (batch_size, timesteps, units)\n",
    "        #размер возвращаемого внутреннего состояния (batch_size, units)\n",
    "        output, state = self.gru(x, initial_state=hidden)\n",
    "\n",
    "        # output shape == (batch_size * 1, hidden_size)\n",
    "        output = tf.reshape(output, (-1, output.shape[2]))\n",
    "\n",
    "        # x shape == (batch_size, vocab)\n",
    "        x = self.fc(output)\n",
    "\n",
    "        return x, state"
   ]
  },
  {
   "cell_type": "code",
   "execution_count": 28,
   "metadata": {
    "colab": {
     "base_uri": "https://localhost:8080/"
    },
    "id": "91EmDDCCmpas",
    "outputId": "4e738641-471c-487d-e5e4-25fb807af757"
   },
   "outputs": [
    {
     "data": {
      "text/plain": [
       "(TensorShape([64, 7334]), TensorShape([64, 1024]))"
      ]
     },
     "execution_count": 28,
     "metadata": {},
     "output_type": "execute_result"
    }
   ],
   "source": [
    "decoder = Decoder(vocab_tar_size, embedding_dim, units, BATCH_SIZE)\n",
    "\n",
    "#применяем декодер к случайному батчу из равномерного распределения (размер: батч,1) и выходу энкодера\n",
    "decoder_sample_x, decoder_sample_h = decoder(tf.random.uniform((BATCH_SIZE, 1)), sample_hidden)\n",
    "decoder_sample_x.shape, decoder_sample_h.shape"
   ]
  },
  {
   "cell_type": "code",
   "execution_count": 29,
   "metadata": {
    "colab": {
     "base_uri": "https://localhost:8080/"
    },
    "id": "B8k9HqjDmpdO",
    "outputId": "76b1b925-7407-4a96-d7b3-2e99a0141fd7"
   },
   "outputs": [
    {
     "data": {
      "text/plain": [
       "<tf.Tensor: shape=(64, 7334), dtype=float32, numpy=\n",
       "array([[-0.00396098, -0.00383158, -0.00244014, ...,  0.00443629,\n",
       "         0.00755184, -0.00553082],\n",
       "       [-0.00389144, -0.00377055, -0.0024784 , ...,  0.00442872,\n",
       "         0.00764605, -0.00556774],\n",
       "       [-0.00393007, -0.00376609, -0.00254399, ...,  0.00436706,\n",
       "         0.00766276, -0.0054519 ],\n",
       "       ...,\n",
       "       [-0.00399214, -0.00389323, -0.00247489, ...,  0.00452626,\n",
       "         0.00751349, -0.00545768],\n",
       "       [-0.00388063, -0.00376276, -0.00252371, ...,  0.00446788,\n",
       "         0.00764125, -0.00556631],\n",
       "       [-0.00395357, -0.00384854, -0.00246745, ...,  0.00449709,\n",
       "         0.00753507, -0.00545581]], dtype=float32)>"
      ]
     },
     "execution_count": 29,
     "metadata": {},
     "output_type": "execute_result"
    }
   ],
   "source": [
    "decoder_sample_x"
   ]
  },
  {
   "cell_type": "markdown",
   "metadata": {
    "id": "Wrcz2dwtoVV2"
   },
   "source": [
    "**Подготовка и обучение модели**"
   ]
  },
  {
   "cell_type": "code",
   "execution_count": 30,
   "metadata": {
    "id": "VDuyNQ3nmpf0"
   },
   "outputs": [],
   "source": [
    "'''КОМПИЛЯЦИЯ'''\n",
    "\n",
    "# оптимизатор\n",
    "optimizer = tf.keras.optimizers.Adam()\n",
    "\n",
    "loss_object = tf.keras.losses.SparseCategoricalCrossentropy(\n",
    "    from_logits=True, reduction='none')\n",
    "\n",
    "# функция потерь\n",
    "# здесь важно сделать так, чтобы через токены маски (0) не проходил градиент\n",
    "def loss_function(real, pred): \n",
    "\n",
    "    #делаем инверсию значений сравнения каждого из real с нулем (возвращается true, если 0 или false, если не 0), где 0 - это максирующий токен \n",
    "    mask = tf.math.logical_not(tf.math.equal(real, 0))\n",
    "\n",
    "    #применяем функцию ошибок к реальным данным и предсказанным\n",
    "    loss_ = loss_object(real, pred)\n",
    "\n",
    "    #приводим тензор mask к новому типу loss_.dtype\n",
    "    mask = tf.cast(mask, dtype=loss_.dtype)\n",
    "\n",
    "    #умножаем loss_ на mask\n",
    "    loss_ *= mask\n",
    "\n",
    "    # возвращаем среднее значениe всех элементов\n",
    "    return tf.reduce_mean(loss_)"
   ]
  },
  {
   "cell_type": "code",
   "execution_count": 31,
   "metadata": {
    "id": "_OXbOoqgrJ5D"
   },
   "outputs": [],
   "source": [
    "'''CHECKPOINT'''\n",
    "\n",
    "checkpoint_dir = './training_nmt_checkpoints'\n",
    "\n",
    "checkpoint_prefix = os.path.join(checkpoint_dir, \"ckpt\")\n",
    "\n",
    "checkpoint = tf.train.Checkpoint(optimizer=optimizer,\n",
    "                                 encoder=encoder,\n",
    "                                 decoder=decoder)"
   ]
  },
  {
   "cell_type": "code",
   "execution_count": 32,
   "metadata": {
    "id": "DeqgK1TDsgQt"
   },
   "outputs": [],
   "source": [
    "@tf.function\n",
    "def train_step(inp, targ, enc_hidden):\n",
    "    loss = 0\n",
    "    # перечисляем операции для автоматического дифференцирования\n",
    "    with tf.GradientTape() as tape:\n",
    "\n",
    "        # получаем выход encoder\n",
    "        enc_hidden = encoder(inp, enc_hidden)\n",
    "\n",
    "        # помещаем его в скрытое состояние decoder\n",
    "        dec_hidden = enc_hidden\n",
    "\n",
    "        # формируем вход декодера:\n",
    "\n",
    "        # берем список длины батч из индексов тега <start> (1)\n",
    "        # приписываем списку размерность 1 сзади (батч, 1)\n",
    "        dec_input = tf.expand_dims([targ_lang.word_index['<start>']] * BATCH_SIZE, 1)\n",
    "\n",
    "        # Teacher forcing - выводим target в качестве следующего входа\n",
    "        for t in range(1, targ.shape[1]):\n",
    "          # помещаем enc_output в decoder\n",
    "          predictions, dec_hidden = decoder(dec_input, dec_hidden)\n",
    "\n",
    "          # считаем функцию потерь \n",
    "          loss += loss_function(targ[:, t], predictions)\n",
    "\n",
    "          # используем teacher forcing (приписываем списку размерность 1 сзади)\n",
    "          # посылаем dec_input на вход декордера \n",
    "          dec_input = tf.expand_dims(targ[:, t], 1)\n",
    "\n",
    "    batch_loss = (loss / int(targ.shape[1]))\n",
    "\n",
    "    #переменные\n",
    "    variables = encoder.trainable_variables + decoder.trainable_variables\n",
    "\n",
    "    #вычисляем градиенты loss по variables\n",
    "    gradients = tape.gradient(loss, variables)\n",
    "    \n",
    "    #оптимизатор применяет подсчитанные градиенты\n",
    "    optimizer.apply_gradients(zip(gradients, variables))\n",
    "\n",
    "    return batch_loss"
   ]
  },
  {
   "cell_type": "code",
   "execution_count": 33,
   "metadata": {
    "colab": {
     "base_uri": "https://localhost:8080/"
    },
    "id": "qfITY9QdsgOe",
    "outputId": "bd247266-b293-4477-e5b0-82c635946136"
   },
   "outputs": [
    {
     "name": "stdout",
     "output_type": "stream",
     "text": [
      "Epoch 1 Batch 0 Loss 4.6782\n",
      "Epoch 1 Batch 100 Loss 1.9779\n",
      "Epoch 1 Batch 200 Loss 1.7604\n",
      "Epoch 1 Batch 300 Loss 1.6948\n",
      "Epoch 1 Batch 400 Loss 1.4768\n",
      "Epoch 1 Batch 500 Loss 1.4519\n",
      "Epoch 1 Batch 600 Loss 1.3646\n",
      "Epoch 1 Batch 700 Loss 1.3018\n",
      "Epoch 1 Batch 800 Loss 1.1305\n",
      "Epoch 1 Batch 900 Loss 1.1729\n",
      "Epoch 1 Batch 1000 Loss 1.1517\n",
      "Epoch 1 Batch 1100 Loss 1.0368\n",
      "Epoch 1 Batch 1200 Loss 0.9795\n",
      "Epoch 1 Loss 1.4247\n",
      "Time taken for 1 epoch 69.60970544815063 sec\n",
      "\n",
      "Epoch 2 Batch 0 Loss 0.9016\n",
      "Epoch 2 Batch 100 Loss 1.0014\n",
      "Epoch 2 Batch 200 Loss 0.8138\n",
      "Epoch 2 Batch 300 Loss 0.7682\n",
      "Epoch 2 Batch 400 Loss 0.7632\n",
      "Epoch 2 Batch 500 Loss 0.7293\n",
      "Epoch 2 Batch 600 Loss 0.6982\n",
      "Epoch 2 Batch 700 Loss 0.6286\n",
      "Epoch 2 Batch 800 Loss 0.6693\n",
      "Epoch 2 Batch 900 Loss 0.6898\n",
      "Epoch 2 Batch 1000 Loss 0.6361\n",
      "Epoch 2 Batch 1100 Loss 0.5190\n",
      "Epoch 2 Batch 1200 Loss 0.5096\n",
      "Epoch 2 Loss 0.6983\n",
      "Time taken for 1 epoch 58.1645245552063 sec\n",
      "\n",
      "Epoch 3 Batch 0 Loss 0.4471\n",
      "Epoch 3 Batch 100 Loss 0.4250\n",
      "Epoch 3 Batch 200 Loss 0.3711\n",
      "Epoch 3 Batch 300 Loss 0.4026\n",
      "Epoch 3 Batch 400 Loss 0.3774\n",
      "Epoch 3 Batch 500 Loss 0.4008\n",
      "Epoch 3 Batch 600 Loss 0.4007\n",
      "Epoch 3 Batch 700 Loss 0.4401\n",
      "Epoch 3 Batch 800 Loss 0.3446\n",
      "Epoch 3 Batch 900 Loss 0.3715\n",
      "Epoch 3 Batch 1000 Loss 0.3013\n",
      "Epoch 3 Batch 1100 Loss 0.3240\n",
      "Epoch 3 Batch 1200 Loss 0.3378\n",
      "Epoch 3 Loss 0.3822\n",
      "Time taken for 1 epoch 57.75563383102417 sec\n",
      "\n",
      "Epoch 4 Batch 0 Loss 0.1904\n",
      "Epoch 4 Batch 100 Loss 0.2179\n",
      "Epoch 4 Batch 200 Loss 0.2561\n",
      "Epoch 4 Batch 300 Loss 0.2125\n",
      "Epoch 4 Batch 400 Loss 0.2291\n",
      "Epoch 4 Batch 500 Loss 0.2687\n",
      "Epoch 4 Batch 600 Loss 0.2339\n",
      "Epoch 4 Batch 700 Loss 0.2370\n",
      "Epoch 4 Batch 800 Loss 0.2503\n",
      "Epoch 4 Batch 900 Loss 0.2062\n",
      "Epoch 4 Batch 1000 Loss 0.2661\n",
      "Epoch 4 Batch 1100 Loss 0.2576\n",
      "Epoch 4 Batch 1200 Loss 0.2525\n",
      "Epoch 4 Loss 0.2310\n",
      "Time taken for 1 epoch 58.23588681221008 sec\n",
      "\n",
      "Epoch 5 Batch 0 Loss 0.1597\n",
      "Epoch 5 Batch 100 Loss 0.1127\n",
      "Epoch 5 Batch 200 Loss 0.1171\n",
      "Epoch 5 Batch 300 Loss 0.1217\n",
      "Epoch 5 Batch 400 Loss 0.1446\n",
      "Epoch 5 Batch 500 Loss 0.1537\n",
      "Epoch 5 Batch 600 Loss 0.1896\n",
      "Epoch 5 Batch 700 Loss 0.1369\n",
      "Epoch 5 Batch 800 Loss 0.1722\n",
      "Epoch 5 Batch 900 Loss 0.1360\n",
      "Epoch 5 Batch 1000 Loss 0.2118\n",
      "Epoch 5 Batch 1100 Loss 0.1641\n",
      "Epoch 5 Batch 1200 Loss 0.1964\n",
      "Epoch 5 Loss 0.1573\n",
      "Time taken for 1 epoch 57.83594346046448 sec\n",
      "\n",
      "Epoch 6 Batch 0 Loss 0.1248\n",
      "Epoch 6 Batch 100 Loss 0.0948\n",
      "Epoch 6 Batch 200 Loss 0.1206\n",
      "Epoch 6 Batch 300 Loss 0.1061\n",
      "Epoch 6 Batch 400 Loss 0.0789\n",
      "Epoch 6 Batch 500 Loss 0.1300\n",
      "Epoch 6 Batch 600 Loss 0.1064\n",
      "Epoch 6 Batch 700 Loss 0.1382\n",
      "Epoch 6 Batch 800 Loss 0.1323\n",
      "Epoch 6 Batch 900 Loss 0.1441\n",
      "Epoch 6 Batch 1000 Loss 0.1142\n",
      "Epoch 6 Batch 1100 Loss 0.1035\n",
      "Epoch 6 Batch 1200 Loss 0.1345\n",
      "Epoch 6 Loss 0.1213\n",
      "Time taken for 1 epoch 58.708091020584106 sec\n",
      "\n",
      "Epoch 7 Batch 0 Loss 0.0836\n",
      "Epoch 7 Batch 100 Loss 0.0788\n",
      "Epoch 7 Batch 200 Loss 0.0625\n",
      "Epoch 7 Batch 300 Loss 0.0806\n",
      "Epoch 7 Batch 400 Loss 0.0870\n",
      "Epoch 7 Batch 500 Loss 0.0978\n",
      "Epoch 7 Batch 600 Loss 0.1088\n",
      "Epoch 7 Batch 700 Loss 0.0999\n",
      "Epoch 7 Batch 800 Loss 0.0880\n",
      "Epoch 7 Batch 900 Loss 0.1004\n",
      "Epoch 7 Batch 1000 Loss 0.0868\n",
      "Epoch 7 Batch 1100 Loss 0.1358\n",
      "Epoch 7 Batch 1200 Loss 0.0955\n",
      "Epoch 7 Loss 0.1024\n",
      "Time taken for 1 epoch 57.77900743484497 sec\n",
      "\n",
      "Epoch 8 Batch 0 Loss 0.0817\n",
      "Epoch 8 Batch 100 Loss 0.0822\n",
      "Epoch 8 Batch 200 Loss 0.1502\n",
      "Epoch 8 Batch 300 Loss 0.0768\n",
      "Epoch 8 Batch 400 Loss 0.0811\n",
      "Epoch 8 Batch 500 Loss 0.0674\n",
      "Epoch 8 Batch 600 Loss 0.0921\n",
      "Epoch 8 Batch 700 Loss 0.0866\n",
      "Epoch 8 Batch 800 Loss 0.0864\n",
      "Epoch 8 Batch 900 Loss 0.0613\n",
      "Epoch 8 Batch 1000 Loss 0.1022\n",
      "Epoch 8 Batch 1100 Loss 0.1033\n",
      "Epoch 8 Batch 1200 Loss 0.0966\n",
      "Epoch 8 Loss 0.0924\n",
      "Time taken for 1 epoch 58.32821989059448 sec\n",
      "\n",
      "Epoch 9 Batch 0 Loss 0.0747\n",
      "Epoch 9 Batch 100 Loss 0.0855\n",
      "Epoch 9 Batch 200 Loss 0.0859\n",
      "Epoch 9 Batch 300 Loss 0.0753\n",
      "Epoch 9 Batch 400 Loss 0.0770\n",
      "Epoch 9 Batch 500 Loss 0.0717\n",
      "Epoch 9 Batch 600 Loss 0.0817\n",
      "Epoch 9 Batch 700 Loss 0.0869\n",
      "Epoch 9 Batch 800 Loss 0.1203\n",
      "Epoch 9 Batch 900 Loss 0.1172\n",
      "Epoch 9 Batch 1000 Loss 0.1045\n",
      "Epoch 9 Batch 1100 Loss 0.1172\n",
      "Epoch 9 Batch 1200 Loss 0.1439\n",
      "Epoch 9 Loss 0.0866\n",
      "Time taken for 1 epoch 57.77868366241455 sec\n",
      "\n",
      "Epoch 10 Batch 0 Loss 0.0503\n",
      "Epoch 10 Batch 100 Loss 0.0742\n",
      "Epoch 10 Batch 200 Loss 0.0600\n",
      "Epoch 10 Batch 300 Loss 0.0869\n",
      "Epoch 10 Batch 400 Loss 0.0839\n",
      "Epoch 10 Batch 500 Loss 0.0942\n",
      "Epoch 10 Batch 600 Loss 0.1081\n",
      "Epoch 10 Batch 700 Loss 0.0794\n",
      "Epoch 10 Batch 800 Loss 0.1050\n",
      "Epoch 10 Batch 900 Loss 0.0805\n",
      "Epoch 10 Batch 1000 Loss 0.0825\n",
      "Epoch 10 Batch 1100 Loss 0.1131\n",
      "Epoch 10 Batch 1200 Loss 0.1354\n",
      "Epoch 10 Loss 0.0817\n",
      "Time taken for 1 epoch 58.28998327255249 sec\n",
      "\n",
      "Epoch 11 Batch 0 Loss 0.0552\n",
      "Epoch 11 Batch 100 Loss 0.0847\n",
      "Epoch 11 Batch 200 Loss 0.0576\n",
      "Epoch 11 Batch 300 Loss 0.0512\n",
      "Epoch 11 Batch 400 Loss 0.0586\n",
      "Epoch 11 Batch 500 Loss 0.0626\n",
      "Epoch 11 Batch 600 Loss 0.0519\n",
      "Epoch 11 Batch 700 Loss 0.0910\n",
      "Epoch 11 Batch 800 Loss 0.0925\n",
      "Epoch 11 Batch 900 Loss 0.0941\n",
      "Epoch 11 Batch 1000 Loss 0.1110\n",
      "Epoch 11 Batch 1100 Loss 0.0765\n",
      "Epoch 11 Batch 1200 Loss 0.0864\n",
      "Epoch 11 Loss 0.0787\n",
      "Time taken for 1 epoch 57.79035401344299 sec\n",
      "\n",
      "Epoch 12 Batch 0 Loss 0.0527\n",
      "Epoch 12 Batch 100 Loss 0.0637\n",
      "Epoch 12 Batch 200 Loss 0.0599\n",
      "Epoch 12 Batch 300 Loss 0.0794\n",
      "Epoch 12 Batch 400 Loss 0.0567\n",
      "Epoch 12 Batch 500 Loss 0.0786\n",
      "Epoch 12 Batch 600 Loss 0.0540\n",
      "Epoch 12 Batch 700 Loss 0.0465\n",
      "Epoch 12 Batch 800 Loss 0.0896\n",
      "Epoch 12 Batch 900 Loss 0.0587\n",
      "Epoch 12 Batch 1000 Loss 0.0697\n",
      "Epoch 12 Batch 1100 Loss 0.1122\n",
      "Epoch 12 Batch 1200 Loss 0.0758\n",
      "Epoch 12 Loss 0.0766\n",
      "Time taken for 1 epoch 58.36824178695679 sec\n",
      "\n",
      "Epoch 13 Batch 0 Loss 0.0657\n",
      "Epoch 13 Batch 100 Loss 0.0572\n",
      "Epoch 13 Batch 200 Loss 0.0687\n",
      "Epoch 13 Batch 300 Loss 0.0753\n",
      "Epoch 13 Batch 400 Loss 0.0584\n",
      "Epoch 13 Batch 500 Loss 0.0751\n",
      "Epoch 13 Batch 600 Loss 0.0593\n",
      "Epoch 13 Batch 700 Loss 0.0474\n",
      "Epoch 13 Batch 800 Loss 0.0497\n",
      "Epoch 13 Batch 900 Loss 0.1452\n",
      "Epoch 13 Batch 1000 Loss 0.0596\n",
      "Epoch 13 Batch 1100 Loss 0.0948\n",
      "Epoch 13 Batch 1200 Loss 0.0894\n",
      "Epoch 13 Loss 0.0737\n",
      "Time taken for 1 epoch 57.78378415107727 sec\n",
      "\n",
      "Epoch 14 Batch 0 Loss 0.0517\n",
      "Epoch 14 Batch 100 Loss 0.0571\n",
      "Epoch 14 Batch 200 Loss 0.0632\n",
      "Epoch 14 Batch 300 Loss 0.0685\n",
      "Epoch 14 Batch 400 Loss 0.0737\n",
      "Epoch 14 Batch 500 Loss 0.0831\n",
      "Epoch 14 Batch 600 Loss 0.0773\n",
      "Epoch 14 Batch 700 Loss 0.0622\n",
      "Epoch 14 Batch 800 Loss 0.0951\n",
      "Epoch 14 Batch 900 Loss 0.0775\n",
      "Epoch 14 Batch 1000 Loss 0.0674\n",
      "Epoch 14 Batch 1100 Loss 0.0780\n",
      "Epoch 14 Batch 1200 Loss 0.0401\n",
      "Epoch 14 Loss 0.0720\n",
      "Time taken for 1 epoch 58.303475856781006 sec\n",
      "\n",
      "Epoch 15 Batch 0 Loss 0.0397\n",
      "Epoch 15 Batch 100 Loss 0.0480\n",
      "Epoch 15 Batch 200 Loss 0.0619\n",
      "Epoch 15 Batch 300 Loss 0.1091\n",
      "Epoch 15 Batch 400 Loss 0.0751\n",
      "Epoch 15 Batch 500 Loss 0.0646\n",
      "Epoch 15 Batch 600 Loss 0.0617\n",
      "Epoch 15 Batch 700 Loss 0.1025\n",
      "Epoch 15 Batch 800 Loss 0.0788\n",
      "Epoch 15 Batch 900 Loss 0.0587\n",
      "Epoch 15 Batch 1000 Loss 0.0492\n",
      "Epoch 15 Batch 1100 Loss 0.0575\n",
      "Epoch 15 Batch 1200 Loss 0.0955\n",
      "Epoch 15 Loss 0.0699\n",
      "Time taken for 1 epoch 57.76280736923218 sec\n",
      "\n",
      "Epoch 16 Batch 0 Loss 0.0418\n",
      "Epoch 16 Batch 100 Loss 0.0540\n",
      "Epoch 16 Batch 200 Loss 0.0581\n",
      "Epoch 16 Batch 300 Loss 0.0755\n",
      "Epoch 16 Batch 400 Loss 0.0441\n",
      "Epoch 16 Batch 500 Loss 0.0569\n",
      "Epoch 16 Batch 600 Loss 0.0726\n",
      "Epoch 16 Batch 700 Loss 0.1025\n",
      "Epoch 16 Batch 800 Loss 0.0751\n",
      "Epoch 16 Batch 900 Loss 0.0719\n",
      "Epoch 16 Batch 1000 Loss 0.0624\n",
      "Epoch 16 Batch 1100 Loss 0.0386\n",
      "Epoch 16 Batch 1200 Loss 0.0878\n",
      "Epoch 16 Loss 0.0694\n",
      "Time taken for 1 epoch 58.320636510849 sec\n",
      "\n",
      "Epoch 17 Batch 0 Loss 0.0222\n",
      "Epoch 17 Batch 100 Loss 0.0412\n",
      "Epoch 17 Batch 200 Loss 0.0830\n",
      "Epoch 17 Batch 300 Loss 0.0402\n",
      "Epoch 17 Batch 400 Loss 0.0318\n",
      "Epoch 17 Batch 500 Loss 0.0792\n",
      "Epoch 17 Batch 600 Loss 0.0721\n",
      "Epoch 17 Batch 700 Loss 0.0414\n",
      "Epoch 17 Batch 800 Loss 0.0912\n",
      "Epoch 17 Batch 900 Loss 0.0622\n",
      "Epoch 17 Batch 1000 Loss 0.0748\n",
      "Epoch 17 Batch 1100 Loss 0.0648\n",
      "Epoch 17 Batch 1200 Loss 0.0988\n",
      "Epoch 17 Loss 0.0676\n",
      "Time taken for 1 epoch 57.79554748535156 sec\n",
      "\n",
      "Epoch 18 Batch 0 Loss 0.0565\n",
      "Epoch 18 Batch 100 Loss 0.0705\n",
      "Epoch 18 Batch 200 Loss 0.0477\n",
      "Epoch 18 Batch 300 Loss 0.0865\n",
      "Epoch 18 Batch 400 Loss 0.0465\n",
      "Epoch 18 Batch 500 Loss 0.0361\n",
      "Epoch 18 Batch 600 Loss 0.0437\n",
      "Epoch 18 Batch 700 Loss 0.0744\n",
      "Epoch 18 Batch 800 Loss 0.0523\n",
      "Epoch 18 Batch 900 Loss 0.0924\n",
      "Epoch 18 Batch 1000 Loss 0.0595\n",
      "Epoch 18 Batch 1100 Loss 0.0754\n",
      "Epoch 18 Batch 1200 Loss 0.0723\n",
      "Epoch 18 Loss 0.0668\n",
      "Time taken for 1 epoch 58.32786440849304 sec\n",
      "\n",
      "Epoch 19 Batch 0 Loss 0.0514\n",
      "Epoch 19 Batch 100 Loss 0.0707\n",
      "Epoch 19 Batch 200 Loss 0.0781\n",
      "Epoch 19 Batch 300 Loss 0.0383\n",
      "Epoch 19 Batch 400 Loss 0.0849\n",
      "Epoch 19 Batch 500 Loss 0.0623\n",
      "Epoch 19 Batch 600 Loss 0.0555\n",
      "Epoch 19 Batch 700 Loss 0.0868\n",
      "Epoch 19 Batch 800 Loss 0.0568\n",
      "Epoch 19 Batch 900 Loss 0.0915\n",
      "Epoch 19 Batch 1000 Loss 0.0614\n",
      "Epoch 19 Batch 1100 Loss 0.0588\n",
      "Epoch 19 Batch 1200 Loss 0.0509\n",
      "Epoch 19 Loss 0.0659\n",
      "Time taken for 1 epoch 57.789368867874146 sec\n",
      "\n",
      "Epoch 20 Batch 0 Loss 0.0619\n",
      "Epoch 20 Batch 100 Loss 0.0830\n",
      "Epoch 20 Batch 200 Loss 0.0625\n",
      "Epoch 20 Batch 300 Loss 0.0725\n",
      "Epoch 20 Batch 400 Loss 0.0540\n",
      "Epoch 20 Batch 500 Loss 0.0573\n",
      "Epoch 20 Batch 600 Loss 0.0646\n",
      "Epoch 20 Batch 700 Loss 0.0687\n",
      "Epoch 20 Batch 800 Loss 0.1031\n",
      "Epoch 20 Batch 900 Loss 0.0549\n",
      "Epoch 20 Batch 1000 Loss 0.0929\n",
      "Epoch 20 Batch 1100 Loss 0.0848\n",
      "Epoch 20 Batch 1200 Loss 0.0990\n",
      "Epoch 20 Loss 0.0641\n",
      "Time taken for 1 epoch 58.291815519332886 sec\n",
      "\n",
      "Epoch 21 Batch 0 Loss 0.0641\n",
      "Epoch 21 Batch 100 Loss 0.0308\n",
      "Epoch 21 Batch 200 Loss 0.0516\n",
      "Epoch 21 Batch 300 Loss 0.0687\n",
      "Epoch 21 Batch 400 Loss 0.0775\n",
      "Epoch 21 Batch 500 Loss 0.0630\n",
      "Epoch 21 Batch 600 Loss 0.0754\n",
      "Epoch 21 Batch 700 Loss 0.0320\n",
      "Epoch 21 Batch 800 Loss 0.0503\n",
      "Epoch 21 Batch 900 Loss 0.0609\n",
      "Epoch 21 Batch 1000 Loss 0.0910\n",
      "Epoch 21 Batch 1100 Loss 0.1065\n",
      "Epoch 21 Batch 1200 Loss 0.0632\n",
      "Epoch 21 Loss 0.0638\n",
      "Time taken for 1 epoch 57.71700310707092 sec\n",
      "\n",
      "Epoch 22 Batch 0 Loss 0.0402\n",
      "Epoch 22 Batch 100 Loss 0.0403\n",
      "Epoch 22 Batch 200 Loss 0.0926\n",
      "Epoch 22 Batch 300 Loss 0.0766\n",
      "Epoch 22 Batch 400 Loss 0.0413\n",
      "Epoch 22 Batch 500 Loss 0.0667\n",
      "Epoch 22 Batch 600 Loss 0.0375\n",
      "Epoch 22 Batch 700 Loss 0.0798\n",
      "Epoch 22 Batch 800 Loss 0.0534\n",
      "Epoch 22 Batch 900 Loss 0.0219\n",
      "Epoch 22 Batch 1000 Loss 0.0549\n",
      "Epoch 22 Batch 1100 Loss 0.0633\n",
      "Epoch 22 Batch 1200 Loss 0.0624\n",
      "Epoch 22 Loss 0.0628\n",
      "Time taken for 1 epoch 58.34774327278137 sec\n",
      "\n",
      "Epoch 23 Batch 0 Loss 0.0434\n",
      "Epoch 23 Batch 100 Loss 0.0794\n",
      "Epoch 23 Batch 200 Loss 0.0582\n",
      "Epoch 23 Batch 300 Loss 0.0477\n",
      "Epoch 23 Batch 400 Loss 0.0717\n",
      "Epoch 23 Batch 500 Loss 0.0337\n",
      "Epoch 23 Batch 600 Loss 0.0577\n",
      "Epoch 23 Batch 700 Loss 0.0777\n",
      "Epoch 23 Batch 800 Loss 0.0431\n",
      "Epoch 23 Batch 900 Loss 0.0844\n",
      "Epoch 23 Batch 1000 Loss 0.0368\n",
      "Epoch 23 Batch 1100 Loss 0.0850\n",
      "Epoch 23 Batch 1200 Loss 0.0538\n",
      "Epoch 23 Loss 0.0621\n",
      "Time taken for 1 epoch 57.731324911117554 sec\n",
      "\n",
      "Epoch 24 Batch 0 Loss 0.0289\n",
      "Epoch 24 Batch 100 Loss 0.0499\n",
      "Epoch 24 Batch 200 Loss 0.0420\n",
      "Epoch 24 Batch 300 Loss 0.0471\n",
      "Epoch 24 Batch 400 Loss 0.0732\n",
      "Epoch 24 Batch 500 Loss 0.0445\n",
      "Epoch 24 Batch 600 Loss 0.0672\n",
      "Epoch 24 Batch 700 Loss 0.0685\n",
      "Epoch 24 Batch 800 Loss 0.0609\n",
      "Epoch 24 Batch 900 Loss 0.0734\n",
      "Epoch 24 Batch 1000 Loss 0.0628\n",
      "Epoch 24 Batch 1100 Loss 0.0762\n",
      "Epoch 24 Batch 1200 Loss 0.0688\n",
      "Epoch 24 Loss 0.0613\n",
      "Time taken for 1 epoch 58.384862184524536 sec\n",
      "\n",
      "Epoch 25 Batch 0 Loss 0.0498\n",
      "Epoch 25 Batch 100 Loss 0.0441\n",
      "Epoch 25 Batch 200 Loss 0.0502\n",
      "Epoch 25 Batch 300 Loss 0.0409\n",
      "Epoch 25 Batch 400 Loss 0.0549\n",
      "Epoch 25 Batch 500 Loss 0.0391\n",
      "Epoch 25 Batch 600 Loss 0.0698\n",
      "Epoch 25 Batch 700 Loss 0.0432\n",
      "Epoch 25 Batch 800 Loss 0.0671\n",
      "Epoch 25 Batch 900 Loss 0.0621\n",
      "Epoch 25 Batch 1000 Loss 0.0708\n",
      "Epoch 25 Batch 1100 Loss 0.0840\n",
      "Epoch 25 Batch 1200 Loss 0.0569\n",
      "Epoch 25 Loss 0.0602\n",
      "Time taken for 1 epoch 57.819984912872314 sec\n",
      "\n",
      "Epoch 26 Batch 0 Loss 0.0422\n",
      "Epoch 26 Batch 100 Loss 0.0284\n",
      "Epoch 26 Batch 200 Loss 0.0574\n",
      "Epoch 26 Batch 300 Loss 0.0543\n",
      "Epoch 26 Batch 400 Loss 0.0585\n",
      "Epoch 26 Batch 500 Loss 0.0377\n",
      "Epoch 26 Batch 600 Loss 0.0668\n",
      "Epoch 26 Batch 700 Loss 0.0433\n",
      "Epoch 26 Batch 800 Loss 0.0810\n",
      "Epoch 26 Batch 900 Loss 0.0759\n",
      "Epoch 26 Batch 1000 Loss 0.0894\n",
      "Epoch 26 Batch 1100 Loss 0.0751\n",
      "Epoch 26 Batch 1200 Loss 0.0836\n",
      "Epoch 26 Loss 0.0604\n",
      "Time taken for 1 epoch 58.40577149391174 sec\n",
      "\n",
      "Epoch 27 Batch 0 Loss 0.1083\n",
      "Epoch 27 Batch 100 Loss 0.0395\n",
      "Epoch 27 Batch 200 Loss 0.0527\n",
      "Epoch 27 Batch 300 Loss 0.0577\n",
      "Epoch 27 Batch 400 Loss 0.0432\n",
      "Epoch 27 Batch 500 Loss 0.0635\n",
      "Epoch 27 Batch 600 Loss 0.0973\n",
      "Epoch 27 Batch 700 Loss 0.0759\n",
      "Epoch 27 Batch 800 Loss 0.1181\n",
      "Epoch 27 Batch 900 Loss 0.0378\n",
      "Epoch 27 Batch 1000 Loss 0.0539\n",
      "Epoch 27 Batch 1100 Loss 0.0800\n",
      "Epoch 27 Batch 1200 Loss 0.0668\n",
      "Epoch 27 Loss 0.0590\n",
      "Time taken for 1 epoch 57.79057431221008 sec\n",
      "\n",
      "Epoch 28 Batch 0 Loss 0.0328\n",
      "Epoch 28 Batch 100 Loss 0.0535\n",
      "Epoch 28 Batch 200 Loss 0.0577\n",
      "Epoch 28 Batch 300 Loss 0.0489\n",
      "Epoch 28 Batch 400 Loss 0.0482\n",
      "Epoch 28 Batch 500 Loss 0.0436\n",
      "Epoch 28 Batch 600 Loss 0.0702\n",
      "Epoch 28 Batch 700 Loss 0.0691\n",
      "Epoch 28 Batch 800 Loss 0.0840\n",
      "Epoch 28 Batch 900 Loss 0.0552\n",
      "Epoch 28 Batch 1000 Loss 0.0334\n",
      "Epoch 28 Batch 1100 Loss 0.0623\n",
      "Epoch 28 Batch 1200 Loss 0.0718\n",
      "Epoch 28 Loss 0.0591\n",
      "Time taken for 1 epoch 58.41833829879761 sec\n",
      "\n",
      "Epoch 29 Batch 0 Loss 0.0203\n",
      "Epoch 29 Batch 100 Loss 0.0614\n",
      "Epoch 29 Batch 200 Loss 0.0770\n",
      "Epoch 29 Batch 300 Loss 0.0680\n",
      "Epoch 29 Batch 400 Loss 0.0603\n",
      "Epoch 29 Batch 500 Loss 0.0999\n",
      "Epoch 29 Batch 600 Loss 0.0737\n",
      "Epoch 29 Batch 700 Loss 0.0528\n",
      "Epoch 29 Batch 800 Loss 0.0718\n",
      "Epoch 29 Batch 900 Loss 0.0811\n",
      "Epoch 29 Batch 1000 Loss 0.0684\n",
      "Epoch 29 Batch 1100 Loss 0.1036\n",
      "Epoch 29 Batch 1200 Loss 0.0231\n",
      "Epoch 29 Loss 0.0574\n",
      "Time taken for 1 epoch 57.81522512435913 sec\n",
      "\n",
      "Epoch 30 Batch 0 Loss 0.0205\n",
      "Epoch 30 Batch 100 Loss 0.0243\n",
      "Epoch 30 Batch 200 Loss 0.0858\n",
      "Epoch 30 Batch 300 Loss 0.0397\n",
      "Epoch 30 Batch 400 Loss 0.0730\n",
      "Epoch 30 Batch 500 Loss 0.0690\n",
      "Epoch 30 Batch 600 Loss 0.0278\n",
      "Epoch 30 Batch 700 Loss 0.0369\n",
      "Epoch 30 Batch 800 Loss 0.0821\n",
      "Epoch 30 Batch 900 Loss 0.0427\n",
      "Epoch 30 Batch 1000 Loss 0.0899\n",
      "Epoch 30 Batch 1100 Loss 0.0713\n",
      "Epoch 30 Batch 1200 Loss 0.0704\n",
      "Epoch 30 Loss 0.0577\n",
      "Time taken for 1 epoch 58.4460186958313 sec\n",
      "\n",
      "Epoch 31 Batch 0 Loss 0.0275\n",
      "Epoch 31 Batch 100 Loss 0.0304\n",
      "Epoch 31 Batch 200 Loss 0.0411\n",
      "Epoch 31 Batch 300 Loss 0.0559\n",
      "Epoch 31 Batch 400 Loss 0.0371\n",
      "Epoch 31 Batch 500 Loss 0.0518\n",
      "Epoch 31 Batch 600 Loss 0.0758\n",
      "Epoch 31 Batch 700 Loss 0.0449\n",
      "Epoch 31 Batch 800 Loss 0.0488\n",
      "Epoch 31 Batch 900 Loss 0.0465\n",
      "Epoch 31 Batch 1000 Loss 0.0365\n",
      "Epoch 31 Batch 1100 Loss 0.0350\n",
      "Epoch 31 Batch 1200 Loss 0.0664\n",
      "Epoch 31 Loss 0.0566\n",
      "Time taken for 1 epoch 57.78461694717407 sec\n",
      "\n",
      "Epoch 32 Batch 0 Loss 0.0568\n",
      "Epoch 32 Batch 100 Loss 0.0353\n",
      "Epoch 32 Batch 200 Loss 0.0241\n",
      "Epoch 32 Batch 300 Loss 0.0749\n",
      "Epoch 32 Batch 400 Loss 0.0448\n",
      "Epoch 32 Batch 500 Loss 0.0445\n",
      "Epoch 32 Batch 600 Loss 0.0169\n",
      "Epoch 32 Batch 700 Loss 0.0533\n",
      "Epoch 32 Batch 800 Loss 0.0805\n",
      "Epoch 32 Batch 900 Loss 0.0392\n",
      "Epoch 32 Batch 1000 Loss 0.0601\n",
      "Epoch 32 Batch 1100 Loss 0.0788\n",
      "Epoch 32 Batch 1200 Loss 0.0595\n",
      "Epoch 32 Loss 0.0557\n",
      "Time taken for 1 epoch 58.40334439277649 sec\n",
      "\n",
      "Epoch 33 Batch 0 Loss 0.0318\n",
      "Epoch 33 Batch 100 Loss 0.0460\n",
      "Epoch 33 Batch 200 Loss 0.0408\n",
      "Epoch 33 Batch 300 Loss 0.0614\n",
      "Epoch 33 Batch 400 Loss 0.0509\n",
      "Epoch 33 Batch 500 Loss 0.0730\n",
      "Epoch 33 Batch 600 Loss 0.0478\n",
      "Epoch 33 Batch 700 Loss 0.0487\n",
      "Epoch 33 Batch 800 Loss 0.0300\n",
      "Epoch 33 Batch 900 Loss 0.0610\n",
      "Epoch 33 Batch 1000 Loss 0.0560\n",
      "Epoch 33 Batch 1100 Loss 0.0715\n",
      "Epoch 33 Batch 1200 Loss 0.0558\n",
      "Epoch 33 Loss 0.0553\n",
      "Time taken for 1 epoch 57.761346101760864 sec\n",
      "\n",
      "Epoch 34 Batch 0 Loss 0.0145\n",
      "Epoch 34 Batch 100 Loss 0.0603\n",
      "Epoch 34 Batch 200 Loss 0.0378\n",
      "Epoch 34 Batch 300 Loss 0.0455\n",
      "Epoch 34 Batch 400 Loss 0.0391\n",
      "Epoch 34 Batch 500 Loss 0.0682\n",
      "Epoch 34 Batch 600 Loss 0.0434\n",
      "Epoch 34 Batch 700 Loss 0.0615\n",
      "Epoch 34 Batch 800 Loss 0.0458\n",
      "Epoch 34 Batch 900 Loss 0.0593\n",
      "Epoch 34 Batch 1000 Loss 0.0636\n",
      "Epoch 34 Batch 1100 Loss 0.0666\n",
      "Epoch 34 Batch 1200 Loss 0.0713\n",
      "Epoch 34 Loss 0.0550\n",
      "Time taken for 1 epoch 58.41675877571106 sec\n",
      "\n",
      "Epoch 35 Batch 0 Loss 0.0642\n",
      "Epoch 35 Batch 100 Loss 0.0434\n",
      "Epoch 35 Batch 200 Loss 0.0632\n",
      "Epoch 35 Batch 300 Loss 0.0444\n",
      "Epoch 35 Batch 400 Loss 0.0585\n",
      "Epoch 35 Batch 500 Loss 0.0541\n",
      "Epoch 35 Batch 600 Loss 0.0446\n",
      "Epoch 35 Batch 700 Loss 0.0508\n",
      "Epoch 35 Batch 800 Loss 0.0676\n",
      "Epoch 35 Batch 900 Loss 0.0678\n",
      "Epoch 35 Batch 1000 Loss 0.0466\n",
      "Epoch 35 Batch 1100 Loss 0.0612\n",
      "Epoch 35 Batch 1200 Loss 0.0572\n",
      "Epoch 35 Loss 0.0547\n",
      "Time taken for 1 epoch 57.74938917160034 sec\n",
      "\n",
      "Epoch 36 Batch 0 Loss 0.0337\n",
      "Epoch 36 Batch 100 Loss 0.0468\n",
      "Epoch 36 Batch 200 Loss 0.0437\n",
      "Epoch 36 Batch 300 Loss 0.0646\n",
      "Epoch 36 Batch 400 Loss 0.0277\n",
      "Epoch 36 Batch 500 Loss 0.0504\n",
      "Epoch 36 Batch 600 Loss 0.0601\n",
      "Epoch 36 Batch 700 Loss 0.0300\n",
      "Epoch 36 Batch 800 Loss 0.0760\n",
      "Epoch 36 Batch 900 Loss 0.0841\n",
      "Epoch 36 Batch 1000 Loss 0.0553\n",
      "Epoch 36 Batch 1100 Loss 0.0736\n",
      "Epoch 36 Batch 1200 Loss 0.0380\n",
      "Epoch 36 Loss 0.0544\n",
      "Time taken for 1 epoch 58.41618466377258 sec\n",
      "\n",
      "Epoch 37 Batch 0 Loss 0.0192\n",
      "Epoch 37 Batch 100 Loss 0.0398\n",
      "Epoch 37 Batch 200 Loss 0.1104\n",
      "Epoch 37 Batch 300 Loss 0.0542\n",
      "Epoch 37 Batch 400 Loss 0.0669\n",
      "Epoch 37 Batch 500 Loss 0.0378\n",
      "Epoch 37 Batch 600 Loss 0.0560\n",
      "Epoch 37 Batch 700 Loss 0.0780\n",
      "Epoch 37 Batch 800 Loss 0.1032\n",
      "Epoch 37 Batch 900 Loss 0.0456\n",
      "Epoch 37 Batch 1000 Loss 0.0242\n",
      "Epoch 37 Batch 1100 Loss 0.0612\n",
      "Epoch 37 Batch 1200 Loss 0.0396\n",
      "Epoch 37 Loss 0.0530\n",
      "Time taken for 1 epoch 57.72970676422119 sec\n",
      "\n",
      "Epoch 38 Batch 0 Loss 0.0179\n",
      "Epoch 38 Batch 100 Loss 0.0274\n",
      "Epoch 38 Batch 200 Loss 0.0386\n",
      "Epoch 38 Batch 300 Loss 0.0423\n",
      "Epoch 38 Batch 400 Loss 0.0761\n",
      "Epoch 38 Batch 500 Loss 0.0561\n",
      "Epoch 38 Batch 600 Loss 0.0616\n",
      "Epoch 38 Batch 700 Loss 0.0503\n",
      "Epoch 38 Batch 800 Loss 0.0425\n",
      "Epoch 38 Batch 900 Loss 0.0682\n",
      "Epoch 38 Batch 1000 Loss 0.0419\n",
      "Epoch 38 Batch 1100 Loss 0.0796\n",
      "Epoch 38 Batch 1200 Loss 0.0366\n",
      "Epoch 38 Loss 0.0533\n",
      "Time taken for 1 epoch 58.34042739868164 sec\n",
      "\n",
      "Epoch 39 Batch 0 Loss 0.0335\n",
      "Epoch 39 Batch 100 Loss 0.0435\n",
      "Epoch 39 Batch 200 Loss 0.0392\n",
      "Epoch 39 Batch 300 Loss 0.0600\n",
      "Epoch 39 Batch 400 Loss 0.0395\n",
      "Epoch 39 Batch 500 Loss 0.0344\n",
      "Epoch 39 Batch 600 Loss 0.0286\n",
      "Epoch 39 Batch 700 Loss 0.0410\n",
      "Epoch 39 Batch 800 Loss 0.0513\n",
      "Epoch 39 Batch 900 Loss 0.0801\n",
      "Epoch 39 Batch 1000 Loss 0.0542\n",
      "Epoch 39 Batch 1100 Loss 0.0663\n",
      "Epoch 39 Batch 1200 Loss 0.0637\n",
      "Epoch 39 Loss 0.0532\n",
      "Time taken for 1 epoch 57.72237038612366 sec\n",
      "\n",
      "Epoch 40 Batch 0 Loss 0.0292\n",
      "Epoch 40 Batch 100 Loss 0.0454\n",
      "Epoch 40 Batch 200 Loss 0.0534\n",
      "Epoch 40 Batch 300 Loss 0.0547\n",
      "Epoch 40 Batch 400 Loss 0.0593\n",
      "Epoch 40 Batch 500 Loss 0.0526\n",
      "Epoch 40 Batch 600 Loss 0.0485\n",
      "Epoch 40 Batch 700 Loss 0.0510\n",
      "Epoch 40 Batch 800 Loss 0.0610\n",
      "Epoch 40 Batch 900 Loss 0.0565\n",
      "Epoch 40 Batch 1000 Loss 0.0314\n",
      "Epoch 40 Batch 1100 Loss 0.0528\n",
      "Epoch 40 Batch 1200 Loss 0.0605\n",
      "Epoch 40 Loss 0.0518\n",
      "Time taken for 1 epoch 58.375566244125366 sec\n",
      "\n",
      "Epoch 41 Batch 0 Loss 0.0326\n",
      "Epoch 41 Batch 100 Loss 0.0521\n",
      "Epoch 41 Batch 200 Loss 0.0577\n",
      "Epoch 41 Batch 300 Loss 0.0447\n",
      "Epoch 41 Batch 400 Loss 0.0425\n",
      "Epoch 41 Batch 500 Loss 0.0868\n",
      "Epoch 41 Batch 600 Loss 0.0580\n",
      "Epoch 41 Batch 700 Loss 0.0478\n",
      "Epoch 41 Batch 800 Loss 0.0750\n",
      "Epoch 41 Batch 900 Loss 0.0407\n",
      "Epoch 41 Batch 1000 Loss 0.0583\n",
      "Epoch 41 Batch 1100 Loss 0.0367\n",
      "Epoch 41 Batch 1200 Loss 0.0317\n",
      "Epoch 41 Loss 0.0517\n",
      "Time taken for 1 epoch 57.76910901069641 sec\n",
      "\n",
      "Epoch 42 Batch 0 Loss 0.0468\n",
      "Epoch 42 Batch 100 Loss 0.0244\n",
      "Epoch 42 Batch 200 Loss 0.0585\n",
      "Epoch 42 Batch 300 Loss 0.0744\n",
      "Epoch 42 Batch 400 Loss 0.0494\n",
      "Epoch 42 Batch 500 Loss 0.0760\n",
      "Epoch 42 Batch 600 Loss 0.0491\n",
      "Epoch 42 Batch 700 Loss 0.0671\n",
      "Epoch 42 Batch 800 Loss 0.0541\n",
      "Epoch 42 Batch 900 Loss 0.0709\n",
      "Epoch 42 Batch 1000 Loss 0.0494\n",
      "Epoch 42 Batch 1100 Loss 0.0741\n",
      "Epoch 42 Batch 1200 Loss 0.0353\n",
      "Epoch 42 Loss 0.0516\n",
      "Time taken for 1 epoch 58.369659662246704 sec\n",
      "\n",
      "Epoch 43 Batch 0 Loss 0.0412\n",
      "Epoch 43 Batch 100 Loss 0.0438\n",
      "Epoch 43 Batch 200 Loss 0.0384\n",
      "Epoch 43 Batch 300 Loss 0.0365\n",
      "Epoch 43 Batch 400 Loss 0.0820\n",
      "Epoch 43 Batch 500 Loss 0.0390\n",
      "Epoch 43 Batch 600 Loss 0.0558\n",
      "Epoch 43 Batch 700 Loss 0.0474\n",
      "Epoch 43 Batch 800 Loss 0.0564\n",
      "Epoch 43 Batch 900 Loss 0.0449\n",
      "Epoch 43 Batch 1000 Loss 0.0413\n",
      "Epoch 43 Batch 1100 Loss 0.0558\n",
      "Epoch 43 Batch 1200 Loss 0.0375\n",
      "Epoch 43 Loss 0.0510\n",
      "Time taken for 1 epoch 57.77056884765625 sec\n",
      "\n",
      "Epoch 44 Batch 0 Loss 0.0396\n",
      "Epoch 44 Batch 100 Loss 0.0494\n",
      "Epoch 44 Batch 200 Loss 0.0583\n",
      "Epoch 44 Batch 300 Loss 0.0401\n",
      "Epoch 44 Batch 400 Loss 0.0294\n",
      "Epoch 44 Batch 500 Loss 0.0495\n",
      "Epoch 44 Batch 600 Loss 0.0212\n",
      "Epoch 44 Batch 700 Loss 0.0313\n",
      "Epoch 44 Batch 800 Loss 0.0344\n",
      "Epoch 44 Batch 900 Loss 0.0363\n",
      "Epoch 44 Batch 1000 Loss 0.0882\n",
      "Epoch 44 Batch 1100 Loss 0.0551\n",
      "Epoch 44 Batch 1200 Loss 0.0544\n",
      "Epoch 44 Loss 0.0506\n",
      "Time taken for 1 epoch 58.385252237319946 sec\n",
      "\n",
      "Epoch 45 Batch 0 Loss 0.0316\n",
      "Epoch 45 Batch 100 Loss 0.0476\n",
      "Epoch 45 Batch 200 Loss 0.0293\n",
      "Epoch 45 Batch 300 Loss 0.0479\n",
      "Epoch 45 Batch 400 Loss 0.0285\n",
      "Epoch 45 Batch 500 Loss 0.0835\n",
      "Epoch 45 Batch 600 Loss 0.0447\n",
      "Epoch 45 Batch 700 Loss 0.0339\n",
      "Epoch 45 Batch 800 Loss 0.0552\n",
      "Epoch 45 Batch 900 Loss 0.0809\n",
      "Epoch 45 Batch 1000 Loss 0.0441\n",
      "Epoch 45 Batch 1100 Loss 0.0345\n",
      "Epoch 45 Batch 1200 Loss 0.0795\n",
      "Epoch 45 Loss 0.0504\n",
      "Time taken for 1 epoch 57.73386216163635 sec\n",
      "\n",
      "Epoch 46 Batch 0 Loss 0.0609\n",
      "Epoch 46 Batch 100 Loss 0.0263\n",
      "Epoch 46 Batch 200 Loss 0.0156\n",
      "Epoch 46 Batch 300 Loss 0.0578\n",
      "Epoch 46 Batch 400 Loss 0.0677\n",
      "Epoch 46 Batch 500 Loss 0.0335\n",
      "Epoch 46 Batch 600 Loss 0.0638\n",
      "Epoch 46 Batch 700 Loss 0.0565\n",
      "Epoch 46 Batch 800 Loss 0.0425\n",
      "Epoch 46 Batch 900 Loss 0.0694\n",
      "Epoch 46 Batch 1000 Loss 0.0746\n",
      "Epoch 46 Batch 1100 Loss 0.0489\n",
      "Epoch 46 Batch 1200 Loss 0.0595\n",
      "Epoch 46 Loss 0.0498\n",
      "Time taken for 1 epoch 58.492759227752686 sec\n",
      "\n",
      "Epoch 47 Batch 0 Loss 0.0476\n",
      "Epoch 47 Batch 100 Loss 0.0367\n",
      "Epoch 47 Batch 200 Loss 0.0356\n",
      "Epoch 47 Batch 300 Loss 0.0449\n",
      "Epoch 47 Batch 400 Loss 0.0740\n",
      "Epoch 47 Batch 500 Loss 0.0650\n",
      "Epoch 47 Batch 600 Loss 0.0381\n",
      "Epoch 47 Batch 700 Loss 0.0346\n",
      "Epoch 47 Batch 800 Loss 0.0578\n",
      "Epoch 47 Batch 900 Loss 0.0515\n",
      "Epoch 47 Batch 1000 Loss 0.0653\n",
      "Epoch 47 Batch 1100 Loss 0.0432\n",
      "Epoch 47 Batch 1200 Loss 0.0430\n",
      "Epoch 47 Loss 0.0502\n",
      "Time taken for 1 epoch 57.7241907119751 sec\n",
      "\n",
      "Epoch 48 Batch 0 Loss 0.0523\n",
      "Epoch 48 Batch 100 Loss 0.0140\n",
      "Epoch 48 Batch 200 Loss 0.0363\n",
      "Epoch 48 Batch 300 Loss 0.0531\n",
      "Epoch 48 Batch 400 Loss 0.0447\n",
      "Epoch 48 Batch 500 Loss 0.0426\n",
      "Epoch 48 Batch 600 Loss 0.0402\n",
      "Epoch 48 Batch 700 Loss 0.0392\n",
      "Epoch 48 Batch 800 Loss 0.0658\n",
      "Epoch 48 Batch 900 Loss 0.0394\n",
      "Epoch 48 Batch 1000 Loss 0.0614\n",
      "Epoch 48 Batch 1100 Loss 0.0490\n",
      "Epoch 48 Batch 1200 Loss 0.0526\n",
      "Epoch 48 Loss 0.0494\n",
      "Time taken for 1 epoch 58.33792424201965 sec\n",
      "\n",
      "Epoch 49 Batch 0 Loss 0.0722\n",
      "Epoch 49 Batch 100 Loss 0.0386\n",
      "Epoch 49 Batch 200 Loss 0.0357\n",
      "Epoch 49 Batch 300 Loss 0.0670\n",
      "Epoch 49 Batch 400 Loss 0.0538\n",
      "Epoch 49 Batch 500 Loss 0.0256\n",
      "Epoch 49 Batch 600 Loss 0.0376\n",
      "Epoch 49 Batch 700 Loss 0.0443\n",
      "Epoch 49 Batch 800 Loss 0.0580\n",
      "Epoch 49 Batch 900 Loss 0.0579\n",
      "Epoch 49 Batch 1000 Loss 0.0433\n",
      "Epoch 49 Batch 1100 Loss 0.0572\n",
      "Epoch 49 Batch 1200 Loss 0.0709\n",
      "Epoch 49 Loss 0.0490\n",
      "Time taken for 1 epoch 57.72393035888672 sec\n",
      "\n",
      "Epoch 50 Batch 0 Loss 0.0440\n",
      "Epoch 50 Batch 100 Loss 0.0360\n",
      "Epoch 50 Batch 200 Loss 0.0181\n",
      "Epoch 50 Batch 300 Loss 0.0481\n",
      "Epoch 50 Batch 400 Loss 0.0542\n",
      "Epoch 50 Batch 500 Loss 0.0880\n",
      "Epoch 50 Batch 600 Loss 0.0552\n",
      "Epoch 50 Batch 700 Loss 0.0506\n",
      "Epoch 50 Batch 800 Loss 0.0386\n",
      "Epoch 50 Batch 900 Loss 0.0469\n",
      "Epoch 50 Batch 1000 Loss 0.0283\n",
      "Epoch 50 Batch 1100 Loss 0.0516\n",
      "Epoch 50 Batch 1200 Loss 0.0474\n",
      "Epoch 50 Loss 0.0488\n",
      "Time taken for 1 epoch 58.32520079612732 sec\n",
      "\n"
     ]
    }
   ],
   "source": [
    "EPOCHS = 50\n",
    "\n",
    "# Идем по эпохам и считаем loss\n",
    "for epoch in range(EPOCHS):\n",
    "    start = time.time()\n",
    "\n",
    "    # инициализируем входное скрытое состояние (из нулей) размера (батч, кол-во рекуррентных ячеек)\n",
    "    enc_hidden = encoder.initialize_hidden_state()\n",
    "    total_loss = 0\n",
    "\n",
    "    for (batch, (inp, targ)) in enumerate(dataset.take(steps_per_epoch)):\n",
    "\n",
    "        # делаем шаг обучения. находим ошибку по батчу\n",
    "        batch_loss = train_step(inp, targ, enc_hidden)\n",
    "\n",
    "        # считаем накопленный ошибку\n",
    "        total_loss += batch_loss\n",
    "\n",
    "        if batch % 100 == 0:\n",
    "            print('Epoch {} Batch {} Loss {:.4f}'.format(epoch + 1,\n",
    "                                                       batch,\n",
    "                                                       batch_loss.numpy()))\n",
    "    # saving (checkpoint) the model every 2 epochs\n",
    "    if (epoch + 1) % 2 == 0:\n",
    "        checkpoint.save(file_prefix = checkpoint_prefix)\n",
    "    # выводим лосс по каждой эпохе и время \n",
    "    print('Epoch {} Loss {:.4f}'.format(epoch + 1,\n",
    "                                      total_loss / steps_per_epoch))\n",
    "    print('Time taken for 1 epoch {} sec\\n'.format(time.time() - start))"
   ]
  },
  {
   "cell_type": "code",
   "execution_count": 34,
   "metadata": {
    "id": "R8dCpyT7sgMe"
   },
   "outputs": [],
   "source": [
    "def evaluate(sentence):\n",
    "    '''\n",
    "    Функция повторяет шаг обучения, но бзе использования teacher forcing. \n",
    "    Входным сигналом для декодера на каждом временном шаге являются его предыдущие предсказания вместе со скрытым состоянием и выходным сигналом энсодера.\n",
    "    '''\n",
    "    #препоцессим предложение\n",
    "    sentence = preprocess_sentence(sentence)\n",
    "    #разбиваем предложение по пробелам и составляем список индексов каждого слова\n",
    "    inputs = [inp_lang.word_index[i] for i in sentence.split(' ')]\n",
    "    #добиваем inputs нулями справа до максимальной длины входного текста\n",
    "    inputs = tf.keras.preprocessing.sequence.pad_sequences([inputs],\n",
    "                                                          maxlen=max_length_inp,\n",
    "                                                          padding='post')\n",
    "    #преобразуем inputs в тензор\n",
    "    inputs = tf.convert_to_tensor(inputs)\n",
    "\n",
    "    result = ''\n",
    "    # инициализируем входной хидден из нулей размера (1, units)\n",
    "    hidden = [tf.zeros((1, units))]\n",
    "    #подаем inputs и hidden в encoder\n",
    "    enc_hidden = encoder(inputs, hidden)\n",
    "\n",
    "    #инициализируем входной хидден декодера -- выходной хидден энкодера\n",
    "    dec_hidden = enc_hidden\n",
    "    #вход декодера -- список [индекс start] размера(1,1)\n",
    "    dec_input = tf.expand_dims([targ_lang.word_index['<start>']], 0)\n",
    "\n",
    "    for t in range(max_length_targ):\n",
    "    #получаем выход декодера\n",
    "    predictions, dec_hidden = decoder(dec_input, dec_hidden)\n",
    "\n",
    "    predicted_id = tf.argmax(predictions[0]).numpy()\n",
    "    result += targ_lang.index_word[predicted_id] + ' '\n",
    "\n",
    "    #заканчиваем на токене end\n",
    "    if targ_lang.index_word[predicted_id] == '<end>':\n",
    "        return result, sentence\n",
    "\n",
    "    # предсказанный predicted ID подаем обратно в декодер (добавляем ось - будет размер (1,1), т к сеть принимает на вход объекты батчами)\n",
    "    dec_input = tf.expand_dims([predicted_id], 0)\n",
    "\n",
    "    return result, sentence"
   ]
  },
  {
   "cell_type": "code",
   "execution_count": 35,
   "metadata": {
    "id": "jMVOeAPRdJBs"
   },
   "outputs": [],
   "source": [
    "# функция для перевода\n",
    "def translate(sentence):\n",
    "    result, sentence = evaluate(sentence)\n",
    "    print('Input: %s' % (sentence))\n",
    "    print('Predicted translation: {}'.format(result))"
   ]
  },
  {
   "cell_type": "code",
   "execution_count": 36,
   "metadata": {
    "colab": {
     "base_uri": "https://localhost:8080/"
    },
    "id": "4FOSgN4XnKx8",
    "outputId": "de8349ce-e798-46da-e680-d0f9ea90c0ae"
   },
   "outputs": [
    {
     "data": {
      "text/plain": [
       "<tensorflow.python.training.tracking.util.CheckpointLoadStatus at 0x7f3bb25cded0>"
      ]
     },
     "execution_count": 36,
     "metadata": {},
     "output_type": "execute_result"
    }
   ],
   "source": [
    "# загружаем последний checkpoint из checkpoint_dir\n",
    "\n",
    "checkpoint.restore(tf.train.latest_checkpoint(checkpoint_dir))"
   ]
  },
  {
   "cell_type": "markdown",
   "metadata": {
    "id": "uWgj_fzrq_9T"
   },
   "source": [
    "Проверяем качество перевода на разной длине текста"
   ]
  },
  {
   "cell_type": "code",
   "execution_count": 37,
   "metadata": {
    "colab": {
     "base_uri": "https://localhost:8080/"
    },
    "id": "Sy0DB7gJnKvV",
    "outputId": "cce33fc2-bab4-47dc-c595-6cee2587b561"
   },
   "outputs": [
    {
     "name": "stdout",
     "output_type": "stream",
     "text": [
      "Input: <start> красивые цветы <end>\n",
      "Predicted translation: you decide . <end> \n"
     ]
    }
   ],
   "source": [
    "translate('Красивые цветы')"
   ]
  },
  {
   "cell_type": "code",
   "execution_count": 38,
   "metadata": {
    "colab": {
     "base_uri": "https://localhost:8080/"
    },
    "id": "xU_Vq8k3nKsz",
    "outputId": "89320bff-1c2a-49b1-8a91-dd38aeb793cf"
   },
   "outputs": [
    {
     "name": "stdout",
     "output_type": "stream",
     "text": [
      "Input: <start> я иду в школу <end>\n",
      "Predicted translation: i go to school . <end> \n"
     ]
    }
   ],
   "source": [
    "translate('Я иду в школу')"
   ]
  },
  {
   "cell_type": "code",
   "execution_count": 39,
   "metadata": {
    "colab": {
     "base_uri": "https://localhost:8080/"
    },
    "id": "4jXT15Ors9nI",
    "outputId": "d621fddf-2c92-423d-d5da-04221ee3d933"
   },
   "outputs": [
    {
     "name": "stdout",
     "output_type": "stream",
     "text": [
      "Input: <start> я люблю кошек и собак <end>\n",
      "Predicted translation: i love dogs and cats . <end> \n"
     ]
    }
   ],
   "source": [
    "translate('Я люблю кошек и собак')"
   ]
  },
  {
   "cell_type": "code",
   "execution_count": 40,
   "metadata": {
    "colab": {
     "base_uri": "https://localhost:8080/"
    },
    "id": "POrQ90barFfK",
    "outputId": "7c25e235-7150-43f0-ed01-81fb4b070360"
   },
   "outputs": [
    {
     "name": "stdout",
     "output_type": "stream",
     "text": [
      "Input: <start> я делаю домашнее задание после школы <end>\n",
      "Predicted translation: i do what meet me . <end> \n"
     ]
    }
   ],
   "source": [
    "translate('Я делаю домашнее задание после школы')"
   ]
  },
  {
   "cell_type": "code",
   "execution_count": 41,
   "metadata": {
    "colab": {
     "base_uri": "https://localhost:8080/"
    },
    "id": "enTxNw6UrFZ0",
    "outputId": "7a73faed-4963-41a9-f5c8-23cbb84f8d3a"
   },
   "outputs": [
    {
     "name": "stdout",
     "output_type": "stream",
     "text": [
      "Input: <start> сегодня я пойду в школу , а потом пойду в магазин <end>\n",
      "Predicted translation: i'll go to my desk . <end> \n"
     ]
    }
   ],
   "source": [
    "translate(u'Сегодня я пойду в школу, а потом пойду в магазин')"
   ]
  },
  {
   "cell_type": "code",
   "execution_count": 42,
   "metadata": {
    "colab": {
     "base_uri": "https://localhost:8080/"
    },
    "id": "W5ArscsCrLaF",
    "outputId": "5968ceef-bf5d-42ae-b534-d3f97898c6d4"
   },
   "outputs": [
    {
     "name": "stdout",
     "output_type": "stream",
     "text": [
      "Input: <start> сегодня я пойду в школу , потом гулять , а потом пойду в магазин <end>\n",
      "Predicted translation: i'll go to school again . <end> \n"
     ]
    }
   ],
   "source": [
    "translate(u'Сегодня я пойду в школу, потом гулять, а потом пойду в магазин')"
   ]
  },
  {
   "cell_type": "code",
   "execution_count": 43,
   "metadata": {
    "colab": {
     "base_uri": "https://localhost:8080/"
    },
    "id": "B_AWY9AbrLWs",
    "outputId": "b36cb87e-0b62-437a-da53-f2036d027227"
   },
   "outputs": [
    {
     "name": "stdout",
     "output_type": "stream",
     "text": [
      "Input: <start> я живу в другой стране , скучаю по дому , по маме , по папе <end>\n",
      "Predicted translation: i live next to son . <end> \n"
     ]
    }
   ],
   "source": [
    "translate(u'Я живу в другой стране, скучаю по дому, по маме, по папе')"
   ]
  },
  {
   "cell_type": "code",
   "execution_count": 44,
   "metadata": {
    "colab": {
     "base_uri": "https://localhost:8080/"
    },
    "id": "1VcOGjd300jS",
    "outputId": "f4482083-5c6e-402c-f718-c797a2f6862e"
   },
   "outputs": [
    {
     "name": "stdout",
     "output_type": "stream",
     "text": [
      "Input: <start> через неделю будут каникулы , и мы с родителями и друзьями поедем отдыхать на море <end>\n",
      "Predicted translation: snow put it to chance . <end> \n"
     ]
    }
   ],
   "source": [
    "translate(u'Через неделю будут каникулы, и мы с родителями и друзьями поедем отдыхать на море')"
   ]
  },
  {
   "cell_type": "markdown",
   "metadata": {
    "id": "DJjzbPuqrbOK"
   },
   "source": [
    "**Вывод:** В целом перевод довольно невысокого качества, но чем длиннее предложение, тем хуже качество перевода"
   ]
  },
  {
   "cell_type": "markdown",
   "metadata": {
    "id": "jV3-hpSG1IjH"
   },
   "source": [
    "### Модель машинного перевода с вниманием"
   ]
  },
  {
   "cell_type": "code",
   "execution_count": 45,
   "metadata": {
    "id": "nsQbYiv0rLUK"
   },
   "outputs": [],
   "source": [
    "'''1 ЭТАП - ENCODER (аналогичен первой модели без внимания)'''\n",
    "\n",
    "class Encoder(tf.keras.Model):\n",
    "    def __init__(self, vocab_size, embedding_dim, enc_units, batch_sz):\n",
    "        super(Encoder, self).__init__()\n",
    "        self.batch_sz = batch_sz\n",
    "        self.enc_units = enc_units\n",
    "        self.embedding = tf.keras.layers.Embedding(vocab_size, embedding_dim)\n",
    "        self.gru = tf.keras.layers.GRU(self.enc_units,\n",
    "                                       return_sequences=True,\n",
    "                                       return_state=True,\n",
    "                                       recurrent_initializer='glorot_uniform')\n",
    "\n",
    "    def call(self, x, hidden):\n",
    "        x = self.embedding(x)\n",
    "        output, state = self.gru(x, initial_state = hidden)\n",
    "        return output, state\n",
    "\n",
    "    def initialize_hidden_state(self):\n",
    "        return tf.zeros((self.batch_sz, self.enc_units))"
   ]
  },
  {
   "cell_type": "code",
   "execution_count": 46,
   "metadata": {
    "colab": {
     "base_uri": "https://localhost:8080/"
    },
    "id": "HWkU_8j3rLRy",
    "outputId": "cc8de4b3-0ef8-4580-904a-bdf121bd2a6f"
   },
   "outputs": [
    {
     "name": "stdout",
     "output_type": "stream",
     "text": [
      "Encoder output shape: (batch size, sequence length, units) (64, 15, 1024)\n",
      "Encoder Hidden state shape: (batch size, units) (64, 1024)\n"
     ]
    }
   ],
   "source": [
    "encoder = Encoder(vocab_inp_size, embedding_dim, units, BATCH_SIZE)\n",
    "\n",
    "# инициализируем начальное скрытое состояние из нулей\n",
    "sample_hidden = encoder.initialize_hidden_state()\n",
    "#получаем выходы энкодера по каждому символу и последнее скрытое состояние\n",
    "sample_output, sample_hidden = encoder(example_input_batch, sample_hidden)\n",
    "print ('Encoder output shape: (batch size, sequence length, units) {}'.format(sample_output.shape))\n",
    "\n",
    "print ('Encoder Hidden state shape: (batch size, units) {}'.format(sample_hidden.shape))"
   ]
  },
  {
   "cell_type": "code",
   "execution_count": 47,
   "metadata": {
    "colab": {
     "base_uri": "https://localhost:8080/"
    },
    "id": "VGj6xbGy_Jvj",
    "outputId": "a09cb7eb-9777-45e5-a647-dedec6d849b2"
   },
   "outputs": [
    {
     "data": {
      "text/plain": [
       "2"
      ]
     },
     "execution_count": 47,
     "metadata": {},
     "output_type": "execute_result"
    }
   ],
   "source": [
    "len(encoder(example_input_batch, sample_hidden))"
   ]
  },
  {
   "cell_type": "code",
   "execution_count": 48,
   "metadata": {
    "id": "cX4VizcwsgJf"
   },
   "outputs": [],
   "source": [
    "'''СЛОЙ ВНИМАНИЯ'''\n",
    "\n",
    "class BahdanauAttention(tf.keras.layers.Layer):\n",
    "    def __init__(self, units):\n",
    "        super(BahdanauAttention, self).__init__()\n",
    "        self.W1 = tf.keras.layers.Dense(units)\n",
    "        self.W2 = tf.keras.layers.Dense(units)\n",
    "        self.V = tf.keras.layers.Dense(1)\n",
    "\n",
    "    def call(self, query, values):\n",
    "\n",
    "        # values - выходы из encoder-a по всем символам - входы в декодер = sample_output\n",
    "        # query - последний выход из encoder-a = sample_hidden\n",
    "\n",
    "        # query hidden state shape == (batch_size, hidden size)\n",
    "        # values shape == (batch_size, max_len, hidden size)\n",
    "\n",
    "        # добавляем размерность по индексу 1\n",
    "        query_with_time_axis = tf.expand_dims(query, 1)\n",
    "\n",
    "        # score shape == (batch_size, max_length, 1)\n",
    "        # we get 1 at the last axis because we are applying score to self.V\n",
    "        # the shape of the tensor before applying self.V is (batch_size, max_length, units)\n",
    "        \n",
    "        #применяем к векторам скрытого состояния и выходов энкодера полносвязный слой: (выход (batch_size, 1, units) и (batch_size, max_length, units))\n",
    "        #складываем полученные векторы, применяем к сумме тангенс\n",
    "        # выход (batch_size, max_length, units)\n",
    "        #проводим результат через dense слой выход (batch_size, max_length, 1)\n",
    "        score = self.V(tf.nn.tanh(\n",
    "            self.W1(query_with_time_axis) + self.W2(values)))\n",
    "        # print((self.W1(query_with_time_axis).shape))\n",
    "        # print((self.W2(values).shape))\n",
    "        # print((self.W1(query_with_time_axis) + self.W2(values)).shape)\n",
    "        # print(score.shape)\n",
    "\n",
    "        # attention_weights shape == (batch_size, max_length, 1)\n",
    "        # получаем вероятностное распределение\n",
    "        attention_weights = tf.nn.softmax(score, axis=1)\n",
    "\n",
    "        # context_vector shape after sum == (batch_size, hidden_size)\n",
    "        # умножаем веса внимания умножаем на векторы значенй выход (batch_size, max_len, hidden size)\n",
    "        context_vector = attention_weights * values\n",
    "        #находим сумму по стобцам - общую сумму контекста для (batch_size, hidden_size)\n",
    "        context_vector = tf.reduce_sum(context_vector, axis=1)\n",
    "\n",
    "        return context_vector, attention_weights"
   ]
  },
  {
   "cell_type": "code",
   "execution_count": 49,
   "metadata": {
    "colab": {
     "base_uri": "https://localhost:8080/"
    },
    "id": "Ai4O189cFB9w",
    "outputId": "3b6e9841-f7b1-4e3c-e50e-2d30346d6d31"
   },
   "outputs": [
    {
     "name": "stdout",
     "output_type": "stream",
     "text": [
      "Attention result shape: (batch size, units) (64, 1024)\n",
      "Attention weights shape: (batch_size, sequence_length, 1) (64, 15, 1)\n"
     ]
    }
   ],
   "source": [
    "attention_layer = BahdanauAttention(10)\n",
    "\n",
    "#передаем выход энкодера и его последовательность скрытых состояний\n",
    "attention_result, attention_weights = attention_layer(sample_hidden, sample_output)\n",
    "\n",
    "print(\"Attention result shape: (batch size, units) {}\".format(attention_result.shape))\n",
    "print(\"Attention weights shape: (batch_size, sequence_length, 1) {}\".format(attention_weights.shape))"
   ]
  },
  {
   "cell_type": "code",
   "execution_count": 50,
   "metadata": {
    "colab": {
     "base_uri": "https://localhost:8080/"
    },
    "id": "3HiGQMT2Ffme",
    "outputId": "44af535f-66f0-44d2-c9b4-8fcdd87048f9"
   },
   "outputs": [
    {
     "data": {
      "text/plain": [
       "<tf.Tensor: shape=(64, 1024), dtype=float32, numpy=\n",
       "array([[ 0.00191823,  0.00154818,  0.00913092, ...,  0.0024292 ,\n",
       "         0.0086515 ,  0.00282525],\n",
       "       [ 0.00273852, -0.0018808 ,  0.00647311, ...,  0.00075117,\n",
       "         0.00827804,  0.0019104 ],\n",
       "       [-0.00365941, -0.00246676,  0.0080144 , ...,  0.00269426,\n",
       "         0.00631674,  0.00661919],\n",
       "       ...,\n",
       "       [ 0.0007233 , -0.00147006,  0.01625362, ...,  0.00205639,\n",
       "         0.0076184 ,  0.00829769],\n",
       "       [ 0.00028769, -0.00210089,  0.00731848, ...,  0.00147482,\n",
       "         0.00377336,  0.00651309],\n",
       "       [ 0.00185719, -0.00281799,  0.01337776, ...,  0.00352531,\n",
       "         0.00720324,  0.00875759]], dtype=float32)>"
      ]
     },
     "execution_count": 50,
     "metadata": {},
     "output_type": "execute_result"
    }
   ],
   "source": [
    "#вектор контекста\n",
    "attention_result"
   ]
  },
  {
   "cell_type": "code",
   "execution_count": 51,
   "metadata": {
    "id": "1sIvxB_3Ffgh"
   },
   "outputs": [],
   "source": [
    "'''2 ЭТАП - DECODER'''\n",
    "\n",
    "class Decoder(tf.keras.Model):\n",
    "    def __init__(self, vocab_size, embedding_dim, dec_units, batch_sz):\n",
    "        super(Decoder, self).__init__()\n",
    "        self.batch_sz = batch_sz\n",
    "        self.dec_units = dec_units\n",
    "        self.embedding = tf.keras.layers.Embedding(vocab_size, embedding_dim)\n",
    "        self.gru = tf.keras.layers.GRU(self.dec_units,\n",
    "                                       return_sequences=True,\n",
    "                                       return_state=True,\n",
    "                                       recurrent_initializer='glorot_uniform')\n",
    "        self.fc = tf.keras.layers.Dense(vocab_size)\n",
    "        # используем слой внимания\n",
    "        self.attention = BahdanauAttention(self.dec_units)\n",
    "\n",
    "    def call(self, x, hidden, enc_output):\n",
    "        # enc_output shape == (batch_size, max_length, hidden_size)\n",
    "        # получаем выходы слоя внимания \n",
    "        # context_vector shape == (batch_size, hidden_size)\n",
    "        # attention_weights shape == (batch_size, max_len, 1)\n",
    "        context_vector, attention_weights = self.attention(hidden, enc_output)\n",
    "\n",
    "        # x shape after passing through embedding == (batch_size, 1, embedding_dim)\n",
    "        x = self.embedding(x)\n",
    "\n",
    "        # x shape after concatenation == (batch_size, 1, embedding_dim + hidden_size)\n",
    "        #соединяем выход эмбеддинга с вектором контекста и подаем навход RNN\n",
    "        x = tf.concat([tf.expand_dims(context_vector, 1), x], axis=-1)\n",
    "\n",
    "        # passing the concatenated vector to the GRU\n",
    "        output, state = self.gru(x)\n",
    "\n",
    "        # (batch_size, 1, hidden_size) --> output shape == (batch_size * 1, hidden_size)\n",
    "        output = tf.reshape(output, (-1, output.shape[2]))\n",
    "\n",
    "        # output shape == (batch_size, vocab)\n",
    "        x = self.fc(output)\n",
    "\n",
    "        return x, state, attention_weights"
   ]
  },
  {
   "cell_type": "code",
   "execution_count": 52,
   "metadata": {
    "colab": {
     "base_uri": "https://localhost:8080/"
    },
    "id": "EdEEWP8WFB7K",
    "outputId": "4355d75a-fe82-48ff-f813-a027b6671a1e"
   },
   "outputs": [
    {
     "name": "stdout",
     "output_type": "stream",
     "text": [
      "Decoder output shape: (batch_size, vocab size) (64, 7334)\n"
     ]
    }
   ],
   "source": [
    "decoder = Decoder(vocab_tar_size, embedding_dim, units, BATCH_SIZE)\n",
    "#применяем декодер к случайному батчу из равномерного распределения (батч,1) и выходам энкодера\n",
    "sample_decoder_output, _, _ = decoder(tf.random.uniform((BATCH_SIZE, 1)),\n",
    "                                      sample_hidden, sample_output)\n",
    "\n",
    "print ('Decoder output shape: (batch_size, vocab size) {}'.format(sample_decoder_output.shape))"
   ]
  },
  {
   "cell_type": "code",
   "execution_count": 53,
   "metadata": {
    "id": "j_FvB8tEFB4o"
   },
   "outputs": [],
   "source": [
    "'''CHECKPOINT'''\n",
    "\n",
    "checkpoint_dir = './training_attention_checkpoints'\n",
    "checkpoint_prefix = os.path.join(checkpoint_dir, \"ckpt\")\n",
    "checkpoint = tf.train.Checkpoint(optimizer=optimizer,\n",
    "                                 encoder=encoder,\n",
    "                                 decoder=decoder)"
   ]
  },
  {
   "cell_type": "markdown",
   "metadata": {
    "id": "zolF1dQJMRFB"
   },
   "source": [
    "Процесс обучения аналогичен модели без внимания"
   ]
  },
  {
   "cell_type": "code",
   "execution_count": 54,
   "metadata": {
    "id": "UsSTZgU0KV1m"
   },
   "outputs": [],
   "source": [
    "@tf.function\n",
    "def train_step(inp, targ, enc_hidden):\n",
    "    loss = 0\n",
    "    # перечисляем операции для автоматического дифференцирования\n",
    "    with tf.GradientTape() as tape:\n",
    "\n",
    "        # получаем выход encoder\n",
    "        enc_output, enc_hidden = encoder(inp, enc_hidden)\n",
    "\n",
    "        # помещаем его в скрытое состояние decoder\n",
    "        dec_hidden = enc_hidden\n",
    "\n",
    "        # формируем вход декодера:\n",
    "\n",
    "        # берем список длины батч из индексов тега <start> (1)\n",
    "        # приписываем списку размерность 1 сзади (батч, 1)\n",
    "        dec_input = tf.expand_dims([targ_lang.word_index['<start>']] * BATCH_SIZE, 1)\n",
    "\n",
    "        # Teacher forcing - выводим target в качестве следующего входа\n",
    "        for t in range(1, targ.shape[1]):\n",
    "          # помещаем enc_output в decoder\n",
    "          predictions, dec_hidden, _ = decoder(dec_input, dec_hidden, enc_output)\n",
    "\n",
    "          # считаем функцию потерь \n",
    "          loss += loss_function(targ[:, t], predictions)\n",
    "\n",
    "          # используем teacher forcing (приписываем списку размерность 1 сзади)\n",
    "          # посылаем dec_input на вход декордера \n",
    "          dec_input = tf.expand_dims(targ[:, t], 1)\n",
    "\n",
    "    batch_loss = (loss / int(targ.shape[1]))\n",
    "\n",
    "    #переменные\n",
    "    variables = encoder.trainable_variables + decoder.trainable_variables\n",
    "\n",
    "    #вычисляем градиенты loss по variables\n",
    "    gradients = tape.gradient(loss, variables)\n",
    "    \n",
    "    #оптимизатор применяет подсчитанные градиенты\n",
    "    optimizer.apply_gradients(zip(gradients, variables))\n",
    "\n",
    "    return batch_loss\n"
   ]
  },
  {
   "cell_type": "code",
   "execution_count": 55,
   "metadata": {
    "colab": {
     "base_uri": "https://localhost:8080/"
    },
    "id": "HBZ3pDUIKVzA",
    "outputId": "aeca2adb-09b3-4198-d50c-fc02b488d822"
   },
   "outputs": [
    {
     "name": "stdout",
     "output_type": "stream",
     "text": [
      "Epoch 1 Batch 0 Loss 4.7162\n",
      "Epoch 1 Batch 100 Loss 1.9165\n",
      "Epoch 1 Batch 200 Loss 1.7751\n",
      "Epoch 1 Batch 300 Loss 1.5775\n",
      "Epoch 1 Batch 400 Loss 1.6064\n",
      "Epoch 1 Batch 500 Loss 1.5164\n",
      "Epoch 1 Batch 600 Loss 1.3648\n",
      "Epoch 1 Batch 700 Loss 1.3839\n",
      "Epoch 1 Batch 800 Loss 1.4100\n",
      "Epoch 1 Batch 900 Loss 1.3490\n",
      "Epoch 1 Batch 1000 Loss 1.1826\n",
      "Epoch 1 Batch 1100 Loss 1.2758\n",
      "Epoch 1 Batch 1200 Loss 1.2019\n",
      "Epoch 1 Loss 1.5320\n",
      "Time taken for 1 epoch 114.94801330566406 sec\n",
      "\n",
      "Epoch 2 Batch 0 Loss 1.0953\n",
      "Epoch 2 Batch 100 Loss 1.1362\n",
      "Epoch 2 Batch 200 Loss 1.0917\n",
      "Epoch 2 Batch 300 Loss 1.0709\n",
      "Epoch 2 Batch 400 Loss 1.1040\n",
      "Epoch 2 Batch 500 Loss 1.0958\n",
      "Epoch 2 Batch 600 Loss 1.0208\n",
      "Epoch 2 Batch 700 Loss 1.0478\n",
      "Epoch 2 Batch 800 Loss 1.0974\n",
      "Epoch 2 Batch 900 Loss 1.0231\n",
      "Epoch 2 Batch 1000 Loss 0.9831\n",
      "Epoch 2 Batch 1100 Loss 0.9393\n",
      "Epoch 2 Batch 1200 Loss 0.9884\n",
      "Epoch 2 Loss 1.0607\n",
      "Time taken for 1 epoch 102.01122069358826 sec\n",
      "\n",
      "Epoch 3 Batch 0 Loss 0.8063\n",
      "Epoch 3 Batch 100 Loss 0.8545\n",
      "Epoch 3 Batch 200 Loss 0.8421\n",
      "Epoch 3 Batch 300 Loss 0.9716\n",
      "Epoch 3 Batch 400 Loss 0.7660\n",
      "Epoch 3 Batch 500 Loss 0.9203\n",
      "Epoch 3 Batch 600 Loss 0.8119\n",
      "Epoch 3 Batch 700 Loss 0.6841\n",
      "Epoch 3 Batch 800 Loss 0.7707\n",
      "Epoch 3 Batch 900 Loss 0.6601\n",
      "Epoch 3 Batch 1000 Loss 0.7353\n",
      "Epoch 3 Batch 1100 Loss 0.8100\n",
      "Epoch 3 Batch 1200 Loss 0.8040\n",
      "Epoch 3 Loss 0.7999\n",
      "Time taken for 1 epoch 101.3868408203125 sec\n",
      "\n",
      "Epoch 4 Batch 0 Loss 0.6997\n",
      "Epoch 4 Batch 100 Loss 0.6455\n",
      "Epoch 4 Batch 200 Loss 0.5902\n",
      "Epoch 4 Batch 300 Loss 0.6511\n",
      "Epoch 4 Batch 400 Loss 0.5493\n",
      "Epoch 4 Batch 500 Loss 0.5667\n",
      "Epoch 4 Batch 600 Loss 0.5696\n",
      "Epoch 4 Batch 700 Loss 0.5935\n",
      "Epoch 4 Batch 800 Loss 0.5997\n",
      "Epoch 4 Batch 900 Loss 0.5226\n",
      "Epoch 4 Batch 1000 Loss 0.5356\n",
      "Epoch 4 Batch 1100 Loss 0.5700\n",
      "Epoch 4 Batch 1200 Loss 0.5650\n",
      "Epoch 4 Loss 0.5851\n",
      "Time taken for 1 epoch 102.16440057754517 sec\n",
      "\n",
      "Epoch 5 Batch 0 Loss 0.4431\n",
      "Epoch 5 Batch 100 Loss 0.4059\n",
      "Epoch 5 Batch 200 Loss 0.4296\n",
      "Epoch 5 Batch 300 Loss 0.4520\n",
      "Epoch 5 Batch 400 Loss 0.3963\n",
      "Epoch 5 Batch 500 Loss 0.4458\n",
      "Epoch 5 Batch 600 Loss 0.3921\n",
      "Epoch 5 Batch 700 Loss 0.4102\n",
      "Epoch 5 Batch 800 Loss 0.3754\n",
      "Epoch 5 Batch 900 Loss 0.4264\n",
      "Epoch 5 Batch 1000 Loss 0.4236\n",
      "Epoch 5 Batch 1100 Loss 0.3698\n",
      "Epoch 5 Batch 1200 Loss 0.4282\n",
      "Epoch 5 Loss 0.4147\n",
      "Time taken for 1 epoch 100.80068683624268 sec\n",
      "\n",
      "Epoch 6 Batch 0 Loss 0.3100\n",
      "Epoch 6 Batch 100 Loss 0.2947\n",
      "Epoch 6 Batch 200 Loss 0.3116\n",
      "Epoch 6 Batch 300 Loss 0.2912\n",
      "Epoch 6 Batch 400 Loss 0.2577\n",
      "Epoch 6 Batch 500 Loss 0.2469\n",
      "Epoch 6 Batch 600 Loss 0.3040\n",
      "Epoch 6 Batch 700 Loss 0.2681\n",
      "Epoch 6 Batch 800 Loss 0.3054\n",
      "Epoch 6 Batch 900 Loss 0.3031\n",
      "Epoch 6 Batch 1000 Loss 0.2866\n",
      "Epoch 6 Batch 1100 Loss 0.3499\n",
      "Epoch 6 Batch 1200 Loss 0.3140\n",
      "Epoch 6 Loss 0.2906\n",
      "Time taken for 1 epoch 101.89892816543579 sec\n",
      "\n",
      "Epoch 7 Batch 0 Loss 0.1820\n",
      "Epoch 7 Batch 100 Loss 0.2340\n",
      "Epoch 7 Batch 200 Loss 0.2192\n",
      "Epoch 7 Batch 300 Loss 0.1577\n",
      "Epoch 7 Batch 400 Loss 0.2086\n",
      "Epoch 7 Batch 500 Loss 0.1931\n",
      "Epoch 7 Batch 600 Loss 0.2200\n",
      "Epoch 7 Batch 700 Loss 0.2090\n",
      "Epoch 7 Batch 800 Loss 0.2093\n",
      "Epoch 7 Batch 900 Loss 0.2131\n",
      "Epoch 7 Batch 1000 Loss 0.2344\n",
      "Epoch 7 Batch 1100 Loss 0.2384\n",
      "Epoch 7 Batch 1200 Loss 0.2325\n",
      "Epoch 7 Loss 0.2075\n",
      "Time taken for 1 epoch 100.65253257751465 sec\n",
      "\n",
      "Epoch 8 Batch 0 Loss 0.1615\n",
      "Epoch 8 Batch 100 Loss 0.1616\n",
      "Epoch 8 Batch 200 Loss 0.1311\n",
      "Epoch 8 Batch 300 Loss 0.1461\n",
      "Epoch 8 Batch 400 Loss 0.1476\n",
      "Epoch 8 Batch 500 Loss 0.1663\n",
      "Epoch 8 Batch 600 Loss 0.1684\n",
      "Epoch 8 Batch 700 Loss 0.1732\n",
      "Epoch 8 Batch 800 Loss 0.1450\n",
      "Epoch 8 Batch 900 Loss 0.1572\n",
      "Epoch 8 Batch 1000 Loss 0.1568\n",
      "Epoch 8 Batch 1100 Loss 0.1663\n",
      "Epoch 8 Batch 1200 Loss 0.1397\n",
      "Epoch 8 Loss 0.1539\n",
      "Time taken for 1 epoch 101.68819618225098 sec\n",
      "\n",
      "Epoch 9 Batch 0 Loss 0.1155\n",
      "Epoch 9 Batch 100 Loss 0.0753\n",
      "Epoch 9 Batch 200 Loss 0.1083\n",
      "Epoch 9 Batch 300 Loss 0.0844\n",
      "Epoch 9 Batch 400 Loss 0.0775\n",
      "Epoch 9 Batch 500 Loss 0.1302\n",
      "Epoch 9 Batch 600 Loss 0.0974\n",
      "Epoch 9 Batch 700 Loss 0.0825\n",
      "Epoch 9 Batch 800 Loss 0.1063\n",
      "Epoch 9 Batch 900 Loss 0.1469\n",
      "Epoch 9 Batch 1000 Loss 0.1864\n",
      "Epoch 9 Batch 1100 Loss 0.1733\n",
      "Epoch 9 Batch 1200 Loss 0.1247\n",
      "Epoch 9 Loss 0.1220\n",
      "Time taken for 1 epoch 100.76407480239868 sec\n",
      "\n",
      "Epoch 10 Batch 0 Loss 0.0754\n",
      "Epoch 10 Batch 100 Loss 0.0958\n",
      "Epoch 10 Batch 200 Loss 0.0677\n",
      "Epoch 10 Batch 300 Loss 0.0825\n",
      "Epoch 10 Batch 400 Loss 0.1061\n",
      "Epoch 10 Batch 500 Loss 0.1100\n",
      "Epoch 10 Batch 600 Loss 0.1381\n",
      "Epoch 10 Batch 700 Loss 0.1009\n",
      "Epoch 10 Batch 800 Loss 0.1232\n",
      "Epoch 10 Batch 900 Loss 0.1097\n",
      "Epoch 10 Batch 1000 Loss 0.0975\n",
      "Epoch 10 Batch 1100 Loss 0.1440\n",
      "Epoch 10 Batch 1200 Loss 0.0995\n",
      "Epoch 10 Loss 0.1037\n",
      "Time taken for 1 epoch 101.78696155548096 sec\n",
      "\n",
      "Epoch 11 Batch 0 Loss 0.0683\n",
      "Epoch 11 Batch 100 Loss 0.0580\n",
      "Epoch 11 Batch 200 Loss 0.0697\n",
      "Epoch 11 Batch 300 Loss 0.0909\n",
      "Epoch 11 Batch 400 Loss 0.0776\n",
      "Epoch 11 Batch 500 Loss 0.0772\n",
      "Epoch 11 Batch 600 Loss 0.1252\n",
      "Epoch 11 Batch 700 Loss 0.0726\n",
      "Epoch 11 Batch 800 Loss 0.1047\n",
      "Epoch 11 Batch 900 Loss 0.1414\n",
      "Epoch 11 Batch 1000 Loss 0.0891\n",
      "Epoch 11 Batch 1100 Loss 0.0865\n",
      "Epoch 11 Batch 1200 Loss 0.1006\n",
      "Epoch 11 Loss 0.0903\n",
      "Time taken for 1 epoch 100.63677334785461 sec\n",
      "\n",
      "Epoch 12 Batch 0 Loss 0.0977\n",
      "Epoch 12 Batch 100 Loss 0.0653\n",
      "Epoch 12 Batch 200 Loss 0.0528\n",
      "Epoch 12 Batch 300 Loss 0.0958\n",
      "Epoch 12 Batch 400 Loss 0.0758\n",
      "Epoch 12 Batch 500 Loss 0.0822\n",
      "Epoch 12 Batch 600 Loss 0.0796\n",
      "Epoch 12 Batch 700 Loss 0.1002\n",
      "Epoch 12 Batch 800 Loss 0.0764\n",
      "Epoch 12 Batch 900 Loss 0.0532\n",
      "Epoch 12 Batch 1000 Loss 0.0578\n",
      "Epoch 12 Batch 1100 Loss 0.0964\n",
      "Epoch 12 Batch 1200 Loss 0.0746\n",
      "Epoch 12 Loss 0.0832\n",
      "Time taken for 1 epoch 101.5849962234497 sec\n",
      "\n",
      "Epoch 13 Batch 0 Loss 0.0523\n",
      "Epoch 13 Batch 100 Loss 0.0800\n",
      "Epoch 13 Batch 200 Loss 0.0525\n",
      "Epoch 13 Batch 300 Loss 0.0733\n",
      "Epoch 13 Batch 400 Loss 0.0686\n",
      "Epoch 13 Batch 500 Loss 0.0698\n",
      "Epoch 13 Batch 600 Loss 0.1120\n",
      "Epoch 13 Batch 700 Loss 0.0978\n",
      "Epoch 13 Batch 800 Loss 0.0774\n",
      "Epoch 13 Batch 900 Loss 0.0733\n",
      "Epoch 13 Batch 1000 Loss 0.0957\n",
      "Epoch 13 Batch 1100 Loss 0.0796\n",
      "Epoch 13 Batch 1200 Loss 0.0607\n",
      "Epoch 13 Loss 0.0786\n",
      "Time taken for 1 epoch 100.70558023452759 sec\n",
      "\n",
      "Epoch 14 Batch 0 Loss 0.0717\n",
      "Epoch 14 Batch 100 Loss 0.0505\n",
      "Epoch 14 Batch 200 Loss 0.0594\n",
      "Epoch 14 Batch 300 Loss 0.0614\n",
      "Epoch 14 Batch 400 Loss 0.0401\n",
      "Epoch 14 Batch 500 Loss 0.0972\n",
      "Epoch 14 Batch 600 Loss 0.0650\n",
      "Epoch 14 Batch 700 Loss 0.0924\n",
      "Epoch 14 Batch 800 Loss 0.0617\n",
      "Epoch 14 Batch 900 Loss 0.0993\n",
      "Epoch 14 Batch 1000 Loss 0.0721\n",
      "Epoch 14 Batch 1100 Loss 0.0578\n",
      "Epoch 14 Batch 1200 Loss 0.0900\n",
      "Epoch 14 Loss 0.0730\n",
      "Time taken for 1 epoch 101.60811495780945 sec\n",
      "\n",
      "Epoch 15 Batch 0 Loss 0.0673\n",
      "Epoch 15 Batch 100 Loss 0.0491\n",
      "Epoch 15 Batch 200 Loss 0.0699\n",
      "Epoch 15 Batch 300 Loss 0.0530\n",
      "Epoch 15 Batch 400 Loss 0.0912\n",
      "Epoch 15 Batch 500 Loss 0.0430\n",
      "Epoch 15 Batch 600 Loss 0.0800\n",
      "Epoch 15 Batch 700 Loss 0.0716\n",
      "Epoch 15 Batch 800 Loss 0.0597\n",
      "Epoch 15 Batch 900 Loss 0.0574\n",
      "Epoch 15 Batch 1000 Loss 0.0795\n",
      "Epoch 15 Batch 1100 Loss 0.0949\n",
      "Epoch 15 Batch 1200 Loss 0.0857\n",
      "Epoch 15 Loss 0.0710\n",
      "Time taken for 1 epoch 100.61997604370117 sec\n",
      "\n",
      "Epoch 16 Batch 0 Loss 0.0644\n",
      "Epoch 16 Batch 100 Loss 0.0541\n",
      "Epoch 16 Batch 200 Loss 0.0708\n",
      "Epoch 16 Batch 300 Loss 0.0680\n",
      "Epoch 16 Batch 400 Loss 0.0397\n",
      "Epoch 16 Batch 500 Loss 0.0892\n",
      "Epoch 16 Batch 600 Loss 0.0533\n",
      "Epoch 16 Batch 700 Loss 0.0697\n",
      "Epoch 16 Batch 800 Loss 0.1052\n",
      "Epoch 16 Batch 900 Loss 0.0744\n",
      "Epoch 16 Batch 1000 Loss 0.0670\n",
      "Epoch 16 Batch 1100 Loss 0.0993\n",
      "Epoch 16 Batch 1200 Loss 0.0540\n",
      "Epoch 16 Loss 0.0679\n",
      "Time taken for 1 epoch 101.718101978302 sec\n",
      "\n",
      "Epoch 17 Batch 0 Loss 0.0547\n",
      "Epoch 17 Batch 100 Loss 0.0453\n",
      "Epoch 17 Batch 200 Loss 0.0682\n",
      "Epoch 17 Batch 300 Loss 0.0396\n",
      "Epoch 17 Batch 400 Loss 0.0566\n",
      "Epoch 17 Batch 500 Loss 0.0547\n",
      "Epoch 17 Batch 600 Loss 0.0485\n",
      "Epoch 17 Batch 700 Loss 0.0405\n",
      "Epoch 17 Batch 800 Loss 0.0609\n",
      "Epoch 17 Batch 900 Loss 0.0876\n",
      "Epoch 17 Batch 1000 Loss 0.0998\n",
      "Epoch 17 Batch 1100 Loss 0.0631\n",
      "Epoch 17 Batch 1200 Loss 0.0553\n",
      "Epoch 17 Loss 0.0654\n",
      "Time taken for 1 epoch 101.26323199272156 sec\n",
      "\n",
      "Epoch 18 Batch 0 Loss 0.0346\n",
      "Epoch 18 Batch 100 Loss 0.0601\n",
      "Epoch 18 Batch 200 Loss 0.0650\n",
      "Epoch 18 Batch 300 Loss 0.0761\n",
      "Epoch 18 Batch 400 Loss 0.0516\n",
      "Epoch 18 Batch 500 Loss 0.0645\n",
      "Epoch 18 Batch 600 Loss 0.0818\n",
      "Epoch 18 Batch 700 Loss 0.0589\n",
      "Epoch 18 Batch 800 Loss 0.0533\n",
      "Epoch 18 Batch 900 Loss 0.0729\n",
      "Epoch 18 Batch 1000 Loss 0.0843\n",
      "Epoch 18 Batch 1100 Loss 0.0759\n",
      "Epoch 18 Batch 1200 Loss 0.0872\n",
      "Epoch 18 Loss 0.0643\n",
      "Time taken for 1 epoch 102.07977771759033 sec\n",
      "\n",
      "Epoch 19 Batch 0 Loss 0.0533\n",
      "Epoch 19 Batch 100 Loss 0.0333\n",
      "Epoch 19 Batch 200 Loss 0.0528\n",
      "Epoch 19 Batch 300 Loss 0.0576\n",
      "Epoch 19 Batch 400 Loss 0.0804\n",
      "Epoch 19 Batch 500 Loss 0.0615\n",
      "Epoch 19 Batch 600 Loss 0.0428\n",
      "Epoch 19 Batch 700 Loss 0.1038\n",
      "Epoch 19 Batch 800 Loss 0.0584\n",
      "Epoch 19 Batch 900 Loss 0.0618\n",
      "Epoch 19 Batch 1000 Loss 0.0637\n",
      "Epoch 19 Batch 1100 Loss 0.0653\n",
      "Epoch 19 Batch 1200 Loss 0.0890\n",
      "Epoch 19 Loss 0.0619\n",
      "Time taken for 1 epoch 101.12760210037231 sec\n",
      "\n",
      "Epoch 20 Batch 0 Loss 0.0667\n",
      "Epoch 20 Batch 100 Loss 0.0588\n",
      "Epoch 20 Batch 200 Loss 0.0477\n",
      "Epoch 20 Batch 300 Loss 0.0506\n",
      "Epoch 20 Batch 400 Loss 0.0491\n",
      "Epoch 20 Batch 500 Loss 0.0309\n",
      "Epoch 20 Batch 600 Loss 0.0971\n",
      "Epoch 20 Batch 700 Loss 0.0459\n",
      "Epoch 20 Batch 800 Loss 0.0609\n",
      "Epoch 20 Batch 900 Loss 0.0773\n",
      "Epoch 20 Batch 1000 Loss 0.0741\n",
      "Epoch 20 Batch 1100 Loss 0.0711\n",
      "Epoch 20 Batch 1200 Loss 0.0603\n",
      "Epoch 20 Loss 0.0600\n",
      "Time taken for 1 epoch 102.23199701309204 sec\n",
      "\n",
      "Epoch 21 Batch 0 Loss 0.0287\n",
      "Epoch 21 Batch 100 Loss 0.0437\n",
      "Epoch 21 Batch 200 Loss 0.0874\n",
      "Epoch 21 Batch 300 Loss 0.0453\n",
      "Epoch 21 Batch 400 Loss 0.0466\n",
      "Epoch 21 Batch 500 Loss 0.0788\n",
      "Epoch 21 Batch 600 Loss 0.1151\n",
      "Epoch 21 Batch 700 Loss 0.0729\n",
      "Epoch 21 Batch 800 Loss 0.0660\n",
      "Epoch 21 Batch 900 Loss 0.0727\n",
      "Epoch 21 Batch 1000 Loss 0.0491\n",
      "Epoch 21 Batch 1100 Loss 0.0619\n",
      "Epoch 21 Batch 1200 Loss 0.0755\n",
      "Epoch 21 Loss 0.0601\n",
      "Time taken for 1 epoch 101.29265809059143 sec\n",
      "\n",
      "Epoch 22 Batch 0 Loss 0.0581\n",
      "Epoch 22 Batch 100 Loss 0.0691\n",
      "Epoch 22 Batch 200 Loss 0.0705\n",
      "Epoch 22 Batch 300 Loss 0.0536\n",
      "Epoch 22 Batch 400 Loss 0.0672\n",
      "Epoch 22 Batch 500 Loss 0.0491\n",
      "Epoch 22 Batch 600 Loss 0.1142\n",
      "Epoch 22 Batch 700 Loss 0.0433\n",
      "Epoch 22 Batch 800 Loss 0.0521\n",
      "Epoch 22 Batch 900 Loss 0.0690\n",
      "Epoch 22 Batch 1000 Loss 0.0526\n",
      "Epoch 22 Batch 1100 Loss 0.0832\n",
      "Epoch 22 Batch 1200 Loss 0.0627\n",
      "Epoch 22 Loss 0.0576\n",
      "Time taken for 1 epoch 102.07518792152405 sec\n",
      "\n",
      "Epoch 23 Batch 0 Loss 0.0345\n",
      "Epoch 23 Batch 100 Loss 0.0474\n",
      "Epoch 23 Batch 200 Loss 0.0673\n",
      "Epoch 23 Batch 300 Loss 0.0450\n",
      "Epoch 23 Batch 400 Loss 0.0573\n",
      "Epoch 23 Batch 500 Loss 0.0445\n",
      "Epoch 23 Batch 600 Loss 0.0364\n",
      "Epoch 23 Batch 700 Loss 0.0683\n",
      "Epoch 23 Batch 800 Loss 0.0782\n",
      "Epoch 23 Batch 900 Loss 0.0601\n",
      "Epoch 23 Batch 1000 Loss 0.0855\n",
      "Epoch 23 Batch 1100 Loss 0.0849\n",
      "Epoch 23 Batch 1200 Loss 0.0427\n",
      "Epoch 23 Loss 0.0573\n",
      "Time taken for 1 epoch 101.18927645683289 sec\n",
      "\n",
      "Epoch 24 Batch 0 Loss 0.0629\n",
      "Epoch 24 Batch 100 Loss 0.0461\n",
      "Epoch 24 Batch 200 Loss 0.0622\n",
      "Epoch 24 Batch 300 Loss 0.0400\n",
      "Epoch 24 Batch 400 Loss 0.0434\n",
      "Epoch 24 Batch 500 Loss 0.0588\n",
      "Epoch 24 Batch 600 Loss 0.0546\n",
      "Epoch 24 Batch 700 Loss 0.0603\n",
      "Epoch 24 Batch 800 Loss 0.0640\n",
      "Epoch 24 Batch 900 Loss 0.0435\n",
      "Epoch 24 Batch 1000 Loss 0.0652\n",
      "Epoch 24 Batch 1100 Loss 0.0542\n",
      "Epoch 24 Batch 1200 Loss 0.0635\n",
      "Epoch 24 Loss 0.0558\n",
      "Time taken for 1 epoch 102.21025943756104 sec\n",
      "\n",
      "Epoch 25 Batch 0 Loss 0.0572\n",
      "Epoch 25 Batch 100 Loss 0.0676\n",
      "Epoch 25 Batch 200 Loss 0.0465\n",
      "Epoch 25 Batch 300 Loss 0.0368\n",
      "Epoch 25 Batch 400 Loss 0.0498\n",
      "Epoch 25 Batch 500 Loss 0.0274\n",
      "Epoch 25 Batch 600 Loss 0.0713\n",
      "Epoch 25 Batch 700 Loss 0.0848\n",
      "Epoch 25 Batch 800 Loss 0.0515\n",
      "Epoch 25 Batch 900 Loss 0.0706\n",
      "Epoch 25 Batch 1000 Loss 0.0860\n",
      "Epoch 25 Batch 1100 Loss 0.0670\n",
      "Epoch 25 Batch 1200 Loss 0.0829\n",
      "Epoch 25 Loss 0.0550\n",
      "Time taken for 1 epoch 101.28868651390076 sec\n",
      "\n",
      "Epoch 26 Batch 0 Loss 0.0762\n",
      "Epoch 26 Batch 100 Loss 0.0492\n",
      "Epoch 26 Batch 200 Loss 0.0455\n",
      "Epoch 26 Batch 300 Loss 0.0537\n",
      "Epoch 26 Batch 400 Loss 0.0629\n",
      "Epoch 26 Batch 500 Loss 0.0443\n",
      "Epoch 26 Batch 600 Loss 0.0338\n",
      "Epoch 26 Batch 700 Loss 0.0465\n",
      "Epoch 26 Batch 800 Loss 0.0463\n",
      "Epoch 26 Batch 900 Loss 0.0299\n",
      "Epoch 26 Batch 1000 Loss 0.0997\n",
      "Epoch 26 Batch 1100 Loss 0.0849\n",
      "Epoch 26 Batch 1200 Loss 0.0706\n",
      "Epoch 26 Loss 0.0544\n",
      "Time taken for 1 epoch 102.09649586677551 sec\n",
      "\n",
      "Epoch 27 Batch 0 Loss 0.0440\n",
      "Epoch 27 Batch 100 Loss 0.0598\n",
      "Epoch 27 Batch 200 Loss 0.0431\n",
      "Epoch 27 Batch 300 Loss 0.0511\n",
      "Epoch 27 Batch 400 Loss 0.0497\n",
      "Epoch 27 Batch 500 Loss 0.0418\n",
      "Epoch 27 Batch 600 Loss 0.0626\n",
      "Epoch 27 Batch 700 Loss 0.0554\n",
      "Epoch 27 Batch 800 Loss 0.0545\n",
      "Epoch 27 Batch 900 Loss 0.0459\n",
      "Epoch 27 Batch 1000 Loss 0.0530\n",
      "Epoch 27 Batch 1100 Loss 0.0655\n",
      "Epoch 27 Batch 1200 Loss 0.0869\n",
      "Epoch 27 Loss 0.0529\n",
      "Time taken for 1 epoch 101.1350610256195 sec\n",
      "\n",
      "Epoch 28 Batch 0 Loss 0.0650\n",
      "Epoch 28 Batch 100 Loss 0.0356\n",
      "Epoch 28 Batch 200 Loss 0.0537\n",
      "Epoch 28 Batch 300 Loss 0.0469\n",
      "Epoch 28 Batch 400 Loss 0.0871\n",
      "Epoch 28 Batch 500 Loss 0.0288\n",
      "Epoch 28 Batch 600 Loss 0.0391\n",
      "Epoch 28 Batch 700 Loss 0.0708\n",
      "Epoch 28 Batch 800 Loss 0.0798\n",
      "Epoch 28 Batch 900 Loss 0.0357\n",
      "Epoch 28 Batch 1000 Loss 0.0576\n",
      "Epoch 28 Batch 1100 Loss 0.0433\n",
      "Epoch 28 Batch 1200 Loss 0.0702\n",
      "Epoch 28 Loss 0.0525\n",
      "Time taken for 1 epoch 102.17605257034302 sec\n",
      "\n",
      "Epoch 29 Batch 0 Loss 0.0332\n",
      "Epoch 29 Batch 100 Loss 0.0346\n",
      "Epoch 29 Batch 200 Loss 0.0392\n",
      "Epoch 29 Batch 300 Loss 0.0333\n",
      "Epoch 29 Batch 400 Loss 0.0607\n",
      "Epoch 29 Batch 500 Loss 0.0285\n",
      "Epoch 29 Batch 600 Loss 0.0577\n",
      "Epoch 29 Batch 700 Loss 0.0451\n",
      "Epoch 29 Batch 800 Loss 0.0398\n",
      "Epoch 29 Batch 900 Loss 0.0519\n",
      "Epoch 29 Batch 1000 Loss 0.0591\n",
      "Epoch 29 Batch 1100 Loss 0.0526\n",
      "Epoch 29 Batch 1200 Loss 0.0670\n",
      "Epoch 29 Loss 0.0518\n",
      "Time taken for 1 epoch 101.26252317428589 sec\n",
      "\n",
      "Epoch 30 Batch 0 Loss 0.0474\n",
      "Epoch 30 Batch 100 Loss 0.0554\n",
      "Epoch 30 Batch 200 Loss 0.0536\n",
      "Epoch 30 Batch 300 Loss 0.0615\n",
      "Epoch 30 Batch 400 Loss 0.0661\n",
      "Epoch 30 Batch 500 Loss 0.0771\n",
      "Epoch 30 Batch 600 Loss 0.0599\n",
      "Epoch 30 Batch 700 Loss 0.0576\n",
      "Epoch 30 Batch 800 Loss 0.0471\n",
      "Epoch 30 Batch 900 Loss 0.0646\n",
      "Epoch 30 Batch 1000 Loss 0.0421\n",
      "Epoch 30 Batch 1100 Loss 0.0647\n",
      "Epoch 30 Batch 1200 Loss 0.0614\n",
      "Epoch 30 Loss 0.0510\n",
      "Time taken for 1 epoch 102.22842121124268 sec\n",
      "\n",
      "Epoch 31 Batch 0 Loss 0.0436\n",
      "Epoch 31 Batch 100 Loss 0.0459\n",
      "Epoch 31 Batch 200 Loss 0.0308\n",
      "Epoch 31 Batch 300 Loss 0.0640\n",
      "Epoch 31 Batch 400 Loss 0.0499\n",
      "Epoch 31 Batch 500 Loss 0.0475\n",
      "Epoch 31 Batch 600 Loss 0.0631\n",
      "Epoch 31 Batch 700 Loss 0.0593\n",
      "Epoch 31 Batch 800 Loss 0.0439\n",
      "Epoch 31 Batch 900 Loss 0.0341\n",
      "Epoch 31 Batch 1000 Loss 0.0514\n",
      "Epoch 31 Batch 1100 Loss 0.0582\n",
      "Epoch 31 Batch 1200 Loss 0.0790\n",
      "Epoch 31 Loss 0.0499\n",
      "Time taken for 1 epoch 101.36190676689148 sec\n",
      "\n",
      "Epoch 32 Batch 0 Loss 0.0328\n",
      "Epoch 32 Batch 100 Loss 0.0437\n",
      "Epoch 32 Batch 200 Loss 0.0523\n",
      "Epoch 32 Batch 300 Loss 0.0535\n",
      "Epoch 32 Batch 400 Loss 0.0673\n",
      "Epoch 32 Batch 500 Loss 0.0241\n",
      "Epoch 32 Batch 600 Loss 0.0541\n",
      "Epoch 32 Batch 700 Loss 0.0627\n",
      "Epoch 32 Batch 800 Loss 0.0553\n",
      "Epoch 32 Batch 900 Loss 0.0688\n",
      "Epoch 32 Batch 1000 Loss 0.0566\n",
      "Epoch 32 Batch 1100 Loss 0.0543\n",
      "Epoch 32 Batch 1200 Loss 0.0531\n",
      "Epoch 32 Loss 0.0495\n",
      "Time taken for 1 epoch 102.22902488708496 sec\n",
      "\n",
      "Epoch 33 Batch 0 Loss 0.0410\n",
      "Epoch 33 Batch 100 Loss 0.0472\n",
      "Epoch 33 Batch 200 Loss 0.0492\n",
      "Epoch 33 Batch 300 Loss 0.0342\n",
      "Epoch 33 Batch 400 Loss 0.0580\n",
      "Epoch 33 Batch 500 Loss 0.0473\n",
      "Epoch 33 Batch 600 Loss 0.0490\n",
      "Epoch 33 Batch 700 Loss 0.0527\n",
      "Epoch 33 Batch 800 Loss 0.0540\n",
      "Epoch 33 Batch 900 Loss 0.0540\n",
      "Epoch 33 Batch 1000 Loss 0.0580\n",
      "Epoch 33 Batch 1100 Loss 0.0369\n",
      "Epoch 33 Batch 1200 Loss 0.0529\n",
      "Epoch 33 Loss 0.0491\n",
      "Time taken for 1 epoch 101.19395685195923 sec\n",
      "\n",
      "Epoch 34 Batch 0 Loss 0.0431\n",
      "Epoch 34 Batch 100 Loss 0.0355\n",
      "Epoch 34 Batch 200 Loss 0.0358\n",
      "Epoch 34 Batch 300 Loss 0.0577\n",
      "Epoch 34 Batch 400 Loss 0.0600\n",
      "Epoch 34 Batch 500 Loss 0.0426\n",
      "Epoch 34 Batch 600 Loss 0.0313\n",
      "Epoch 34 Batch 700 Loss 0.0360\n",
      "Epoch 34 Batch 800 Loss 0.0539\n",
      "Epoch 34 Batch 900 Loss 0.0673\n",
      "Epoch 34 Batch 1000 Loss 0.0456\n",
      "Epoch 34 Batch 1100 Loss 0.0510\n",
      "Epoch 34 Batch 1200 Loss 0.0386\n",
      "Epoch 34 Loss 0.0471\n",
      "Time taken for 1 epoch 102.18815541267395 sec\n",
      "\n",
      "Epoch 35 Batch 0 Loss 0.0478\n",
      "Epoch 35 Batch 100 Loss 0.0281\n",
      "Epoch 35 Batch 200 Loss 0.0300\n",
      "Epoch 35 Batch 300 Loss 0.0291\n",
      "Epoch 35 Batch 400 Loss 0.0349\n",
      "Epoch 35 Batch 500 Loss 0.0192\n",
      "Epoch 35 Batch 600 Loss 0.0641\n",
      "Epoch 35 Batch 700 Loss 0.0188\n",
      "Epoch 35 Batch 800 Loss 0.0626\n",
      "Epoch 35 Batch 900 Loss 0.0482\n",
      "Epoch 35 Batch 1000 Loss 0.0535\n",
      "Epoch 35 Batch 1100 Loss 0.0525\n",
      "Epoch 35 Batch 1200 Loss 0.0688\n",
      "Epoch 35 Loss 0.0485\n",
      "Time taken for 1 epoch 101.22596549987793 sec\n",
      "\n",
      "Epoch 36 Batch 0 Loss 0.0373\n",
      "Epoch 36 Batch 100 Loss 0.0315\n",
      "Epoch 36 Batch 200 Loss 0.0430\n",
      "Epoch 36 Batch 300 Loss 0.0421\n",
      "Epoch 36 Batch 400 Loss 0.0450\n",
      "Epoch 36 Batch 500 Loss 0.0555\n",
      "Epoch 36 Batch 600 Loss 0.0468\n",
      "Epoch 36 Batch 700 Loss 0.0538\n",
      "Epoch 36 Batch 800 Loss 0.0496\n",
      "Epoch 36 Batch 900 Loss 0.0494\n",
      "Epoch 36 Batch 1000 Loss 0.0476\n",
      "Epoch 36 Batch 1100 Loss 0.0626\n",
      "Epoch 36 Batch 1200 Loss 0.0354\n",
      "Epoch 36 Loss 0.0480\n",
      "Time taken for 1 epoch 102.21593308448792 sec\n",
      "\n",
      "Epoch 37 Batch 0 Loss 0.0401\n",
      "Epoch 37 Batch 100 Loss 0.0454\n",
      "Epoch 37 Batch 200 Loss 0.0330\n",
      "Epoch 37 Batch 300 Loss 0.0293\n",
      "Epoch 37 Batch 400 Loss 0.0407\n",
      "Epoch 37 Batch 500 Loss 0.0428\n",
      "Epoch 37 Batch 600 Loss 0.0276\n",
      "Epoch 37 Batch 700 Loss 0.0524\n",
      "Epoch 37 Batch 800 Loss 0.0461\n",
      "Epoch 37 Batch 900 Loss 0.0570\n",
      "Epoch 37 Batch 1000 Loss 0.0439\n",
      "Epoch 37 Batch 1100 Loss 0.0556\n",
      "Epoch 37 Batch 1200 Loss 0.0489\n",
      "Epoch 37 Loss 0.0460\n",
      "Time taken for 1 epoch 101.2236225605011 sec\n",
      "\n",
      "Epoch 38 Batch 0 Loss 0.0574\n",
      "Epoch 38 Batch 100 Loss 0.0366\n",
      "Epoch 38 Batch 200 Loss 0.0506\n",
      "Epoch 38 Batch 300 Loss 0.0415\n",
      "Epoch 38 Batch 400 Loss 0.0309\n",
      "Epoch 38 Batch 500 Loss 0.0639\n",
      "Epoch 38 Batch 600 Loss 0.0275\n",
      "Epoch 38 Batch 700 Loss 0.0657\n",
      "Epoch 38 Batch 800 Loss 0.0515\n",
      "Epoch 38 Batch 900 Loss 0.0536\n",
      "Epoch 38 Batch 1000 Loss 0.0543\n",
      "Epoch 38 Batch 1100 Loss 0.0500\n",
      "Epoch 38 Batch 1200 Loss 0.0421\n",
      "Epoch 38 Loss 0.0458\n",
      "Time taken for 1 epoch 101.90715861320496 sec\n",
      "\n",
      "Epoch 39 Batch 0 Loss 0.0586\n",
      "Epoch 39 Batch 100 Loss 0.0480\n",
      "Epoch 39 Batch 200 Loss 0.0451\n",
      "Epoch 39 Batch 300 Loss 0.0493\n",
      "Epoch 39 Batch 400 Loss 0.0457\n",
      "Epoch 39 Batch 500 Loss 0.0380\n",
      "Epoch 39 Batch 600 Loss 0.0514\n",
      "Epoch 39 Batch 700 Loss 0.0396\n",
      "Epoch 39 Batch 800 Loss 0.0501\n",
      "Epoch 39 Batch 900 Loss 0.0705\n",
      "Epoch 39 Batch 1000 Loss 0.0280\n",
      "Epoch 39 Batch 1100 Loss 0.0697\n",
      "Epoch 39 Batch 1200 Loss 0.0529\n",
      "Epoch 39 Loss 0.0459\n",
      "Time taken for 1 epoch 101.2220630645752 sec\n",
      "\n",
      "Epoch 40 Batch 0 Loss 0.0351\n",
      "Epoch 40 Batch 100 Loss 0.0539\n",
      "Epoch 40 Batch 200 Loss 0.0325\n",
      "Epoch 40 Batch 300 Loss 0.0305\n",
      "Epoch 40 Batch 400 Loss 0.0252\n",
      "Epoch 40 Batch 500 Loss 0.0625\n",
      "Epoch 40 Batch 600 Loss 0.0421\n",
      "Epoch 40 Batch 700 Loss 0.0455\n",
      "Epoch 40 Batch 800 Loss 0.0551\n",
      "Epoch 40 Batch 900 Loss 0.0536\n",
      "Epoch 40 Batch 1000 Loss 0.0347\n",
      "Epoch 40 Batch 1100 Loss 0.0688\n",
      "Epoch 40 Batch 1200 Loss 0.0618\n",
      "Epoch 40 Loss 0.0452\n",
      "Time taken for 1 epoch 102.02425599098206 sec\n",
      "\n",
      "Epoch 41 Batch 0 Loss 0.0748\n",
      "Epoch 41 Batch 100 Loss 0.0446\n",
      "Epoch 41 Batch 200 Loss 0.0467\n",
      "Epoch 41 Batch 300 Loss 0.0499\n",
      "Epoch 41 Batch 400 Loss 0.0437\n",
      "Epoch 41 Batch 500 Loss 0.0452\n",
      "Epoch 41 Batch 600 Loss 0.0556\n",
      "Epoch 41 Batch 700 Loss 0.0407\n",
      "Epoch 41 Batch 800 Loss 0.0369\n",
      "Epoch 41 Batch 900 Loss 0.0500\n",
      "Epoch 41 Batch 1000 Loss 0.0599\n",
      "Epoch 41 Batch 1100 Loss 0.0425\n",
      "Epoch 41 Batch 1200 Loss 0.0695\n",
      "Epoch 41 Loss 0.0447\n",
      "Time taken for 1 epoch 101.18454194068909 sec\n",
      "\n",
      "Epoch 42 Batch 0 Loss 0.0180\n",
      "Epoch 42 Batch 100 Loss 0.0483\n",
      "Epoch 42 Batch 200 Loss 0.0202\n",
      "Epoch 42 Batch 300 Loss 0.0323\n",
      "Epoch 42 Batch 400 Loss 0.0418\n",
      "Epoch 42 Batch 500 Loss 0.0421\n",
      "Epoch 42 Batch 600 Loss 0.0409\n",
      "Epoch 42 Batch 700 Loss 0.0632\n",
      "Epoch 42 Batch 800 Loss 0.0400\n",
      "Epoch 42 Batch 900 Loss 0.0621\n",
      "Epoch 42 Batch 1000 Loss 0.0384\n",
      "Epoch 42 Batch 1100 Loss 0.0586\n",
      "Epoch 42 Batch 1200 Loss 0.0617\n",
      "Epoch 42 Loss 0.0439\n",
      "Time taken for 1 epoch 102.02011251449585 sec\n",
      "\n",
      "Epoch 43 Batch 0 Loss 0.0361\n",
      "Epoch 43 Batch 100 Loss 0.0319\n",
      "Epoch 43 Batch 200 Loss 0.0549\n",
      "Epoch 43 Batch 300 Loss 0.0405\n",
      "Epoch 43 Batch 400 Loss 0.0530\n",
      "Epoch 43 Batch 500 Loss 0.0907\n",
      "Epoch 43 Batch 600 Loss 0.0376\n",
      "Epoch 43 Batch 700 Loss 0.0463\n",
      "Epoch 43 Batch 800 Loss 0.0724\n",
      "Epoch 43 Batch 900 Loss 0.0430\n",
      "Epoch 43 Batch 1000 Loss 0.0593\n",
      "Epoch 43 Batch 1100 Loss 0.0521\n",
      "Epoch 43 Batch 1200 Loss 0.0458\n",
      "Epoch 43 Loss 0.0436\n",
      "Time taken for 1 epoch 101.14089155197144 sec\n",
      "\n",
      "Epoch 44 Batch 0 Loss 0.0404\n",
      "Epoch 44 Batch 100 Loss 0.0180\n",
      "Epoch 44 Batch 200 Loss 0.0420\n",
      "Epoch 44 Batch 300 Loss 0.0568\n",
      "Epoch 44 Batch 400 Loss 0.0478\n",
      "Epoch 44 Batch 500 Loss 0.0194\n",
      "Epoch 44 Batch 600 Loss 0.0853\n",
      "Epoch 44 Batch 700 Loss 0.0424\n",
      "Epoch 44 Batch 800 Loss 0.0490\n",
      "Epoch 44 Batch 900 Loss 0.0245\n",
      "Epoch 44 Batch 1000 Loss 0.0568\n",
      "Epoch 44 Batch 1100 Loss 0.0331\n",
      "Epoch 44 Batch 1200 Loss 0.0431\n",
      "Epoch 44 Loss 0.0430\n",
      "Time taken for 1 epoch 101.95472550392151 sec\n",
      "\n",
      "Epoch 45 Batch 0 Loss 0.0428\n",
      "Epoch 45 Batch 100 Loss 0.0182\n",
      "Epoch 45 Batch 200 Loss 0.0338\n",
      "Epoch 45 Batch 300 Loss 0.0746\n",
      "Epoch 45 Batch 400 Loss 0.0307\n",
      "Epoch 45 Batch 500 Loss 0.0320\n",
      "Epoch 45 Batch 600 Loss 0.0404\n",
      "Epoch 45 Batch 700 Loss 0.0223\n",
      "Epoch 45 Batch 800 Loss 0.0281\n",
      "Epoch 45 Batch 900 Loss 0.0414\n",
      "Epoch 45 Batch 1000 Loss 0.0372\n",
      "Epoch 45 Batch 1100 Loss 0.0320\n",
      "Epoch 45 Batch 1200 Loss 0.0509\n",
      "Epoch 45 Loss 0.0426\n",
      "Time taken for 1 epoch 101.10722994804382 sec\n",
      "\n",
      "Epoch 46 Batch 0 Loss 0.0296\n",
      "Epoch 46 Batch 100 Loss 0.0259\n",
      "Epoch 46 Batch 200 Loss 0.0278\n",
      "Epoch 46 Batch 300 Loss 0.0296\n",
      "Epoch 46 Batch 400 Loss 0.0343\n",
      "Epoch 46 Batch 500 Loss 0.0395\n",
      "Epoch 46 Batch 600 Loss 0.0416\n",
      "Epoch 46 Batch 700 Loss 0.0288\n",
      "Epoch 46 Batch 800 Loss 0.0479\n",
      "Epoch 46 Batch 900 Loss 0.0359\n",
      "Epoch 46 Batch 1000 Loss 0.0553\n",
      "Epoch 46 Batch 1100 Loss 0.0334\n",
      "Epoch 46 Batch 1200 Loss 0.0496\n",
      "Epoch 46 Loss 0.0426\n",
      "Time taken for 1 epoch 101.9168004989624 sec\n",
      "\n",
      "Epoch 47 Batch 0 Loss 0.0308\n",
      "Epoch 47 Batch 100 Loss 0.0346\n",
      "Epoch 47 Batch 200 Loss 0.0263\n",
      "Epoch 47 Batch 300 Loss 0.0456\n",
      "Epoch 47 Batch 400 Loss 0.0230\n",
      "Epoch 47 Batch 500 Loss 0.0146\n",
      "Epoch 47 Batch 600 Loss 0.0395\n",
      "Epoch 47 Batch 700 Loss 0.0397\n",
      "Epoch 47 Batch 800 Loss 0.0417\n",
      "Epoch 47 Batch 900 Loss 0.0377\n",
      "Epoch 47 Batch 1000 Loss 0.0522\n",
      "Epoch 47 Batch 1100 Loss 0.0525\n",
      "Epoch 47 Batch 1200 Loss 0.0277\n",
      "Epoch 47 Loss 0.0417\n",
      "Time taken for 1 epoch 101.16548442840576 sec\n",
      "\n",
      "Epoch 48 Batch 0 Loss 0.0333\n",
      "Epoch 48 Batch 100 Loss 0.0333\n",
      "Epoch 48 Batch 200 Loss 0.0284\n",
      "Epoch 48 Batch 300 Loss 0.0369\n",
      "Epoch 48 Batch 400 Loss 0.0258\n",
      "Epoch 48 Batch 500 Loss 0.0386\n",
      "Epoch 48 Batch 600 Loss 0.0361\n",
      "Epoch 48 Batch 700 Loss 0.0249\n",
      "Epoch 48 Batch 800 Loss 0.0160\n",
      "Epoch 48 Batch 900 Loss 0.0492\n",
      "Epoch 48 Batch 1000 Loss 0.0326\n",
      "Epoch 48 Batch 1100 Loss 0.0368\n",
      "Epoch 48 Batch 1200 Loss 0.0359\n",
      "Epoch 48 Loss 0.0410\n",
      "Time taken for 1 epoch 102.11162185668945 sec\n",
      "\n",
      "Epoch 49 Batch 0 Loss 0.0292\n",
      "Epoch 49 Batch 100 Loss 0.0329\n",
      "Epoch 49 Batch 200 Loss 0.0346\n",
      "Epoch 49 Batch 300 Loss 0.0277\n",
      "Epoch 49 Batch 400 Loss 0.0238\n",
      "Epoch 49 Batch 500 Loss 0.0296\n",
      "Epoch 49 Batch 600 Loss 0.0211\n",
      "Epoch 49 Batch 700 Loss 0.0424\n",
      "Epoch 49 Batch 800 Loss 0.0487\n",
      "Epoch 49 Batch 900 Loss 0.0285\n",
      "Epoch 49 Batch 1000 Loss 0.0502\n",
      "Epoch 49 Batch 1100 Loss 0.0611\n",
      "Epoch 49 Batch 1200 Loss 0.0439\n",
      "Epoch 49 Loss 0.0408\n",
      "Time taken for 1 epoch 101.144122838974 sec\n",
      "\n",
      "Epoch 50 Batch 0 Loss 0.0233\n",
      "Epoch 50 Batch 100 Loss 0.0254\n",
      "Epoch 50 Batch 200 Loss 0.0459\n",
      "Epoch 50 Batch 300 Loss 0.0430\n",
      "Epoch 50 Batch 400 Loss 0.0363\n",
      "Epoch 50 Batch 500 Loss 0.0410\n",
      "Epoch 50 Batch 600 Loss 0.0472\n",
      "Epoch 50 Batch 700 Loss 0.0437\n",
      "Epoch 50 Batch 800 Loss 0.0354\n",
      "Epoch 50 Batch 900 Loss 0.0711\n",
      "Epoch 50 Batch 1000 Loss 0.0372\n",
      "Epoch 50 Batch 1100 Loss 0.0478\n",
      "Epoch 50 Batch 1200 Loss 0.0610\n",
      "Epoch 50 Loss 0.0409\n",
      "Time taken for 1 epoch 102.10803604125977 sec\n",
      "\n"
     ]
    }
   ],
   "source": [
    "EPOCHS = 50\n",
    "\n",
    "for epoch in range(EPOCHS):\n",
    "    start = time.time()\n",
    "\n",
    "    #инициализируем входное скрытое состояние (из нулей) размера (батч, кол-во рекуррентных ячеек)\n",
    "    enc_hidden = encoder.initialize_hidden_state()\n",
    "    total_loss = 0\n",
    "\n",
    "    for (batch, (inp, targ)) in enumerate(dataset.take(steps_per_epoch)):\n",
    "        #делаем шаг обучения\n",
    "        batch_loss = train_step(inp, targ, enc_hidden)\n",
    "        #считаем ошибку\n",
    "        total_loss += batch_loss\n",
    "\n",
    "        if batch % 100 == 0:\n",
    "            print('Epoch {} Batch {} Loss {:.4f}'.format(epoch + 1,\n",
    "                                                       batch,\n",
    "                                                       batch_loss.numpy()))\n",
    "    # saving (checkpoint) the model every 2 epochs\n",
    "    if (epoch + 1) % 2 == 0:\n",
    "        checkpoint.save(file_prefix = checkpoint_prefix)\n",
    "\n",
    "    print('Epoch {} Loss {:.4f}'.format(epoch + 1,\n",
    "                                      total_loss / steps_per_epoch))\n",
    "    print('Time taken for 1 epoch {} sec\\n'.format(time.time() - start))"
   ]
  },
  {
   "cell_type": "code",
   "execution_count": 56,
   "metadata": {
    "id": "WR6PqEiVKVwe"
   },
   "outputs": [],
   "source": [
    "def evaluate_att(sentence):\n",
    "    #строим матрицу внимания из нулей размера (макс длина таргета, макс длина входа)  \n",
    "    attention_plot = np.zeros((max_length_targ, max_length_inp))\n",
    "    #препоцессим предложение\n",
    "    sentence = preprocess_sentence(sentence)\n",
    "    #разбиваем предложение по пробелам и составляем список индексов каждого слова\n",
    "    inputs = [inp_lang.word_index[i] for i in sentence.split(' ')]\n",
    "    #добиваем inputs нулями справа до максимальной длины входного текста\n",
    "    inputs = tf.keras.preprocessing.sequence.pad_sequences([inputs],\n",
    "                                                         maxlen=max_length_inp,\n",
    "                                                         padding='post')\n",
    "    #преобразуем inputs в тензор\n",
    "    inputs = tf.convert_to_tensor(inputs)\n",
    "\n",
    "    result = ''\n",
    "    # инициализируем входной хидден из нулей размера (1, units)\n",
    "    hidden = [tf.zeros((1, units))]\n",
    "    #подаем inputs и hidden в encoder\n",
    "    enc_out, enc_hidden = encoder(inputs, hidden)\n",
    "\n",
    "    #инициализируем входной хидден декодера -- выходной хидден энкодера\n",
    "    dec_hidden = enc_hidden\n",
    "    #вход декодера -- список [индекс start] размера(1,1)  \n",
    "    dec_input = tf.expand_dims([targ_lang.word_index['<start>']], 0)\n",
    "\n",
    "    for t in range(max_length_targ):\n",
    "        #получаем выход декодера\n",
    "        predictions, dec_hidden, attention_weights = decoder(dec_input, dec_hidden, enc_out)\n",
    "\n",
    "        # сохраняем веса внимания, чтобы позже визуализировать\n",
    "        attention_weights = tf.reshape(attention_weights, (-1, ))\n",
    "        attention_plot[t] = attention_weights.numpy()\n",
    "\n",
    "        predicted_id = tf.argmax(predictions[0]).numpy()\n",
    "        result += targ_lang.index_word[predicted_id] + ' '\n",
    "\n",
    "        #заканчиваем на токене end\n",
    "        if targ_lang.index_word[predicted_id] == '<end>':\n",
    "            return result, sentence, attention_plot\n",
    "\n",
    "    # предсказанный predicted ID подаем обратно в декодер (размер (1,1))\n",
    "        dec_input = tf.expand_dims([predicted_id], 0)\n",
    "\n",
    "    return result, sentence, attention_plot"
   ]
  },
  {
   "cell_type": "code",
   "execution_count": 57,
   "metadata": {
    "id": "mAvqctfRKVts"
   },
   "outputs": [],
   "source": [
    "# визуализация весов внимания\n",
    "def plot_attention(attention, sentence, predicted_sentence):\n",
    "    fig = plt.figure(figsize=(10,10))\n",
    "    ax = fig.add_subplot(1, 1, 1)\n",
    "    ax.matshow(attention, cmap='viridis')\n",
    "\n",
    "    fontdict = {'fontsize': 14}\n",
    "\n",
    "    ax.set_xticklabels([''] + sentence, fontdict=fontdict, rotation=90)\n",
    "    ax.set_yticklabels([''] + predicted_sentence, fontdict=fontdict)\n",
    "\n",
    "    ax.xaxis.set_major_locator(ticker.MultipleLocator(1))\n",
    "    ax.yaxis.set_major_locator(ticker.MultipleLocator(1))\n",
    "\n",
    "    plt.show()"
   ]
  },
  {
   "cell_type": "code",
   "execution_count": 58,
   "metadata": {
    "id": "19Zpd4QAsk5A"
   },
   "outputs": [],
   "source": [
    "# функция, которая будет переводить и визуализировать\n",
    "def translate_att(sentence):\n",
    "    result, sentence, attention_plot = evaluate_att(sentence)\n",
    "    print('Input: %s' % (sentence))\n",
    "    print('Predicted translation: {}'.format(result))\n",
    "\n",
    "    attention_plot = attention_plot[:len(result.split(' ')), :len(sentence.split(' '))]\n",
    "    plot_attention(attention_plot, sentence.split(' '), result.split(' '))"
   ]
  },
  {
   "cell_type": "code",
   "execution_count": 59,
   "metadata": {
    "colab": {
     "base_uri": "https://localhost:8080/"
    },
    "id": "1Zqrg7d2sk21",
    "outputId": "f9a5b7a1-be48-4930-c3f2-7faeb0048fcb"
   },
   "outputs": [
    {
     "data": {
      "text/plain": [
       "<tensorflow.python.training.tracking.util.CheckpointLoadStatus at 0x7f3bb7793fd0>"
      ]
     },
     "execution_count": 59,
     "metadata": {},
     "output_type": "execute_result"
    }
   ],
   "source": [
    "# restoring the latest checkpoint in checkpoint_dir\n",
    "checkpoint.restore(tf.train.latest_checkpoint(checkpoint_dir))"
   ]
  },
  {
   "cell_type": "code",
   "execution_count": 60,
   "metadata": {
    "colab": {
     "base_uri": "https://localhost:8080/",
     "height": 675
    },
    "id": "ER-aXIH1swO3",
    "outputId": "14bf8240-70c5-4ec0-fa03-e24e17ca425b"
   },
   "outputs": [
    {
     "name": "stdout",
     "output_type": "stream",
     "text": [
      "Input: <start> синее море <end>\n",
      "Predicted translation: the students left . <end> \n"
     ]
    },
    {
     "data": {
      "image/png": "[encoded data removed]",
      "text/plain": [
       "<Figure size 720x720 with 1 Axes>"
      ]
     },
     "metadata": {
      "needs_background": "light"
     },
     "output_type": "display_data"
    }
   ],
   "source": [
    "translate_att('Синее море')"
   ]
  },
  {
   "cell_type": "code",
   "execution_count": 61,
   "metadata": {
    "colab": {
     "base_uri": "https://localhost:8080/",
     "height": 675
    },
    "id": "bZvBg27WswO8",
    "outputId": "74e3bcc0-15c2-463f-a4da-4485b548906c"
   },
   "outputs": [
    {
     "name": "stdout",
     "output_type": "stream",
     "text": [
      "Input: <start> я иду в школу <end>\n",
      "Predicted translation: i go to school . <end> \n"
     ]
    },
    {
     "data": {
      "image/png": "[encoded data removed]",
      "text/plain": [
       "<Figure size 720x720 with 1 Axes>"
      ]
     },
     "metadata": {
      "needs_background": "light"
     },
     "output_type": "display_data"
    }
   ],
   "source": [
    "translate_att('Я иду в школу')"
   ]
  },
  {
   "cell_type": "code",
   "execution_count": 62,
   "metadata": {
    "colab": {
     "base_uri": "https://localhost:8080/",
     "height": 610
    },
    "id": "FjRX3bV1swO9",
    "outputId": "8d90bfdc-bb83-440f-f1b4-580bebf192bb"
   },
   "outputs": [
    {
     "name": "stdout",
     "output_type": "stream",
     "text": [
      "Input: <start> я люблю кошек и собак <end>\n",
      "Predicted translation: i like cats . <end> \n"
     ]
    },
    {
     "data": {
      "image/png": "[encoded data removed]",
      "text/plain": [
       "<Figure size 720x720 with 1 Axes>"
      ]
     },
     "metadata": {
      "needs_background": "light"
     },
     "output_type": "display_data"
    }
   ],
   "source": [
    "translate_att('Я люблю кошек и собак')"
   ]
  },
  {
   "cell_type": "code",
   "execution_count": 63,
   "metadata": {
    "colab": {
     "base_uri": "https://localhost:8080/",
     "height": 571
    },
    "id": "AWWiyReJswO-",
    "outputId": "2ceb6691-9fcc-400a-f349-b46eb0d66360"
   },
   "outputs": [
    {
     "name": "stdout",
     "output_type": "stream",
     "text": [
      "Input: <start> я делаю домашнее задание после школы <end>\n",
      "Predicted translation: i am writing . <end> \n"
     ]
    },
    {
     "data": {
      "image/png": "[encoded data removed]",
      "text/plain": [
       "<Figure size 720x720 with 1 Axes>"
      ]
     },
     "metadata": {
      "needs_background": "light"
     },
     "output_type": "display_data"
    }
   ],
   "source": [
    "translate_att('Я делаю домашнее задание после школы')"
   ]
  },
  {
   "cell_type": "code",
   "execution_count": 64,
   "metadata": {
    "colab": {
     "base_uri": "https://localhost:8080/",
     "height": 523
    },
    "id": "yDZX8lcvswO-",
    "outputId": "fed80ab0-85fb-444c-fa5f-b1d2b927bbc6"
   },
   "outputs": [
    {
     "name": "stdout",
     "output_type": "stream",
     "text": [
      "Input: <start> сегодня я пойду в школу , а потом пойду в магазин <end>\n",
      "Predicted translation: i go to work next week . <end> \n"
     ]
    },
    {
     "data": {
      "image/png": "[encoded data removed]",
      "text/plain": [
       "<Figure size 720x720 with 1 Axes>"
      ]
     },
     "metadata": {
      "needs_background": "light"
     },
     "output_type": "display_data"
    }
   ],
   "source": [
    "translate_att(u'Сегодня я пойду в школу, а потом пойду в магазин')"
   ]
  },
  {
   "cell_type": "code",
   "execution_count": 65,
   "metadata": {
    "colab": {
     "base_uri": "https://localhost:8080/",
     "height": 285
    },
    "id": "8Qc1pYrRswO-",
    "outputId": "73d14f46-38f7-420e-f249-36e028b01c08"
   },
   "outputs": [
    {
     "name": "stdout",
     "output_type": "stream",
     "text": [
      "Input: <start> сегодня я пойду в школу , потом гулять , а потом пойду в магазин <end>\n",
      "Predicted translation: school . <end> \n"
     ]
    },
    {
     "data": {
      "image/png": "[encoded data removed]",
      "text/plain": [
       "<Figure size 720x720 with 1 Axes>"
      ]
     },
     "metadata": {
      "needs_background": "light"
     },
     "output_type": "display_data"
    }
   ],
   "source": [
    "translate_att(u'Сегодня я пойду в школу, потом гулять, а потом пойду в магазин')"
   ]
  },
  {
   "cell_type": "code",
   "execution_count": 66,
   "metadata": {
    "colab": {
     "base_uri": "https://localhost:8080/",
     "height": 541
    },
    "id": "la4PeC59swO_",
    "outputId": "1bf52e7d-d481-4cfd-de3b-fc7142921656"
   },
   "outputs": [
    {
     "name": "stdout",
     "output_type": "stream",
     "text": [
      "Input: <start> я живу в другой стране , скучаю по дому , по маме , по папе <end>\n",
      "Predicted translation: my phone on my i watch tv on my phone on \n"
     ]
    },
    {
     "data": {
      "image/png": "[encoded data removed]",
      "text/plain": [
       "<Figure size 720x720 with 1 Axes>"
      ]
     },
     "metadata": {
      "needs_background": "light"
     },
     "output_type": "display_data"
    }
   ],
   "source": [
    "translate_att(u'Я живу в другой стране, скучаю по дому, по маме, по папе')"
   ]
  },
  {
   "cell_type": "code",
   "execution_count": 67,
   "metadata": {
    "colab": {
     "base_uri": "https://localhost:8080/",
     "height": 352
    },
    "id": "rBSUTChzswO_",
    "outputId": "f276c6d9-8e84-44b7-f90c-faf786f34d1b"
   },
   "outputs": [
    {
     "name": "stdout",
     "output_type": "stream",
     "text": [
      "Input: <start> через неделю будут каникулы , и мы с родителями и друзьями поедем отдыхать на море <end>\n",
      "Predicted translation: drive home . <end> \n"
     ]
    },
    {
     "data": {
      "image/png": "[encoded data removed]",
      "text/plain": [
       "<Figure size 720x720 with 1 Axes>"
      ]
     },
     "metadata": {
      "needs_background": "light"
     },
     "output_type": "display_data"
    }
   ],
   "source": [
    "translate_att(u'Через неделю будут каникулы, и мы с родителями и друзьями поедем отдыхать на море')"
   ]
  },
  {
   "cell_type": "markdown",
   "metadata": {
    "id": "lZxQ86Y87amv"
   },
   "source": [
    "**Вывод:** Перевод модели с вниманием также не очень качественный, но заметно лучше модели без внимания"
   ]
  }
 ],
 "metadata": {
  "accelerator": "GPU",
  "colab": {
   "collapsed_sections": [],
   "name": "hw10.ipynb",
   "provenance": []
  },
  "gpuClass": "standard",
  "kernelspec": {
   "display_name": "Python 3",
   "language": "python",
   "name": "python3"
  },
  "language_info": {
   "codemirror_mode": {
    "name": "ipython",
    "version": 3
   },
   "file_extension": ".py",
   "mimetype": "text/x-python",
   "name": "python",
   "nbconvert_exporter": "python",
   "pygments_lexer": "ipython3",
   "version": "3.9.2"
  }
 },
 "nbformat": 4,
 "nbformat_minor": 1
}
