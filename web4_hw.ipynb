{
 "cells": [
  {
   "cell_type": "markdown",
   "metadata": {
    "id": "xAx0ncmx3Uem"
   },
   "source": [
    "# Домашнее задание к вебинару №4. Тематическое моделирование"
   ]
  },
  {
   "cell_type": "code",
   "execution_count": 7,
   "metadata": {
    "colab": {
     "base_uri": "https://localhost:8080/"
    },
    "id": "TzHEVO-73Tik",
    "outputId": "6aa46152-b4a6-4b2c-badb-6da11009b5d4"
   },
   "outputs": [
    {
     "name": "stdout",
     "output_type": "stream",
     "text": [
      "--2022-06-09 10:28:10--  https://www.dropbox.com/s/fnpq3z4bcnoktiv/positive.csv\n",
      "Resolving www.dropbox.com (www.dropbox.com)... 162.125.6.18, 2620:100:6019:18::a27d:412\n",
      "Connecting to www.dropbox.com (www.dropbox.com)|162.125.6.18|:443... connected.\n",
      "HTTP request sent, awaiting response... 301 Moved Permanently\n",
      "Location: /s/raw/fnpq3z4bcnoktiv/positive.csv [following]\n",
      "--2022-06-09 10:28:11--  https://www.dropbox.com/s/raw/fnpq3z4bcnoktiv/positive.csv\n",
      "Reusing existing connection to www.dropbox.com:443.\n",
      "HTTP request sent, awaiting response... 302 Found\n",
      "Location: https://ucca0e34eaf396f65a2fe3fe4a83.dl.dropboxusercontent.com/cd/0/inline/Bm3I6Zdyk3mFMBc5JJeb09rg8a226DS3rQgyfTxPBYJbYp99ZPUAJXT2MWsC2aUEMyOhRCkIUdSjCY6ViLCUD_0CQkvWFUsyFd-e0m65nJQ8NccjdA30JZtpIDkGRb0vBWrZr01ObI_Z3HSKKlkl6wX0zo7huSFqb-2K4Oiu9-yuVw/file# [following]\n",
      "--2022-06-09 10:28:11--  https://ucca0e34eaf396f65a2fe3fe4a83.dl.dropboxusercontent.com/cd/0/inline/Bm3I6Zdyk3mFMBc5JJeb09rg8a226DS3rQgyfTxPBYJbYp99ZPUAJXT2MWsC2aUEMyOhRCkIUdSjCY6ViLCUD_0CQkvWFUsyFd-e0m65nJQ8NccjdA30JZtpIDkGRb0vBWrZr01ObI_Z3HSKKlkl6wX0zo7huSFqb-2K4Oiu9-yuVw/file\n",
      "Resolving ucca0e34eaf396f65a2fe3fe4a83.dl.dropboxusercontent.com (ucca0e34eaf396f65a2fe3fe4a83.dl.dropboxusercontent.com)... 162.125.6.15, 2620:100:6019:15::a27d:40f\n",
      "Connecting to ucca0e34eaf396f65a2fe3fe4a83.dl.dropboxusercontent.com (ucca0e34eaf396f65a2fe3fe4a83.dl.dropboxusercontent.com)|162.125.6.15|:443... connected.\n",
      "HTTP request sent, awaiting response... 200 OK\n",
      "Length: 26233379 (25M) [text/plain]\n",
      "Saving to: ‘positive.csv’\n",
      "\n",
      "positive.csv        100%[===================>]  25.02M   112MB/s    in 0.2s    \n",
      "\n",
      "2022-06-09 10:28:11 (112 MB/s) - ‘positive.csv’ saved [26233379/26233379]\n",
      "\n",
      "--2022-06-09 10:28:11--  https://www.dropbox.com/s/r6u59ljhhjdg6j0/negative.csv\n",
      "Resolving www.dropbox.com (www.dropbox.com)... 162.125.6.18, 2620:100:6019:18::a27d:412\n",
      "Connecting to www.dropbox.com (www.dropbox.com)|162.125.6.18|:443... connected.\n",
      "HTTP request sent, awaiting response... 301 Moved Permanently\n",
      "Location: /s/raw/r6u59ljhhjdg6j0/negative.csv [following]\n",
      "--2022-06-09 10:28:12--  https://www.dropbox.com/s/raw/r6u59ljhhjdg6j0/negative.csv\n",
      "Reusing existing connection to www.dropbox.com:443.\n",
      "HTTP request sent, awaiting response... 302 Found\n",
      "Location: https://uc0fe68800be996f2e73227f8d5f.dl.dropboxusercontent.com/cd/0/inline/Bm0nIGugTLi04SK3m2NEBOLw9wbzJJK0mF4Nt07NAKmtFYwZ1mKOSnMLcRdVmWQZHJvdUuWYuGgxZ6UW3eJ5YrDb3_cfdERBptvgcM6tjdArA3PcWSlEQYTPd1qYXcOkzHVNIQgQBpqhjNdbgWrFI6-qNq4Iy2tz1P7XAYXHFkI4ZQ/file# [following]\n",
      "--2022-06-09 10:28:12--  https://uc0fe68800be996f2e73227f8d5f.dl.dropboxusercontent.com/cd/0/inline/Bm0nIGugTLi04SK3m2NEBOLw9wbzJJK0mF4Nt07NAKmtFYwZ1mKOSnMLcRdVmWQZHJvdUuWYuGgxZ6UW3eJ5YrDb3_cfdERBptvgcM6tjdArA3PcWSlEQYTPd1qYXcOkzHVNIQgQBpqhjNdbgWrFI6-qNq4Iy2tz1P7XAYXHFkI4ZQ/file\n",
      "Resolving uc0fe68800be996f2e73227f8d5f.dl.dropboxusercontent.com (uc0fe68800be996f2e73227f8d5f.dl.dropboxusercontent.com)... 162.125.6.15, 2620:100:6019:15::a27d:40f\n",
      "Connecting to uc0fe68800be996f2e73227f8d5f.dl.dropboxusercontent.com (uc0fe68800be996f2e73227f8d5f.dl.dropboxusercontent.com)|162.125.6.15|:443... connected.\n",
      "HTTP request sent, awaiting response... 200 OK\n",
      "Length: 24450101 (23M) [text/plain]\n",
      "Saving to: ‘negative.csv’\n",
      "\n",
      "negative.csv        100%[===================>]  23.32M   107MB/s    in 0.2s    \n",
      "\n",
      "2022-06-09 10:28:13 (107 MB/s) - ‘negative.csv’ saved [24450101/24450101]\n",
      "\n"
     ]
    }
   ],
   "source": [
    "!wget https://www.dropbox.com/s/fnpq3z4bcnoktiv/positive.csv\n",
    "!wget https://www.dropbox.com/s/r6u59ljhhjdg6j0/negative.csv"
   ]
  },
  {
   "cell_type": "markdown",
   "metadata": {
    "id": "CfnoLie55PIv"
   },
   "source": [
    "Постановка задачи:\n",
    "1. Объединить в одну выборку\n",
    "2. Провести исследование и выявить тематики о которых говорят в твитах\n",
    "3. Сделать визуализацию кластеров тематик\n",
    "4. Проинтерпритировать получившиеся тематики"
   ]
  },
  {
   "cell_type": "code",
   "execution_count": 1,
   "metadata": {
    "colab": {
     "base_uri": "https://localhost:8080/"
    },
    "id": "tZYnsL97_NoJ",
    "outputId": "a5a61641-4360-4199-921b-5eecd0fc2c93"
   },
   "outputs": [],
   "source": [
    "# pip install pymorphy2"
   ]
  },
  {
   "cell_type": "code",
   "execution_count": 2,
   "metadata": {
    "colab": {
     "base_uri": "https://localhost:8080/"
    },
    "id": "mR-h3t33_ukS",
    "outputId": "43dbd808-71d9-45b5-e5c9-b495ff28821d"
   },
   "outputs": [],
   "source": [
    "# pip install pyLDAvis"
   ]
  },
  {
   "cell_type": "code",
   "execution_count": 3,
   "metadata": {
    "colab": {
     "base_uri": "https://localhost:8080/"
    },
    "id": "ikqI7SUPFcLF",
    "outputId": "c8a82afc-cbd0-47b0-9037-e183980e78f7"
   },
   "outputs": [],
   "source": [
    "# pip install stop_words"
   ]
  },
  {
   "cell_type": "code",
   "execution_count": 135,
   "metadata": {
    "colab": {
     "base_uri": "https://localhost:8080/"
    },
    "id": "85gNy5gs-zlr",
    "outputId": "a80de2a3-f7fa-40af-dd01-aee6bf7feddd"
   },
   "outputs": [
    {
     "name": "stdout",
     "output_type": "stream",
     "text": [
      "[nltk_data] Downloading package stopwords to /root/nltk_data...\n",
      "[nltk_data]   Package stopwords is already up-to-date!\n",
      "[nltk_data] Downloading package punkt to /root/nltk_data...\n",
      "[nltk_data]   Package punkt is already up-to-date!\n"
     ]
    }
   ],
   "source": [
    "import pandas as pd\n",
    "import re\n",
    "import numpy as np\n",
    "from nltk.corpus import stopwords\n",
    "from pymystem3 import Mystem\n",
    "import nltk\n",
    "nltk.download('stopwords')\n",
    "nltk.download('punkt')\n",
    "from nltk.tokenize import word_tokenize\n",
    "from stop_words import get_stop_words\n",
    "import string\n",
    "from pymorphy2 import MorphAnalyzer\n",
    "from gensim.models import *\n",
    "from gensim import corpora\n",
    "import pyLDAvis\n",
    "import pyLDAvis.gensim_models as gensimvis\n",
    "import matplotlib.pyplot as plt\n",
    "\n",
    "import warnings\n",
    "warnings.filterwarnings('ignore')"
   ]
  },
  {
   "cell_type": "code",
   "execution_count": 136,
   "metadata": {
    "id": "Yw-Hu8IZ5M57"
   },
   "outputs": [],
   "source": [
    "positive = pd.read_csv('positive.csv', sep=';', usecols=[3], names=['tweet'])\n",
    "\n",
    "negative = pd.read_csv('negative.csv', sep=';', usecols=[3], names=['tweet'])\n",
    "\n",
    "# объединим датасеты:\n",
    "df = positive.append(negative)"
   ]
  },
  {
   "cell_type": "code",
   "execution_count": 137,
   "metadata": {
    "colab": {
     "base_uri": "https://localhost:8080/",
     "height": 142
    },
    "id": "pLlWWwzP-atQ",
    "outputId": "970ca88b-8132-4757-ee42-72ef0470e8b6"
   },
   "outputs": [
    {
     "data": {
      "text/html": [
       "\n",
       "  <div id=\"df-465b4124-7fcd-41d0-8b7f-a7107bfdbd69\">\n",
       "    <div class=\"colab-df-container\">\n",
       "      <div>\n",
       "<style scoped>\n",
       "    .dataframe tbody tr th:only-of-type {\n",
       "        vertical-align: middle;\n",
       "    }\n",
       "\n",
       "    .dataframe tbody tr th {\n",
       "        vertical-align: top;\n",
       "    }\n",
       "\n",
       "    .dataframe thead th {\n",
       "        text-align: right;\n",
       "    }\n",
       "</style>\n",
       "<table border=\"1\" class=\"dataframe\">\n",
       "  <thead>\n",
       "    <tr style=\"text-align: right;\">\n",
       "      <th></th>\n",
       "      <th>tweet</th>\n",
       "    </tr>\n",
       "  </thead>\n",
       "  <tbody>\n",
       "    <tr>\n",
       "      <th>0</th>\n",
       "      <td>@first_timee хоть я и школота, но поверь, у на...</td>\n",
       "    </tr>\n",
       "    <tr>\n",
       "      <th>1</th>\n",
       "      <td>Да, все-таки он немного похож на него. Но мой ...</td>\n",
       "    </tr>\n",
       "    <tr>\n",
       "      <th>2</th>\n",
       "      <td>RT @KatiaCheh: Ну ты идиотка) я испугалась за ...</td>\n",
       "    </tr>\n",
       "  </tbody>\n",
       "</table>\n",
       "</div>\n",
       "      <button class=\"colab-df-convert\" onclick=\"convertToInteractive('df-465b4124-7fcd-41d0-8b7f-a7107bfdbd69')\"\n",
       "              title=\"Convert this dataframe to an interactive table.\"\n",
       "              style=\"display:none;\">\n",
       "        \n",
       "  <svg xmlns=\"http://www.w3.org/2000/svg\" height=\"24px\"viewBox=\"0 0 24 24\"\n",
       "       width=\"24px\">\n",
       "    <path d=\"M0 0h24v24H0V0z\" fill=\"none\"/>\n",
       "    <path d=\"M18.56 5.44l.94 2.06.94-2.06 2.06-.94-2.06-.94-.94-2.06-.94 2.06-2.06.94zm-11 1L8.5 8.5l.94-2.06 2.06-.94-2.06-.94L8.5 2.5l-.94 2.06-2.06.94zm10 10l.94 2.06.94-2.06 2.06-.94-2.06-.94-.94-2.06-.94 2.06-2.06.94z\"/><path d=\"M17.41 7.96l-1.37-1.37c-.4-.4-.92-.59-1.43-.59-.52 0-1.04.2-1.43.59L10.3 9.45l-7.72 7.72c-.78.78-.78 2.05 0 2.83L4 21.41c.39.39.9.59 1.41.59.51 0 1.02-.2 1.41-.59l7.78-7.78 2.81-2.81c.8-.78.8-2.07 0-2.86zM5.41 20L4 18.59l7.72-7.72 1.47 1.35L5.41 20z\"/>\n",
       "  </svg>\n",
       "      </button>\n",
       "      \n",
       "  <style>\n",
       "    .colab-df-container {\n",
       "      display:flex;\n",
       "      flex-wrap:wrap;\n",
       "      gap: 12px;\n",
       "    }\n",
       "\n",
       "    .colab-df-convert {\n",
       "      background-color: #E8F0FE;\n",
       "      border: none;\n",
       "      border-radius: 50%;\n",
       "      cursor: pointer;\n",
       "      display: none;\n",
       "      fill: #1967D2;\n",
       "      height: 32px;\n",
       "      padding: 0 0 0 0;\n",
       "      width: 32px;\n",
       "    }\n",
       "\n",
       "    .colab-df-convert:hover {\n",
       "      background-color: #E2EBFA;\n",
       "      box-shadow: 0px 1px 2px rgba(60, 64, 67, 0.3), 0px 1px 3px 1px rgba(60, 64, 67, 0.15);\n",
       "      fill: #174EA6;\n",
       "    }\n",
       "\n",
       "    [theme=dark] .colab-df-convert {\n",
       "      background-color: #3B4455;\n",
       "      fill: #D2E3FC;\n",
       "    }\n",
       "\n",
       "    [theme=dark] .colab-df-convert:hover {\n",
       "      background-color: #434B5C;\n",
       "      box-shadow: 0px 1px 3px 1px rgba(0, 0, 0, 0.15);\n",
       "      filter: drop-shadow(0px 1px 2px rgba(0, 0, 0, 0.3));\n",
       "      fill: #FFFFFF;\n",
       "    }\n",
       "  </style>\n",
       "\n",
       "      <script>\n",
       "        const buttonEl =\n",
       "          document.querySelector('#df-465b4124-7fcd-41d0-8b7f-a7107bfdbd69 button.colab-df-convert');\n",
       "        buttonEl.style.display =\n",
       "          google.colab.kernel.accessAllowed ? 'block' : 'none';\n",
       "\n",
       "        async function convertToInteractive(key) {\n",
       "          const element = document.querySelector('#df-465b4124-7fcd-41d0-8b7f-a7107bfdbd69');\n",
       "          const dataTable =\n",
       "            await google.colab.kernel.invokeFunction('convertToInteractive',\n",
       "                                                     [key], {});\n",
       "          if (!dataTable) return;\n",
       "\n",
       "          const docLinkHtml = 'Like what you see? Visit the ' +\n",
       "            '<a target=\"_blank\" href=https://colab.research.google.com/notebooks/data_table.ipynb>data table notebook</a>'\n",
       "            + ' to learn more about interactive tables.';\n",
       "          element.innerHTML = '';\n",
       "          dataTable['output_type'] = 'display_data';\n",
       "          await google.colab.output.renderOutput(dataTable, element);\n",
       "          const docLink = document.createElement('div');\n",
       "          docLink.innerHTML = docLinkHtml;\n",
       "          element.appendChild(docLink);\n",
       "        }\n",
       "      </script>\n",
       "    </div>\n",
       "  </div>\n",
       "  "
      ],
      "text/plain": [
       "                                               tweet\n",
       "0  @first_timee хоть я и школота, но поверь, у на...\n",
       "1  Да, все-таки он немного похож на него. Но мой ...\n",
       "2  RT @KatiaCheh: Ну ты идиотка) я испугалась за ..."
      ]
     },
     "execution_count": 137,
     "metadata": {},
     "output_type": "execute_result"
    }
   ],
   "source": [
    "df.head(3)"
   ]
  },
  {
   "cell_type": "markdown",
   "metadata": {
    "id": "TUDHpTqQDnrL"
   },
   "source": [
    "**Предобработка текста**"
   ]
  },
  {
   "cell_type": "code",
   "execution_count": 138,
   "metadata": {
    "id": "cJj39-fkFsKK"
   },
   "outputs": [],
   "source": [
    "# Лемматизация\n",
    "\n",
    "morpher = MorphAnalyzer()\n",
    "sw = get_stop_words(\"ru\") + stopwords.words('russian')\n",
    "punkt = list(string.punctuation)\n",
    "noise = set(sw + punkt)\n",
    "\n",
    "# Создадим функцию для токенизации, лемматизации и удаления слишком коротких токенво (короче 3 символов) и небукв\n",
    "def lemmatize_text(text):\n",
    "    return [t for t in [morpher.parse(token)[0].normal_form \n",
    "                                for token in word_tokenize(text)] if t not in noise and t.isalpha() and len(t) >= 4]"
   ]
  },
  {
   "cell_type": "code",
   "execution_count": 143,
   "metadata": {
    "id": "cdIvvEQyDcV7"
   },
   "outputs": [],
   "source": [
    "# очистка токенов от ненужных для определения темы и нецензурных слов\n",
    "\n",
    "def clear_tokens(tokens):\n",
    "    token_str = ' '.join(tokens)\n",
    "    token_str = re.sub(r'[A-za-z]', ' ',  token_str) \n",
    "    token_str = re.sub(r'\\w+ще\\b', ' ',  token_str) \n",
    "    token_str = re.sub(r'\\bбл\\w+', ' ',  token_str) \n",
    "    token_str = re.sub(r'\\bидио\\w+', ' ',  token_str) \n",
    "    token_str = re.sub(r'\\bпид\\w+', ' ',  token_str)\n",
    "    token_str = re.sub(r'\\bху\\w+', ' ', token_str)\n",
    "    token_str = re.sub(r'\\w+xу.\\b', ' ',  token_str)\n",
    "    token_str = re.sub(r'\\w+xу\\w+', ' ',  token_str)\n",
    "    token_str = re.sub(r'\\w+хо\\b', ' ',  token_str)\n",
    "    token_str = re.sub(r'\\bсук\\w+', ' ',  token_str)\n",
    "    token_str = re.sub(r'\\bпоп\\w+', ' ',  token_str)\n",
    "    token_str = re.sub(r'\\bпиз\\w+', ' ',  token_str)\n",
    "    token_str = re.sub(r'\\bгов\\w+', ' ',  token_str)\n",
    "    token_str = re.sub(r'\\bфиг\\w+', ' ',  token_str)\n",
    "    token_str = re.sub(r'\\bпи.де\\w+', ' ',  token_str)\n",
    "    token_str = re.sub(r'никто',  ' ', token_str) \n",
    "    token_str = re.sub(r'завтра',  ' ', token_str) \n",
    "    token_str = re.sub(r'свой', ' ', token_str) \n",
    "    token_str = re.sub(r'\\w+ть\\b', ' ',  token_str) \n",
    "    token_str = re.sub(r'\\w+ться\\b', ' ',  token_str)\n",
    "    token_str = re.sub(r'который', ' ', token_str)\n",
    "    token_str = re.sub(r'нету', ' ', token_str)\n",
    "    token_str = re.sub(r'вчера', ' ', token_str)\n",
    "    token_str = re.sub(r'\\w+ти\\b', ' ', token_str)\n",
    "    token_str = re.sub(r'самый', ' ', token_str)\n",
    "    clear_tokens = token_str.split()\n",
    "    clear_tokens = [w for w in clear_tokens if len(w)>2]\n",
    "    return clear_tokens\n",
    "\n",
    "def preprocess(text):\n",
    "    return (clear_tokens(lemmatize_text(text)))"
   ]
  },
  {
   "cell_type": "code",
   "execution_count": 144,
   "metadata": {
    "colab": {
     "base_uri": "https://localhost:8080/",
     "height": 204
    },
    "id": "PgMY4tTmJV9-",
    "outputId": "ef3fdee7-1893-4a3a-dc49-1ba90206ae74"
   },
   "outputs": [
    {
     "data": {
      "text/html": [
       "\n",
       "  <div id=\"df-33f14926-92cb-4edf-b44f-4aa6cf86d96e\">\n",
       "    <div class=\"colab-df-container\">\n",
       "      <div>\n",
       "<style scoped>\n",
       "    .dataframe tbody tr th:only-of-type {\n",
       "        vertical-align: middle;\n",
       "    }\n",
       "\n",
       "    .dataframe tbody tr th {\n",
       "        vertical-align: top;\n",
       "    }\n",
       "\n",
       "    .dataframe thead th {\n",
       "        text-align: right;\n",
       "    }\n",
       "</style>\n",
       "<table border=\"1\" class=\"dataframe\">\n",
       "  <thead>\n",
       "    <tr style=\"text-align: right;\">\n",
       "      <th></th>\n",
       "      <th>tweet</th>\n",
       "    </tr>\n",
       "  </thead>\n",
       "  <tbody>\n",
       "    <tr>\n",
       "      <th>0</th>\n",
       "      <td>[школотый, поверь, общество, предмет]</td>\n",
       "    </tr>\n",
       "    <tr>\n",
       "      <th>1</th>\n",
       "      <td>[похожий, мальчик, равно, хороший]</td>\n",
       "    </tr>\n",
       "    <tr>\n",
       "      <th>2</th>\n",
       "      <td>[]</td>\n",
       "    </tr>\n",
       "    <tr>\n",
       "      <th>3</th>\n",
       "      <td>[угол, голод, порция]</td>\n",
       "    </tr>\n",
       "    <tr>\n",
       "      <th>4</th>\n",
       "      <td>[страшилка, ощущение, автор]</td>\n",
       "    </tr>\n",
       "  </tbody>\n",
       "</table>\n",
       "</div>\n",
       "      <button class=\"colab-df-convert\" onclick=\"convertToInteractive('df-33f14926-92cb-4edf-b44f-4aa6cf86d96e')\"\n",
       "              title=\"Convert this dataframe to an interactive table.\"\n",
       "              style=\"display:none;\">\n",
       "        \n",
       "  <svg xmlns=\"http://www.w3.org/2000/svg\" height=\"24px\"viewBox=\"0 0 24 24\"\n",
       "       width=\"24px\">\n",
       "    <path d=\"M0 0h24v24H0V0z\" fill=\"none\"/>\n",
       "    <path d=\"M18.56 5.44l.94 2.06.94-2.06 2.06-.94-2.06-.94-.94-2.06-.94 2.06-2.06.94zm-11 1L8.5 8.5l.94-2.06 2.06-.94-2.06-.94L8.5 2.5l-.94 2.06-2.06.94zm10 10l.94 2.06.94-2.06 2.06-.94-2.06-.94-.94-2.06-.94 2.06-2.06.94z\"/><path d=\"M17.41 7.96l-1.37-1.37c-.4-.4-.92-.59-1.43-.59-.52 0-1.04.2-1.43.59L10.3 9.45l-7.72 7.72c-.78.78-.78 2.05 0 2.83L4 21.41c.39.39.9.59 1.41.59.51 0 1.02-.2 1.41-.59l7.78-7.78 2.81-2.81c.8-.78.8-2.07 0-2.86zM5.41 20L4 18.59l7.72-7.72 1.47 1.35L5.41 20z\"/>\n",
       "  </svg>\n",
       "      </button>\n",
       "      \n",
       "  <style>\n",
       "    .colab-df-container {\n",
       "      display:flex;\n",
       "      flex-wrap:wrap;\n",
       "      gap: 12px;\n",
       "    }\n",
       "\n",
       "    .colab-df-convert {\n",
       "      background-color: #E8F0FE;\n",
       "      border: none;\n",
       "      border-radius: 50%;\n",
       "      cursor: pointer;\n",
       "      display: none;\n",
       "      fill: #1967D2;\n",
       "      height: 32px;\n",
       "      padding: 0 0 0 0;\n",
       "      width: 32px;\n",
       "    }\n",
       "\n",
       "    .colab-df-convert:hover {\n",
       "      background-color: #E2EBFA;\n",
       "      box-shadow: 0px 1px 2px rgba(60, 64, 67, 0.3), 0px 1px 3px 1px rgba(60, 64, 67, 0.15);\n",
       "      fill: #174EA6;\n",
       "    }\n",
       "\n",
       "    [theme=dark] .colab-df-convert {\n",
       "      background-color: #3B4455;\n",
       "      fill: #D2E3FC;\n",
       "    }\n",
       "\n",
       "    [theme=dark] .colab-df-convert:hover {\n",
       "      background-color: #434B5C;\n",
       "      box-shadow: 0px 1px 3px 1px rgba(0, 0, 0, 0.15);\n",
       "      filter: drop-shadow(0px 1px 2px rgba(0, 0, 0, 0.3));\n",
       "      fill: #FFFFFF;\n",
       "    }\n",
       "  </style>\n",
       "\n",
       "      <script>\n",
       "        const buttonEl =\n",
       "          document.querySelector('#df-33f14926-92cb-4edf-b44f-4aa6cf86d96e button.colab-df-convert');\n",
       "        buttonEl.style.display =\n",
       "          google.colab.kernel.accessAllowed ? 'block' : 'none';\n",
       "\n",
       "        async function convertToInteractive(key) {\n",
       "          const element = document.querySelector('#df-33f14926-92cb-4edf-b44f-4aa6cf86d96e');\n",
       "          const dataTable =\n",
       "            await google.colab.kernel.invokeFunction('convertToInteractive',\n",
       "                                                     [key], {});\n",
       "          if (!dataTable) return;\n",
       "\n",
       "          const docLinkHtml = 'Like what you see? Visit the ' +\n",
       "            '<a target=\"_blank\" href=https://colab.research.google.com/notebooks/data_table.ipynb>data table notebook</a>'\n",
       "            + ' to learn more about interactive tables.';\n",
       "          element.innerHTML = '';\n",
       "          dataTable['output_type'] = 'display_data';\n",
       "          await google.colab.output.renderOutput(dataTable, element);\n",
       "          const docLink = document.createElement('div');\n",
       "          docLink.innerHTML = docLinkHtml;\n",
       "          element.appendChild(docLink);\n",
       "        }\n",
       "      </script>\n",
       "    </div>\n",
       "  </div>\n",
       "  "
      ],
      "text/plain": [
       "                                   tweet\n",
       "0  [школотый, поверь, общество, предмет]\n",
       "1     [похожий, мальчик, равно, хороший]\n",
       "2                                     []\n",
       "3                  [угол, голод, порция]\n",
       "4           [страшилка, ощущение, автор]"
      ]
     },
     "execution_count": 144,
     "metadata": {},
     "output_type": "execute_result"
    }
   ],
   "source": [
    "df['tweet'] = df['tweet'].apply(preprocess)\n",
    "df.head()"
   ]
  },
  {
   "cell_type": "markdown",
   "metadata": {
    "id": "pM8WiJrqNa-2"
   },
   "source": [
    "**Применение модели LDA для разделения твитов на тематики**"
   ]
  },
  {
   "cell_type": "code",
   "execution_count": 145,
   "metadata": {
    "id": "HPF0zXGQNVuv"
   },
   "outputs": [],
   "source": [
    "# создание словаря (индекc - токен)\n",
    "dictionary = corpora.Dictionary(df['tweet'])"
   ]
  },
  {
   "cell_type": "code",
   "execution_count": 146,
   "metadata": {
    "colab": {
     "base_uri": "https://localhost:8080/"
    },
    "id": "bzdLqLesOI4V",
    "outputId": "6ce1aa3b-e38f-4e64-9a45-a887ade56d37"
   },
   "outputs": [
    {
     "data": {
      "text/plain": [
       "7107"
      ]
     },
     "execution_count": 146,
     "metadata": {},
     "output_type": "execute_result"
    }
   ],
   "source": [
    "dictionary.filter_extremes(no_below = 10, no_above = 0.9, keep_n=None) # игнорируем слова, которые встречаются реже 10 раз или составляют более 0.9 словаря \n",
    "\n",
    "dictionary.save('tweet.dict')\n",
    "\n",
    "len(dictionary.keys()) #длина словаря из токенов"
   ]
  },
  {
   "cell_type": "code",
   "execution_count": 147,
   "metadata": {
    "id": "64qCgR4wOI0L"
   },
   "outputs": [],
   "source": [
    "# Векторизуем твиты \n",
    "\n",
    "corpus = [dictionary.doc2bow(tweet) for tweet in df['tweet']]\n",
    "corpora.MmCorpus.serialize('tweets.model', corpus) "
   ]
  },
  {
   "cell_type": "code",
   "execution_count": 148,
   "metadata": {
    "colab": {
     "base_uri": "https://localhost:8080/"
    },
    "id": "-mxBXRuQVzzo",
    "outputId": "56f3dc19-1d7d-4dca-c4bc-ed789b8d8044"
   },
   "outputs": [
    {
     "name": "stdout",
     "output_type": "stream",
     "text": [
      "['похожий', 'мальчик', 'равно', 'хороший']\n",
      "[(4, 1), (5, 1), (6, 1), (7, 1)]\n"
     ]
    }
   ],
   "source": [
    "print(df['tweet'].iloc[1])\n",
    "print(corpus[1])"
   ]
  },
  {
   "cell_type": "code",
   "execution_count": 149,
   "metadata": {
    "id": "znAtoFNYTbeE"
   },
   "outputs": [],
   "source": [
    "# Обучим модель LDA\n",
    "\n",
    "lda = ldamodel.LdaModel(corpus, id2word=dictionary, num_topics=3)"
   ]
  },
  {
   "cell_type": "code",
   "execution_count": 154,
   "metadata": {
    "colab": {
     "base_uri": "https://localhost:8080/"
    },
    "id": "F10JA-OfWn4K",
    "outputId": "871520e7-88bc-4f76-f3fe-a1f12c0b0917"
   },
   "outputs": [
    {
     "data": {
      "text/plain": [
       "[(0,\n",
       "  '0.023*\"большой\" + 0.016*\"новый\" + 0.015*\"жаль\" + 0.014*\"последний\" + 0.014*\"настроение\" + 0.012*\"ночь\" + 0.011*\"неделя\" + 0.009*\"каникулы\" + 0.009*\"улица\" + 0.009*\"телефон\" + 0.009*\"урок\" + 0.009*\"жалко\" + 0.008*\"снег\" + 0.008*\"маленький\" + 0.007*\"деньга\" + 0.007*\"город\" + 0.007*\"учёба\" + 0.006*\"месяц\" + 0.006*\"холодно\" + 0.006*\"мама\" + 0.006*\"выходной\" + 0.006*\"фильм\" + 0.006*\"домой\" + 0.006*\"должный\" + 0.006*\"папа\"'),\n",
       " (1,\n",
       "  '0.026*\"хороший\" + 0.018*\"утро\" + 0.014*\"любимый\" + 0.014*\"голова\" + 0.010*\"ужасно\" + 0.008*\"сильно\" + 0.008*\"твиттер\" + 0.008*\"нужный\" + 0.008*\"фотка\" + 0.008*\"вечер\" + 0.008*\"смочь\" + 0.008*\"чувство\" + 0.008*\"нога\" + 0.007*\"боль\" + 0.007*\"мама\" + 0.007*\"грустно\" + 0.007*\"момент\" + 0.006*\"никак\" + 0.006*\"песня\" + 0.006*\"добрый\" + 0.006*\"прям\" + 0.006*\"класс\" + 0.006*\"лето\" + 0.005*\"старый\" + 0.005*\"целый\"'),\n",
       " (2,\n",
       "  '0.025*\"школа\" + 0.014*\"друг\" + 0.012*\"работа\" + 0.010*\"скоро\" + 0.010*\"дело\" + 0.010*\"плохой\" + 0.009*\"экзамен\" + 0.009*\"равно\" + 0.008*\"прийтись\" + 0.008*\"скучно\" + 0.008*\"обидно\" + 0.007*\"правда\" + 0.007*\"минута\" + 0.007*\"ужасный\" + 0.007*\"ранний\" + 0.007*\"парень\" + 0.007*\"слово\" + 0.006*\"конец\" + 0.006*\"твит\" + 0.006*\"капец\" + 0.006*\"пара\" + 0.006*\"место\" + 0.006*\"наверное\" + 0.005*\"вроде\" + 0.005*\"проблема\"')]"
      ]
     },
     "execution_count": 154,
     "metadata": {},
     "output_type": "execute_result"
    }
   ],
   "source": [
    "lda.show_topics(num_topics=3, num_words=25, formatted=True)"
   ]
  },
  {
   "cell_type": "markdown",
   "metadata": {
    "id": "WiuYCMxpgbST"
   },
   "source": [
    "**Оценка модели**"
   ]
  },
  {
   "cell_type": "code",
   "execution_count": 151,
   "metadata": {
    "colab": {
     "base_uri": "https://localhost:8080/"
    },
    "id": "AE_xAqZBgagx",
    "outputId": "c76584a6-1d40-4712-d4a6-36785757878a"
   },
   "outputs": [
    {
     "name": "stdout",
     "output_type": "stream",
     "text": [
      "Персплексия:  0.00031437170088904074\n"
     ]
    }
   ],
   "source": [
    "# 1. Перплексия - чем ниже , тем лучше \n",
    "print('Персплексия: ', np.exp(lda.log_perplexity(corpus)))"
   ]
  },
  {
   "cell_type": "code",
   "execution_count": 152,
   "metadata": {
    "colab": {
     "base_uri": "https://localhost:8080/"
    },
    "id": "KfBYU-JxgsUE",
    "outputId": "0052e978-42cc-4f13-c451-65bc4b16ecc8"
   },
   "outputs": [
    {
     "name": "stdout",
     "output_type": "stream",
     "text": [
      "Средняя когерентность:  0.27644322465375104\n"
     ]
    }
   ],
   "source": [
    "# 2. Средняя когерентность - чем выше, тем лучше\n",
    "coherence_model_lda = CoherenceModel(model=lda, texts=df['tweet'], dictionary=dictionary, coherence='c_v')\n",
    "coherence_lda = coherence_model_lda.get_coherence()\n",
    "print('Средняя когерентность: ', coherence_lda)"
   ]
  },
  {
   "cell_type": "markdown",
   "metadata": {
    "id": "o0nAZvwPhfS6"
   },
   "source": [
    "**Визуализация результатов модели**\n",
    "\n"
   ]
  },
  {
   "cell_type": "code",
   "execution_count": 153,
   "metadata": {
    "colab": {
     "base_uri": "https://localhost:8080/",
     "height": 861
    },
    "id": "kbPJ1NE-hmSF",
    "outputId": "495c1367-e91f-4739-f1fe-9e91ce1987a0"
   },
   "outputs": [
    {
     "data": {
      "text/html": [
       "\n",
       "<link rel=\"stylesheet\" type=\"text/css\" href=\"https://cdn.jsdelivr.net/gh/bmabey/pyLDAvis@3.3.1/pyLDAvis/js/ldavis.v1.0.0.css\">\n",
       "\n",
       "\n",
       "<div id=\"ldavis_el611401346173457444241063715\"></div>\n",
       "<script type=\"text/javascript\">\n",
       "\n",
       "var ldavis_el611401346173457444241063715_data = {\"mdsDat\": {\"x\": [-0.3642582205571915, 0.215872673203723, 0.1483855473534684], \"y\": [-0.03847367991528008, -0.2922526628400441, 0.33072634275532437], \"topics\": [1, 2, 3], \"cluster\": [1, 1, 1], \"Freq\": [33.95426340194129, 33.8075686672398, 32.23816793081891]}, \"tinfo\": {\"Term\": [\"\\u0445\\u043e\\u0440\\u043e\\u0448\\u0438\\u0439\", \"\\u0448\\u043a\\u043e\\u043b\\u0430\", \"\\u0431\\u043e\\u043b\\u044c\\u0448\\u043e\\u0439\", \"\\u0443\\u0442\\u0440\\u043e\", \"\\u0436\\u0430\\u043b\\u044c\", \"\\u0434\\u0440\\u0443\\u0433\", \"\\u043f\\u043e\\u0441\\u043b\\u0435\\u0434\\u043d\\u0438\\u0439\", \"\\u043b\\u044e\\u0431\\u0438\\u043c\\u044b\\u0439\", \"\\u0433\\u043e\\u043b\\u043e\\u0432\\u0430\", \"\\u043d\\u0430\\u0441\\u0442\\u0440\\u043e\\u0435\\u043d\\u0438\\u0435\", \"\\u0440\\u0430\\u0431\\u043e\\u0442\\u0430\", \"\\u043d\\u0435\\u0434\\u0435\\u043b\\u044f\", \"\\u043d\\u043e\\u0432\\u044b\\u0439\", \"\\u043d\\u043e\\u0447\\u044c\", \"\\u0441\\u043a\\u043e\\u0440\\u043e\", \"\\u0434\\u0435\\u043b\\u043e\", \"\\u043f\\u043b\\u043e\\u0445\\u043e\\u0439\", \"\\u0443\\u0436\\u0430\\u0441\\u043d\\u043e\", \"\\u043a\\u0430\\u043d\\u0438\\u043a\\u0443\\u043b\\u044b\", \"\\u0443\\u043b\\u0438\\u0446\\u0430\", \"\\u0436\\u0430\\u043b\\u043a\\u043e\", \"\\u0440\\u0430\\u0432\\u043d\\u043e\", \"\\u0441\\u0438\\u043b\\u044c\\u043d\\u043e\", \"\\u043f\\u0440\\u0438\\u0439\\u0442\\u0438\\u0441\\u044c\", \"\\u044d\\u043a\\u0437\\u0430\\u043c\\u0435\\u043d\", \"\\u043d\\u0443\\u0436\\u043d\\u044b\\u0439\", \"\\u0442\\u0432\\u0438\\u0442\\u0442\\u0435\\u0440\", \"\\u0444\\u043e\\u0442\\u043a\\u0430\", \"\\u0441\\u043a\\u0443\\u0447\\u043d\\u043e\", \"\\u0441\\u043d\\u0435\\u0433\", \"\\u0448\\u043a\\u043e\\u043b\\u0430\", \"\\u0434\\u0440\\u0443\\u0433\", \"\\u0434\\u0435\\u043b\\u043e\", \"\\u043f\\u043b\\u043e\\u0445\\u043e\\u0439\", \"\\u0440\\u0430\\u0432\\u043d\\u043e\", \"\\u0441\\u043a\\u0443\\u0447\\u043d\\u043e\", \"\\u043f\\u0440\\u0438\\u0439\\u0442\\u0438\\u0441\\u044c\", \"\\u043e\\u0431\\u0438\\u0434\\u043d\\u043e\", \"\\u043c\\u0438\\u043d\\u0443\\u0442\\u0430\", \"\\u0440\\u0430\\u043d\\u043d\\u0438\\u0439\", \"\\u0443\\u0436\\u0430\\u0441\\u043d\\u044b\\u0439\", \"\\u0442\\u0432\\u0438\\u0442\", \"\\u043a\\u0430\\u043f\\u0435\\u0446\", \"\\u0441\\u043a\\u043e\\u0440\\u043e\", \"\\u043a\\u043e\\u043d\\u0435\\u0446\", \"\\u0431\\u043e\\u043b\\u044c\\u043d\\u043e\", \"\\u0440\\u0430\\u0431\\u043e\\u0442\\u0430\", \"\\u043c\\u0435\\u0441\\u0442\\u043e\", \"\\u043f\\u0440\\u043e\\u0431\\u043b\\u0435\\u043c\\u0430\", \"\\u0442\\u043e\\u0447\\u043d\\u043e\", \"\\u0431\\u044b\\u0441\\u0442\\u0440\\u043e\", \"\\u0441\\u0440\\u0430\\u0437\\u0443\", \"\\u043d\\u0435\\u0447\\u0435\\u0433\\u043e\", \"\\u043d\\u0430\\u0447\\u0430\\u043b\\u043e\", \"\\u043b\\u0435\\u043d\\u044c\", \"\\u0432\\u043e\\u043f\\u0440\\u043e\\u0441\", \"\\u043f\\u0435\\u0447\\u0430\\u043b\\u044c\", \"\\u0434\\u0435\\u0432\\u0443\\u0448\\u043a\\u0430\", \"\\u043f\\u0435\\u0447\\u0430\\u043b\\u044c\\u043d\\u043e\", \"\\u043a\\u0430\\u0442\\u043e\\u043a\", \"\\u043f\\u0430\\u0440\\u0435\\u043d\\u044c\", \"\\u043d\\u0430\\u0432\\u0435\\u0440\\u043d\\u043e\\u0435\", \"\\u043f\\u0440\\u0430\\u0432\\u0434\\u0430\", \"\\u044d\\u043a\\u0437\\u0430\\u043c\\u0435\\u043d\", \"\\u0441\\u043b\\u043e\\u0432\\u043e\", \"\\u043f\\u0430\\u0440\\u0430\", \"\\u0432\\u0440\\u043e\\u0434\\u0435\", \"\\u0433\\u043b\\u0430\\u0437\", \"\\u0436\\u0430\\u043b\\u044c\", \"\\u043f\\u043e\\u0441\\u043b\\u0435\\u0434\\u043d\\u0438\\u0439\", \"\\u043d\\u0430\\u0441\\u0442\\u0440\\u043e\\u0435\\u043d\\u0438\\u0435\", \"\\u0431\\u043e\\u043b\\u044c\\u0448\\u043e\\u0439\", \"\\u0443\\u043b\\u0438\\u0446\\u0430\", \"\\u0436\\u0430\\u043b\\u043a\\u043e\", \"\\u043c\\u0430\\u043b\\u0435\\u043d\\u044c\\u043a\\u0438\\u0439\", \"\\u0433\\u043e\\u0440\\u043e\\u0434\", \"\\u0445\\u043e\\u043b\\u043e\\u0434\\u043d\\u043e\", \"\\u043c\\u0435\\u0441\\u044f\\u0446\", \"\\u0432\\u044b\\u0445\\u043e\\u0434\\u043d\\u043e\\u0439\", \"\\u0434\\u0435\\u043d\\u044c\\u0433\\u0430\", \"\\u043b\\u0435\\u043d\\u0442\\u0430\", \"\\u0443\\u0436\\u0430\\u0441\", \"\\u0440\\u0435\\u0431\\u0451\\u043d\\u043e\\u043a\", \"\\u043d\\u043e\\u0440\\u043c\\u0430\\u043b\\u044c\\u043d\\u043e\", \"\\u0434\\u043e\\u043b\\u0436\\u043d\\u044b\\u0439\", \"\\u0441\\u0435\\u0440\\u0438\\u044f\", \"\\u0441\\u043b\\u0435\\u0437\\u0430\", \"\\u0438\\u0441\\u0442\\u043e\\u0440\\u0438\\u044f\", \"\\u043c\\u0443\\u0437\\u044b\\u043a\\u0430\", \"\\u043f\\u043e\\u0445\\u043e\\u0434\", \"\\u043f\\u043e\\u043d\\u0435\\u0434\\u0435\\u043b\\u044c\\u043d\\u0438\\u043a\", \"\\u0441\\u0435\\u0440\\u0438\\u0430\\u043b\", \"\\u043d\\u043e\\u0432\\u043e\\u0433\\u043e\\u0434\\u043d\\u0438\\u0439\", \"\\u043b\\u0435\\u0447\\u044c\", \"\\u044f\\u043d\\u0432\\u0430\\u0440\\u044c\", \"\\u043b\\u0430\\u0434\\u043d\\u044b\\u0439\", \"\\u0440\\u043e\\u0434\\u043d\\u044b\\u0439\", \"\\u043f\\u043e\\u0434\\u0440\\u0443\\u0433\\u0430\", \"\\u043d\\u0435\\u0434\\u0435\\u043b\\u044f\", \"\\u043a\\u0430\\u043d\\u0438\\u043a\\u0443\\u043b\\u044b\", \"\\u0443\\u0447\\u0451\\u0431\\u0430\", \"\\u043f\\u043e\\u043c\\u043e\\u0447\\u044c\", \"\\u043b\\u044e\\u0431\\u043e\\u0432\\u044c\", \"\\u0441\\u043d\\u0435\\u0433\", \"\\u043d\\u043e\\u0447\\u044c\", \"\\u043f\\u0430\\u043f\\u0430\", \"\\u0442\\u0435\\u043b\\u0435\\u0444\\u043e\\u043d\", \"\\u0437\\u0438\\u043c\\u0430\", \"\\u043d\\u043e\\u0432\\u044b\\u0439\", \"\\u0443\\u0440\\u043e\\u043a\", \"\\u0444\\u0438\\u043b\\u044c\\u043c\", \"\\u0434\\u043e\\u043c\\u043e\\u0439\", \"\\u043c\\u0430\\u043c\\u0430\", \"\\u0445\\u043e\\u0440\\u043e\\u0448\\u0438\\u0439\", \"\\u0433\\u043e\\u043b\\u043e\\u0432\\u0430\", \"\\u043b\\u044e\\u0431\\u0438\\u043c\\u044b\\u0439\", \"\\u0443\\u0436\\u0430\\u0441\\u043d\\u043e\", \"\\u0441\\u0438\\u043b\\u044c\\u043d\\u043e\", \"\\u043d\\u0443\\u0436\\u043d\\u044b\\u0439\", \"\\u0441\\u043c\\u043e\\u0447\\u044c\", \"\\u0447\\u0443\\u0432\\u0441\\u0442\\u0432\\u043e\", \"\\u0431\\u043e\\u043b\\u044c\", \"\\u0444\\u043e\\u0442\\u043a\\u0430\", \"\\u0433\\u0440\\u0443\\u0441\\u0442\\u043d\\u043e\", \"\\u0443\\u0442\\u0440\\u043e\", \"\\u0434\\u043e\\u0431\\u0440\\u044b\\u0439\", \"\\u043f\\u0435\\u0441\\u043d\\u044f\", \"\\u043f\\u0440\\u044f\\u043c\", \"\\u043a\\u043b\\u0430\\u0441\\u0441\", \"\\u0441\\u0442\\u0430\\u0440\\u044b\\u0439\", \"\\u043b\\u0435\\u0442\\u043e\", \"\\u0446\\u0435\\u043b\\u044b\\u0439\", \"\\u0442\\u0435\\u043c\\u043f\\u0435\\u0440\\u0430\\u0442\\u0443\\u0440\\u0430\", \"\\u0447\\u0435\\u0440\\u0442\\u0430\", \"\\u0441\\u0435\\u0441\\u0441\\u0438\\u044f\", \"\\u0441\\u0435\\u0437\\u043e\\u043d\", \"\\u0441\\u0442\\u0440\\u0430\\u0448\\u043d\\u043e\", \"\\u0441\\u043e\\u0436\\u0430\\u043b\\u0435\\u043d\\u0438\\u0435\", \"\\u043d\\u043e\\u0440\\u043c\\u0430\", \"\\u0434\\u0435\\u0432\\u043e\\u0447\\u043a\\u0430\", \"\\u0442\\u0443\\u043f\\u043e\\u0439\", \"\\u0442\\u0432\\u0438\\u0442\\u0442\\u0435\\u0440\", \"\\u043a\\u0440\\u0443\\u0442\\u043e\\u0439\", \"\\u043d\\u043e\\u0433\\u0430\", \"\\u043c\\u043e\\u043c\\u0435\\u043d\\u0442\", \"\\u0432\\u0435\\u0447\\u0435\\u0440\", \"\\u043d\\u0438\\u043a\\u0430\\u043a\", \"\\u043a\\u043d\\u0438\\u0433\\u0430\", \"\\u043c\\u0430\\u043c\\u0430\"], \"Freq\": [4899.0, 4855.0, 4540.0, 3323.0, 3042.0, 2803.0, 2728.0, 2580.0, 2561.0, 2667.0, 2374.0, 2230.0, 3940.0, 2338.0, 2049.0, 1989.0, 1989.0, 1787.0, 1843.0, 1802.0, 1720.0, 1706.0, 1584.0, 1641.0, 1944.0, 1551.0, 1553.0, 1532.0, 1599.0, 1652.0, 4855.043938961751, 2802.9076366667177, 1989.129889693293, 1988.3980995461397, 1705.9958751623637, 1599.0212095014938, 1640.799070283429, 1547.1540847633014, 1381.3943054221015, 1358.8710621401365, 1377.599837992417, 1224.8978757100801, 1160.8530549176699, 2047.78907425533, 1253.928501570436, 1034.8711127702854, 2372.5702266620897, 1124.216992505284, 1040.9998782997523, 970.4407608119143, 977.2016610149806, 1026.8238180455035, 920.2754307469964, 929.817096633955, 884.1788538399196, 902.8273337463482, 860.116528105608, 885.7535209479478, 851.6111500800947, 796.1461954007386, 1331.3486356760302, 1112.1844007206073, 1459.514055983572, 1874.058332041432, 1324.0453921326134, 1160.458489305448, 1072.4893485547766, 967.9726975945306, 3041.194775095497, 2727.6412559998403, 2667.092939600712, 4538.21215301968, 1802.128792605522, 1719.2232003811923, 1509.7888466755355, 1306.9742916940143, 1254.627865434726, 1270.7638944577566, 1191.941118790084, 1327.4392261043763, 1127.782704028246, 1121.0194376269958, 1028.6139537131928, 1030.4964736043908, 1163.463748677223, 974.5028658464016, 967.7992629065235, 959.7978419968935, 966.2219445677287, 903.9039181143659, 911.8059305183561, 903.3093946692788, 744.003822258683, 782.6058981864933, 770.6899116812751, 797.0953992555376, 739.3266658368203, 782.4135982609941, 2227.79197499788, 1840.7367430895288, 1305.7004308987514, 907.9141288280301, 910.3010344426729, 1640.090174714385, 2299.4920348570213, 1134.4496827818357, 1779.5569118992626, 988.7045136618111, 3218.7078919079595, 1735.6032988562047, 1188.7216784144503, 1178.5724646853682, 1200.4704236479456, 4899.0352635495055, 2560.4629716352474, 2579.7590691996447, 1787.0279685961007, 1583.5773537334576, 1550.981063761096, 1484.5383959730375, 1440.6699583574568, 1367.651243820357, 1531.6212451527308, 1298.9492798964504, 3321.233242127977, 1095.0766881753336, 1095.101283798074, 1048.745887360711, 1039.0986263386712, 1012.3666855761996, 1038.8992354895522, 979.1658334463029, 957.1192275225035, 944.0719061255601, 902.7203622178017, 922.6731891680378, 856.1828181259099, 798.0327264732291, 838.207706819153, 789.3121339848257, 798.0875195687289, 1552.3283086907013, 799.6478098568749, 1427.3332663954618, 1298.5919868999165, 1508.4136558124628, 1099.885263714427, 839.0636519962976, 1351.5662317216236], \"Total\": [4899.0, 4855.0, 4540.0, 3323.0, 3042.0, 2803.0, 2728.0, 2580.0, 2561.0, 2667.0, 2374.0, 2230.0, 3940.0, 2338.0, 2049.0, 1989.0, 1989.0, 1787.0, 1843.0, 1802.0, 1720.0, 1706.0, 1584.0, 1641.0, 1944.0, 1551.0, 1553.0, 1532.0, 1599.0, 1652.0, 4855.861188102743, 2803.757383550096, 1989.9242589489027, 1989.324510937159, 1706.7927961997839, 1599.8006094860143, 1641.6079196429685, 1547.9587925571414, 1382.2072987143654, 1359.674023278623, 1378.4427117036034, 1225.7266080275235, 1161.6557212088157, 2049.2153583760623, 1254.806738439026, 1035.6612364831133, 2374.415797708603, 1125.0954398699942, 1041.8277482710348, 971.2209255335214, 977.9981516122938, 1027.6678558735143, 921.0790374545545, 930.633644709997, 884.9577575734656, 903.6545246199214, 860.9075793062674, 886.5796825947796, 852.4160860779411, 796.96023621089, 1332.7744695138172, 1117.6828966180196, 1483.090325447436, 1944.5128935354096, 1408.1565723890212, 1375.424739318677, 1590.1410162294558, 1285.473068627886, 3042.0021762500237, 2728.44158637268, 2667.9974191250576, 4540.083809821908, 1802.9584372720044, 1720.0191602130883, 1510.6505695678352, 1307.7978052210942, 1255.4224654813358, 1271.5877252226464, 1192.7356984855937, 1328.3454590272067, 1128.581145216634, 1121.824561435631, 1029.4109903787914, 1031.3133571628025, 1164.3871681660414, 975.2958988846325, 968.6016846108068, 960.619024357415, 967.0570564014563, 904.704057268979, 912.6190456158963, 904.1617163564383, 744.739437945987, 783.4162597158714, 771.4881125244401, 797.9319577733211, 740.1250347420972, 783.2637326873722, 2230.613943565567, 1843.3573077095011, 1307.1305956588246, 909.0968144098586, 911.5676490176871, 1652.4935736912735, 2338.2968337886214, 1144.1942097794258, 1885.0687669120018, 998.8082586785557, 3940.9792913038955, 2447.905463483068, 1811.7787184089502, 1841.345230297994, 3186.863455672351, 4899.920456121071, 2561.2191445040744, 2580.53804078245, 1787.7814897795688, 1584.3260474628385, 1551.7456861265148, 1485.2879424224695, 1441.421101022403, 1368.3982310473, 1532.4642826816228, 1299.6994895784903, 3323.320937196895, 1095.8252204140458, 1095.8823695766973, 1049.5164207571604, 1039.8667670645398, 1013.1474545113928, 1039.7029849052092, 979.9327942118385, 957.8711033705227, 944.8256157578955, 903.4892080875013, 923.4635107979461, 856.9402092335753, 798.7808209924544, 838.9947402911095, 790.0619463632837, 798.8467235680965, 1553.8240659884632, 800.4252184467043, 1430.5348196128807, 1300.91312787657, 1514.3990915090787, 1101.6817078009242, 839.8869248237286, 3186.863455672351], \"Category\": [\"Default\", \"Default\", \"Default\", \"Default\", \"Default\", \"Default\", \"Default\", \"Default\", \"Default\", \"Default\", \"Default\", \"Default\", \"Default\", \"Default\", \"Default\", \"Default\", \"Default\", \"Default\", \"Default\", \"Default\", \"Default\", \"Default\", \"Default\", \"Default\", \"Default\", \"Default\", \"Default\", \"Default\", \"Default\", \"Default\", \"Topic1\", \"Topic1\", \"Topic1\", \"Topic1\", \"Topic1\", \"Topic1\", \"Topic1\", \"Topic1\", \"Topic1\", \"Topic1\", \"Topic1\", \"Topic1\", \"Topic1\", \"Topic1\", \"Topic1\", \"Topic1\", \"Topic1\", \"Topic1\", \"Topic1\", \"Topic1\", \"Topic1\", \"Topic1\", \"Topic1\", \"Topic1\", \"Topic1\", \"Topic1\", \"Topic1\", \"Topic1\", \"Topic1\", \"Topic1\", \"Topic1\", \"Topic1\", \"Topic1\", \"Topic1\", \"Topic1\", \"Topic1\", \"Topic1\", \"Topic1\", \"Topic2\", \"Topic2\", \"Topic2\", \"Topic2\", \"Topic2\", \"Topic2\", \"Topic2\", \"Topic2\", \"Topic2\", \"Topic2\", \"Topic2\", \"Topic2\", \"Topic2\", \"Topic2\", \"Topic2\", \"Topic2\", \"Topic2\", \"Topic2\", \"Topic2\", \"Topic2\", \"Topic2\", \"Topic2\", \"Topic2\", \"Topic2\", \"Topic2\", \"Topic2\", \"Topic2\", \"Topic2\", \"Topic2\", \"Topic2\", \"Topic2\", \"Topic2\", \"Topic2\", \"Topic2\", \"Topic2\", \"Topic2\", \"Topic2\", \"Topic2\", \"Topic2\", \"Topic2\", \"Topic2\", \"Topic2\", \"Topic2\", \"Topic2\", \"Topic2\", \"Topic3\", \"Topic3\", \"Topic3\", \"Topic3\", \"Topic3\", \"Topic3\", \"Topic3\", \"Topic3\", \"Topic3\", \"Topic3\", \"Topic3\", \"Topic3\", \"Topic3\", \"Topic3\", \"Topic3\", \"Topic3\", \"Topic3\", \"Topic3\", \"Topic3\", \"Topic3\", \"Topic3\", \"Topic3\", \"Topic3\", \"Topic3\", \"Topic3\", \"Topic3\", \"Topic3\", \"Topic3\", \"Topic3\", \"Topic3\", \"Topic3\", \"Topic3\", \"Topic3\", \"Topic3\", \"Topic3\", \"Topic3\"], \"logprob\": [30.0, 29.0, 28.0, 27.0, 26.0, 25.0, 24.0, 23.0, 22.0, 21.0, 20.0, 19.0, 18.0, 17.0, 16.0, 15.0, 14.0, 13.0, 12.0, 11.0, 10.0, 9.0, 8.0, 7.0, 6.0, 5.0, 4.0, 3.0, 2.0, 1.0, -3.7081, -4.2575, -4.6004, -4.6008, -4.754, -4.8187, -4.7929, -4.8517, -4.965, -4.9815, -4.9678, -5.0853, -5.139, -4.5714, -5.0618, -5.2539, -4.4242, -5.171, -5.2479, -5.3181, -5.3112, -5.2617, -5.3712, -5.3609, -5.4112, -5.3904, -5.4388, -5.4094, -5.4488, -5.5161, -5.0019, -5.1818, -4.91, -4.66, -5.0074, -5.1393, -5.2181, -5.3207, -4.1715, -4.2804, -4.3028, -3.7713, -4.6948, -4.7419, -4.8718, -5.0161, -5.057, -5.0442, -5.1082, -5.0005, -5.1635, -5.1696, -5.2556, -5.2538, -5.1324, -5.3096, -5.3165, -5.3248, -5.3182, -5.3848, -5.3761, -5.3855, -5.5795, -5.5289, -5.5443, -5.5106, -5.5858, -5.5292, -4.4828, -4.6736, -5.0171, -5.3804, -5.3778, -4.789, -4.4511, -5.1577, -4.7074, -5.2952, -4.1148, -4.7324, -5.1109, -5.1195, -5.1011, -3.6472, -4.2961, -4.2886, -4.6557, -4.7766, -4.7974, -4.8412, -4.8712, -4.9232, -4.8099, -4.9747, -4.0359, -5.1454, -5.1454, -5.1887, -5.1979, -5.224, -5.1981, -5.2573, -5.2801, -5.2938, -5.3386, -5.3167, -5.3915, -5.4619, -5.4128, -5.4729, -5.4618, -4.7965, -5.4598, -4.8805, -4.975, -4.8252, -5.1411, -5.4117, -4.935], \"loglift\": [30.0, 29.0, 28.0, 27.0, 26.0, 25.0, 24.0, 23.0, 22.0, 21.0, 20.0, 19.0, 18.0, 17.0, 16.0, 15.0, 14.0, 13.0, 12.0, 11.0, 10.0, 9.0, 8.0, 7.0, 6.0, 5.0, 4.0, 3.0, 2.0, 1.0, 1.08, 1.0799, 1.0798, 1.0797, 1.0797, 1.0797, 1.0797, 1.0796, 1.0796, 1.0796, 1.0795, 1.0795, 1.0795, 1.0795, 1.0795, 1.0794, 1.0794, 1.0794, 1.0794, 1.0794, 1.0793, 1.0793, 1.0793, 1.0793, 1.0793, 1.0792, 1.0792, 1.0792, 1.0792, 1.0791, 1.0791, 1.0752, 1.0641, 1.0433, 1.0186, 0.9102, 0.6863, 0.7965, 1.0842, 1.0842, 1.0841, 1.0841, 1.084, 1.084, 1.0839, 1.0839, 1.0839, 1.0838, 1.0838, 1.0838, 1.0838, 1.0838, 1.0837, 1.0837, 1.0837, 1.0837, 1.0837, 1.0836, 1.0836, 1.0836, 1.0836, 1.0835, 1.0835, 1.0835, 1.0835, 1.0834, 1.0834, 1.0834, 1.0832, 1.0831, 1.0834, 1.0832, 1.0831, 1.077, 1.0678, 1.0759, 1.0269, 1.0743, 0.882, 0.7406, 0.6631, 0.6383, 0.1082, 1.1318, 1.1317, 1.1317, 1.1316, 1.1315, 1.1315, 1.1315, 1.1315, 1.1315, 1.1315, 1.1314, 1.1314, 1.1313, 1.1313, 1.1313, 1.1313, 1.1312, 1.1312, 1.1312, 1.1312, 1.1312, 1.1312, 1.1312, 1.1311, 1.1311, 1.1311, 1.1311, 1.1311, 1.1311, 1.131, 1.1298, 1.1302, 1.1281, 1.1304, 1.131, 0.2742]}, \"token.table\": {\"Topic\": [3, 1, 2, 3, 1, 2, 3, 1, 1, 2, 2, 1, 2, 3, 3, 2, 3, 3, 1, 1, 2, 3, 1, 2, 1, 2, 3, 1, 2, 2, 2, 3, 2, 2, 3, 1, 1, 3, 3, 1, 3, 2, 2, 1, 3, 2, 3, 2, 3, 2, 1, 2, 3, 1, 2, 1, 1, 2, 3, 2, 1, 2, 2, 3, 1, 1, 2, 1, 2, 3, 2, 1, 2, 3, 1, 3, 3, 2, 1, 2, 3, 3, 1, 1, 2, 1, 2, 3, 1, 3, 3, 1, 1, 1, 2, 2, 3, 2, 2, 2, 1, 2, 1, 1, 3, 1, 3, 1, 1, 2, 2, 3, 2, 2, 3, 3, 1, 2, 3, 1, 2, 1, 2, 3, 3, 1, 2, 3, 1, 3, 3, 1, 2, 3, 1, 2, 3, 3, 1, 3, 2, 3, 1, 2, 1, 2, 3, 1, 2, 3, 1, 2, 2, 3, 3, 2, 2, 3, 3, 3, 3, 1, 1, 2, 3, 2], \"Freq\": [0.9997089801504675, 0.9993615320726315, 0.9995410195253664, 0.00022026025110739674, 0.998979393150541, 0.003961967511497302, 0.9957745012229886, 0.9992756915368772, 0.674154046124744, 0.3251283972448626, 0.9993831839807195, 0.7530301673556205, 0.041229957510173436, 0.20614978755086716, 0.9995239983635565, 0.9993899628689472, 0.9994618066836994, 0.9986558694945733, 0.999346158494087, 0.999535530588792, 0.9989871166283867, 0.9992469415754694, 0.0008588208693290926, 0.9988086710297347, 0.35951976256666723, 0.6402927493445629, 0.0005430812123363554, 0.99972986837073, 0.9994074715929548, 0.9996705537366646, 0.990180038467511, 0.010011931632634086, 0.9993555984821048, 0.9987211878567209, 0.0010849768472099086, 0.9994355287914966, 0.9987951265731206, 0.9991664633470434, 0.9989439949622805, 0.99935708152155, 0.9994687593082968, 0.9988320335283704, 0.9994850656338738, 0.9989177363944559, 0.9993238598759305, 0.9994686608674392, 0.9997915005421556, 0.9982802713332615, 0.0010970112871794082, 0.9995693447704314, 0.19925547762950213, 0.37654578449669696, 0.4242415838662786, 0.9990263582704408, 0.9995378020635237, 0.9991265429465693, 0.0007686908361300507, 0.0015373816722601013, 0.9985293961329358, 0.998906934813764, 0.9949154660635718, 0.004473540764674334, 0.9996261543890905, 0.0003748129562763744, 0.9993191255080892, 0.0008966141387976184, 0.9988281506205469, 0.9988285072065732, 0.0009077031895138825, 0.9984735084652707, 0.9990071185862986, 0.0027911844206521034, 0.8168020590981019, 0.18041201118942232, 0.0020971177764214327, 0.9975290223177949, 0.9988143664753317, 0.9987265197782218, 0.000427661700409418, 0.9831942492412519, 0.016251144615557885, 0.999519453391634, 0.9993806084750115, 0.007865797539505982, 0.9910904899777538, 0.8433758437227262, 0.0065434332702625315, 0.14977191707489793, 0.9986685898068978, 0.0007503144927174288, 0.9991948318531321, 0.9989457877615635, 0.999511874441676, 0.9993341906109954, 0.9983865808735503, 0.9987935119863218, 0.0010999928546104865, 0.9993216823395588, 0.9998381543607584, 0.9992217816828364, 0.9844309378523727, 0.01550815861000313, 0.9996296803666124, 0.9992054845223614, 0.9995079440903003, 0.9994037279780698, 0.000421156227550809, 0.9995355053047159, 0.9995042758285565, 0.9996007519031439, 0.9984799396192708, 0.9994980735107274, 0.9987151453822666, 0.9996966060403095, 0.9994585346641418, 0.99979420431586, 0.9994069152511986, 0.00048799165783749933, 0.00048799165783749933, 0.9994995567064626, 0.9993788111043307, 0.9402363529460047, 0.0007101483028293087, 0.05894230913483262, 0.9998061369689706, 0.007261752899404555, 0.9924395629186226, 0.9990224840507759, 0.9993501247803974, 0.9988674358245847, 0.9989028298317146, 0.9994072022074377, 0.0006435735048059327, 0.9988260794588074, 0.001591453878318936, 0.9442626344692354, 0.05463991648895014, 0.9990905839340413, 0.9987428961820909, 0.9989400675459811, 0.9992649818305138, 0.9995628717580776, 0.9996788319892843, 0.9994684085599584, 0.29004388061202224, 0.7091777137217896, 0.00122553752371277, 0.0003009038305049963, 0.0003009038305049963, 0.9993016211070928, 0.0007650344987112603, 0.9991350553169059, 0.6562611581198747, 0.3438609768786223, 0.9996970352347722, 0.999663487397309, 0.00020408494565473642, 0.9998121487625536, 0.9990481038930953, 0.9991261712805772, 0.9997078570432302, 0.9998226497691383, 0.9637375027083483, 0.009256816995064178, 0.026741915763518736, 0.9993673103752138], \"Term\": [\"\\u0431\\u043e\\u043b\\u044c\", \"\\u0431\\u043e\\u043b\\u044c\\u043d\\u043e\", \"\\u0431\\u043e\\u043b\\u044c\\u0448\\u043e\\u0439\", \"\\u0431\\u043e\\u043b\\u044c\\u0448\\u043e\\u0439\", \"\\u0431\\u044b\\u0441\\u0442\\u0440\\u043e\", \"\\u0432\\u0435\\u0447\\u0435\\u0440\", \"\\u0432\\u0435\\u0447\\u0435\\u0440\", \"\\u0432\\u043e\\u043f\\u0440\\u043e\\u0441\", \"\\u0432\\u0440\\u043e\\u0434\\u0435\", \"\\u0432\\u0440\\u043e\\u0434\\u0435\", \"\\u0432\\u044b\\u0445\\u043e\\u0434\\u043d\\u043e\\u0439\", \"\\u0433\\u043b\\u0430\\u0437\", \"\\u0433\\u043b\\u0430\\u0437\", \"\\u0433\\u043b\\u0430\\u0437\", \"\\u0433\\u043e\\u043b\\u043e\\u0432\\u0430\", \"\\u0433\\u043e\\u0440\\u043e\\u0434\", \"\\u0433\\u0440\\u0443\\u0441\\u0442\\u043d\\u043e\", \"\\u0434\\u0435\\u0432\\u043e\\u0447\\u043a\\u0430\", \"\\u0434\\u0435\\u0432\\u0443\\u0448\\u043a\\u0430\", \"\\u0434\\u0435\\u043b\\u043e\", \"\\u0434\\u0435\\u043d\\u044c\\u0433\\u0430\", \"\\u0434\\u043e\\u0431\\u0440\\u044b\\u0439\", \"\\u0434\\u043e\\u043b\\u0436\\u043d\\u044b\\u0439\", \"\\u0434\\u043e\\u043b\\u0436\\u043d\\u044b\\u0439\", \"\\u0434\\u043e\\u043c\\u043e\\u0439\", \"\\u0434\\u043e\\u043c\\u043e\\u0439\", \"\\u0434\\u043e\\u043c\\u043e\\u0439\", \"\\u0434\\u0440\\u0443\\u0433\", \"\\u0436\\u0430\\u043b\\u043a\\u043e\", \"\\u0436\\u0430\\u043b\\u044c\", \"\\u0437\\u0438\\u043c\\u0430\", \"\\u0437\\u0438\\u043c\\u0430\", \"\\u0438\\u0441\\u0442\\u043e\\u0440\\u0438\\u044f\", \"\\u043a\\u0430\\u043d\\u0438\\u043a\\u0443\\u043b\\u044b\", \"\\u043a\\u0430\\u043d\\u0438\\u043a\\u0443\\u043b\\u044b\", \"\\u043a\\u0430\\u043f\\u0435\\u0446\", \"\\u043a\\u0430\\u0442\\u043e\\u043a\", \"\\u043a\\u043b\\u0430\\u0441\\u0441\", \"\\u043a\\u043d\\u0438\\u0433\\u0430\", \"\\u043a\\u043e\\u043d\\u0435\\u0446\", \"\\u043a\\u0440\\u0443\\u0442\\u043e\\u0439\", \"\\u043b\\u0430\\u0434\\u043d\\u044b\\u0439\", \"\\u043b\\u0435\\u043d\\u0442\\u0430\", \"\\u043b\\u0435\\u043d\\u044c\", \"\\u043b\\u0435\\u0442\\u043e\", \"\\u043b\\u0435\\u0447\\u044c\", \"\\u043b\\u044e\\u0431\\u0438\\u043c\\u044b\\u0439\", \"\\u043b\\u044e\\u0431\\u043e\\u0432\\u044c\", \"\\u043b\\u044e\\u0431\\u043e\\u0432\\u044c\", \"\\u043c\\u0430\\u043b\\u0435\\u043d\\u044c\\u043a\\u0438\\u0439\", \"\\u043c\\u0430\\u043c\\u0430\", \"\\u043c\\u0430\\u043c\\u0430\", \"\\u043c\\u0430\\u043c\\u0430\", \"\\u043c\\u0435\\u0441\\u0442\\u043e\", \"\\u043c\\u0435\\u0441\\u044f\\u0446\", \"\\u043c\\u0438\\u043d\\u0443\\u0442\\u0430\", \"\\u043c\\u043e\\u043c\\u0435\\u043d\\u0442\", \"\\u043c\\u043e\\u043c\\u0435\\u043d\\u0442\", \"\\u043c\\u043e\\u043c\\u0435\\u043d\\u0442\", \"\\u043c\\u0443\\u0437\\u044b\\u043a\\u0430\", \"\\u043d\\u0430\\u0432\\u0435\\u0440\\u043d\\u043e\\u0435\", \"\\u043d\\u0430\\u0432\\u0435\\u0440\\u043d\\u043e\\u0435\", \"\\u043d\\u0430\\u0441\\u0442\\u0440\\u043e\\u0435\\u043d\\u0438\\u0435\", \"\\u043d\\u0430\\u0441\\u0442\\u0440\\u043e\\u0435\\u043d\\u0438\\u0435\", \"\\u043d\\u0430\\u0447\\u0430\\u043b\\u043e\", \"\\u043d\\u0435\\u0434\\u0435\\u043b\\u044f\", \"\\u043d\\u0435\\u0434\\u0435\\u043b\\u044f\", \"\\u043d\\u0435\\u0447\\u0435\\u0433\\u043e\", \"\\u043d\\u0438\\u043a\\u0430\\u043a\", \"\\u043d\\u0438\\u043a\\u0430\\u043a\", \"\\u043d\\u043e\\u0432\\u043e\\u0433\\u043e\\u0434\\u043d\\u0438\\u0439\", \"\\u043d\\u043e\\u0432\\u044b\\u0439\", \"\\u043d\\u043e\\u0432\\u044b\\u0439\", \"\\u043d\\u043e\\u0432\\u044b\\u0439\", \"\\u043d\\u043e\\u0433\\u0430\", \"\\u043d\\u043e\\u0433\\u0430\", \"\\u043d\\u043e\\u0440\\u043c\\u0430\", \"\\u043d\\u043e\\u0440\\u043c\\u0430\\u043b\\u044c\\u043d\\u043e\", \"\\u043d\\u043e\\u0447\\u044c\", \"\\u043d\\u043e\\u0447\\u044c\", \"\\u043d\\u043e\\u0447\\u044c\", \"\\u043d\\u0443\\u0436\\u043d\\u044b\\u0439\", \"\\u043e\\u0431\\u0438\\u0434\\u043d\\u043e\", \"\\u043f\\u0430\\u043f\\u0430\", \"\\u043f\\u0430\\u043f\\u0430\", \"\\u043f\\u0430\\u0440\\u0430\", \"\\u043f\\u0430\\u0440\\u0430\", \"\\u043f\\u0430\\u0440\\u0430\", \"\\u043f\\u0430\\u0440\\u0435\\u043d\\u044c\", \"\\u043f\\u0430\\u0440\\u0435\\u043d\\u044c\", \"\\u043f\\u0435\\u0441\\u043d\\u044f\", \"\\u043f\\u0435\\u0447\\u0430\\u043b\\u044c\", \"\\u043f\\u0435\\u0447\\u0430\\u043b\\u044c\\u043d\\u043e\", \"\\u043f\\u043b\\u043e\\u0445\\u043e\\u0439\", \"\\u043f\\u043e\\u0434\\u0440\\u0443\\u0433\\u0430\", \"\\u043f\\u043e\\u043c\\u043e\\u0447\\u044c\", \"\\u043f\\u043e\\u043c\\u043e\\u0447\\u044c\", \"\\u043f\\u043e\\u043d\\u0435\\u0434\\u0435\\u043b\\u044c\\u043d\\u0438\\u043a\", \"\\u043f\\u043e\\u0441\\u043b\\u0435\\u0434\\u043d\\u0438\\u0439\", \"\\u043f\\u043e\\u0445\\u043e\\u0434\", \"\\u043f\\u0440\\u0430\\u0432\\u0434\\u0430\", \"\\u043f\\u0440\\u0430\\u0432\\u0434\\u0430\", \"\\u043f\\u0440\\u0438\\u0439\\u0442\\u0438\\u0441\\u044c\", \"\\u043f\\u0440\\u043e\\u0431\\u043b\\u0435\\u043c\\u0430\", \"\\u043f\\u0440\\u044f\\u043c\", \"\\u0440\\u0430\\u0431\\u043e\\u0442\\u0430\", \"\\u0440\\u0430\\u0431\\u043e\\u0442\\u0430\", \"\\u0440\\u0430\\u0432\\u043d\\u043e\", \"\\u0440\\u0430\\u043d\\u043d\\u0438\\u0439\", \"\\u0440\\u0435\\u0431\\u0451\\u043d\\u043e\\u043a\", \"\\u0440\\u043e\\u0434\\u043d\\u044b\\u0439\", \"\\u0441\\u0435\\u0437\\u043e\\u043d\", \"\\u0441\\u0435\\u0440\\u0438\\u0430\\u043b\", \"\\u0441\\u0435\\u0440\\u0438\\u044f\", \"\\u0441\\u0435\\u0441\\u0441\\u0438\\u044f\", \"\\u0441\\u0438\\u043b\\u044c\\u043d\\u043e\", \"\\u0441\\u043a\\u043e\\u0440\\u043e\", \"\\u0441\\u043a\\u043e\\u0440\\u043e\", \"\\u0441\\u043a\\u043e\\u0440\\u043e\", \"\\u0441\\u043a\\u0443\\u0447\\u043d\\u043e\", \"\\u0441\\u043b\\u0435\\u0437\\u0430\", \"\\u0441\\u043b\\u043e\\u0432\\u043e\", \"\\u0441\\u043b\\u043e\\u0432\\u043e\", \"\\u0441\\u043b\\u043e\\u0432\\u043e\", \"\\u0441\\u043c\\u043e\\u0447\\u044c\", \"\\u0441\\u043d\\u0435\\u0433\", \"\\u0441\\u043d\\u0435\\u0433\", \"\\u0441\\u043e\\u0436\\u0430\\u043b\\u0435\\u043d\\u0438\\u0435\", \"\\u0441\\u0440\\u0430\\u0437\\u0443\", \"\\u0441\\u0442\\u0430\\u0440\\u044b\\u0439\", \"\\u0441\\u0442\\u0440\\u0430\\u0448\\u043d\\u043e\", \"\\u0442\\u0432\\u0438\\u0442\", \"\\u0442\\u0432\\u0438\\u0442\\u0442\\u0435\\u0440\", \"\\u0442\\u0432\\u0438\\u0442\\u0442\\u0435\\u0440\", \"\\u0442\\u0435\\u043b\\u0435\\u0444\\u043e\\u043d\", \"\\u0442\\u0435\\u043b\\u0435\\u0444\\u043e\\u043d\", \"\\u0442\\u0435\\u043b\\u0435\\u0444\\u043e\\u043d\", \"\\u0442\\u0435\\u043c\\u043f\\u0435\\u0440\\u0430\\u0442\\u0443\\u0440\\u0430\", \"\\u0442\\u043e\\u0447\\u043d\\u043e\", \"\\u0442\\u0443\\u043f\\u043e\\u0439\", \"\\u0443\\u0436\\u0430\\u0441\", \"\\u0443\\u0436\\u0430\\u0441\\u043d\\u043e\", \"\\u0443\\u0436\\u0430\\u0441\\u043d\\u044b\\u0439\", \"\\u0443\\u043b\\u0438\\u0446\\u0430\", \"\\u0443\\u0440\\u043e\\u043a\", \"\\u0443\\u0440\\u043e\\u043a\", \"\\u0443\\u0440\\u043e\\u043a\", \"\\u0443\\u0442\\u0440\\u043e\", \"\\u0443\\u0442\\u0440\\u043e\", \"\\u0443\\u0442\\u0440\\u043e\", \"\\u0443\\u0447\\u0451\\u0431\\u0430\", \"\\u0443\\u0447\\u0451\\u0431\\u0430\", \"\\u0444\\u0438\\u043b\\u044c\\u043c\", \"\\u0444\\u0438\\u043b\\u044c\\u043c\", \"\\u0444\\u043e\\u0442\\u043a\\u0430\", \"\\u0445\\u043e\\u043b\\u043e\\u0434\\u043d\\u043e\", \"\\u0445\\u043e\\u0440\\u043e\\u0448\\u0438\\u0439\", \"\\u0445\\u043e\\u0440\\u043e\\u0448\\u0438\\u0439\", \"\\u0446\\u0435\\u043b\\u044b\\u0439\", \"\\u0447\\u0435\\u0440\\u0442\\u0430\", \"\\u0447\\u0443\\u0432\\u0441\\u0442\\u0432\\u043e\", \"\\u0448\\u043a\\u043e\\u043b\\u0430\", \"\\u044d\\u043a\\u0437\\u0430\\u043c\\u0435\\u043d\", \"\\u044d\\u043a\\u0437\\u0430\\u043c\\u0435\\u043d\", \"\\u044d\\u043a\\u0437\\u0430\\u043c\\u0435\\u043d\", \"\\u044f\\u043d\\u0432\\u0430\\u0440\\u044c\"]}, \"R\": 30, \"lambda.step\": 0.01, \"plot.opts\": {\"xlab\": \"PC1\", \"ylab\": \"PC2\"}, \"topic.order\": [3, 1, 2]};\n",
       "\n",
       "function LDAvis_load_lib(url, callback){\n",
       "  var s = document.createElement('script');\n",
       "  s.src = url;\n",
       "  s.async = true;\n",
       "  s.onreadystatechange = s.onload = callback;\n",
       "  s.onerror = function(){console.warn(\"failed to load library \" + url);};\n",
       "  document.getElementsByTagName(\"head\")[0].appendChild(s);\n",
       "}\n",
       "\n",
       "if(typeof(LDAvis) !== \"undefined\"){\n",
       "   // already loaded: just create the visualization\n",
       "   !function(LDAvis){\n",
       "       new LDAvis(\"#\" + \"ldavis_el611401346173457444241063715\", ldavis_el611401346173457444241063715_data);\n",
       "   }(LDAvis);\n",
       "}else if(typeof define === \"function\" && define.amd){\n",
       "   // require.js is available: use it to load d3/LDAvis\n",
       "   require.config({paths: {d3: \"https://d3js.org/d3.v5\"}});\n",
       "   require([\"d3\"], function(d3){\n",
       "      window.d3 = d3;\n",
       "      LDAvis_load_lib(\"https://cdn.jsdelivr.net/gh/bmabey/pyLDAvis@3.3.1/pyLDAvis/js/ldavis.v3.0.0.js\", function(){\n",
       "        new LDAvis(\"#\" + \"ldavis_el611401346173457444241063715\", ldavis_el611401346173457444241063715_data);\n",
       "      });\n",
       "    });\n",
       "}else{\n",
       "    // require.js not available: dynamically load d3 & LDAvis\n",
       "    LDAvis_load_lib(\"https://d3js.org/d3.v5.js\", function(){\n",
       "         LDAvis_load_lib(\"https://cdn.jsdelivr.net/gh/bmabey/pyLDAvis@3.3.1/pyLDAvis/js/ldavis.v3.0.0.js\", function(){\n",
       "                 new LDAvis(\"#\" + \"ldavis_el611401346173457444241063715\", ldavis_el611401346173457444241063715_data);\n",
       "            })\n",
       "         });\n",
       "}\n",
       "</script>"
      ],
      "text/plain": [
       "<IPython.core.display.HTML object>"
      ]
     },
     "execution_count": 153,
     "metadata": {},
     "output_type": "execute_result"
    }
   ],
   "source": [
    "vis_data = gensimvis.prepare(lda, corpus, dictionary)\n",
    "pyLDAvis.display(vis_data)"
   ]
  },
  {
   "cell_type": "markdown",
   "metadata": {
    "id": "7YaS7RMNf5lY"
   },
   "source": [
    "Эмпирически мной было подобрано оптимальное количество тематик = 3.  \n",
    "При классификации на бОльшее количестве тем, на визуализации 2 и более тематик пересекаются друг с другом (расположены слишком близко)\n",
    "Можно выделить темы: 1 - досуг/планирование времени, 2 - чувства/впечателения/личное мнение, 3 - образование и работа\n"
   ]
  }
 ],
 "metadata": {
  "colab": {
   "name": "web4_hw.ipynb",
   "provenance": []
  },
  "kernelspec": {
   "display_name": "Python 3",
   "language": "python",
   "name": "python3"
  },
  "language_info": {
   "codemirror_mode": {
    "name": "ipython",
    "version": 3
   },
   "file_extension": ".py",
   "mimetype": "text/x-python",
   "name": "python",
   "nbconvert_exporter": "python",
   "pygments_lexer": "ipython3",
   "version": "3.9.2"
  }
 },
 "nbformat": 4,
 "nbformat_minor": 1
}
